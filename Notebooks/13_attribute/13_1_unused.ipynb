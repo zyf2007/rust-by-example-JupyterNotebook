{
  "cells": [
    {
      "cell_type": "markdown",
      "metadata": {},
      "source": [
        "# 死代码 `dead_code`\n",
        "\n",
        "编译器提供了 `dead_code`（死代码，无效代码）[*lint*][lint]，这会对未使用的函数产生警告。可以用一个**属性**来禁用这个 lint。\n",
        "\n"
      ]
    },
    {
      "cell_type": "code",
      "execution_count": null,
      "metadata": {
        "vscode": {
          "languageId": "rust"
        }
      },
      "outputs": [],
      "source": [
        "fn used_function() {}\n",
        "\n",
        "// `#[allow(dead_code)]` 属性可以禁用 `dead_code` lint\n",
        "#[allow(dead_code)]\n",
        "fn unused_function() {}\n",
        "\n",
        "fn noisy_unused_function() {}\n",
        "// 改正 ^ 增加一个属性来消除警告\n",
        "\n",
        "fn main() {\n",
        "    used_function();\n",
        "}\n",
        "main();\n"
      ]
    },
    {
      "cell_type": "markdown",
      "metadata": {},
      "source": [
        "\n",
        "注意在实际程序中，需要将死代码清除掉。由于本书的例子是交互性的，因而其中需要允许一些死代码的出现。\n",
        "\n",
        "[lint]: https://en.wikipedia.org/wiki/Lint_%28software%29\n",
        "\n"
      ]
    }
  ],
  "metadata": {
    "kernelspec": {
      "display_name": "Rust",
      "language": "rust",
      "name": "rust"
    },
    "language_info": {
      "codemirror_mode": "rust",
      "file_extension": ".rs",
      "mimetype": "text/rust",
      "name": "Rust",
      "pygment_lexer": "rust",
      "version": ""
    }
  },
  "nbformat": 4,
  "nbformat_minor": 5
}