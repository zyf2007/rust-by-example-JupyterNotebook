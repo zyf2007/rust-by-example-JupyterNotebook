{
  "cells": [
    {
      "cell_type": "markdown",
      "metadata": {},
      "source": [
        "# `crate`\n",
        "\n",
        "`crate_type` 属性可以告知编译器 crate 是一个二进制的可执行文件还是一个库（甚至是哪种类型的库），`crate_name` 属性可以设定 crate 的名称。\n",
        "\n",
        "不过，一定要注意在使用 cargo 时，这两种类型时都**没有**作用。由于大多数 Rust\n",
        "工程都使用 cargo，这意味着 `crate_type` 和 `crate_name` 的作用事实上很有限。\n",
        "\n"
      ]
    },
    {
      "cell_type": "code",
      "execution_count": null,
      "metadata": {
        "vscode": {
          "languageId": "rust"
        }
      },
      "outputs": [],
      "source": [
        "// 这个 crate 是一个库文件\n",
        "#![crate_type = \"lib\"]\n",
        "// 库的名称为 “rary”\n",
        "#![crate_name = \"rary\"]\n",
        "\n",
        "pub fn public_function() {\n",
        "    println!(\"called rary's `public_function()`\");\n",
        "}\n",
        "\n",
        "fn private_function() {\n",
        "    println!(\"called rary's `private_function()`\");\n",
        "}\n",
        "\n",
        "pub fn indirect_access() {\n",
        "    print!(\"called rary's `indirect_access()`, that\\n> \");\n",
        "\n",
        "    private_function();\n",
        "}\n"
      ]
    },
    {
      "cell_type": "markdown",
      "metadata": {},
      "source": [
        "\n",
        "当用到 `crate_type` 属性时，就不再需要给 `rustc` 命令加上 `--crate-type` 标记。\n",
        "\n"
      ]
    },
    {
      "cell_type": "code",
      "execution_count": null,
      "metadata": {
        "vscode": {
          "languageId": "bash"
        }
      },
      "outputs": [],
      "source": [
        "$ rustc lib.rs\n",
        "$ ls lib*\n",
        "library.rlib\n"
      ]
    },
    {
      "cell_type": "markdown",
      "metadata": {},
      "source": [
        "\n"
      ]
    }
  ],
  "metadata": {
    "kernelspec": {
      "display_name": "Rust",
      "language": "rust",
      "name": "rust"
    },
    "language_info": {
      "codemirror_mode": "rust",
      "file_extension": ".rs",
      "mimetype": "text/rust",
      "name": "Rust",
      "pygment_lexer": "rust",
      "version": ""
    }
  },
  "nbformat": 4,
  "nbformat_minor": 5
}