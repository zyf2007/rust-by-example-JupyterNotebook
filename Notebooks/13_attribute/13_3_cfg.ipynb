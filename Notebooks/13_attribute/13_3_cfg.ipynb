{
  "cells": [
    {
      "cell_type": "markdown",
      "metadata": {},
      "source": [
        "# `cfg`\n",
        "\n",
        "条件编译可能通过两种不同的操作符实现：\n",
        "\n",
        "* `cfg` 属性：在属性位置中使用 `#[cfg(...)]`\n",
        "* `cfg!` 宏：在布尔表达式中使用 `cfg!(...)`\n",
        "\n",
        "两种形式使用的参数语法都相同。\n",
        "\n"
      ]
    },
    {
      "cell_type": "code",
      "execution_count": null,
      "metadata": {
        "vscode": {
          "languageId": "rust"
        }
      },
      "outputs": [],
      "source": [
        "// 这个函数仅当目标系统是 Linux 的时候才会编译\n",
        "#[cfg(target_os = \"linux\")]\n",
        "fn are_you_on_linux() {\n",
        "    println!(\"You are running linux!\")\n",
        "}\n",
        "\n",
        "// 而这个函数仅当目标系统 **不是** Linux 时才会编译\n",
        "#[cfg(not(target_os = \"linux\"))]\n",
        "fn are_you_on_linux() {\n",
        "    println!(\"You are *not* running linux!\")\n",
        "}\n",
        "\n",
        "fn main() {\n",
        "    are_you_on_linux();\n",
        "    \n",
        "    println!(\"Are you sure?\");\n",
        "    if cfg!(target_os = \"linux\") {\n",
        "        println!(\"Yes. It's definitely linux!\");\n",
        "    } else {\n",
        "        println!(\"Yes. It's definitely *not* linux!\");\n",
        "    }\n",
        "}\n",
        "main();\n"
      ]
    },
    {
      "cell_type": "markdown",
      "metadata": {},
      "source": [
        "\n",
        "### 参见：\n",
        "\n",
        "[引用][ref], [`cfg!`][cfg], 和 [宏][macros].\n",
        "\n",
        "[cfg]: https://rustwiki.org/zh-CN/std/macro.cfg!.html\n",
        "[macros]: ../macros.md\n",
        "[ref]: https://rustwiki.org/zh-CN/reference/conditional-compilation.html\n",
        "\n"
      ]
    }
  ],
  "metadata": {
    "kernelspec": {
      "display_name": "Rust",
      "language": "rust",
      "name": "rust"
    },
    "language_info": {
      "codemirror_mode": "rust",
      "file_extension": ".rs",
      "mimetype": "text/rust",
      "name": "Rust",
      "pygment_lexer": "rust",
      "version": ""
    }
  },
  "nbformat": 4,
  "nbformat_minor": 5
}