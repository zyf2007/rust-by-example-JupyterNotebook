{
  "cells": [
    {
      "cell_type": "markdown",
      "metadata": {},
      "source": [
        "# 文件分层\n",
        "\n",
        "模块可以分配到文件/目录的层次结构中。让我们将《可见性》一节中的[例子][visibility]的代码拆分到多个文件中：\n",
        "\n"
      ]
    },
    {
      "cell_type": "code",
      "execution_count": null,
      "metadata": {
        "vscode": {
          "languageId": "bash"
        }
      },
      "outputs": [],
      "source": [
        "$ tree .\n",
        ".\n",
        "|-- my\n",
        "|   |-- inaccessible.rs\n",
        "|   |-- mod.rs\n",
        "|   `-- nested.rs\n",
        "`-- split.rs\n"
      ]
    },
    {
      "cell_type": "markdown",
      "metadata": {},
      "source": [
        "\n",
        "`split.rs` 的内容：\n",
        "\n"
      ]
    },
    {
      "cell_type": "code",
      "execution_count": null,
      "metadata": {
        "vscode": {
          "languageId": "rust"
        }
      },
      "outputs": [],
      "source": [
        "// 此声明将会查找名为 `my.rs` 或 `my/mod.rs` 的文件，并将该文件的内容放到\n",
        "// 此作用域中一个名为 `my` 的模块里面。\n",
        "mod my;\n",
        "\n",
        "fn function() {\n",
        "    println!(\"called `function()`\");\n",
        "}\n",
        "\n",
        "fn main() {\n",
        "    my::function();\n",
        "\n",
        "    function();\n",
        "\n",
        "    my::indirect_access();\n",
        "\n",
        "    my::nested::function();\n",
        "}\n",
        "main();\n"
      ]
    },
    {
      "cell_type": "markdown",
      "metadata": {},
      "source": [
        "\n",
        "`my/mod.rs` 的内容：\n",
        "\n"
      ]
    },
    {
      "cell_type": "code",
      "execution_count": null,
      "metadata": {
        "vscode": {
          "languageId": "rust"
        }
      },
      "outputs": [],
      "source": [
        "// 类似地，`mod inaccessible` 和 `mod nested` 将找到 `nested.rs` 和\n",
        "// `inaccessible.rs` 文件，并在它们放到各自的模块中。\n",
        "mod inaccessible;\n",
        "pub mod nested;\n",
        "\n",
        "pub fn function() {\n",
        "    println!(\"called `my::function()`\");\n",
        "}\n",
        "\n",
        "fn private_function() {\n",
        "    println!(\"called `my::private_function()`\");\n",
        "}\n",
        "\n",
        "pub fn indirect_access() {\n",
        "    print!(\"called `my::indirect_access()`, that\\n> \");\n",
        "\n",
        "    private_function();\n",
        "}\n"
      ]
    },
    {
      "cell_type": "markdown",
      "metadata": {},
      "source": [
        "\n",
        "`my/nested.rs` 的内容：\n",
        "\n"
      ]
    },
    {
      "cell_type": "code",
      "execution_count": null,
      "metadata": {
        "vscode": {
          "languageId": "rust"
        }
      },
      "outputs": [],
      "source": [
        "pub fn function() {\n",
        "    println!(\"called `my::nested::function()`\");\n",
        "}\n",
        "\n",
        "#[allow(dead_code)]\n",
        "fn private_function() {\n",
        "    println!(\"called `my::nested::private_function()`\");\n",
        "}\n"
      ]
    },
    {
      "cell_type": "markdown",
      "metadata": {},
      "source": [
        "\n",
        "`my/inaccessible.rs` 的内容：\n",
        "\n"
      ]
    },
    {
      "cell_type": "code",
      "execution_count": null,
      "metadata": {
        "vscode": {
          "languageId": "rust"
        }
      },
      "outputs": [],
      "source": [
        "#[allow(dead_code)]\n",
        "pub fn public_function() {\n",
        "    println!(\"called `my::inaccessible::public_function()`\");\n",
        "}\n"
      ]
    },
    {
      "cell_type": "markdown",
      "metadata": {},
      "source": [
        "\n",
        "我们看到代码仍然正常运行，就和前面的一样：\n",
        "\n"
      ]
    },
    {
      "cell_type": "code",
      "execution_count": null,
      "metadata": {
        "vscode": {
          "languageId": "bash"
        }
      },
      "outputs": [],
      "source": [
        "$ rustc split.rs && ./split\n",
        "called `my::function()`\n",
        "called `function()`\n",
        "called `my::indirect_access()`, that\n",
        "> called `my::private_function()`\n",
        "called `my::nested::function()`\n"
      ]
    },
    {
      "cell_type": "markdown",
      "metadata": {},
      "source": [
        "\n",
        "[visibility]: visibility.md\n"
      ]
    }
  ],
  "metadata": {
    "kernelspec": {
      "display_name": "Rust",
      "language": "rust",
      "name": "rust"
    },
    "language_info": {
      "codemirror_mode": "rust",
      "file_extension": ".rs",
      "mimetype": "text/rust",
      "name": "Rust",
      "pygment_lexer": "rust",
      "version": ""
    }
  },
  "nbformat": 4,
  "nbformat_minor": 5
}