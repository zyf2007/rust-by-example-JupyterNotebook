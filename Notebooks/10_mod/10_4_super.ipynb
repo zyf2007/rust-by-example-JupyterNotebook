{
  "cells": [
    {
      "cell_type": "markdown",
      "metadata": {},
      "source": [
        "# `super` 和 `self`\n",
        "\n",
        "可以在路径中使用 `super` （父级）和 `self`（自身）关键字，从而在访问项时消除歧义，以及防止不必要的路径硬编码。\n",
        "\n"
      ]
    },
    {
      "cell_type": "code",
      "execution_count": null,
      "metadata": {
        "vscode": {
          "languageId": "rust"
        }
      },
      "outputs": [],
      "source": [
        "fn function() {\n",
        "    println!(\"called `function()`\");\n",
        "}\n",
        "\n",
        "mod cool {\n",
        "    pub fn function() {\n",
        "        println!(\"called `cool::function()`\");\n",
        "    }\n",
        "}\n",
        "\n",
        "mod my {\n",
        "    fn function() {\n",
        "        println!(\"called `my::function()`\");\n",
        "    }\n",
        "    \n",
        "    mod cool {\n",
        "        pub fn function() {\n",
        "            println!(\"called `my::cool::function()`\");\n",
        "        }\n",
        "    }\n",
        "    \n",
        "    pub fn indirect_call() {\n",
        "        // 让我们从这个作用域中访问所有名为 `function` 的函数！\n",
        "        print!(\"called `my::indirect_call()`, that\\n> \");\n",
        "        \n",
        "        // `self` 关键字表示当前的模块作用域——在这个例子是 `my`。\n",
        "        // 调用 `self::function()` 和直接调用 `function()` 都得到相同的结果，\n",
        "        // 因为他们表示相同的函数。\n",
        "        self::function();\n",
        "        function();\n",
        "        \n",
        "        // 我们也可以使用 `self` 来访问 `my` 内部的另一个模块：\n",
        "        self::cool::function();\n",
        "        \n",
        "        // `super` 关键字表示父作用域（在 `my` 模块外面）。\n",
        "        super::function();\n",
        "        \n",
        "        // 这将在 *crate* 作用域内绑定 `cool::function` 。\n",
        "        // 在这个例子中，crate 作用域是最外面的作用域。\n",
        "        {\n",
        "            use crate::cool::function as root_function;\n",
        "            root_function();\n",
        "        }\n",
        "    }\n",
        "}\n",
        "\n",
        "fn main() {\n",
        "    my::indirect_call();\n",
        "}\n",
        "main();\n"
      ]
    },
    {
      "cell_type": "markdown",
      "metadata": {},
      "source": [
        "\n"
      ]
    }
  ],
  "metadata": {
    "kernelspec": {
      "display_name": "Rust",
      "language": "rust",
      "name": "rust"
    },
    "language_info": {
      "codemirror_mode": "rust",
      "file_extension": ".rs",
      "mimetype": "text/rust",
      "name": "Rust",
      "pygment_lexer": "rust",
      "version": ""
    }
  },
  "nbformat": 4,
  "nbformat_minor": 5
}