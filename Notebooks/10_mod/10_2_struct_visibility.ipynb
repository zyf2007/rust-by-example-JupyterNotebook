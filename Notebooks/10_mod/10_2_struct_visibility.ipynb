{
  "cells": [
    {
      "cell_type": "markdown",
      "metadata": {},
      "source": [
        "# 结构体的可见性\n",
        "\n",
        "结构体的字段也是一个可见性的层次。字段默认拥有私有的可见性，也可以加上 `pub` 修饰语来重载该行为。只有从结构体被定义的模块之外访问其字段时，这个可见性才会起作用，其意义是隐藏信息（即封装，encapsulation）。\n",
        "\n"
      ]
    },
    {
      "cell_type": "code",
      "execution_count": null,
      "metadata": {
        "vscode": {
          "languageId": "rust"
        }
      },
      "outputs": [],
      "source": [
        "mod my {\n",
        "    // 一个公有的结构体，带有一个公有的字段（类型为泛型 `T`）\n",
        "    pub struct OpenBox<T> {\n",
        "        pub contents: T,\n",
        "    }\n",
        "\n",
        "    // 一个公有的结构体，带有一个私有的字段（类型为泛型 `T`）    \n",
        "    #[allow(dead_code)]\n",
        "    pub struct ClosedBox<T> {\n",
        "        contents: T,\n",
        "    }\n",
        "\n",
        "    impl<T> ClosedBox<T> {\n",
        "        // 一个公有的构造器方法\n",
        "        pub fn new(contents: T) -> ClosedBox<T> {\n",
        "            ClosedBox {\n",
        "                contents: contents,\n",
        "            }\n",
        "        }\n",
        "    }\n",
        "}\n",
        "\n",
        "fn main() {\n",
        "    // 带有公有字段的公有结构体，可以像平常一样构造\n",
        "    let open_box = my::OpenBox { contents: \"public information\" };\n",
        "\n",
        "    // 并且它们的字段可以正常访问到。\n",
        "    println!(\"The open box contains: {}\", open_box.contents);\n",
        "\n",
        "    // 带有私有字段的公有结构体不能使用字段名来构造。\n",
        "    // 报错！`ClosedBox` 含有私有字段。\n",
        "    //let closed_box = my::ClosedBox { contents: \"classified information\" };\n",
        "    // 试一试 ^ 取消此行注释\n",
        "\n",
        "\n",
        "    // 不过带有私有字段的结构体可以使用公有的构造器来创建。\n",
        "    let _closed_box = my::ClosedBox::new(\"classified information\");\n",
        "\n",
        "    // 并且一个结构体中的私有字段不能访问到。\n",
        "    // 报错！`content` 字段是私有的。\n",
        "    //println!(\"The closed box contains: {}\", _closed_box.contents);\n",
        "    // 试一试 ^ 取消此行注释    \n",
        "\n",
        "}\n",
        "main();\n"
      ]
    },
    {
      "cell_type": "markdown",
      "metadata": {},
      "source": [
        "\n",
        "### 参见：\n",
        "\n",
        "[泛型][generics] 和 [方法][methods]\n",
        "\n",
        "[generics]: ../generics.md\n",
        "[methods]: ../fn/methods.md\n"
      ]
    }
  ],
  "metadata": {
    "kernelspec": {
      "display_name": "Rust",
      "language": "rust",
      "name": "rust"
    },
    "language_info": {
      "codemirror_mode": "rust",
      "file_extension": ".rs",
      "mimetype": "text/rust",
      "name": "Rust",
      "pygment_lexer": "rust",
      "version": ""
    }
  },
  "nbformat": 4,
  "nbformat_minor": 5
}