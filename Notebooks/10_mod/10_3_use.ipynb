{
  "cells": [
    {
      "cell_type": "markdown",
      "metadata": {},
      "source": [
        "# `use` 声明\n",
        "\n",
        "`use` 声明可以将一个完整的路径绑定到一个新的名字，从而更容易访问。\n",
        "\n"
      ]
    },
    {
      "cell_type": "code",
      "execution_count": null,
      "metadata": {
        "vscode": {
          "languageId": "rust"
        }
      },
      "outputs": [],
      "source": [
        "// 将 `deeply::nested::function` 路径绑定到 `other_function`。\n",
        "use deeply::nested::function as other_function;\n",
        "\n",
        "fn function() {\n",
        "    println!(\"called `function()`\");\n",
        "}\n",
        "\n",
        "mod deeply {\n",
        "    pub mod nested {\n",
        "        pub fn function() {\n",
        "            println!(\"called `deeply::nested::function()`\")\n",
        "        }\n",
        "    }\n",
        "}\n",
        "\n",
        "fn main() {\n",
        "    // 更容易访问 `deeply::nested::funcion`\n",
        "    other_function();\n",
        "\n",
        "    println!(\"Entering block\");\n",
        "    {\n",
        "        // 这和 `use deeply::nested::function as function` 等价。\n",
        "        // 此 `function()` 将遮蔽外部的同名函数。\n",
        "        use deeply::nested::function;\n",
        "        function();\n",
        "\n",
        "        // `use` 绑定拥有局部作用域。在这个例子中，`function()`\n",
        "        // 的遮蔽只存在这个代码块中。\n",
        "        println!(\"Leaving block\");\n",
        "    }\n",
        "\n",
        "    function();\n",
        "}\n",
        "main();\n"
      ]
    },
    {
      "cell_type": "markdown",
      "metadata": {},
      "source": [
        "\n"
      ]
    }
  ],
  "metadata": {
    "kernelspec": {
      "display_name": "Rust",
      "language": "rust",
      "name": "rust"
    },
    "language_info": {
      "codemirror_mode": "rust",
      "file_extension": ".rs",
      "mimetype": "text/rust",
      "name": "Rust",
      "pygment_lexer": "rust",
      "version": ""
    }
  },
  "nbformat": 4,
  "nbformat_minor": 5
}