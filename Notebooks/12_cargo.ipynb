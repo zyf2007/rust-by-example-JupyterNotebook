{
  "cells": [
    {
      "cell_type": "markdown",
      "metadata": {},
      "source": [
        "# cargo\n",
        "\n",
        "`cargo` 是官方的 Rust 包管理工具。 它有很多非常有用的功能来提高代码质量和开发人员的开发效率！ 这些功能包括：\n",
        "\n",
        "- 依赖管理和与 [crates.io](https://crates.io)（官方 Rust 包注册服务）集成\n",
        "- 方便的单元测试\n",
        "- 方便的基准测试\n",
        "\n",
        "本章将介绍一些快速入门的基础知识，不过你可以在 [cargo 官方手册](https://doc.rust-lang.org/cargo/)中找到详细内容。\n",
        "\n"
      ]
    }
  ],
  "metadata": {
    "kernelspec": {
      "display_name": "Rust",
      "language": "rust",
      "name": "rust"
    },
    "language_info": {
      "codemirror_mode": "rust",
      "file_extension": ".rs",
      "mimetype": "text/rust",
      "name": "Rust",
      "pygment_lexer": "rust",
      "version": ""
    }
  },
  "nbformat": 4,
  "nbformat_minor": 5
}