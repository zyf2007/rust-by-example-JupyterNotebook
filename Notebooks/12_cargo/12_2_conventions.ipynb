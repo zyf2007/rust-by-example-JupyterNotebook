{
  "cells": [
    {
      "cell_type": "markdown",
      "metadata": {},
      "source": [
        "# 约定规范\n",
        "\n",
        "在上一小节中，我们看到了以下目录层次结构：\n",
        "\n"
      ]
    },
    {
      "cell_type": "code",
      "execution_count": null,
      "metadata": {
        "vscode": {
          "languageId": "txt"
        }
      },
      "outputs": [],
      "source": [
        "foo\n",
        "├── Cargo.toml\n",
        "└── src\n",
        "    └── main.rs\n"
      ]
    },
    {
      "cell_type": "markdown",
      "metadata": {},
      "source": [
        "\n",
        "假设我们要在同一个项目中有两个二进制可执行文件。 那要怎样做呢？\n",
        "\n",
        "很显然，`cargo` 支持这一点。正如我们之前看到的，默认二进制名称是 `main`，但可以通过将文件放在 `bin/` 目录中来添加其他二进制可执行文件：\n",
        "\n"
      ]
    },
    {
      "cell_type": "code",
      "execution_count": null,
      "metadata": {
        "vscode": {
          "languageId": "txt"
        }
      },
      "outputs": [],
      "source": [
        "foo\n",
        "├── Cargo.toml\n",
        "└── src\n",
        "    ├── main.rs\n",
        "    └── bin\n",
        "        └── my_other_bin.rs\n"
      ]
    },
    {
      "cell_type": "markdown",
      "metadata": {},
      "source": [
        "\n",
        "为了使得 `cargo` 只编译或运行这个二进制可执行文件，我们只需给 `cargo` 增加一个参数 `--bin my_other_bin`，其中 `my_other_bin` 是我们想要使用的二进制可执行文件的名称。\n",
        "\n",
        "除了可添加其他二进制可执行文件外，`cargo` 还支持[更多功能][more features]，如基准测试，测试和示例。\n",
        "\n",
        "在下一节中，我们将更仔细地学习测试的内容。\n",
        "\n",
        "[more features]: https://doc.rust-lang.org/cargo/guide/project-layout.html\n",
        "\n"
      ]
    }
  ],
  "metadata": {
    "kernelspec": {
      "display_name": "Rust",
      "language": "rust",
      "name": "rust"
    },
    "language_info": {
      "codemirror_mode": "rust",
      "file_extension": ".rs",
      "mimetype": "text/rust",
      "name": "Rust",
      "pygment_lexer": "rust",
      "version": ""
    }
  },
  "nbformat": 4,
  "nbformat_minor": 5
}