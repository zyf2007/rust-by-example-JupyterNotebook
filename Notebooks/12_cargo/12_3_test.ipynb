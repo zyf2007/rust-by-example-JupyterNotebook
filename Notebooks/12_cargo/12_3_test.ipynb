{
  "cells": [
    {
      "cell_type": "markdown",
      "metadata": {},
      "source": [
        "# 测试\n",
        "\n",
        "我们知道测试是任何软件不可缺少的一部分！Rust 对单元和集成测试提供一流的支持（参见《Rust 程序设计语言》中的关于[测试的章节](https://rustwiki.org/zh-CN/book/ch11-00-testing.html)）。\n",
        "\n",
        "通过上面链接的关于测试章节，我们看到了如何编写单元测试和集成测试。在代码目录组织上，我们可以将单元测试放在需要测试的模块中，并将集成测试放在源码中 `tests/` 目录中：\n",
        "\n"
      ]
    },
    {
      "cell_type": "code",
      "execution_count": null,
      "metadata": {
        "vscode": {
          "languageId": "txt"
        }
      },
      "outputs": [],
      "source": [
        "foo\n",
        "├── Cargo.toml\n",
        "├── src\n",
        "│   └── main.rs\n",
        "└── tests\n",
        "    ├── my_test.rs\n",
        "    └── my_other_test.rs\n"
      ]
    },
    {
      "cell_type": "markdown",
      "metadata": {},
      "source": [
        "\n",
        "`tests` 目录下的每个文件都是一个单独的集成测试。\n",
        "\n",
        "`cargo` 很自然地提供了一种便捷的方法来运行所有测试！\n",
        "\n"
      ]
    },
    {
      "cell_type": "code",
      "execution_count": null,
      "metadata": {
        "vscode": {
          "languageId": "sh"
        }
      },
      "outputs": [],
      "source": [
        "cargo test\n"
      ]
    },
    {
      "cell_type": "markdown",
      "metadata": {},
      "source": [
        "\n",
        "你将会看到像这样的输出：\n",
        "\n"
      ]
    },
    {
      "cell_type": "code",
      "execution_count": null,
      "metadata": {
        "vscode": {
          "languageId": "txt"
        }
      },
      "outputs": [],
      "source": [
        "$ cargo test\n",
        "   Compiling blah v0.1.0 (file:///nobackup/blah)\n",
        "    Finished dev [unoptimized + debuginfo] target(s) in 0.89 secs\n",
        "     Running target/debug/deps/blah-d3b32b97275ec472\n",
        "\n",
        "running 3 tests\n",
        "test test_bar ... ok\n",
        "test test_baz ... ok\n",
        "test test_foo_bar ... ok\n",
        "test test_foo ... ok\n",
        "\n",
        "test result: ok. 3 passed; 0 failed; 0 ignored; 0 measured; 0 filtered out\n"
      ]
    },
    {
      "cell_type": "markdown",
      "metadata": {},
      "source": [
        "\n",
        "你还可以运行如下测试，其中名称匹配一个模式：\n",
        "\n"
      ]
    },
    {
      "cell_type": "code",
      "execution_count": null,
      "metadata": {
        "vscode": {
          "languageId": "sh"
        }
      },
      "outputs": [],
      "source": [
        "cargo test test_foo\n"
      ]
    },
    {
      "cell_type": "markdown",
      "metadata": {},
      "source": [
        "\n"
      ]
    },
    {
      "cell_type": "code",
      "execution_count": null,
      "metadata": {
        "vscode": {
          "languageId": "txt"
        }
      },
      "outputs": [],
      "source": [
        "$ cargo test test_foo\n",
        "   Compiling blah v0.1.0 (file:///nobackup/blah)\n",
        "    Finished dev [unoptimized + debuginfo] target(s) in 0.35 secs\n",
        "     Running target/debug/deps/blah-d3b32b97275ec472\n",
        "\n",
        "running 2 tests\n",
        "test test_foo ... ok\n",
        "test test_foo_bar ... ok\n",
        "\n",
        "test result: ok. 2 passed; 0 failed; 0 ignored; 0 measured; 2 filtered out\n"
      ]
    },
    {
      "cell_type": "markdown",
      "metadata": {},
      "source": [
        "\n",
        "需要注意的一点是：`cargo` 可能同时进行多项测试，因此请确保它们不会相互竞争。例如，如果它们都输出到文件，则应该将它们写入不同的文件。\n",
        "\n"
      ]
    }
  ],
  "metadata": {
    "kernelspec": {
      "display_name": "Rust",
      "language": "rust",
      "name": "rust"
    },
    "language_info": {
      "codemirror_mode": "rust",
      "file_extension": ".rs",
      "mimetype": "text/rust",
      "name": "Rust",
      "pygment_lexer": "rust",
      "version": ""
    }
  },
  "nbformat": 4,
  "nbformat_minor": 5
}