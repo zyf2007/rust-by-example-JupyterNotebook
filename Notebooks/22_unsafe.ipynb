{
  "cells": [
    {
      "cell_type": "markdown",
      "metadata": {},
      "source": [
        "# 不安全操作\n",
        "\n",
        "在本章一开始，我们借用[官方文档](unsafe)的一句话，“在整个代码库（code base，指构建一个软件系统所使用的全部代码）中，要尽可能减少不安全代码的量”。记住这句话，接着我们进入学习！在 Rust 中，不安全代码块用于避开编译器的保护策略；具体地说，不安全代码块主要用于四件事情：\n",
        "\n",
        "* 解引用裸指针\n",
        "* 通过 FFI 调用函数（这已经在[之前的章节](std_misc/ffi.html)介绍过了）\n",
        "* 调用不安全的函数\n",
        "* 内联汇编（inline assembly）\n",
        "\n",
        "### 原始指针\n",
        "\n",
        "原始指针（raw pointer，裸指针）`*` 和引用 `&T` 有类似的功能，但引用总是安全的，因为借用检查器保证了它指向一个有效的数据。解引用一个裸指针只能通过不安全代码块执行。\n",
        "\n"
      ]
    },
    {
      "cell_type": "code",
      "execution_count": null,
      "metadata": {
        "vscode": {
          "languageId": "rust"
        }
      },
      "outputs": [],
      "source": [
        "fn main() {\n",
        "    let raw_p: *const u32 = &10;\n",
        "\n",
        "    unsafe {\n",
        "        assert!(*raw_p == 10);\n",
        "    }\n",
        "}\n",
        "main();\n"
      ]
    },
    {
      "cell_type": "markdown",
      "metadata": {},
      "source": [
        "\n",
        "### 调用不安全函数\n",
        "\n",
        "一些函数可以声明为不安全的（`unsafe`），这意味着在使用它时保证正确性不再是编译器的责任，而是程序员的。一个例子就是 [`std::slice::from_raw_parts`]，向它传入指向第一个元素的指针和长度参数，它会创建一个切片。\n",
        "\n"
      ]
    },
    {
      "cell_type": "code",
      "execution_count": null,
      "metadata": {
        "vscode": {
          "languageId": "rust"
        }
      },
      "outputs": [],
      "source": [
        "use std::slice;\n",
        "\n",
        "fn main() {\n",
        "    let some_vector = vec![1, 2, 3, 4];\n",
        "\n",
        "    let pointer = some_vector.as_ptr();\n",
        "    let length = some_vector.len();\n",
        "\n",
        "    unsafe {\n",
        "        let my_slice: &[u32] = slice::from_raw_parts(pointer, length);\n",
        "        \n",
        "        assert_eq!(some_vector.as_slice(), my_slice);\n",
        "    }\n",
        "}\n",
        "main();\n"
      ]
    },
    {
      "cell_type": "markdown",
      "metadata": {},
      "source": [
        "\n",
        "`slice::from_raw_parts` 假设传入的指针指向有效的内存，且被指向的内存具有正确的数据类型，我们**必须**满足这一假设，否则程序的行为是未定义的（undefined），于是我们就不能预测会发生些什么了。\n",
        "\n",
        "[unsafe]: https://rustwiki.org/zh-CN/book/ch19-01-unsafe-rust.html\n",
        "[`std::slice::from_raw_parts`]: https://rustwiki.org/zh-CN/std/slice/fn.from_raw_parts.html\n",
        "\n"
      ]
    }
  ],
  "metadata": {
    "kernelspec": {
      "display_name": "Rust",
      "language": "rust",
      "name": "rust"
    },
    "language_info": {
      "codemirror_mode": "rust",
      "file_extension": ".rs",
      "mimetype": "text/rust",
      "name": "Rust",
      "pygment_lexer": "rust",
      "version": ""
    }
  },
  "nbformat": 4,
  "nbformat_minor": 5
}