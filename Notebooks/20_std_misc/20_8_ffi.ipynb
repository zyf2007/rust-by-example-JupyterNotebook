{
  "cells": [
    {
      "cell_type": "markdown",
      "metadata": {},
      "source": [
        "# 外部语言函数接口\n",
        "\n",
        "Rust 提供了到 C 语言库的外部语言函数接口（Foreign Function Interface，FFI）。外部语言函数必须在一个 `extern` 代码块中声明，且该代码块要带有一个包含库名称的 `#[link]` 属性。\n",
        "\n"
      ]
    },
    {
      "cell_type": "code",
      "execution_count": null,
      "metadata": {
        "vscode": {
          "languageId": "rust"
        }
      },
      "outputs": [],
      "source": [
        "use std::fmt;\n",
        "\n",
        "// 这个 extern 代码块链接到 libm 库\n",
        "#[link(name = \"m\")]\n",
        "extern {\n",
        "    // 这个外部函数用于计算单精度复数的平方根\n",
        "    fn csqrtf(z: Complex) -> Complex;\n",
        "\n",
        "    // 这个用来计算单精度复数的复变余弦\n",
        "    fn ccosf(z: Complex) -> Complex;\n",
        "}\n",
        "\n",
        "// 由于调用其他语言的函数被认为是不安全的，我们通常会给它们写一层安全的封装\n",
        "fn cos(z: Complex) -> Complex {\n",
        "    unsafe { ccosf(z) }\n",
        "}\n",
        "\n",
        "fn main() {\n",
        "    // z = -1 + 0i\n",
        "    let z = Complex { re: -1., im: 0. };\n",
        "\n",
        "    // 调用外部语言函数是不安全操作\n",
        "    let z_sqrt = unsafe { csqrtf(z) };\n",
        "\n",
        "    println!(\"the square root of {:?} is {:?}\", z, z_sqrt);\n",
        "\n",
        "    // 调用不安全操作的安全的 API 封装\n",
        "    println!(\"cos({:?}) = {:?}\", z, cos(z));\n",
        "}\n",
        "\n",
        "// 单精度复数的最简实现\n",
        "#[repr(C)]\n",
        "#[derive(Clone, Copy)]\n",
        "struct Complex {\n",
        "    re: f32,\n",
        "    im: f32,\n",
        "}\n",
        "\n",
        "impl fmt::Debug for Complex {\n",
        "    fn fmt(&self, f: &mut fmt::Formatter) -> fmt::Result {\n",
        "        if self.im < 0. {\n",
        "            write!(f, \"{}-{}i\", self.re, -self.im)\n",
        "        } else {\n",
        "            write!(f, \"{}+{}i\", self.re, self.im)\n",
        "        }\n",
        "    }\n",
        "}\n",
        "main();\n"
      ]
    },
    {
      "cell_type": "markdown",
      "metadata": {},
      "source": [
        "\n"
      ]
    }
  ],
  "metadata": {
    "kernelspec": {
      "display_name": "Rust",
      "language": "rust",
      "name": "rust"
    },
    "language_info": {
      "codemirror_mode": "rust",
      "file_extension": ".rs",
      "mimetype": "text/rust",
      "name": "Rust",
      "pygment_lexer": "rust",
      "version": ""
    }
  },
  "nbformat": 4,
  "nbformat_minor": 5
}