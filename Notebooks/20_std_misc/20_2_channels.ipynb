{
  "cells": [
    {
      "cell_type": "markdown",
      "metadata": {},
      "source": [
        "# 通道\n",
        "\n",
        "Rust 为线程之间的通信提供了异步的通道（`channel`）。通道允许两个端点之间信息的单向流动：`Sender`（发送端） 和 `Receiver`（接收端）。\n",
        "\n"
      ]
    },
    {
      "cell_type": "code",
      "execution_count": null,
      "metadata": {
        "vscode": {
          "languageId": "rust"
        }
      },
      "outputs": [],
      "source": [
        "use std::sync::mpsc::{Sender, Receiver};\n",
        "use std::sync::mpsc;\n",
        "use std::thread;\n",
        "\n",
        "static NTHREADS: i32 = 3;\n",
        "\n",
        "fn main() {\n",
        "    // 通道有两个端点：`Sender<T>` 和 `Receiver<T>`，其中 `T` 是要发送\n",
        "    // 的消息的类型（类型标注是可选的）\n",
        "    let (tx, rx): (Sender<i32>, Receiver<i32>) = mpsc::channel();\n",
        "\n",
        "    for id in 0..NTHREADS {\n",
        "        // sender 端可被复制\n",
        "        let thread_tx = tx.clone();\n",
        "\n",
        "        // 每个线程都将通过通道来发送它的 id\n",
        "        thread::spawn(move || {\n",
        "            // 被创建的线程取得 `thread_tx` 的所有权\n",
        "            // 每个线程都把消息放在通道的消息队列中\n",
        "            thread_tx.send(id).unwrap();\n",
        "\n",
        "            // 发送是一个非阻塞（non-blocking）操作，线程将在发送完消息后\n",
        "            // 会立即继续进行\n",
        "            println!(\"thread {} finished\", id);\n",
        "        });\n",
        "    }\n",
        "\n",
        "    // 所有消息都在此处被收集\n",
        "    let mut ids = Vec::with_capacity(NTHREADS as usize);\n",
        "    for _ in 0..NTHREADS {\n",
        "        // `recv` 方法从通道中拿到一个消息\n",
        "        // 若无可用消息的话，`recv` 将阻止当前线程\n",
        "        ids.push(rx.recv());\n",
        "    }\n",
        "\n",
        "    // 显示消息被发送的次序\n",
        "    println!(\"{:?}\", ids);\n",
        "}\n",
        "main();\n"
      ]
    },
    {
      "cell_type": "markdown",
      "metadata": {},
      "source": [
        "\n"
      ]
    }
  ],
  "metadata": {
    "kernelspec": {
      "display_name": "Rust",
      "language": "rust",
      "name": "rust"
    },
    "language_info": {
      "codemirror_mode": "rust",
      "file_extension": ".rs",
      "mimetype": "text/rust",
      "name": "Rust",
      "pygment_lexer": "rust",
      "version": ""
    }
  },
  "nbformat": 4,
  "nbformat_minor": 5
}