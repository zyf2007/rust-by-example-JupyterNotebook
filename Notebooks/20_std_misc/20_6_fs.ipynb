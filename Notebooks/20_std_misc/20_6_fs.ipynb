{
  "cells": [
    {
      "cell_type": "markdown",
      "metadata": {},
      "source": [
        "# 文件系统操作\n",
        "\n",
        "`std::io::fs` 模块包含几个处理文件系统的函数。\n",
        "\n"
      ]
    },
    {
      "cell_type": "code",
      "execution_count": null,
      "metadata": {
        "vscode": {
          "languageId": "rust"
        }
      },
      "outputs": [],
      "source": [
        "use std::fs;\n",
        "use std::fs::{File, OpenOptions};\n",
        "use std::io;\n",
        "use std::io::prelude::*;\n",
        "use std::os::unix;\n",
        "use std::path::Path;\n",
        "\n",
        "// `% cat path` 的简单实现\n",
        "fn cat(path: &Path) -> io::Result<String> {\n",
        "    let mut f = File::open(path)?;\n",
        "    let mut s = String::new();\n",
        "    match f.read_to_string(&mut s) {\n",
        "        Ok(_) => Ok(s),\n",
        "        Err(e) => Err(e),\n",
        "    }\n",
        "}\n",
        "\n",
        "// `% echo s > path` 的简单实现\n",
        "fn echo(s: &str, path: &Path) -> io::Result<()> {\n",
        "    let mut f = File::create(path)?;\n",
        "\n",
        "    f.write_all(s.as_bytes())\n",
        "}\n",
        "\n",
        "// `% touch path` 的简单实现（忽略已存在的文件）\n",
        "fn touch(path: &Path) -> io::Result<()> {\n",
        "    match OpenOptions::new().create(true).write(true).open(path) {\n",
        "        Ok(_) => Ok(()),\n",
        "        Err(e) => Err(e),\n",
        "    }\n",
        "}\n",
        "\n",
        "fn main() {\n",
        "    println!(\"`mkdir a`\");\n",
        "    // 创建一个目录，返回 `io::Result<()>`\n",
        "    match fs::create_dir(\"a\") {\n",
        "        Err(why) => println!(\"! {:?}\", why.kind()),\n",
        "        Ok(_) => {},\n",
        "    }\n",
        "\n",
        "    println!(\"`echo hello > a/b.txt`\");\n",
        "    // 前面的匹配可以用 `unwrap_or_else` 方法简化\n",
        "    echo(\"hello\", &Path::new(\"a/b.txt\")).unwrap_or_else(|why| {\n",
        "        println!(\"! {:?}\", why.kind());\n",
        "    });\n",
        "\n",
        "    println!(\"`mkdir -p a/c/d`\");\n",
        "    // 递归地创建一个目录，返回 `io::Result<()>`\n",
        "    fs::create_dir_all(\"a/c/d\").unwrap_or_else(|why| {\n",
        "        println!(\"! {:?}\", why.kind());\n",
        "    });\n",
        "\n",
        "    println!(\"`touch a/c/e.txt`\");\n",
        "    touch(&Path::new(\"a/c/e.txt\")).unwrap_or_else(|why| {\n",
        "        println!(\"! {:?}\", why.kind());\n",
        "    });\n",
        "\n",
        "    println!(\"`ln -s ../b.txt a/c/b.txt`\");\n",
        "    // 创建一个符号链接，返回 `io::Resutl<()>`\n",
        "    if cfg!(target_family = \"unix\") {\n",
        "        unix::fs::symlink(\"../b.txt\", \"a/c/b.txt\").unwrap_or_else(|why| {\n",
        "        println!(\"! {:?}\", why.kind());\n",
        "        });\n",
        "    }\n",
        "\n",
        "    println!(\"`cat a/c/b.txt`\");\n",
        "    match cat(&Path::new(\"a/c/b.txt\")) {\n",
        "        Err(why) => println!(\"! {:?}\", why.kind()),\n",
        "        Ok(s) => println!(\"> {}\", s),\n",
        "    }\n",
        "\n",
        "    println!(\"`ls a`\");\n",
        "    // 读取目录的内容，返回 `io::Result<Vec<Path>>`\n",
        "    match fs::read_dir(\"a\") {\n",
        "        Err(why) => println!(\"! {:?}\", why.kind()),\n",
        "        Ok(paths) => for path in paths {\n",
        "            println!(\"> {:?}\", path.unwrap().path());\n",
        "        },\n",
        "    }\n",
        "\n",
        "    println!(\"`rm a/c/e.txt`\");\n",
        "    // 删除一个文件，返回 `io::Result<()>`\n",
        "    fs::remove_file(\"a/c/e.txt\").unwrap_or_else(|why| {\n",
        "        println!(\"! {:?}\", why.kind());\n",
        "    });\n",
        "\n",
        "    println!(\"`rmdir a/c/d`\");\n",
        "    // 移除一个空目录，返回 `io::Result<()>`\n",
        "    fs::remove_dir(\"a/c/d\").unwrap_or_else(|why| {\n",
        "        println!(\"! {:?}\", why.kind());\n",
        "    });\n",
        "}\n",
        "main();\n"
      ]
    },
    {
      "cell_type": "markdown",
      "metadata": {},
      "source": [
        "\n",
        "下面是所期望的成功的输出：\n",
        "\n"
      ]
    },
    {
      "cell_type": "code",
      "execution_count": null,
      "metadata": {
        "vscode": {
          "languageId": "bash"
        }
      },
      "outputs": [],
      "source": [
        "$ rustc fs.rs && ./fs\n",
        "`mkdir a`\n",
        "`echo hello > a/b.txt`\n",
        "`mkdir -p a/c/d`\n",
        "`touch a/c/e.txt`\n",
        "`ln -s ../b.txt a/c/b.txt`\n",
        "`cat a/c/b.txt`\n",
        "> hello\n",
        "`ls a`\n",
        "> \"a/b.txt\"\n",
        "> \"a/c\"\n",
        "`rm a/c/e.txt`\n",
        "`rmdir a/c/d`\n"
      ]
    },
    {
      "cell_type": "markdown",
      "metadata": {},
      "source": [
        "\n",
        "且 `a` 目录的最终状态为：\n",
        "\n"
      ]
    },
    {
      "cell_type": "code",
      "execution_count": null,
      "metadata": {
        "vscode": {
          "languageId": "text"
        }
      },
      "outputs": [],
      "source": [
        "$ tree a\n",
        "a\n",
        "|-- b.txt\n",
        "`-- c\n",
        "    `-- b.txt -> ../b.txt\n",
        "\n",
        "1 directory, 2 files\n"
      ]
    },
    {
      "cell_type": "markdown",
      "metadata": {},
      "source": [
        "\n",
        "另一种定义 `cat` 函数的方式是使用 `?` 标记：\n",
        "\n"
      ]
    },
    {
      "cell_type": "code",
      "execution_count": null,
      "metadata": {
        "vscode": {
          "languageId": "rust"
        }
      },
      "outputs": [],
      "source": [
        "fn cat(path: &Path) -> io::Result<String> {\n",
        "    let mut f = File::open(path)?;\n",
        "    let mut s = String::new();\n",
        "    f.read_to_string(&mut s)?;\n",
        "    Ok(s)\n",
        "}\n"
      ]
    },
    {
      "cell_type": "markdown",
      "metadata": {},
      "source": [
        "\n",
        "### 参见：\n",
        "\n",
        "[`cfg!`][cfg]\n",
        "\n",
        "[cfg]: ../attribute/cfg.md\n",
        "\n"
      ]
    }
  ],
  "metadata": {
    "kernelspec": {
      "display_name": "Rust",
      "language": "rust",
      "name": "rust"
    },
    "language_info": {
      "codemirror_mode": "rust",
      "file_extension": ".rs",
      "mimetype": "text/rust",
      "name": "Rust",
      "pygment_lexer": "rust",
      "version": ""
    }
  },
  "nbformat": 4,
  "nbformat_minor": 5
}