{
  "cells": [
    {
      "cell_type": "markdown",
      "metadata": {},
      "source": [
        "# 线程\n",
        "\n",
        "Rust 通过 `spawn` 函数提供了创建本地操作系统（native OS）线程的机制，该函数的参数是一个通过值捕获变量的闭包（moving closure）。\n",
        "\n"
      ]
    },
    {
      "cell_type": "code",
      "execution_count": null,
      "metadata": {
        "vscode": {
          "languageId": "rust"
        }
      },
      "outputs": [],
      "source": [
        "use std::thread;\n",
        "\n",
        "static NTHREADS: i32 = 10;\n",
        "\n",
        "// 这是主（`main`）线程\n",
        "fn main() {\n",
        "    // 提供一个 vector 来存放所创建的子线程（children）。\n",
        "    let mut children = vec![];\n",
        "\n",
        "    for i in 0..NTHREADS {\n",
        "        // 启动（spin up）另一个线程\n",
        "        children.push(thread::spawn(move || {\n",
        "            println!(\"this is thread number {}\", i)\n",
        "        }));\n",
        "    }\n",
        "\n",
        "    for child in children {\n",
        "        // 等待线程结束。返回一个结果。\n",
        "        let _ = child.join();\n",
        "    }\n",
        "}\n",
        "main();\n"
      ]
    },
    {
      "cell_type": "markdown",
      "metadata": {},
      "source": [
        "\n",
        "这些线程由操作系统调度（schedule）。\n",
        "\n"
      ]
    }
  ],
  "metadata": {
    "kernelspec": {
      "display_name": "Rust",
      "language": "rust",
      "name": "rust"
    },
    "language_info": {
      "codemirror_mode": "rust",
      "file_extension": ".rs",
      "mimetype": "text/rust",
      "name": "Rust",
      "pygment_lexer": "rust",
      "version": ""
    }
  },
  "nbformat": 4,
  "nbformat_minor": 5
}