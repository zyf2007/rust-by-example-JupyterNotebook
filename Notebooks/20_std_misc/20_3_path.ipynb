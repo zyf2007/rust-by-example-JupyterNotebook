{
  "cells": [
    {
      "cell_type": "markdown",
      "metadata": {},
      "source": [
        "# 路径\n",
        "\n",
        "`Path` 结构体代表了底层文件系统的文件路径。`Path` 分为两种：`posix::Path`，针对类 UNIX 系统；以及 `windows::Path`，针对 Windows。prelude 会选择并输出符合平台类型的 `Path` 种类。\n",
        "\n",
        "> 译注：prelude 是 Rust 自动地在每个程序中导入的一些通用的东西，这样我们就不必每写\n",
        "> 一个程序就手动导入一番。\n",
        "\n",
        "`Path` 可从 `OsStr` 类型创建，并且它提供数种方法，用于获取路径指向的文件/目录的信息。\n",
        "\n",
        "注意 `Path` 在内部并不是用 UTF-8 字符串表示的，而是存储为若干字节（`Vec<u8>`）的 vector。因此，将 `Path` 转化成 `&str` 并非零开销的（free），且可能失败（因此它返回一个 `Option`）。\n",
        "\n"
      ]
    },
    {
      "cell_type": "code",
      "execution_count": null,
      "metadata": {
        "vscode": {
          "languageId": "rust"
        }
      },
      "outputs": [],
      "source": [
        "use std::path::Path;\n",
        "\n",
        "fn main() {\n",
        "    // 从 `&'static str` 创建一个 `Path`\n",
        "    let path = Path::new(\".\");\n",
        "\n",
        "    // `display` 方法返回一个可显示（showable）的结构体\n",
        "    let display = path.display();\n",
        "\n",
        "    // `join` 使用操作系统特定的分隔符来合并路径到一个字节容器，并返回新的路径\n",
        "    let new_path = path.join(\"a\").join(\"b\");\n",
        "\n",
        "    // 将路径转换成一个字符串切片\n",
        "    match new_path.to_str() {\n",
        "        None => panic!(\"new path is not a valid UTF-8 sequence\"),\n",
        "        Some(s) => println!(\"new path is {}\", s),\n",
        "    }\n",
        "}\n",
        "main();\n"
      ]
    },
    {
      "cell_type": "markdown",
      "metadata": {},
      "source": [
        "\n",
        "记得看看其他的 `Path` 方法（`posix::Path` 或 `windows::Path` 的），还有 `Metadata` 结构体类型。\n",
        "\n",
        "### 参见\n",
        "\n",
        "[OsStr][1] 和 [Metadata][2]。\n",
        "\n",
        "[1]: https://rustwiki.org/zh-CN/std/ffi/struct.OsStr.html\n",
        "[2]: https://rustwiki.org/zh-CN/std/fs/struct.Metadata.html\n",
        "\n"
      ]
    }
  ],
  "metadata": {
    "kernelspec": {
      "display_name": "Rust",
      "language": "rust",
      "name": "rust"
    },
    "language_info": {
      "codemirror_mode": "rust",
      "file_extension": ".rs",
      "mimetype": "text/rust",
      "name": "Rust",
      "pygment_lexer": "rust",
      "version": ""
    }
  },
  "nbformat": 4,
  "nbformat_minor": 5
}