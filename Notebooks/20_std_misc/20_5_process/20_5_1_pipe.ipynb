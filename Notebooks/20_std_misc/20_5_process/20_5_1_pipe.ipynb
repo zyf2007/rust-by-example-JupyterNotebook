{
  "cells": [
    {
      "cell_type": "markdown",
      "metadata": {},
      "source": [
        "# 管道\n",
        "\n",
        "`std::Child` 结构体代表了一个正在运行的子进程，它暴露了 `stdin`（标准输入），`stdout`（标准输出）和 `stderr`（标准错误）句柄，从而可以通过管道与所代表的进程交互。\n",
        "\n"
      ]
    },
    {
      "cell_type": "code",
      "execution_count": null,
      "metadata": {
        "vscode": {
          "languageId": "rust"
        }
      },
      "outputs": [],
      "source": [
        "use std::io::prelude::*;\n",
        "use std::process::{Command, Stdio};\n",
        "\n",
        "static PANGRAM: &'static str =\n",
        "\"the quick brown fox jumped over the lazy dog\\n\";\n",
        "\n",
        "fn main() {\n",
        "    // 启动 `wc` 命令\n",
        "    let process = match Command::new(\"wc\")\n",
        "                                .stdin(Stdio::piped())\n",
        "                                .stdout(Stdio::piped())\n",
        "                                .spawn() {\n",
        "        Err(why) => panic!(\"couldn't spawn wc: {:?}\", why),\n",
        "        Ok(process) => process,\n",
        "    };\n",
        "\n",
        "    // 将字符串写入 `wc` 的 `stdin`。\n",
        "    //\n",
        "    // `stdin` 拥有 `Option<ChildStdin>` 类型，不过我们已经知道这个实例不为空值，\n",
        "    // 因而可以直接 `unwrap 它。\n",
        "    match process.stdin.unwrap().write_all(PANGRAM.as_bytes()) {\n",
        "        Err(why) => panic!(\"couldn't write to wc stdin: {:?}\", why),\n",
        "        Ok(_) => println!(\"sent pangram to wc\"),\n",
        "    }\n",
        "\n",
        "    // 因为 `stdin` 在上面调用后就不再存活，所以它被 `drop` 了，管道也被关闭。\n",
        "    //\n",
        "    // 这点非常重要，因为否则 `wc` 就不会开始处理我们刚刚发送的输入。\n",
        "\n",
        "    // `stdout` 字段也拥有 `Option<ChildStdout>` 类型，所以必需解包。\n",
        "    let mut s = String::new();\n",
        "    match process.stdout.unwrap().read_to_string(&mut s) {\n",
        "        Err(why) => panic!(\"couldn't read wc stdout: {:?}\", why),\n",
        "        Ok(_) => print!(\"wc responded with:\\n{}\", s),\n",
        "    }\n",
        "}\n",
        "main();\n"
      ]
    },
    {
      "cell_type": "markdown",
      "metadata": {},
      "source": [
        "\n"
      ]
    }
  ],
  "metadata": {
    "kernelspec": {
      "display_name": "Rust",
      "language": "rust",
      "name": "rust"
    },
    "language_info": {
      "codemirror_mode": "rust",
      "file_extension": ".rs",
      "mimetype": "text/rust",
      "name": "Rust",
      "pygment_lexer": "rust",
      "version": ""
    }
  },
  "nbformat": 4,
  "nbformat_minor": 5
}