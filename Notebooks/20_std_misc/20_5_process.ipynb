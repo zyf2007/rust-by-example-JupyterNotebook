{
  "cells": [
    {
      "cell_type": "markdown",
      "metadata": {},
      "source": [
        "# 子进程\n",
        "\n",
        "`process::Output` 结构体表示已结束的子进程（child process）的输出，而\n",
        "`process::Command` 结构体是一个进程创建者（process builder）。\n",
        "\n"
      ]
    },
    {
      "cell_type": "code",
      "execution_count": null,
      "metadata": {
        "vscode": {
          "languageId": "rust"
        }
      },
      "outputs": [],
      "source": [
        "use std::process::Command;\n",
        "\n",
        "fn main() {\n",
        "    let output = Command::new(\"rustc\")\n",
        "        .arg(\"--version\")\n",
        "        .output().unwrap_or_else(|e| {\n",
        "            panic!(\"failed to execute process: {}\", e)\n",
        "    });\n",
        "\n",
        "    if output.status.success() {\n",
        "        let s = String::from_utf8_lossy(&output.stdout);\n",
        "\n",
        "        print!(\"rustc succeeded and stdout was:\\n{}\", s);\n",
        "    } else {\n",
        "        let s = String::from_utf8_lossy(&output.stderr);\n",
        "\n",
        "        print!(\"rustc failed and stderr was:\\n{}\", s);\n",
        "    }\n",
        "}\n",
        "main();\n"
      ]
    },
    {
      "cell_type": "markdown",
      "metadata": {},
      "source": [
        "\n",
        "（再试试上面的例子，给 `rustc` 命令传入一个错误的 flag）\n",
        "\n"
      ]
    }
  ],
  "metadata": {
    "kernelspec": {
      "display_name": "Rust",
      "language": "rust",
      "name": "rust"
    },
    "language_info": {
      "codemirror_mode": "rust",
      "file_extension": ".rs",
      "mimetype": "text/rust",
      "name": "Rust",
      "pygment_lexer": "rust",
      "version": ""
    }
  },
  "nbformat": 4,
  "nbformat_minor": 5
}