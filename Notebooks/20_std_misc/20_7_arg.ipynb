{
  "cells": [
    {
      "cell_type": "markdown",
      "metadata": {},
      "source": [
        "# 程序参数\n",
        "\n",
        "## 标准库\n",
        "\n",
        "命令行参数可使用 `std::env::args` 进行接收，这将返回一个迭代器，该迭代器会对每个参数举出一个字符串。\n",
        "\n"
      ]
    },
    {
      "cell_type": "code",
      "execution_count": null,
      "metadata": {
        "vscode": {
          "languageId": "rust"
        }
      },
      "outputs": [],
      "source": [
        "use std::env;\n",
        "\n",
        "fn main() {\n",
        "    let args: Vec<String> = env::args().collect();\n",
        "\n",
        "    // 第一个参数是调用本程序的路径\n",
        "    println!(\"My path is {}.\", args[0]);\n",
        "\n",
        "    // 其余的参数是被传递给程序的命令行参数。\n",
        "    // 请这样调用程序：\n",
        "    //   $ ./args arg1 arg2\n",
        "    println!(\"I got {:?} arguments: {:?}.\", args.len() - 1, &args[1..]);\n",
        "}\n",
        "main();\n"
      ]
    },
    {
      "cell_type": "markdown",
      "metadata": {},
      "source": [
        "\n"
      ]
    },
    {
      "cell_type": "code",
      "execution_count": null,
      "metadata": {
        "vscode": {
          "languageId": "bash"
        }
      },
      "outputs": [],
      "source": [
        "$ ./args 1 2 3\n",
        "My path is ./args.\n",
        "I got 3 arguments: [\"1\", \"2\", \"3\"].\n"
      ]
    },
    {
      "cell_type": "markdown",
      "metadata": {},
      "source": [
        "\n",
        "## crate\n",
        "\n",
        "另外，也有很多 crate 提供了编写命令行应用的额外功能。[Rust Cookbook] 展示了使用最流行的命令行参数 crate，即 `clap` 的最佳实践。\n",
        "\n",
        "[Rust Cookbook]: https://rust-lang-nursery.github.io/rust-cookbook/app.html#ex-clap-basic\n",
        "\n"
      ]
    }
  ],
  "metadata": {
    "kernelspec": {
      "display_name": "Rust",
      "language": "rust",
      "name": "rust"
    },
    "language_info": {
      "codemirror_mode": "rust",
      "file_extension": ".rs",
      "mimetype": "text/rust",
      "name": "Rust",
      "pygment_lexer": "rust",
      "version": ""
    }
  },
  "nbformat": 4,
  "nbformat_minor": 5
}