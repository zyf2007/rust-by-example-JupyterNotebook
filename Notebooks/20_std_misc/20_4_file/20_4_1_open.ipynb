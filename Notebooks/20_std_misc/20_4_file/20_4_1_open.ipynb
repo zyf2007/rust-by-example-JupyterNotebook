{
  "cells": [
    {
      "cell_type": "markdown",
      "metadata": {},
      "source": [
        "# 打开文件 `open`\n",
        "\n",
        "`open` 静态方法能够以只读模式（read-only mode）打开一个文件。\n",
        "\n",
        "`File` 拥有资源，即文件描述符（file descriptor），它会在自身被 `drop` 时关闭文件。\n",
        "\n"
      ]
    },
    {
      "cell_type": "code",
      "execution_count": null,
      "metadata": {
        "vscode": {
          "languageId": "rust"
        }
      },
      "outputs": [],
      "source": [
        "use std::fs::File;\n",
        "use std::io::prelude::*;\n",
        "use std::path::Path;\n",
        "\n",
        "fn main() {\n",
        "    // 创建指向所需的文件的路径\n",
        "    let path = Path::new(\"hello.txt\");\n",
        "    let display = path.display();\n",
        "\n",
        "    // 以只读方式打开路径，返回 `io::Result<File>`\n",
        "    let mut file = match File::open(&path) {\n",
        "        // `io::Error` 的 `description` 方法返回一个描述错误的字符串。\n",
        "        Err(why) => panic!(\"couldn't open {}: {:?}\", display, why),\n",
        "        Ok(file) => file,\n",
        "    };\n",
        "\n",
        "    // 读取文件内容到一个字符串，返回 `io::Result<usize>`\n",
        "    let mut s = String::new();\n",
        "    match file.read_to_string(&mut s) {\n",
        "        Err(why) => panic!(\"couldn't read {}: {:?}\", display, why),\n",
        "        Ok(_) => print!(\"{} contains:\\n{}\", display, s),\n",
        "    }\n",
        "\n",
        "    // `file` 离开作用域，并且 `hello.txt` 文件将被关闭。\n",
        "}\n",
        "main();\n"
      ]
    },
    {
      "cell_type": "markdown",
      "metadata": {},
      "source": [
        "\n",
        "下面是所希望的成功的输出：\n",
        "\n"
      ]
    },
    {
      "cell_type": "code",
      "execution_count": null,
      "metadata": {
        "vscode": {
          "languageId": "bash"
        }
      },
      "outputs": [],
      "source": [
        "$ echo \"Hello World!\" > hello.txt\n",
        "$ rustc open.rs && ./open\n",
        "hello.txt contains:\n",
        "Hello World!\n"
      ]
    },
    {
      "cell_type": "markdown",
      "metadata": {},
      "source": [
        "\n",
        "（我们鼓励您在不同的失败条件下测试前面的例子：hello.txt 不存在，或 hello.txt 不可读，等等。）\n",
        "\n"
      ]
    }
  ],
  "metadata": {
    "kernelspec": {
      "display_name": "Rust",
      "language": "rust",
      "name": "rust"
    },
    "language_info": {
      "codemirror_mode": "rust",
      "file_extension": ".rs",
      "mimetype": "text/rust",
      "name": "Rust",
      "pygment_lexer": "rust",
      "version": ""
    }
  },
  "nbformat": 4,
  "nbformat_minor": 5
}