{
  "cells": [
    {
      "cell_type": "markdown",
      "metadata": {},
      "source": [
        "# 创建文件 `create`\n",
        "\n",
        "`create` 静态方法以只写模式（write-only mode）打开一个文件。若文件已经存在，则旧内容将被销毁。否则，将创建一个新文件。\n",
        "\n"
      ]
    },
    {
      "cell_type": "code",
      "execution_count": null,
      "metadata": {
        "vscode": {
          "languageId": "rust"
        }
      },
      "outputs": [],
      "source": [
        "static LOREM_IPSUM: &'static str =\n",
        "\"Lorem ipsum dolor sit amet, consectetur adipisicing elit, sed do eiusmod\n",
        "tempor incididunt ut labore et dolore magna aliqua. Ut enim ad minim veniam,\n",
        "quis nostrud exercitation ullamco laboris nisi ut aliquip ex ea commodo\n",
        "consequat. Duis aute irure dolor in reprehenderit in voluptate velit esse\n",
        "cillum dolore eu fugiat nulla pariatur. Excepteur sint occaecat cupidatat non\n",
        "proident, sunt in culpa qui officia deserunt mollit anim id est laborum.\n",
        "\";\n",
        "\n",
        "use std::io::prelude::*;\n",
        "use std::fs::File;\n",
        "use std::path::Path;\n",
        "\n",
        "fn main() {\n",
        "    let path = Path::new(\"out/lorem_ipsum.txt\");\n",
        "    let display = path.display();\n",
        "\n",
        "    // 以只写模式打开文件，返回 `io::Result<File>`\n",
        "    let mut file = match File::create(&path) {\n",
        "        Err(why) => panic!(\"couldn't create {}: {:?}\", display, why),\n",
        "        Ok(file) => file,\n",
        "    };\n",
        "\n",
        "    // 将 `LOREM_IPSUM` 字符串写进 `file`，返回 `io::Result<()>`\n",
        "    match file.write_all(LOREM_IPSUM.as_bytes()) {\n",
        "        Err(why) => {\n",
        "            panic!(\"couldn't write to {}: {:?}\", display, why)\n",
        "        },\n",
        "        Ok(_) => println!(\"successfully wrote to {}\", display),\n",
        "    }\n",
        "}\n",
        "main();\n"
      ]
    },
    {
      "cell_type": "markdown",
      "metadata": {},
      "source": [
        "\n",
        "下面是预期成功的输出：\n",
        "\n"
      ]
    },
    {
      "cell_type": "code",
      "execution_count": null,
      "metadata": {
        "vscode": {
          "languageId": "bash"
        }
      },
      "outputs": [],
      "source": [
        "$ mkdir out\n",
        "$ rustc create.rs && ./create\n",
        "successfully wrote to out/lorem_ipsum.txt\n",
        "$ cat out/lorem_ipsum.txt\n",
        "Lorem ipsum dolor sit amet, consectetur adipisicing elit, sed do eiusmod\n",
        "tempor incididunt ut labore et dolore magna aliqua. Ut enim ad minim veniam,\n",
        "quis nostrud exercitation ullamco laboris nisi ut aliquip ex ea commodo\n",
        "consequat. Duis aute irure dolor in reprehenderit in voluptate velit esse\n",
        "cillum dolore eu fugiat nulla pariatur. Excepteur sint occaecat cupidatat non\n",
        "proident, sunt in culpa qui officia deserunt mollit anim id est laborum.\n"
      ]
    },
    {
      "cell_type": "markdown",
      "metadata": {},
      "source": [
        "\n",
        "（和前面例子一样，我们鼓励你在失败条件下测试这个例子。）\n",
        "\n",
        "还有一个更通用的 `open_mode` 方法，这能够以其他方式来来打开文件，如：read+write（读 + 写），追加（append），等等。\n",
        "\n"
      ]
    }
  ],
  "metadata": {
    "kernelspec": {
      "display_name": "Rust",
      "language": "rust",
      "name": "rust"
    },
    "language_info": {
      "codemirror_mode": "rust",
      "file_extension": ".rs",
      "mimetype": "text/rust",
      "name": "Rust",
      "pygment_lexer": "rust",
      "version": ""
    }
  },
  "nbformat": 4,
  "nbformat_minor": 5
}