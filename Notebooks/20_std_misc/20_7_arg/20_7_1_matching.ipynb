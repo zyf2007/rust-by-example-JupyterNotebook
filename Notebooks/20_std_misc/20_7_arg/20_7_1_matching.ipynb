{
  "cells": [
    {
      "cell_type": "markdown",
      "metadata": {},
      "source": [
        "# 参数解析\n",
        "\n",
        "可以用模式匹配来解析简单的参数：\n",
        "\n"
      ]
    },
    {
      "cell_type": "code",
      "execution_count": null,
      "metadata": {
        "vscode": {
          "languageId": "rust"
        }
      },
      "outputs": [],
      "source": [
        "use std::env;\n",
        "\n",
        "fn increase(number: i32) {\n",
        "    println!(\"{}\", number + 1);\n",
        "}\n",
        "\n",
        "fn decrease(number: i32) {\n",
        "    println!(\"{}\", number - 1);\n",
        "}\n",
        "\n",
        "fn help() {\n",
        "    println!(\"usage:\n",
        "match_args <string>\n",
        "    Check whether given string is the answer.\n",
        "match_args {{increase|decrease}} <integer>\n",
        "    Increase or decrease given integer by one.\");\n",
        "}\n",
        "\n",
        "fn main() {\n",
        "    let args: Vec<String> = env::args().collect();\n",
        "\n",
        "    match args.len() {\n",
        "        // 没有传入参数\n",
        "        1 => {\n",
        "            println!(\"My name is 'match_args'. Try passing some arguments!\");\n",
        "        },\n",
        "        // 一个传入参数\n",
        "        2 => {\n",
        "            match args[1].parse() {\n",
        "                Ok(42) => println!(\"This is the answer!\"),\n",
        "                _ => println!(\"This is not the answer.\"),\n",
        "            }\n",
        "        },\n",
        "        // 传入一条命令和一个参数\n",
        "        3 => {\n",
        "            let cmd = &args[1];\n",
        "            let num = &args[2];\n",
        "            // 解析数字\n",
        "            let number: i32 = match num.parse() {\n",
        "                Ok(n) => {\n",
        "                    n\n",
        "                },\n",
        "                Err(_) => {\n",
        "                    println!(\"error: second argument not an integer\");\n",
        "                    help();\n",
        "                    return;\n",
        "                },\n",
        "            };\n",
        "            // 解析命令\n",
        "            match &cmd[..] {\n",
        "                \"increase\" => increase(number),\n",
        "                \"decrease\" => decrease(number),\n",
        "                _ => {\n",
        "                    println!(\"error: invalid command\");\n",
        "                    help();\n",
        "                },\n",
        "            }\n",
        "        },\n",
        "        // 所有其他情况\n",
        "        _ => {\n",
        "            // 显示帮助信息\n",
        "            help();\n",
        "        }\n",
        "    }\n",
        "}\n",
        "main();\n"
      ]
    },
    {
      "cell_type": "markdown",
      "metadata": {},
      "source": [
        "\n"
      ]
    },
    {
      "cell_type": "code",
      "execution_count": null,
      "metadata": {
        "vscode": {
          "languageId": "bash"
        }
      },
      "outputs": [],
      "source": [
        "$ ./match_args Rust\n",
        "This is not the answer.\n",
        "$ ./match_args 42\n",
        "This is the answer!\n",
        "$ ./match_args do something\n",
        "error: second argument not an integer\n",
        "usage:\n",
        "match_args <string>\n",
        "    Check whether given string is the answer.\n",
        "match_args {increase|decrease} <integer>\n",
        "    Increase or decrease given integer by one.\n",
        "$ ./match_args do 42\n",
        "error: invalid command\n",
        "usage:\n",
        "match_args <string>\n",
        "    Check whether given string is the answer.\n",
        "match_args {increase|decrease} <integer>\n",
        "    Increase or decrease given integer by one.\n",
        "$ ./match_args increase 42\n",
        "43\n"
      ]
    },
    {
      "cell_type": "markdown",
      "metadata": {},
      "source": [
        "\n"
      ]
    }
  ],
  "metadata": {
    "kernelspec": {
      "display_name": "Rust",
      "language": "rust",
      "name": "rust"
    },
    "language_info": {
      "codemirror_mode": "rust",
      "file_extension": ".rs",
      "mimetype": "text/rust",
      "name": "Rust",
      "pygment_lexer": "rust",
      "version": ""
    }
  },
  "nbformat": 4,
  "nbformat_minor": 5
}