{
  "cells": [
    {
      "cell_type": "markdown",
      "metadata": {},
      "source": [
        "# 读取行\n",
        "\n",
        "方法 `lines()` 在文件的行上返回一个迭代器。\n",
        "\n",
        "`File::open` 需要一个泛型 `AsRef<Path>`。这正是 `read_lines()` 期望的输入。\n",
        "\n"
      ]
    },
    {
      "cell_type": "code",
      "execution_count": null,
      "metadata": {
        "vscode": {
          "languageId": "rust"
        }
      },
      "outputs": [],
      "source": [
        "use std::fs::File;\n",
        "use std::io::{self, BufRead};\n",
        "use std::path::Path;\n",
        "\n",
        "fn main() {\n",
        "    // 在生成输出之前，文件 `hosts` 必须存在于当前路径中\n",
        "    if let Ok(lines) = read_lines(\"./hosts\") {\n",
        "        // 使用迭代器，返回一个（可选）字符串\n",
        "        for line in lines {\n",
        "            if let Ok(ip) = line {\n",
        "                println!(\"{}\", ip);\n",
        "            }      \n",
        "        }   \n",
        "    }\n",
        "}\n",
        "\n",
        "// 输出包裹在 Result 中以允许匹配错误，\n",
        "// 将迭代器返回给文件行的读取器（Reader）。\n",
        "fn read_lines<P>(filename: P) -> io::Result<io::Lines<io::BufReader<File>>>\n",
        "where P: AsRef<Path>, {\n",
        "    let file = File::open(filename)?;\n",
        "    Ok(io::BufReader::new(file).lines())\n",
        "}\n",
        "main();\n"
      ]
    },
    {
      "cell_type": "markdown",
      "metadata": {},
      "source": [
        "\n",
        "运行此程序将一行行将内容打印出来。\n",
        "\n"
      ]
    },
    {
      "cell_type": "code",
      "execution_count": null,
      "metadata": {
        "vscode": {
          "languageId": "bash"
        }
      },
      "outputs": [],
      "source": [
        "$ echo -e \"127.0.0.1\\n192.168.0.1\\n\" > hosts\n",
        "$ rustc read_lines.rs && ./read_lines\n",
        "127.0.0.1\n",
        "192.168.0.1\n"
      ]
    },
    {
      "cell_type": "markdown",
      "metadata": {},
      "source": [
        "\n",
        "这个过程比在内存中创建 `String` 更有效，特别是处理更大的文件。\n",
        "\n"
      ]
    }
  ],
  "metadata": {
    "kernelspec": {
      "display_name": "Rust",
      "language": "rust",
      "name": "rust"
    },
    "language_info": {
      "codemirror_mode": "rust",
      "file_extension": ".rs",
      "mimetype": "text/rust",
      "name": "Rust",
      "pygment_lexer": "rust",
      "version": ""
    }
  },
  "nbformat": 4,
  "nbformat_minor": 5
}