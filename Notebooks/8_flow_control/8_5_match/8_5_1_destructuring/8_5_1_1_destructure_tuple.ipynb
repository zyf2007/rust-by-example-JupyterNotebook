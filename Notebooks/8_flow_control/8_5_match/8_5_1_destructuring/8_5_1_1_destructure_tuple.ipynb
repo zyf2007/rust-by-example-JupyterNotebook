{
  "cells": [
    {
      "cell_type": "markdown",
      "metadata": {},
      "source": [
        "# 元组\n",
        "\n",
        "元组可以在 `match` 中解构，如下所示：\n",
        "\n"
      ]
    },
    {
      "cell_type": "code",
      "execution_count": null,
      "metadata": {
        "vscode": {
          "languageId": "rust"
        }
      },
      "outputs": [],
      "source": [
        "fn main() {\n",
        "    let triple = (0, -2, 3);\n",
        "    // 试一试 ^ 将不同的值赋给 `triple`\n",
        "\n",
        "    println!(\"Tell me about {:?}\", triple);\n",
        "    // match 可以解构一个元组\n",
        "    match triple {\n",
        "        // 解构出第二个和第三个元素\n",
        "        (0, y, z) => println!(\"First is `0`, `y` is {:?}, and `z` is {:?}\", y, z),\n",
        "        (1, ..)  => println!(\"First is `1` and the rest doesn't matter\"),\n",
        "        // `..` 可用来忽略元组的其余部分\n",
        "        _      => println!(\"It doesn't matter what they are\"),\n",
        "        // `_` 表示不将值绑定到变量\n",
        "    }\n",
        "}\n",
        "main();\n"
      ]
    },
    {
      "cell_type": "markdown",
      "metadata": {},
      "source": [
        "\n",
        "### 参见：\n",
        "\n",
        "[元组](../../../primitives/tuples.md)\n",
        "\n"
      ]
    }
  ],
  "metadata": {
    "kernelspec": {
      "display_name": "Rust",
      "language": "rust",
      "name": "rust"
    },
    "language_info": {
      "codemirror_mode": "rust",
      "file_extension": ".rs",
      "mimetype": "text/rust",
      "name": "Rust",
      "pygment_lexer": "rust",
      "version": ""
    }
  },
  "nbformat": 4,
  "nbformat_minor": 5
}