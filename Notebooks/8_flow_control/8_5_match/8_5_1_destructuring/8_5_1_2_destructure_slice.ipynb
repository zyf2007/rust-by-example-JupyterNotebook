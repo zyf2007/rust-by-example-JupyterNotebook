{
  "cells": [
    {
      "cell_type": "markdown",
      "metadata": {},
      "source": [
        "# 数组/切片\n",
        "\n",
        "像元组一样，数组和切片也可以这样解构:\n",
        "\n"
      ]
    },
    {
      "cell_type": "code",
      "execution_count": null,
      "metadata": {
        "vscode": {
          "languageId": "rust"
        }
      },
      "outputs": [],
      "source": [
        "fn main() {\n",
        "    // 尝试改变数组中的值，或者将其做成切片!\n",
        "    let array = [1, -2, 6];\n",
        "\n",
        "    match array {\n",
        "        // 将第二个和第三个元素绑定到各自的变量\n",
        "        [0, second, third] =>\n",
        "            println!(\"array[0] = 0, array[1] = {}, array[2] = {}\", second, third),\n",
        "\n",
        "        // 单个值可以用 `_` 忽略\n",
        "        [1, _, third] => println!(\n",
        "            \"array[0] = 1, array[2] = {} and array[1] was ignored\",\n",
        "            third\n",
        "        ),\n",
        "\n",
        "        // 你也可以绑定一些而忽略其余的\n",
        "        [-1, second, ..] => println!(\n",
        "            \"array[0] = -1, array[1] = {} and all the other ones were ignored\",\n",
        "            second\n",
        "        ),\n",
        "        // 下面的代码无法编译\n",
        "        // [-1, second] => ...\n",
        "\n",
        "        // 或者将它们存储在另一个数组/切片中（类型取决于所匹配的值的类型）\n",
        "        [3, second, tail @ ..] => println!(\n",
        "            \"array[0] = 3, array[1] = {} and the other elements were {:?}\",\n",
        "            second, tail\n",
        "        ),\n",
        "\n",
        "        // 结合这些模式，我们可以绑定第一个和最后一个值，并将其余的值存储在一个数组中\n",
        "        [first, middle @ .., last] => println!(\n",
        "            \"array[0] = {}, middle = {:?}, array[2] = {}\",\n",
        "            first, middle, last\n",
        "        ),\n",
        "    }\n",
        "}\n",
        "main();\n"
      ]
    },
    {
      "cell_type": "markdown",
      "metadata": {},
      "source": [
        "\n",
        "### 参见：\n",
        "[数组和切片](../../../primitives/array.md) 与 `@` 符号用法[绑定](../binding.md) \n"
      ]
    }
  ],
  "metadata": {
    "kernelspec": {
      "display_name": "Rust",
      "language": "rust",
      "name": "rust"
    },
    "language_info": {
      "codemirror_mode": "rust",
      "file_extension": ".rs",
      "mimetype": "text/rust",
      "name": "Rust",
      "pygment_lexer": "rust",
      "version": ""
    }
  },
  "nbformat": 4,
  "nbformat_minor": 5
}