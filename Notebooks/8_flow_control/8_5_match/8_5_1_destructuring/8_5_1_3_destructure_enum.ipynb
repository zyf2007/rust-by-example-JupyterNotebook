{
  "cells": [
    {
      "cell_type": "markdown",
      "metadata": {},
      "source": [
        "# 枚举\n",
        "\n",
        "和前面相似，解构 `enum` 的方式如下：\n",
        "\n"
      ]
    },
    {
      "cell_type": "code",
      "execution_count": null,
      "metadata": {
        "vscode": {
          "languageId": "rust"
        }
      },
      "outputs": [],
      "source": [
        "// 需要 `allow` 来消除警告，因为只使用了枚举类型的一种取值。\n",
        "#[allow(dead_code)]\n",
        "enum Color {\n",
        "    // 这三个取值仅由它们的名字（而非类型）来指定。\n",
        "    Red,\n",
        "    Blue,\n",
        "    Green,\n",
        "    // 这些则把 `u32` 元组赋予不同的名字，以色彩模型命名。\n",
        "    RGB(u32, u32, u32),\n",
        "    HSV(u32, u32, u32),\n",
        "    HSL(u32, u32, u32),\n",
        "    CMY(u32, u32, u32),\n",
        "    CMYK(u32, u32, u32, u32),\n",
        "}\n",
        "\n",
        "fn main() {\n",
        "    let color = Color::RGB(122, 17, 40);\n",
        "    // 试一试 ^ 将不同的值赋给 `color`\n",
        "\n",
        "    println!(\"What color is it?\");\n",
        "    // 可以使用 `match` 来解构 `enum`。\n",
        "    match color {\n",
        "        Color::Red   => println!(\"The color is Red!\"),\n",
        "        Color::Blue  => println!(\"The color is Blue!\"),\n",
        "        Color::Green => println!(\"The color is Green!\"),\n",
        "        Color::RGB(r, g, b) =>\n",
        "            println!(\"Red: {}, green: {}, and blue: {}!\", r, g, b),\n",
        "        Color::HSV(h, s, v) =>\n",
        "            println!(\"Hue: {}, saturation: {}, value: {}!\", h, s, v),\n",
        "        Color::HSL(h, s, l) =>\n",
        "            println!(\"Hue: {}, saturation: {}, lightness: {}!\", h, s, l),\n",
        "        Color::CMY(c, m, y) =>\n",
        "            println!(\"Cyan: {}, magenta: {}, yellow: {}!\", c, m, y),\n",
        "        Color::CMYK(c, m, y, k) =>\n",
        "            println!(\"Cyan: {}, magenta: {}, yellow: {}, key (black): {}!\",\n",
        "                c, m, y, k),\n",
        "        // 不需要其它分支，因为所有的情形都已覆盖\n",
        "    }\n",
        "}\n",
        "main();\n"
      ]
    },
    {
      "cell_type": "markdown",
      "metadata": {},
      "source": [
        "\n",
        "### 参见：\n",
        "\n",
        "[`#[allow(...)]`][allow], [色彩模型][color_models] 和 [`enum`][enum]\n",
        "\n",
        "[allow]: ../../../attribute/unused.md\n",
        "[color_models]: https://en.wikipedia.org/wiki/Color_model\n",
        "[enum]: ../../../custom_types/enum.md\n",
        "\n"
      ]
    }
  ],
  "metadata": {
    "kernelspec": {
      "display_name": "Rust",
      "language": "rust",
      "name": "rust"
    },
    "language_info": {
      "codemirror_mode": "rust",
      "file_extension": ".rs",
      "mimetype": "text/rust",
      "name": "Rust",
      "pygment_lexer": "rust",
      "version": ""
    }
  },
  "nbformat": 4,
  "nbformat_minor": 5
}