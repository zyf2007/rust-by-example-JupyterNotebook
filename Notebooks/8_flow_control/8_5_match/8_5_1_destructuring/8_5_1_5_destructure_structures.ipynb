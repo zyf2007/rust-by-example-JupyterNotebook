{
  "cells": [
    {
      "cell_type": "markdown",
      "metadata": {},
      "source": [
        "# 结构体\n",
        "\n",
        "类似地，解构 `struct` 如下所示：\n",
        "\n"
      ]
    },
    {
      "cell_type": "code",
      "execution_count": null,
      "metadata": {
        "vscode": {
          "languageId": "rust"
        }
      },
      "outputs": [],
      "source": [
        "fn main() {\n",
        "    struct Foo { x: (u32, u32), y: u32 }\n",
        "\n",
        "    // 解构结构体的成员\n",
        "    let foo = Foo { x: (1, 2), y: 3 };\n",
        "    let Foo { x: (a, b), y } = foo;\n",
        "\n",
        "    println!(\"a = {}, b = {},  y = {} \", a, b, y);\n",
        "\n",
        "    // 可以解构结构体并重命名变量，成员顺序并不重要\n",
        "\n",
        "    let Foo { y: i, x: j } = foo;\n",
        "    println!(\"i = {:?}, j = {:?}\", i, j);\n",
        "\n",
        "    // 也可以忽略某些变量\n",
        "    let Foo { y, .. } = foo;\n",
        "    println!(\"y = {}\", y);\n",
        "\n",
        "    // 这将得到一个错误：模式中没有提及 `x` 字段\n",
        "    // let Foo { y } = foo;\n",
        "}\n",
        "main();\n"
      ]
    },
    {
      "cell_type": "markdown",
      "metadata": {},
      "source": [
        "\n",
        "### 参见：\n",
        "\n",
        "[结构体](../../../custom_types/structs.md), [ref 模式](../../../scope/borrow/ref.md)\n",
        "\n"
      ]
    }
  ],
  "metadata": {
    "kernelspec": {
      "display_name": "Rust",
      "language": "rust",
      "name": "rust"
    },
    "language_info": {
      "codemirror_mode": "rust",
      "file_extension": ".rs",
      "mimetype": "text/rust",
      "name": "Rust",
      "pygment_lexer": "rust",
      "version": ""
    }
  },
  "nbformat": 4,
  "nbformat_minor": 5
}