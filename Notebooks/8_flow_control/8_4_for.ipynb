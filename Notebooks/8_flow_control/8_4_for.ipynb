{
  "cells": [
    {
      "cell_type": "markdown",
      "metadata": {},
      "source": [
        "# for 循环\n",
        "\n",
        "## for 与区间\n",
        "\n",
        "`for in` 结构可以遍历一个 `Iterator`（迭代器）。创建迭代器的一个最简单的方法是使用区间标记 `a..b`。这会生成从 `a`（包含此值） 到 `b`（不含此值）的，步长为 1 的一系列值。\n",
        "\n",
        "让我们使用 `for` 代替 `while` 来写 FizzBuzz 程序。\n",
        "\n"
      ]
    },
    {
      "cell_type": "code",
      "execution_count": null,
      "metadata": {
        "vscode": {
          "languageId": "rust"
        }
      },
      "outputs": [],
      "source": [
        "fn main() {\n",
        "    // `n` 将在每次迭代中分别取 1, 2, ..., 100\n",
        "    for n in 1..101 {\n",
        "        if n % 15 == 0 {\n",
        "            println!(\"fizzbuzz\");\n",
        "        } else if n % 3 == 0 {\n",
        "            println!(\"fizz\");\n",
        "        } else if n % 5 == 0 {\n",
        "            println!(\"buzz\");\n",
        "        } else {\n",
        "            println!(\"{}\", n);\n",
        "        }\n",
        "    }\n",
        "}\n",
        "main();\n"
      ]
    },
    {
      "cell_type": "markdown",
      "metadata": {},
      "source": [
        "\n",
        "或者，可以使用`a..=b`表示两端都包含在内的范围。上面的代码可以写成：\n",
        "\n"
      ]
    },
    {
      "cell_type": "code",
      "execution_count": null,
      "metadata": {
        "vscode": {
          "languageId": "rust"
        }
      },
      "outputs": [],
      "source": [
        "fn main() {\n",
        "    // `n` 将在每次迭代中分别取 1, 2, ..., 100\n",
        "    for n in 1..=100 {\n",
        "        if n % 15 == 0 {\n",
        "            println!(\"fizzbuzz\");\n",
        "        } else if n % 3 == 0 {\n",
        "            println!(\"fizz\");\n",
        "        } else if n % 5 == 0 {\n",
        "            println!(\"buzz\");\n",
        "        } else {\n",
        "            println!(\"{}\", n);\n",
        "        }\n",
        "    }\n",
        "}\n",
        "main();\n"
      ]
    },
    {
      "cell_type": "markdown",
      "metadata": {},
      "source": [
        "\n",
        "## for 与迭代器\n",
        "\n",
        "`for in` 结构能以几种方式与 `Iterator` 互动。在 [迭代器][iter] trait 一节将会谈到，如果没有特别指定，`for` 循环会对给出的集合应用 `into_iter` 函数，把它转换成一个迭代器。这并不是把集合变成迭代器的唯一方法，其他的方法有 `iter` 和`iter_mut` 函数。\n",
        "\n",
        "这三个函数会以不同的方式返回集合中的数据。\n",
        "\n",
        "- `iter` - 在每次迭代中借用集合中的一个元素。这样集合本身不会被改变，循环之后仍可以使用。\n",
        "\n"
      ]
    },
    {
      "cell_type": "code",
      "execution_count": null,
      "metadata": {
        "vscode": {
          "languageId": "rust"
        }
      },
      "outputs": [],
      "source": [
        "fn main() {\n",
        "    let names = vec![\"Bob\", \"Frank\", \"Ferris\"];\n",
        "\n",
        "    for name in names.iter() {\n",
        "        match name {\n",
        "            &\"Ferris\" => println!(\"There is a rustacean among us!\"),\n",
        "            _ => println!(\"Hello {}\", name),\n",
        "        }\n",
        "    }\n",
        "}\n",
        "main();\n"
      ]
    },
    {
      "cell_type": "markdown",
      "metadata": {},
      "source": [
        "\n",
        "译注：Ferris 是 Rust 的[非官方吉祥物](https://www.rustacean.net/)。\n",
        "\n",
        "- `into_iter` - 会消耗集合。在每次迭代中，集合中的数据本身会被提供。一旦集合被消耗了，之后就无法再使用了，因为它已经在循环中被 “移除”（move）了。\n",
        "\n"
      ]
    },
    {
      "cell_type": "code",
      "execution_count": null,
      "metadata": {
        "vscode": {
          "languageId": "rust"
        }
      },
      "outputs": [],
      "source": [
        "fn main() {\n",
        "    let names = vec![\"Bob\", \"Frank\", \"Ferris\"];\n",
        "\n",
        "    for name in names.into_iter() {\n",
        "        match name {\n",
        "            \"Ferris\" => println!(\"There is a rustacean among us!\"),\n",
        "            _ => println!(\"Hello {}\", name),\n",
        "        }\n",
        "    }\n",
        "}\n",
        "main();\n"
      ]
    },
    {
      "cell_type": "markdown",
      "metadata": {},
      "source": [
        "\n",
        "- `iter_mut` - 可变地（mutably）借用集合中的每个元素，从而允许集合被就地修改。\n",
        "\n"
      ]
    },
    {
      "cell_type": "code",
      "execution_count": null,
      "metadata": {
        "vscode": {
          "languageId": "rust"
        }
      },
      "outputs": [],
      "source": [
        "fn main() {\n",
        "    let mut names = vec![\"Bob\", \"Frank\", \"Ferris\"];\n",
        "\n",
        "    for name in names.iter_mut() {\n",
        "        *name = match name {\n",
        "            &mut \"Ferris\" => \"There is a rustacean among us!\",\n",
        "            _ => \"Hello\",\n",
        "        }\n",
        "    }\n",
        "    println!(\"names: {:?}\", names);\n",
        "}\n",
        "main();\n"
      ]
    },
    {
      "cell_type": "markdown",
      "metadata": {},
      "source": [
        "\n",
        "在上面这些代码中，注意 `match` 的分支中所写的类型不同，这是不同迭代方式的关键区别。因为类型不同，能够执行的操作当然也不同。\n",
        "\n",
        "### 参见：\n",
        "\n",
        "[Iterator][iter]\n",
        "\n",
        "[iter]: ../trait/iter.md\n",
        "\n"
      ]
    }
  ],
  "metadata": {
    "kernelspec": {
      "display_name": "Rust",
      "language": "rust",
      "name": "rust"
    },
    "language_info": {
      "codemirror_mode": "rust",
      "file_extension": ".rs",
      "mimetype": "text/rust",
      "name": "Rust",
      "pygment_lexer": "rust",
      "version": ""
    }
  },
  "nbformat": 4,
  "nbformat_minor": 5
}