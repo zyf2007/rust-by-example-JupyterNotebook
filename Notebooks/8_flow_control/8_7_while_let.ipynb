{
  "cells": [
    {
      "cell_type": "markdown",
      "metadata": {},
      "source": [
        "# while let\n",
        "\n",
        "和 `if let` 类似，`while let` 也可以把别扭的 `match` 改写得好看一些。考虑下面这段使 `i` 不断增加的代码：\n",
        "\n"
      ]
    },
    {
      "cell_type": "code",
      "execution_count": null,
      "metadata": {
        "vscode": {
          "languageId": "rust"
        }
      },
      "outputs": [],
      "source": [
        "// 将 `optional` 设为 `Option<i32>` 类型\n",
        "let mut optional = Some(0);\n",
        "\n",
        "// 重复运行这个测试。\n",
        "loop {\n",
        "    match optional {\n",
        "        // 如果 `optional` 解构成功，就执行下面语句块。\n",
        "        Some(i) => {\n",
        "            if i > 9 {\n",
        "                println!(\"Greater than 9, quit!\");\n",
        "                optional = None;\n",
        "            } else {\n",
        "                println!(\"`i` is `{:?}`. Try again.\", i);\n",
        "                optional = Some(i + 1);\n",
        "            }\n",
        "            // ^ 需要三层缩进！\n",
        "        },\n",
        "        // 当解构失败时退出循环：\n",
        "        _ => { break; }\n",
        "        // ^ 为什么必须写这样的语句呢？肯定有更优雅的处理方式！\n",
        "    }\n",
        "}\n"
      ]
    },
    {
      "cell_type": "markdown",
      "metadata": {},
      "source": [
        "\n",
        "使用 `while let` 可以使这段代码变得更加优雅：\n",
        "\n"
      ]
    },
    {
      "cell_type": "code",
      "execution_count": null,
      "metadata": {
        "vscode": {
          "languageId": "rust"
        }
      },
      "outputs": [],
      "source": [
        "fn main() {\n",
        "    // 将 `optional` 设为 `Option<i32>` 类型\n",
        "    let mut optional = Some(0);\n",
        "\n",
        "    // 这读作：当 `let` 将 `optional` 解构成 `Some(i)` 时，就\n",
        "    // 执行语句块（`{}`）。否则就 `break`。\n",
        "    while let Some(i) = optional {\n",
        "        if i > 9 {\n",
        "            println!(\"Greater than 9, quit!\");\n",
        "            optional = None;\n",
        "        } else {\n",
        "            println!(\"`i` is `{:?}`. Try again.\", i);\n",
        "            optional = Some(i + 1);\n",
        "        }\n",
        "        // ^ 使用的缩进更少，并且不用显式地处理失败情况。\n",
        "    }\n",
        "    // ^ `if let` 有可选的 `else`/`else if` 分句，\n",
        "    // 而 `while let` 没有。\n",
        "}\n",
        "main();\n"
      ]
    },
    {
      "cell_type": "markdown",
      "metadata": {},
      "source": [
        "\n",
        "### 参见：\n",
        "\n",
        "[`枚举`][enum]，[`Option`][option]，和相关的 [RFC][while_let_rfc]\n",
        "\n",
        "[enum]: ../custom_types/enum.md\n",
        "[option]: ../std/option.md\n",
        "[while_let_rfc]: https://github.com/rust-lang/rfcs/pull/214\n",
        "\n"
      ]
    }
  ],
  "metadata": {
    "kernelspec": {
      "display_name": "Rust",
      "language": "rust",
      "name": "rust"
    },
    "language_info": {
      "codemirror_mode": "rust",
      "file_extension": ".rs",
      "mimetype": "text/rust",
      "name": "Rust",
      "pygment_lexer": "rust",
      "version": ""
    }
  },
  "nbformat": 4,
  "nbformat_minor": 5
}