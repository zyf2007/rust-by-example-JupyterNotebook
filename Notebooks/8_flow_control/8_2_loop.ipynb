{
  "cells": [
    {
      "cell_type": "markdown",
      "metadata": {},
      "source": [
        "# loop 循环\n",
        "\n",
        "Rust 提供了 `loop` 关键字来表示一个无限循环。\n",
        "\n",
        "可以使用 `break` 语句在任何时候退出一个循环，还可以使用 `continue` 跳过循环体的剩余部分并开始下一轮循环。\n",
        "\n"
      ]
    },
    {
      "cell_type": "code",
      "execution_count": null,
      "metadata": {
        "vscode": {
          "languageId": "rust"
        }
      },
      "outputs": [],
      "source": [
        "fn main() {\n",
        "    let mut count = 0u32;\n",
        "\n",
        "    println!(\"Let's count until infinity!\");\n",
        "\n",
        "    // 无限循环\n",
        "    loop {\n",
        "        count += 1;\n",
        "\n",
        "        if count == 3 {\n",
        "            println!(\"three\");\n",
        "\n",
        "            // 跳过这次迭代的剩下内容\n",
        "            continue;\n",
        "        }\n",
        "\n",
        "        println!(\"{}\", count);\n",
        "\n",
        "        if count == 5 {\n",
        "            println!(\"OK, that's enough\");\n",
        "\n",
        "            // 退出循环\n",
        "            break;\n",
        "        }\n",
        "    }\n",
        "}\n",
        "main();\n"
      ]
    },
    {
      "cell_type": "markdown",
      "metadata": {},
      "source": [
        "\n"
      ]
    }
  ],
  "metadata": {
    "kernelspec": {
      "display_name": "Rust",
      "language": "rust",
      "name": "rust"
    },
    "language_info": {
      "codemirror_mode": "rust",
      "file_extension": ".rs",
      "mimetype": "text/rust",
      "name": "Rust",
      "pygment_lexer": "rust",
      "version": ""
    }
  },
  "nbformat": 4,
  "nbformat_minor": 5
}