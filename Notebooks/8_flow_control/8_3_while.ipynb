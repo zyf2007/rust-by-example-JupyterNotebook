{
  "cells": [
    {
      "cell_type": "markdown",
      "metadata": {},
      "source": [
        "# while 循环\n",
        "\n",
        "`while` 关键字可以用作当型循环（当条件满足时循环）。\n",
        "\n",
        "让我们用 `while` 循环写一下臭名昭著的 [FizzBuzz][fizzbuzz]（译者补充：[LeetCode 上的 FizzBuzz 问题描述][fizzbuzz-leetcode]） 程序。\n",
        "\n"
      ]
    },
    {
      "cell_type": "code",
      "execution_count": null,
      "metadata": {
        "vscode": {
          "languageId": "rust"
        }
      },
      "outputs": [],
      "source": [
        "fn main() {\n",
        "    // 计数器变量\n",
        "    let mut n = 1;\n",
        "\n",
        "    // 当 `n` 小于 101 时循环\n",
        "    while n < 101 {\n",
        "        if n % 15 == 0 {\n",
        "            println!(\"fizzbuzz\");\n",
        "        } else if n % 3 == 0 {\n",
        "            println!(\"fizz\");\n",
        "        } else if n % 5 == 0 {\n",
        "            println!(\"buzz\");\n",
        "        } else {\n",
        "            println!(\"{}\", n);\n",
        "        }\n",
        "\n",
        "        // 计数器值加 1\n",
        "        n += 1;\n",
        "    }\n",
        "}\n",
        "main();\n"
      ]
    },
    {
      "cell_type": "markdown",
      "metadata": {},
      "source": [
        "\n",
        "[fizzbuzz]: https://en.wikipedia.org/wiki/Fizz_buzz\n",
        "[fizzbuzz-leetcode]: https://leetcode-cn.com/problems/fizz-buzz/\n",
        "\n"
      ]
    }
  ],
  "metadata": {
    "kernelspec": {
      "display_name": "Rust",
      "language": "rust",
      "name": "rust"
    },
    "language_info": {
      "codemirror_mode": "rust",
      "file_extension": ".rs",
      "mimetype": "text/rust",
      "name": "Rust",
      "pygment_lexer": "rust",
      "version": ""
    }
  },
  "nbformat": 4,
  "nbformat_minor": 5
}