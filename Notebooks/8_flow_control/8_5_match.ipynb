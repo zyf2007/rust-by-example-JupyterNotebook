{
  "cells": [
    {
      "cell_type": "markdown",
      "metadata": {},
      "source": [
        "# match 匹配\n",
        "\n",
        "Rust 通过 `match` 关键字来提供模式匹配，和 C 语言的 `switch` 用法类似。第一个匹配分支会被比对，并且所有可能的值都必须被覆盖。\n",
        "\n"
      ]
    },
    {
      "cell_type": "code",
      "execution_count": null,
      "metadata": {
        "vscode": {
          "languageId": "rust"
        }
      },
      "outputs": [],
      "source": [
        "fn main() {\n",
        "    let number = 13;\n",
        "    // 试一试 ^ 将不同的值赋给 `number`\n",
        "\n",
        "    println!(\"Tell me about {}\", number);\n",
        "    match number {\n",
        "        // 匹配单个值\n",
        "        1 => println!(\"One!\"),\n",
        "        // 匹配多个值\n",
        "        2 | 3 | 5 | 7 | 11 => println!(\"This is a prime\"),\n",
        "        // 试一试 ^ 将 13 添加到质数列表中\n",
        "        // 匹配一个闭区间范围\n",
        "        13..=19 => println!(\"A teen\"),\n",
        "        // 处理其他情况\n",
        "        _ => println!(\"Ain't special\"),\n",
        "        // 试一试 ^ 注释掉这个总括性的分支\n",
        "    }\n",
        "\n",
        "    let boolean = true;\n",
        "    // match 也是一个表达式\n",
        "    let binary = match boolean {\n",
        "        // match 分支必须覆盖所有可能的值\n",
        "        false => 0,\n",
        "        true => 1,\n",
        "        // 试一试 ^ 将其中一条分支注释掉\n",
        "    };\n",
        "\n",
        "    println!(\"{} -> {}\", boolean, binary);\n",
        "}\n",
        "main();\n"
      ]
    },
    {
      "cell_type": "markdown",
      "metadata": {},
      "source": [
        "\n"
      ]
    }
  ],
  "metadata": {
    "kernelspec": {
      "display_name": "Rust",
      "language": "rust",
      "name": "rust"
    },
    "language_info": {
      "codemirror_mode": "rust",
      "file_extension": ".rs",
      "mimetype": "text/rust",
      "name": "Rust",
      "pygment_lexer": "rust",
      "version": ""
    }
  },
  "nbformat": 4,
  "nbformat_minor": 5
}