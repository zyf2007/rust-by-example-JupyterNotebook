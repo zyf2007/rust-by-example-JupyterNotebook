{
  "cells": [
    {
      "cell_type": "markdown",
      "metadata": {},
      "source": [
        "# if let\n",
        "\n",
        "在一些场合下，用 `match` 匹配枚举类型并不优雅。比如：\n",
        "\n"
      ]
    },
    {
      "cell_type": "code",
      "execution_count": null,
      "metadata": {
        "vscode": {
          "languageId": "rust"
        }
      },
      "outputs": [],
      "source": [
        "// 将 `optional` 定为 `Option<i32>` 类型\n",
        "let optional = Some(7);\n",
        "\n",
        "match optional {\n",
        "    Some(i) => {\n",
        "        println!(\"This is a really long string and `{:?}`\", i);\n",
        "        // ^ 行首需要 2 层缩进。这里从 optional 中解构出 `i`。\n",
        "        // 译注：正确的缩进是好的，但并不是 “不缩进就不能运行” 这个意思。\n",
        "    },\n",
        "    _ => {},\n",
        "    // ^ 必须有，因为 `match` 需要覆盖全部情况。不觉得这行很多余吗？\n",
        "};\n",
        "\n"
      ]
    },
    {
      "cell_type": "markdown",
      "metadata": {},
      "source": [
        "\n",
        "`if let` 在这样的场合要简洁得多，并且允许指明数种失败情形下的选项：\n",
        "\n"
      ]
    },
    {
      "cell_type": "code",
      "execution_count": null,
      "metadata": {
        "vscode": {
          "languageId": "rust"
        }
      },
      "outputs": [],
      "source": [
        "fn main() {\n",
        "    // 全部都是 `Option<i32>` 类型\n",
        "    let number = Some(7);\n",
        "    let letter: Option<i32> = None;\n",
        "    let emoticon: Option<i32> = None;\n",
        "\n",
        "    // `if let` 结构读作：若 `let` 将 `number` 解构成 `Some(i)`，则执行\n",
        "    // 语句块（`{}`）\n",
        "    if let Some(i) = number {\n",
        "        println!(\"Matched {:?}!\", i);\n",
        "    }\n",
        "\n",
        "    // 如果要指明失败情形，就使用 else：\n",
        "    if let Some(i) = letter {\n",
        "        println!(\"Matched {:?}!\", i);\n",
        "    } else {\n",
        "        // 解构失败。切换到失败情形。\n",
        "        println!(\"Didn't match a number. Let's go with a letter!\");\n",
        "    };\n",
        "\n",
        "    // 提供另一种失败情况下的条件。\n",
        "    let i_like_letters = false;\n",
        "\n",
        "    if let Some(i) = emoticon {\n",
        "        println!(\"Matched {:?}!\", i);\n",
        "    // 解构失败。使用 `else if` 来判断是否满足上面提供的条件。\n",
        "    } else if i_like_letters {\n",
        "        println!(\"Didn't match a number. Let's go with a letter!\");\n",
        "    } else {\n",
        "        // 条件的值为 false。于是以下是默认的分支：\n",
        "        println!(\"I don't like letters. Let's go with an emoticon :)!\");\n",
        "    };\n",
        "}\n",
        "main();\n"
      ]
    },
    {
      "cell_type": "markdown",
      "metadata": {},
      "source": [
        "\n",
        "同样，可以用 `if let` 匹配任何枚举值：\n",
        "\n"
      ]
    },
    {
      "cell_type": "code",
      "execution_count": null,
      "metadata": {
        "vscode": {
          "languageId": "rust"
        }
      },
      "outputs": [],
      "source": [
        "// 以这个 enum 类型为例\n",
        "enum Foo {\n",
        "    Bar,\n",
        "    Baz,\n",
        "    Qux(u32)\n",
        "}\n",
        "\n",
        "fn main() {\n",
        "    // 创建变量\n",
        "    let a = Foo::Bar;\n",
        "    let b = Foo::Baz;\n",
        "    let c = Foo::Qux(100);\n",
        "\n",
        "    // 变量 a 匹配到了 Foo::Bar\n",
        "    if let Foo::Bar = a {\n",
        "        println!(\"a is foobar\");\n",
        "    }\n",
        "\n",
        "    // 变量 b 没有匹配到 Foo::Bar，因此什么也不会打印。\n",
        "    if let Foo::Bar = b {\n",
        "        println!(\"b is foobar\");\n",
        "    }\n",
        "\n",
        "    // 变量 c 匹配到了 Foo::Qux，它带有一个值，就和上面例子中的 Some() 类似。\n",
        "    if let Foo::Qux(value) = c {\n",
        "        println!(\"c is {}\", value);\n",
        "    }\n",
        "}\n",
        "main();\n"
      ]
    },
    {
      "cell_type": "markdown",
      "metadata": {},
      "source": [
        "\n",
        "另一个好处是：`if let` 允许匹配枚举非参数化的变量，即枚举未注明 `#[derive(PartialEq)]`，我们也没有为其实现 `PartialEq`。在这种情况下，通常 `if Foo::Bar==a` 会出错，因为此类枚举的实例不具有可比性。但是，`if let` 是可行的。\n",
        "\n",
        "你想挑战一下吗？使用 `if let`修复以下示例：\n",
        "\n"
      ]
    },
    {
      "cell_type": "code",
      "execution_count": null,
      "metadata": {
        "vscode": {
          "languageId": "rust"
        }
      },
      "outputs": [],
      "source": [
        "// 该枚举故意未注明 `#[derive(PartialEq)]`，\n",
        "// 并且也没为其实现 `PartialEq`。这就是为什么下面比较 `Foo::Bar==a` 会失败的原因。\n",
        "enum Foo {Bar}\n",
        "\n",
        "fn main() {\n",
        "    let a = Foo::Bar;\n",
        "\n",
        "    // 变量匹配 Foo::Bar\n",
        "    if Foo::Bar == a {\n",
        "    // ^-- 这就是编译时发现的错误。使用 `if let` 来替换它。\n",
        "        println!(\"a is foobar\");\n",
        "    }\n",
        "}\n",
        "main();\n"
      ]
    },
    {
      "cell_type": "markdown",
      "metadata": {},
      "source": [
        "\n",
        "### 参见：\n",
        "\n",
        "[`枚举`][enum]，[`Option`][option]，和相关的 [RFC][if_let_rfc]\n",
        "\n",
        "[enum]: ../custom_types/enum.md\n",
        "[if_let_rfc]: https://github.com/rust-lang/rfcs/pull/160\n",
        "[option]: ../std/option.md\n",
        "\n"
      ]
    }
  ],
  "metadata": {
    "kernelspec": {
      "display_name": "Rust",
      "language": "rust",
      "name": "rust"
    },
    "language_info": {
      "codemirror_mode": "rust",
      "file_extension": ".rs",
      "mimetype": "text/rust",
      "name": "Rust",
      "pygment_lexer": "rust",
      "version": ""
    }
  },
  "nbformat": 4,
  "nbformat_minor": 5
}