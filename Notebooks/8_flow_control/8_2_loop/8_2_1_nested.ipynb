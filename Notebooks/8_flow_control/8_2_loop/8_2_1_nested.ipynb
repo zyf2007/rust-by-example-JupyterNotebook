{
  "cells": [
    {
      "cell_type": "markdown",
      "metadata": {},
      "source": [
        "# 嵌套循环和标签\n",
        "\n",
        "在处理嵌套循环的时候可以 `break` 或 `continue` 外层循环。在这类情形中，循环必须用一些 `'label`（标签）来注明，并且标签必须传递给 `break`/`continue` 语句。\n",
        "\n"
      ]
    },
    {
      "cell_type": "code",
      "execution_count": null,
      "metadata": {
        "vscode": {
          "languageId": "rust"
        }
      },
      "outputs": [],
      "source": [
        "#![allow(unreachable_code)]\n",
        "\n",
        "fn main() {\n",
        "    'outer: loop {\n",
        "        println!(\"Entered the outer loop\");\n",
        "\n",
        "        'inner: loop {\n",
        "            println!(\"Entered the inner loop\");\n",
        "\n",
        "            // 这只是中断内部的循环\n",
        "            //break;\n",
        "\n",
        "            // 这会中断外层循环\n",
        "            break 'outer;\n",
        "        }\n",
        "\n",
        "        println!(\"This point will never be reached\");\n",
        "    }\n",
        "\n",
        "    println!(\"Exited the outer loop\");\n",
        "}\n",
        "main();\n"
      ]
    },
    {
      "cell_type": "markdown",
      "metadata": {},
      "source": [
        "\n"
      ]
    }
  ],
  "metadata": {
    "kernelspec": {
      "display_name": "Rust",
      "language": "rust",
      "name": "rust"
    },
    "language_info": {
      "codemirror_mode": "rust",
      "file_extension": ".rs",
      "mimetype": "text/rust",
      "name": "Rust",
      "pygment_lexer": "rust",
      "version": ""
    }
  },
  "nbformat": 4,
  "nbformat_minor": 5
}