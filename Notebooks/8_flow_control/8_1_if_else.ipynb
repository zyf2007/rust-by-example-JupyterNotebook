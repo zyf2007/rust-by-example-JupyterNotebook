{
  "cells": [
    {
      "cell_type": "markdown",
      "metadata": {},
      "source": [
        "# `if/else`\n",
        "\n",
        "`if`-`else` 分支判断和其他语言类似。不同的是，Rust 语言中的布尔判断条件不必使用小括号包裹，且每个条件后面都跟着一个代码块。`if`-`else` 条件选择是一个表达式，并且所有分支都必须返回相同的类型。\n",
        "\n"
      ]
    },
    {
      "cell_type": "code",
      "execution_count": null,
      "metadata": {
        "vscode": {
          "languageId": "rust"
        }
      },
      "outputs": [],
      "source": [
        "fn main() {\n",
        "    let n = 5;\n",
        "\n",
        "    if n < 0 {\n",
        "        print!(\"{} is negative\", n);\n",
        "    } else if n > 0 {\n",
        "        print!(\"{} is positive\", n);\n",
        "    } else {\n",
        "        print!(\"{} is zero\", n);\n",
        "    }\n",
        "\n",
        "    let big_n =\n",
        "        if n < 10 && n > -10 {\n",
        "            println!(\", and is a small number, increase ten-fold\");\n",
        "\n",
        "            // 这个表达式返回一个 `i32` 类型。\n",
        "            10 * n\n",
        "        } else {\n",
        "            println!(\", and is a big number, half the number\");\n",
        "\n",
        "            // 这个表达式也必须返回一个 `i32` 类型。\n",
        "            n / 2\n",
        "            // 试一试 ^ 试着加上一个分号来结束这条表达式。\n",
        "        };\n",
        "    //   ^ 不要忘记在这里加上一个分号！所有的 `let` 绑定都需要它。\n",
        "\n",
        "    println!(\"{} -> {}\", n, big_n);\n",
        "}\n",
        "main();\n"
      ]
    },
    {
      "cell_type": "markdown",
      "metadata": {},
      "source": [
        "\n"
      ]
    }
  ],
  "metadata": {
    "kernelspec": {
      "display_name": "Rust",
      "language": "rust",
      "name": "rust"
    },
    "language_info": {
      "codemirror_mode": "rust",
      "file_extension": ".rs",
      "mimetype": "text/rust",
      "name": "Rust",
      "pygment_lexer": "rust",
      "version": ""
    }
  },
  "nbformat": 4,
  "nbformat_minor": 5
}