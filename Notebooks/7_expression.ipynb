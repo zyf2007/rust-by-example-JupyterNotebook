{
  "cells": [
    {
      "cell_type": "markdown",
      "metadata": {},
      "source": [
        "# 表达式\n",
        "\n",
        "Rust 程序（大部分）由一系列语句构成：\n",
        "\n"
      ]
    },
    {
      "cell_type": "code",
      "execution_count": null,
      "metadata": {
        "vscode": {
          "languageId": "rust"
        }
      },
      "outputs": [],
      "source": [
        "fn main() {\n",
        "    // 语句\n",
        "    // 语句\n",
        "    // 语句\n",
        "}\n",
        "main();\n"
      ]
    },
    {
      "cell_type": "markdown",
      "metadata": {},
      "source": [
        "\n",
        "Rust 有多种语句。最普遍的语句类型有两种：一种是声明绑定变量，另一种是表达式带上英文分号(;)：\n",
        "\n"
      ]
    },
    {
      "cell_type": "code",
      "execution_count": null,
      "metadata": {
        "vscode": {
          "languageId": "rust"
        }
      },
      "outputs": [],
      "source": [
        "fn main() {\n",
        "    // 变量绑定\n",
        "    let x = 5;\n",
        "\n",
        "    // 表达式;\n",
        "    x;\n",
        "    x + 1;\n",
        "    15;\n",
        "}\n",
        "main();\n"
      ]
    },
    {
      "cell_type": "markdown",
      "metadata": {},
      "source": [
        "\n",
        "代码块也是表达式，所以它们可以用作赋值中的值。代码块中的最后一个表达式将赋给适当的表达式，例如局部变量。但是，如果代码块的最后一个表达式结尾处有分号，则返回值为 `()`（译注：代码块中的最后一个语句是代码块中**实际执行**的最后一个语句，而不一定是代码块中最后一行的语句）。\n",
        "\n"
      ]
    },
    {
      "cell_type": "code",
      "execution_count": null,
      "metadata": {
        "vscode": {
          "languageId": "rust"
        }
      },
      "outputs": [],
      "source": [
        "fn main() {\n",
        "    let x = 5u32;\n",
        "\n",
        "    let y = {\n",
        "        let x_squared = x * x;\n",
        "        let x_cube = x_squared * x;\n",
        "\n",
        "        // 将此表达式赋给 `y`\n",
        "        x_cube + x_squared + x\n",
        "    };\n",
        "\n",
        "    let z = {\n",
        "        // 分号结束了这个表达式，于是将 `()` 赋给 `z`\n",
        "        2 * x;\n",
        "    };\n",
        "\n",
        "    println!(\"x is {:?}\", x);\n",
        "    println!(\"y is {:?}\", y);\n",
        "    println!(\"z is {:?}\", z);\n",
        "}\n",
        "main();\n"
      ]
    },
    {
      "cell_type": "markdown",
      "metadata": {},
      "source": [
        "\n"
      ]
    }
  ],
  "metadata": {
    "kernelspec": {
      "display_name": "Rust",
      "language": "rust",
      "name": "rust"
    },
    "language_info": {
      "codemirror_mode": "rust",
      "file_extension": ".rs",
      "mimetype": "text/rust",
      "name": "Rust",
      "pygment_lexer": "rust",
      "version": ""
    }
  },
  "nbformat": 4,
  "nbformat_minor": 5
}