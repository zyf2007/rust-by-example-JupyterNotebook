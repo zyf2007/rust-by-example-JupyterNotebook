{
  "cells": [
    {
      "cell_type": "markdown",
      "metadata": {},
      "source": [
        "# Hello World\n",
        "\n",
        "这是传统的 Hello World 程序的源码。\n",
        "\n"
      ]
    },
    {
      "cell_type": "code",
      "execution_count": null,
      "metadata": {
        "vscode": {
          "languageId": "rust"
        }
      },
      "outputs": [],
      "source": [
        "// 这是注释内容，将会被编译器忽略掉\n",
        "// 可以单击那边的按钮 \"Run\" 来测试这段代码 ->\n",
        "// 若想用键盘操作，可以使用快捷键 \"Ctrl + Enter\" 来运行\n",
        "\n",
        "// 这段代码支持编辑，你可以自由地修改代码！\n",
        "// 通过单击 \"Reset\" 按钮可以使代码恢复到初始状态 ->\n",
        "\n",
        "// 这是主函数\n",
        "fn main() {\n",
        "    // 调用编译生成的可执行文件时，这里的语句将被运行。\n",
        "\n",
        "    // 将文本打印到控制台\n",
        "    println!(\"Hello World!\");\n",
        "}\n",
        "main();\n"
      ]
    },
    {
      "cell_type": "markdown",
      "metadata": {},
      "source": [
        "\n",
        "`println!` 是一个[**宏**][macros]（macros），可以将文本输出到控制台（console）。\n",
        "\n",
        "使用 Rust 的编译器 `rustc` 可以从源程序生成可执行文件：\n",
        "\n"
      ]
    },
    {
      "cell_type": "code",
      "execution_count": null,
      "metadata": {
        "vscode": {
          "languageId": "bash"
        }
      },
      "outputs": [],
      "source": [
        "$ rustc hello.rs\n"
      ]
    },
    {
      "cell_type": "markdown",
      "metadata": {},
      "source": [
        "\n",
        "使用 `rustc` 编译后将得到可执行文件 `hello`。\n",
        "\n"
      ]
    },
    {
      "cell_type": "code",
      "execution_count": null,
      "metadata": {
        "vscode": {
          "languageId": "bash"
        }
      },
      "outputs": [],
      "source": [
        "$ ./hello\n",
        "Hello World!\n"
      ]
    },
    {
      "cell_type": "markdown",
      "metadata": {},
      "source": [
        "\n",
        "### 动手试一试\n",
        "\n",
        "单击上面的 \"Run\" 按钮并观察输出结果。然后增加一行代码，再一次使用宏 `println!`，得到下面结果：\n",
        "\n"
      ]
    },
    {
      "cell_type": "code",
      "execution_count": null,
      "metadata": {
        "vscode": {
          "languageId": "text"
        }
      },
      "outputs": [],
      "source": [
        "Hello World!\n",
        "I'm a Rustacean!\n"
      ]
    },
    {
      "cell_type": "markdown",
      "metadata": {},
      "source": [
        "\n",
        "[macros]: macros.md\n",
        "\n"
      ]
    }
  ],
  "metadata": {
    "kernelspec": {
      "display_name": "Rust",
      "language": "rust",
      "name": "rust"
    },
    "language_info": {
      "codemirror_mode": "rust",
      "file_extension": ".rs",
      "mimetype": "text/rust",
      "name": "Rust",
      "pygment_lexer": "rust",
      "version": ""
    }
  },
  "nbformat": 4,
  "nbformat_minor": 5
}