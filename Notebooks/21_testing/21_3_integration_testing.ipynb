{
  "cells": [
    {
      "cell_type": "markdown",
      "metadata": {},
      "source": [
        "# 集成测试\n",
        "\n",
        "[单元测试][unit]一次仅能单独测试一个模块，这种测试是小规模的，并且能测试私有代码；集成测试是 crate 外部的测试，并且仅使用 crate 的公共接口，就像其他使用该 crate 的程序那样。集成测试的目的是检验你的库的各部分是否能够正确地协同工作。\n",
        "\n",
        "cargo 在与 `src` 同级别的 `tests` 目录寻找集成测试。\n",
        "\n",
        "文件 `src/lib.rs`：\n",
        "\n"
      ]
    },
    {
      "cell_type": "code",
      "execution_count": null,
      "metadata": {
        "vscode": {
          "languageId": "rust"
        }
      },
      "outputs": [],
      "source": [
        "// 在一个叫做 'adder' 的 crate 中定义此函数。\n",
        "pub fn add(a: i32, b: i32) -> i32 {\n",
        "    a + b\n",
        "}\n"
      ]
    },
    {
      "cell_type": "markdown",
      "metadata": {},
      "source": [
        "\n",
        "包含测试的文件：`tests/integration_test.rs`：\n",
        "\n"
      ]
    },
    {
      "cell_type": "code",
      "execution_count": null,
      "metadata": {
        "vscode": {
          "languageId": "rust"
        }
      },
      "outputs": [],
      "source": [
        "\n",
        "#[test]\n",
        "fn test_add() {\n",
        "    assert_eq!(adder::add(3, 2), 5);\n",
        "}\n"
      ]
    },
    {
      "cell_type": "markdown",
      "metadata": {},
      "source": [
        "\n",
        "使用 `cargo test` 命令：\n",
        "\n"
      ]
    },
    {
      "cell_type": "code",
      "execution_count": null,
      "metadata": {
        "vscode": {
          "languageId": "bash"
        }
      },
      "outputs": [],
      "source": [
        "$ cargo test\n",
        "running 0 tests\n",
        "\n",
        "test result: ok. 0 passed; 0 failed; 0 ignored; 0 measured; 0 filtered out\n",
        "\n",
        "     Running target/debug/deps/integration_test-bcd60824f5fbfe19\n",
        "\n",
        "running 1 test\n",
        "test test_add ... ok\n",
        "\n",
        "test result: ok. 1 passed; 0 failed; 0 ignored; 0 measured; 0 filtered out\n",
        "\n",
        "   Doc-tests adder\n",
        "\n",
        "running 0 tests\n",
        "\n",
        "test result: ok. 0 passed; 0 failed; 0 ignored; 0 measured; 0 filtered out\n"
      ]
    },
    {
      "cell_type": "markdown",
      "metadata": {},
      "source": [
        "\n",
        "`tests` 目录中的每一个 Rust 源文件都被编译成一个单独的 crate。在集成测试中要想共享代码，一种方式是创建具有公用函数的模块，然后在测试中导入并使用它。\n",
        "\n",
        "文件 `tests/common.rs`:\n",
        "\n"
      ]
    },
    {
      "cell_type": "code",
      "execution_count": null,
      "metadata": {
        "vscode": {
          "languageId": "rust"
        }
      },
      "outputs": [],
      "source": [
        "pub fn setup() {\n",
        "    // 一些配置代码，比如创建文件/目录，开启服务器等等。\n",
        "}\n"
      ]
    },
    {
      "cell_type": "markdown",
      "metadata": {},
      "source": [
        "\n",
        "包含测试的文件：`tests/integration_test.rs`\n",
        "\n"
      ]
    },
    {
      "cell_type": "code",
      "execution_count": null,
      "metadata": {
        "vscode": {
          "languageId": "rust"
        }
      },
      "outputs": [],
      "source": [
        "// 导入共用模块。\n",
        "mod common;\n",
        "\n",
        "#[test]\n",
        "fn test_add() {\n",
        "    // 使用共用模块。\n",
        "    common::setup();\n",
        "    assert_eq!(adder::add(3, 2), 5);\n",
        "}\n"
      ]
    },
    {
      "cell_type": "markdown",
      "metadata": {},
      "source": [
        "\n",
        "带有共用代码的模块遵循和普通的[模块][mod]一样的规则，所以完全可以把公共模块写在 `tests/common/mod.rs` 文件中。\n",
        "\n",
        "[unit]: unit_testing.md\n",
        "[mod]: ../mod.md\n",
        "\n"
      ]
    }
  ],
  "metadata": {
    "kernelspec": {
      "display_name": "Rust",
      "language": "rust",
      "name": "rust"
    },
    "language_info": {
      "codemirror_mode": "rust",
      "file_extension": ".rs",
      "mimetype": "text/rust",
      "name": "Rust",
      "pygment_lexer": "rust",
      "version": ""
    }
  },
  "nbformat": 4,
  "nbformat_minor": 5
}