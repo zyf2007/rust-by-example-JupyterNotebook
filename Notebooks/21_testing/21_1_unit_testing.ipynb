{
  "cells": [
    {
      "cell_type": "markdown",
      "metadata": {},
      "source": [
        "# 单元测试\n",
        "\n",
        "测试（test）是这样一种 Rust 函数：它保证其他部分的代码按照所希望的行为正常运行。测试函数的函数体通常会进行一些配置，运行我们想要测试的代码，然后断言（assert）结果是不是我们所期望的。\n",
        "\n",
        "大多数单元测试都会被放到一个叫 `tests` 的、带有 `#[cfg(test)]` 属性的[模块][mod]中，测试函数要加上 `#[test]` 属性。\n",
        "\n",
        "当测试函数中有什么东西 [panic][panic] 了，测试就失败。有一些这方面的辅助[宏][macros]：\n",
        "\n",
        "* `assert!(expression)` - 如果表达式的值是 `false` 则 panic。\n",
        "* `assert_eq!(left, right)` 和 `assert_ne!(left, right)` - 检验左右两边是否\n",
        "  相等/不等。\n",
        "\n"
      ]
    },
    {
      "cell_type": "code",
      "execution_count": null,
      "metadata": {
        "vscode": {
          "languageId": "rust"
        }
      },
      "outputs": [],
      "source": [
        "pub fn add(a: i32, b: i32) -> i32 {\n",
        "    a + b\n",
        "}\n",
        "\n",
        "// 这个加法函数写得很差，本例中我们会使它失败。\n",
        "#[allow(dead_code)]\n",
        "fn bad_add(a: i32, b: i32) -> i32 {\n",
        "    a - b\n",
        "}\n",
        "\n",
        "#[cfg(test)]\n",
        "mod tests {\n",
        "    // 注意这个惯用法：在 tests 模块中，从外部作用域导入所有名字。\n",
        "    use super::*;\n",
        "\n",
        "    #[test]\n",
        "    fn test_add() {\n",
        "        assert_eq!(add(1, 2), 3);\n",
        "    }\n",
        "\n",
        "    #[test]\n",
        "    fn test_bad_add() {\n",
        "        // 这个断言会导致测试失败。注意私有的函数也可以被测试！\n",
        "        assert_eq!(bad_add(1, 2), 3);\n",
        "    }\n",
        "}\n"
      ]
    },
    {
      "cell_type": "markdown",
      "metadata": {},
      "source": [
        "\n",
        "可以使用 `cargo test` 来运行测试。\n",
        "\n"
      ]
    },
    {
      "cell_type": "code",
      "execution_count": null,
      "metadata": {
        "vscode": {
          "languageId": "bash"
        }
      },
      "outputs": [],
      "source": [
        "$ cargo test\n",
        "\n",
        "running 2 tests\n",
        "test tests::test_bad_add ... FAILED\n",
        "test tests::test_add ... ok\n",
        "\n",
        "failures:\n",
        "\n",
        "---- tests::test_bad_add stdout ----\n",
        "        thread 'tests::test_bad_add' panicked at 'assertion failed: `(left == right)`\n",
        "  left: `-1`,\n",
        " right: `3`', src/lib.rs:21:8\n",
        "note: Run with `RUST_BACKTRACE=1` for a backtrace.\n",
        "\n",
        "\n",
        "failures:\n",
        "    tests::test_bad_add\n",
        "\n",
        "test result: FAILED. 1 passed; 1 failed; 0 ignored; 0 measured; 0 filtered out\n"
      ]
    },
    {
      "cell_type": "markdown",
      "metadata": {},
      "source": [
        "\n",
        "## 测试 panic\n",
        "\n",
        "一些函数应当在特定条件下 panic。为测试这种行为，请使用 `#[should_panic]` 属性。这个属性接受可选参数 `expected = ` 以指定 panic 时的消息。如果你的函数能以多种方式\n",
        "panic，这个属性就保证了你在测试的确实是所指定的 panic。\n",
        "\n"
      ]
    },
    {
      "cell_type": "code",
      "execution_count": null,
      "metadata": {
        "vscode": {
          "languageId": "rust"
        }
      },
      "outputs": [],
      "source": [
        "pub fn divide_non_zero_result(a: u32, b: u32) -> u32 {\n",
        "    if b == 0 {\n",
        "        panic!(\"Divide-by-zero error\");\n",
        "    } else if a < b {\n",
        "        panic!(\"Divide result is zero\");\n",
        "    }\n",
        "    a / b\n",
        "}\n",
        "\n",
        "#[cfg(test)]\n",
        "mod tests {\n",
        "    use super::*;\n",
        "\n",
        "    #[test]\n",
        "    fn test_divide() {\n",
        "        assert_eq!(divide_non_zero_result(10, 2), 5);\n",
        "    }\n",
        "\n",
        "    #[test]\n",
        "    #[should_panic]\n",
        "    fn test_any_panic() {\n",
        "        divide_non_zero_result(1, 0);\n",
        "    }\n",
        "\n",
        "    #[test]\n",
        "    #[should_panic(expected = \"Divide result is zero\")]\n",
        "    fn test_specific_panic() {\n",
        "        divide_non_zero_result(1, 10);\n",
        "    }\n",
        "}\n"
      ]
    },
    {
      "cell_type": "markdown",
      "metadata": {},
      "source": [
        "\n",
        "运行这些测试会输出：\n",
        "\n"
      ]
    },
    {
      "cell_type": "code",
      "execution_count": null,
      "metadata": {
        "vscode": {
          "languageId": "bash"
        }
      },
      "outputs": [],
      "source": [
        "$ cargo test\n",
        "\n",
        "running 3 tests\n",
        "test tests::test_any_panic ... ok\n",
        "test tests::test_divide ... ok\n",
        "test tests::test_specific_panic ... ok\n",
        "\n",
        "test result: ok. 3 passed; 0 failed; 0 ignored; 0 measured; 0 filtered out\n",
        "\n",
        "   Doc-tests tmp-test-should-panic\n",
        "\n",
        "running 0 tests\n",
        "\n",
        "test result: ok. 0 passed; 0 failed; 0 ignored; 0 measured; 0 filtered out\n"
      ]
    },
    {
      "cell_type": "markdown",
      "metadata": {},
      "source": [
        "\n",
        "## 运行特定的测试\n",
        "\n",
        "要运行特定的测试，只要把测试名称传给 `cargo test` 命令就可以了。\n",
        "\n"
      ]
    },
    {
      "cell_type": "code",
      "execution_count": null,
      "metadata": {
        "vscode": {
          "languageId": "bash"
        }
      },
      "outputs": [],
      "source": [
        "$ cargo test test_any_panic\n",
        "running 1 test\n",
        "test tests::test_any_panic ... ok\n",
        "\n",
        "test result: ok. 1 passed; 0 failed; 0 ignored; 0 measured; 2 filtered out\n",
        "\n",
        "   Doc-tests tmp-test-should-panic\n",
        "\n",
        "running 0 tests\n",
        "\n",
        "test result: ok. 0 passed; 0 failed; 0 ignored; 0 measured; 0 filtered out\n"
      ]
    },
    {
      "cell_type": "markdown",
      "metadata": {},
      "source": [
        "\n",
        "要运行多个测试，可以仅指定测试名称中的一部分，用它来匹配所有要运行的测试。\n",
        "\n"
      ]
    },
    {
      "cell_type": "code",
      "execution_count": null,
      "metadata": {
        "vscode": {
          "languageId": "bash"
        }
      },
      "outputs": [],
      "source": [
        "$ cargo test panic\n",
        "running 2 tests\n",
        "test tests::test_any_panic ... ok\n",
        "test tests::test_specific_panic ... ok\n",
        "\n",
        "test result: ok. 2 passed; 0 failed; 0 ignored; 0 measured; 1 filtered out\n",
        "\n",
        "   Doc-tests tmp-test-should-panic\n",
        "\n",
        "running 0 tests\n",
        "\n",
        "test result: ok. 0 passed; 0 failed; 0 ignored; 0 measured; 0 filtered out\n"
      ]
    },
    {
      "cell_type": "markdown",
      "metadata": {},
      "source": [
        "\n",
        "## 忽略测试\n",
        "\n",
        "可以把属性 `#[ignore]` 赋予测试以排除某些测试，或者使用 `cargo test -- --ignored`\n",
        "命令来运行它们。\n",
        "\n"
      ]
    },
    {
      "cell_type": "code",
      "execution_count": null,
      "metadata": {
        "vscode": {
          "languageId": "rust"
        }
      },
      "outputs": [],
      "source": [
        "pub fn add(a: i32, b: i32) -> i32 {\n",
        "    a + b\n",
        "}\n",
        "\n",
        "#[cfg(test)]\n",
        "mod tests {\n",
        "    use super::*;\n",
        "\n",
        "    #[test]\n",
        "    fn test_add() {\n",
        "        assert_eq!(add(2, 2), 4);\n",
        "    }\n",
        "\n",
        "    #[test]\n",
        "    fn test_add_hundred() {\n",
        "        assert_eq!(add(100, 2), 102);\n",
        "        assert_eq!(add(2, 100), 102);\n",
        "    }\n",
        "\n",
        "    #[test]\n",
        "    #[ignore]\n",
        "    fn ignored_test() {\n",
        "        assert_eq!(add(0, 0), 0);\n",
        "    }\n",
        "}\n"
      ]
    },
    {
      "cell_type": "markdown",
      "metadata": {},
      "source": [
        "\n"
      ]
    },
    {
      "cell_type": "code",
      "execution_count": null,
      "metadata": {
        "vscode": {
          "languageId": "bash"
        }
      },
      "outputs": [],
      "source": [
        "$ cargo test\n",
        "running 1 test\n",
        "test tests::ignored_test ... ignored\n",
        "\n",
        "test result: ok. 0 passed; 0 failed; 1 ignored; 0 measured; 0 filtered out\n",
        "\n",
        "   Doc-tests tmp-ignore\n",
        "\n",
        "running 0 tests\n",
        "\n",
        "test result: ok. 0 passed; 0 failed; 0 ignored; 0 measured; 0 filtered out\n",
        "\n",
        "$ cargo test -- --ignored\n",
        "running 1 test\n",
        "test tests::ignored_test ... ok\n",
        "\n",
        "test result: ok. 1 passed; 0 failed; 0 ignored; 0 measured; 0 filtered out\n",
        "\n",
        "   Doc-tests tmp-ignore\n",
        "\n",
        "running 0 tests\n",
        "\n",
        "test result: ok. 0 passed; 0 failed; 0 ignored; 0 measured; 0 filtered out\n"
      ]
    },
    {
      "cell_type": "markdown",
      "metadata": {},
      "source": [
        "\n",
        "[attribute]: ../attribute.md\n",
        "[panic]: ../std/panic.md\n",
        "[macros]: ../macros.md\n",
        "[mod]: ../mod.md\n",
        "\n"
      ]
    }
  ],
  "metadata": {
    "kernelspec": {
      "display_name": "Rust",
      "language": "rust",
      "name": "rust"
    },
    "language_info": {
      "codemirror_mode": "rust",
      "file_extension": ".rs",
      "mimetype": "text/rust",
      "name": "Rust",
      "pygment_lexer": "rust",
      "version": ""
    }
  },
  "nbformat": 4,
  "nbformat_minor": 5
}