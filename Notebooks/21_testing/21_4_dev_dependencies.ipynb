{
  "cells": [
    {
      "cell_type": "markdown",
      "metadata": {},
      "source": [
        "# 开发依赖\n",
        "\n",
        "有时仅在测试中才需要一些依赖（比如基准测试相关的）。这种依赖要写在 `Cargo.toml`\n",
        "的 `[dev-dependencies]` 部分。这些依赖不会传播给其他依赖于这个包的包。\n",
        "\n",
        "比如说使用 `pretty_assertions`，这是扩展了标准的 `assert!` 宏的一个 crate。\n",
        "\n",
        "文件 `Cargo.toml`:\n",
        "\n"
      ]
    },
    {
      "cell_type": "code",
      "execution_count": null,
      "metadata": {
        "vscode": {
          "languageId": "ignore"
        }
      },
      "outputs": [],
      "source": [
        "# 这里省略了标准的 crate 数据\n",
        "[dev-dependencies]\n",
        "pretty_assertions = \"1\"\n"
      ]
    },
    {
      "cell_type": "markdown",
      "metadata": {},
      "source": [
        "\n",
        "文件 `src/lib.rs`:\n",
        "\n"
      ]
    },
    {
      "cell_type": "code",
      "execution_count": null,
      "metadata": {
        "vscode": {
          "languageId": "rust"
        }
      },
      "outputs": [],
      "source": [
        "pub fn add(a: i32, b: i32) -> i32 {\n",
        "    a + b\n",
        "}\n",
        "\n",
        "#[cfg(test)]\n",
        "mod tests {\n",
        "    use super::*;\n",
        "    use pretty_assertions::assert_eq; // 仅用于测试, 不能在非测试代码中使用\n",
        "\n",
        "    #[test]\n",
        "    fn test_add() {\n",
        "        assert_eq!(add(2, 3), 5);\n",
        "    }\n",
        "}\n"
      ]
    },
    {
      "cell_type": "markdown",
      "metadata": {},
      "source": [
        "\n",
        "## 参见\n",
        "[Cargo][cargo] 文档中关于指定依赖的部分。\n",
        "\n",
        "[cargo]: https://doc.crates.io/specifying-dependencies.html\n",
        "\n"
      ]
    }
  ],
  "metadata": {
    "kernelspec": {
      "display_name": "Rust",
      "language": "rust",
      "name": "rust"
    },
    "language_info": {
      "codemirror_mode": "rust",
      "file_extension": ".rs",
      "mimetype": "text/rust",
      "name": "Rust",
      "pygment_lexer": "rust",
      "version": ""
    }
  },
  "nbformat": 4,
  "nbformat_minor": 5
}