{
  "cells": [
    {
      "cell_type": "markdown",
      "metadata": {},
      "source": [
        "# 存在问题\n",
        "\n",
        "`trait` 如果对实现了它的容器类型是泛型的，则须遵守类型规范要求——`trait` 的使用者**必须**指出 `trait` 的全部泛型类型。\n",
        "\n",
        "在下面例子中，`Contains` `trait` 允许使用泛型类型 `A` 和 `B`。然后我们为\n",
        " `Container` 类型实现了这个 trait，将 `A` 和 `B` 指定为 `i32`，这样就可以对它们使用 `difference()` 函数。\n",
        "\n",
        "因为 `Contains` 是泛型的，我们必须在 `fn difference()` 中显式地指出**所有的**泛型类型。但实际上，我们想要表达，`A` 和 `B` 究竟是什么类型是由输入 `C` 决定的。在下一节会看到，关联类型恰好提供了这样的功能。\n",
        "\n"
      ]
    },
    {
      "cell_type": "code",
      "execution_count": null,
      "metadata": {
        "vscode": {
          "languageId": "rust"
        }
      },
      "outputs": [],
      "source": [
        "struct Container(i32, i32);\n",
        "\n",
        "// 这个 trait 检查给定的 2 个项是否储存于容器中\n",
        "// 并且能够获得容器的第一个或最后一个值。\n",
        "trait Contains<A, B> {\n",
        "    fn contains(&self, _: &A, _: &B) -> bool; // 显式地要求 `A` 和 `B`\n",
        "    fn first(&self) -> i32; // 未显式地要求 `A` 或 `B`\n",
        "    fn last(&self) -> i32;  // 未显式地要求 `A` 或 `B`\n",
        "}\n",
        "\n",
        "impl Contains<i32, i32> for Container {\n",
        "    // 如果存储的数字和给定的相等则为真。\n",
        "    fn contains(&self, number_1: &i32, number_2: &i32) -> bool {\n",
        "        (&self.0 == number_1) && (&self.1 == number_2)\n",
        "    }\n",
        "\n",
        "    // 得到第一个数字。\n",
        "    fn first(&self) -> i32 { self.0 }\n",
        "\n",
        "    // 得到最后一个数字。\n",
        "    fn last(&self) -> i32 { self.1 }\n",
        "}\n",
        "\n",
        "// 容器 `C` 就包含了 `A` 和 `B` 类型。鉴于此，必须指出 `A` 和 `B` 显得很麻烦。\n",
        "fn difference<A, B, C>(container: &C) -> i32 where\n",
        "    C: Contains<A, B> {\n",
        "    container.last() - container.first()\n",
        "}\n",
        "\n",
        "fn main() {\n",
        "    let number_1 = 3;\n",
        "    let number_2 = 10;\n",
        "\n",
        "    let container = Container(number_1, number_2);\n",
        "\n",
        "    println!(\"Does container contain {} and {}: {}\",\n",
        "        &number_1, &number_2,\n",
        "        container.contains(&number_1, &number_2));\n",
        "    println!(\"First number: {}\", container.first());\n",
        "    println!(\"Last number: {}\", container.last());\n",
        "\n",
        "    println!(\"The difference is: {}\", difference(&container));\n",
        "}\n",
        "main();\n"
      ]
    },
    {
      "cell_type": "markdown",
      "metadata": {},
      "source": [
        "\n",
        "### 参见：\n",
        "\n",
        "[`struct`][structs], 和 [`trait`][traits]\n",
        "\n",
        "[structs]: ../../custom_types/structs.md\n",
        "[traits]: ../../trait.md\n",
        "\n"
      ]
    }
  ],
  "metadata": {
    "kernelspec": {
      "display_name": "Rust",
      "language": "rust",
      "name": "rust"
    },
    "language_info": {
      "codemirror_mode": "rust",
      "file_extension": ".rs",
      "mimetype": "text/rust",
      "name": "Rust",
      "pygment_lexer": "rust",
      "version": ""
    }
  },
  "nbformat": 4,
  "nbformat_minor": 5
}