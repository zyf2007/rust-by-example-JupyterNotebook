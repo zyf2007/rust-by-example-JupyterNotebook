{
  "cells": [
    {
      "cell_type": "markdown",
      "metadata": {},
      "source": [
        "# 关联类型\n",
        "\n",
        "通过把容器内部的类型放到 `trait` 中作为**输出类型**，使用 “关联类型” 增加了代码的可读性。这样的 `trait` 的定义语法如下：\n",
        "\n"
      ]
    },
    {
      "cell_type": "code",
      "execution_count": null,
      "metadata": {
        "vscode": {
          "languageId": "rust"
        }
      },
      "outputs": [],
      "source": [
        "// `A` 和 `B` 在 trait 里面通过 `type` 关键字来定义。\n",
        "// （注意：此处的 `type` 不同于为类型取别名时的 `type`）。\n",
        "trait Contains {\n",
        "    type A;\n",
        "    type B;\n",
        "\n",
        "\t// 这种语法能够泛型地表示这些新类型。\n",
        "    fn contains(&self, _: &Self::A, _: &Self::B) -> bool;\n",
        "}\n"
      ]
    },
    {
      "cell_type": "markdown",
      "metadata": {},
      "source": [
        "\n",
        "注意使用了 `Contains` `trait` 的函数就不需要写出 `A` 或 `B` 了：\n",
        "\n"
      ]
    },
    {
      "cell_type": "code",
      "execution_count": null,
      "metadata": {
        "vscode": {
          "languageId": "rust"
        }
      },
      "outputs": [],
      "source": [
        "// 不使用关联类型\n",
        "fn difference<A, B, C>(container: &C) -> i32 where\n",
        "    C: Contains<A, B> { ... }\n",
        "\n",
        "// 使用关联类型\n",
        "fn difference<C: Contains>(container: &C) -> i32 { ... }\n"
      ]
    },
    {
      "cell_type": "markdown",
      "metadata": {},
      "source": [
        "\n",
        "让我们使用关联类型来重写上一小节的例子：\n",
        "\n"
      ]
    },
    {
      "cell_type": "code",
      "execution_count": null,
      "metadata": {
        "vscode": {
          "languageId": "rust"
        }
      },
      "outputs": [],
      "source": [
        "struct Container(i32, i32);\n",
        "\n",
        "// 这个 trait 检查给定的 2 个项是否储存于容器中\n",
        "// 并且能够获得容器的第一个或最后一个值。\n",
        "trait Contains {\n",
        "    // 在这里定义可以被方法使用的泛型类型。\n",
        "    type A;\n",
        "    type B;\n",
        "\n",
        "    fn contains(&self, _: &Self::A, _: &Self::B) -> bool;\n",
        "    fn first(&self) -> i32;\n",
        "    fn last(&self) -> i32;\n",
        "}\n",
        "\n",
        "impl Contains for Container {\n",
        "    // 指出 `A` 和 `B` 是什么类型。如果 `input`（输入）类型\n",
        "    // 为 `Container(i32, i32)`，那么 `output`（输出）类型\n",
        "    // 会被确定为 `i32` 和 `i32`。\n",
        "    type A = i32;\n",
        "    type B = i32;\n",
        "\n",
        "    // `&Self::A` 和 `&Self::B` 在这里也是合法的类型。\n",
        "    fn contains(&self, number_1: &i32, number_2: &i32) -> bool {\n",
        "        (&self.0 == number_1) && (&self.1 == number_2)\n",
        "    }\n",
        "\n",
        "    // 得到第一个数字。\n",
        "    fn first(&self) -> i32 { self.0 }\n",
        "\n",
        "    // 得到最后一个数字。\n",
        "    fn last(&self) -> i32 { self.1 }\n",
        "}\n",
        "\n",
        "fn difference<C: Contains>(container: &C) -> i32 {\n",
        "    container.last() - container.first()\n",
        "}\n",
        "\n",
        "fn main() {\n",
        "    let number_1 = 3;\n",
        "    let number_2 = 10;\n",
        "\n",
        "    let container = Container(number_1, number_2);\n",
        "\n",
        "    println!(\"Does container contain {} and {}: {}\",\n",
        "        &number_1, &number_2,\n",
        "        container.contains(&number_1, &number_2));\n",
        "    println!(\"First number: {}\", container.first());\n",
        "    println!(\"Last number: {}\", container.last());\n",
        "    \n",
        "    println!(\"The difference is: {}\", difference(&container));\n",
        "}\n",
        "main();\n"
      ]
    },
    {
      "cell_type": "markdown",
      "metadata": {},
      "source": [
        "\n"
      ]
    }
  ],
  "metadata": {
    "kernelspec": {
      "display_name": "Rust",
      "language": "rust",
      "name": "rust"
    },
    "language_info": {
      "codemirror_mode": "rust",
      "file_extension": ".rs",
      "mimetype": "text/rust",
      "name": "Rust",
      "pygment_lexer": "rust",
      "version": ""
    }
  },
  "nbformat": 4,
  "nbformat_minor": 5
}