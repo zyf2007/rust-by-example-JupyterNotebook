{
  "cells": [
    {
      "cell_type": "markdown",
      "metadata": {},
      "source": [
        "# 自定义类型\n",
        "\n",
        "Rust 自定义数据类型主要是通过下面这两个关键字来创建：\n",
        "\n",
        "* `struct`： 定义一个结构体（structure）\n",
        "* `enum`： 定义一个枚举类型（enumeration）\n",
        "\n",
        "而常量（constant）可以通过 `const` 和 `static` 关键字来创建。\n",
        "\n"
      ]
    }
  ],
  "metadata": {
    "kernelspec": {
      "display_name": "Rust",
      "language": "rust",
      "name": "rust"
    },
    "language_info": {
      "codemirror_mode": "rust",
      "file_extension": ".rs",
      "mimetype": "text/rust",
      "name": "Rust",
      "pygment_lexer": "rust",
      "version": ""
    }
  },
  "nbformat": 4,
  "nbformat_minor": 5
}