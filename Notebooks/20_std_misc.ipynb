{
  "cells": [
    {
      "cell_type": "markdown",
      "metadata": {},
      "source": [
        "# 标准库更多介绍\n",
        "\n",
        "标准库也提供了很多其他类型来支持某些功能，例如：\n",
        "\n",
        "* 线程（Threads）\n",
        "* 信道（Channels）\n",
        "* 文件输入输出（File I/O）\n",
        "\n",
        "这些内容在[原生类型][primitives]之外进行了有效扩充。\n",
        "\n",
        "### 参见：\n",
        "\n",
        "[原生类型][primitives] 和 [标准库类型][std]\n",
        "\n",
        "[primitives]: primitives.md\n",
        "[std]: https://rustwiki.org/zh-CN/std/\n",
        "\n"
      ]
    }
  ],
  "metadata": {
    "kernelspec": {
      "display_name": "Rust",
      "language": "rust",
      "name": "rust"
    },
    "language_info": {
      "codemirror_mode": "rust",
      "file_extension": ".rs",
      "mimetype": "text/rust",
      "name": "Rust",
      "pygment_lexer": "rust",
      "version": ""
    }
  },
  "nbformat": 4,
  "nbformat_minor": 5
}