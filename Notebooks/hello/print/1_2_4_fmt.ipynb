{
  "cells": [
    {
      "cell_type": "markdown",
      "metadata": {},
      "source": [
        "# 格式化\n",
        "\n",
        "我们已经看到，格式化的方式是通过**格式字符串**来指定的：\n",
        "\n",
        "* `format!(\"{}\", foo)` -> `\"3735928559\"`\n",
        "* `format!(\"0x{:X}\", foo)` ->\n",
        "  [`\"0xDEADBEEF\"`][deadbeef]\n",
        "* `format!(\"0o{:o}\", foo)` -> `\"0o33653337357\"`\n",
        "\n",
        "根据使用的**参数类型**是 `X`、`o` 还是**未指定**，同样的变量（`foo`）能够格式化成不同的形式。\n",
        "\n",
        "这个格式化的功能是通过 trait 实现的，每种参数类型都对应一种 trait。最常见的格式化 trait 就是 `Display`，它可以处理参数类型为未指定的情况，比如 `{}`。\n",
        "\n"
      ]
    },
    {
      "cell_type": "code",
      "execution_count": null,
      "metadata": {
        "vscode": {
          "languageId": "rust"
        }
      },
      "outputs": [],
      "source": [
        "use std::fmt::{self, Formatter, Display};\n",
        "\n",
        "struct City {\n",
        "    name: &'static str,\n",
        "    // 纬度\n",
        "    lat: f32,\n",
        "    // 经度\n",
        "    lon: f32,\n",
        "}\n",
        "\n",
        "impl Display for City {\n",
        "    // `f` 是一个缓冲区（buffer），此方法必须将格式化后的字符串写入其中\n",
        "    fn fmt(&self, f: &mut Formatter) -> fmt::Result {\n",
        "        let lat_c = if self.lat >= 0.0 { 'N' } else { 'S' };\n",
        "        let lon_c = if self.lon >= 0.0 { 'E' } else { 'W' };\n",
        "\n",
        "        // `write!` 和 `format!` 类似，但它会将格式化后的字符串写入\n",
        "        // 一个缓冲区（即第一个参数f）中。\n",
        "        write!(f, \"{}: {:.3}°{} {:.3}°{}\",\n",
        "               self.name, self.lat.abs(), lat_c, self.lon.abs(), lon_c)\n",
        "    }\n",
        "}\n",
        "\n",
        "#[derive(Debug)]\n",
        "struct Color {\n",
        "    red: u8,\n",
        "    green: u8,\n",
        "    blue: u8,\n",
        "}\n",
        "\n",
        "fn main() {\n",
        "    for city in [\n",
        "        City { name: \"Dublin\", lat: 53.347778, lon: -6.259722 },\n",
        "        City { name: \"Oslo\", lat: 59.95, lon: 10.75 },\n",
        "        City { name: \"Vancouver\", lat: 49.25, lon: -123.1 },\n",
        "    ].iter() {\n",
        "        println!(\"{}\", *city);\n",
        "    }\n",
        "    for color in [\n",
        "        Color { red: 128, green: 255, blue: 90 },\n",
        "        Color { red: 0, green: 3, blue: 254 },\n",
        "        Color { red: 0, green: 0, blue: 0 },\n",
        "    ].iter() {\n",
        "        // 在添加了针对 fmt::Display 的实现后，请改用 {} 检验效果。\n",
        "        println!(\"{:?}\", *color)\n",
        "    }\n",
        "}\n",
        "main();\n"
      ]
    },
    {
      "cell_type": "markdown",
      "metadata": {},
      "source": [
        "\n",
        "在 [`fmt::fmt`][fmt] 文档中可以查看[格式化 traits 一览表][fmt_traits]和它们的参数类型。\n",
        "\n",
        "### 动手试一试\n",
        "\n",
        "为上面的 `Color` 结构体实现 `fmt::Display`，应得到如下的输出结果：\n",
        "\n"
      ]
    },
    {
      "cell_type": "code",
      "execution_count": null,
      "metadata": {
        "vscode": {
          "languageId": "text"
        }
      },
      "outputs": [],
      "source": [
        "RGB (128, 255, 90) 0x80FF5A\n",
        "RGB (0, 3, 254) 0x0003FE\n",
        "RGB (0, 0, 0) 0x000000\n"
      ]
    },
    {
      "cell_type": "markdown",
      "metadata": {},
      "source": [
        "\n",
        "如果感到疑惑，可看下面两条提示：\n",
        "\n",
        " * 你[可能需要多次列出每个颜色][argument_types]，\n",
        " * 你可以使用 `:02` [补零使位数为 2 位][fmt_width]。\n",
        "\n",
        "### 参见：\n",
        "\n",
        "[`std::fmt`][fmt]\n",
        "\n",
        "[argument_types]: https://rustwiki.org/zh-CN/std/fmt/#argument-types\n",
        "[deadbeef]: https://en.wikipedia.org/wiki/Deadbeef#Magic_debug_values\n",
        "[fmt]: https://rustwiki.org/zh-CN/std/fmt/\n",
        "[fmt_traits]: https://rustwiki.org/zh-CN/std/fmt/#formatting-traits\n",
        "[fmt_width]: https://rustwiki.org/zh-CN/std/fmt/#width\n",
        "\n"
      ]
    }
  ],
  "metadata": {
    "kernelspec": {
      "display_name": "Rust",
      "language": "rust",
      "name": "rust"
    },
    "language_info": {
      "codemirror_mode": "rust",
      "file_extension": ".rs",
      "mimetype": "text/rust",
      "name": "Rust",
      "pygment_lexer": "rust",
      "version": ""
    }
  },
  "nbformat": 4,
  "nbformat_minor": 5
}