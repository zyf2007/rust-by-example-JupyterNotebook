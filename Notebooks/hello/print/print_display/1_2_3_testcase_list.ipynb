{
  "cells": [
    {
      "cell_type": "markdown",
      "metadata": {},
      "source": [
        "# 测试实例：List\n",
        "\n",
        "对一个结构体实现 `fmt::Display`，其中的元素需要一个接一个地处理到，这可能会很麻烦。问题在于每个 `write!` 都要生成一个 `fmt::Result`。正确的实现需要处理**所有**的 Result。Rust 专门为解决这个问题提供了 `?` 操作符。\n",
        "\n",
        "在 `write!` 上使用 `?` 会像是这样：\n",
        "\n"
      ]
    },
    {
      "cell_type": "code",
      "execution_count": null,
      "metadata": {
        "vscode": {
          "languageId": "rust"
        }
      },
      "outputs": [],
      "source": [
        "// 对 `write!` 进行尝试（try），观察是否出错。若发生错误，返回相应的错误。\n",
        "// 否则（没有出错）继续执行后面的语句。\n",
        "write!(f, \"{}\", value)?;\n"
      ]
    },
    {
      "cell_type": "markdown",
      "metadata": {},
      "source": [
        "\n",
        "另外，你也可以使用 `try!` 宏，它和 `?` 是一样的。这种写法比较罗嗦，故不再推荐，\n",
        "但在老一些的 Rust 代码中仍会看到。使用 `try!` 看起来像这样：\n",
        "\n"
      ]
    },
    {
      "cell_type": "code",
      "execution_count": null,
      "metadata": {
        "vscode": {
          "languageId": "rust"
        }
      },
      "outputs": [],
      "source": [
        "try!(write!(f, \"{}\", value));\n"
      ]
    },
    {
      "cell_type": "markdown",
      "metadata": {},
      "source": [
        "\n",
        "有了 `?`，对一个 `Vec` 实现 `fmt::Display` 就很简单了：\n",
        "\n"
      ]
    },
    {
      "cell_type": "code",
      "execution_count": null,
      "metadata": {
        "vscode": {
          "languageId": "rust"
        }
      },
      "outputs": [],
      "source": [
        "use std::fmt; // 导入 `fmt` 模块。\n",
        "\n",
        "// 定义一个包含单个 `Vec` 的结构体 `List`。\n",
        "struct List(Vec<i32>);\n",
        "\n",
        "impl fmt::Display for List {\n",
        "    fn fmt(&self, f: &mut fmt::Formatter) -> fmt::Result {\n",
        "        // 使用元组的下标获取值，并创建一个 `vec` 的引用。\n",
        "        let vec = &self.0;\n",
        "\n",
        "        write!(f, \"[\")?;\n",
        "\n",
        "        // 使用 `v` 对 `vec` 进行迭代，并用 `count` 记录迭代次数。\n",
        "        for (count, v) in vec.iter().enumerate() {\n",
        "            // 对每个元素（第一个元素除外）加上逗号。\n",
        "            // 使用 `?` 或 `try!` 来返回错误。\n",
        "            if count != 0 { write!(f, \", \")?; }\n",
        "            write!(f, \"{}\", v)?;\n",
        "        }\n",
        "\n",
        "        // 加上配对中括号，并返回一个 fmt::Result 值。\n",
        "        write!(f, \"]\")\n",
        "    }\n",
        "}\n",
        "\n",
        "fn main() {\n",
        "    let v = List(vec![1, 2, 3]);\n",
        "    println!(\"{}\", v);\n",
        "}\n",
        "main();\n"
      ]
    },
    {
      "cell_type": "markdown",
      "metadata": {},
      "source": [
        "\n",
        "### 动手试一试：\n",
        "更改程序使 vector 里面每个元素的下标也能够打印出来。新的结果如下：\n",
        "\n"
      ]
    },
    {
      "cell_type": "code",
      "execution_count": null,
      "metadata": {
        "vscode": {
          "languageId": "rust"
        }
      },
      "outputs": [],
      "source": [
        "[0: 1, 1: 2, 2: 3]\n"
      ]
    },
    {
      "cell_type": "markdown",
      "metadata": {},
      "source": [
        "\n",
        "### 参见：\n",
        "\n",
        "[`for`][for], [`ref`][ref], [`Result`][result], [`struct`][struct],\n",
        "[`?`][q_mark], 和 [`vec!`][vec]\n",
        "\n",
        "[for]: ../../../flow_control/for.md\n",
        "[result]: ../../../std/result.md\n",
        "[ref]: ../../../scope/borrow/ref.md\n",
        "[struct]: ../../../custom_types/structs.md\n",
        "[q_mark]: ../../../std/result/question_mark.md\n",
        "[vec]: ../../../std/vec.md\n",
        "\n"
      ]
    }
  ],
  "metadata": {
    "kernelspec": {
      "display_name": "Rust",
      "language": "rust",
      "name": "rust"
    },
    "language_info": {
      "codemirror_mode": "rust",
      "file_extension": ".rs",
      "mimetype": "text/rust",
      "name": "Rust",
      "pygment_lexer": "rust",
      "version": ""
    }
  },
  "nbformat": 4,
  "nbformat_minor": 5
}