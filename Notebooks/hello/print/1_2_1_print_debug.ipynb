{
  "cells": [
    {
      "cell_type": "markdown",
      "metadata": {},
      "source": [
        "# 调试（Debug）\n",
        "\n",
        "所有的类型，若想用 `std::fmt` 的格式化打印，都要求实现至少一个可打印的 `traits`。仅有一些类型提供了自动实现，比如 `std` 库中的类型。所有其他类型都**必须**手动实现。\n",
        "\n",
        "`fmt::Debug` 这个 `trait` 使这项工作变得相当简单。所有类型都能派生（`derive`，即自动创建）`fmt::Debug` 的实现。但是 `fmt::Display` 需要手动实现。\n",
        "\n"
      ]
    },
    {
      "cell_type": "code",
      "execution_count": null,
      "metadata": {
        "vscode": {
          "languageId": "rust"
        }
      },
      "outputs": [],
      "source": [
        "// 这个结构体不能使用 `fmt::Display` 或 `fmt::Debug` 来进行打印。\n",
        "struct UnPrintable(i32);\n",
        "\n",
        "// `derive` 属性会自动创建所需的实现，使这个 `struct` 能使用 `fmt::Debug` 打印。\n",
        "#[derive(Debug)]\n",
        "struct DebugPrintable(i32);\n"
      ]
    },
    {
      "cell_type": "markdown",
      "metadata": {},
      "source": [
        "\n",
        "所有 `std` 库类型都天生可以使用 `{:?}` 来打印：\n",
        "\n"
      ]
    },
    {
      "cell_type": "code",
      "execution_count": null,
      "metadata": {
        "vscode": {
          "languageId": "rust"
        }
      },
      "outputs": [],
      "source": [
        "// 推导 `Structure` 的 `fmt::Debug` 实现。\n",
        "// `Structure` 是一个包含单个 `i32` 的结构体。\n",
        "#[derive(Debug)]\n",
        "struct Structure(i32);\n",
        "\n",
        "// 将 `Structure` 放到结构体 `Deep` 中。然后使 `Deep` 也能够打印。\n",
        "#[derive(Debug)]\n",
        "struct Deep(Structure);\n",
        "\n",
        "fn main() {\n",
        "    // 使用 `{:?}` 打印和使用 `{}` 类似。\n",
        "    println!(\"{:?} months in a year.\", 12);\n",
        "    println!(\"{1:?} {0:?} is the {actor:?} name.\",\n",
        "             \"Slater\",\n",
        "             \"Christian\",\n",
        "             actor=\"actor's\");\n",
        "\n",
        "    // `Structure` 也可以打印！\n",
        "    println!(\"Now {:?} will print!\", Structure(3));\n",
        "    \n",
        "    // 使用 `derive` 的一个问题是不能控制输出的形式。\n",
        "    // 假如我只想展示一个 `7` 怎么办？\n",
        "    println!(\"Now {:?} will print!\", Deep(Structure(7)));\n",
        "}\n",
        "main();\n"
      ]
    },
    {
      "cell_type": "markdown",
      "metadata": {},
      "source": [
        "\n",
        "所以 `fmt::Debug` 确实使这些内容可以打印，但是牺牲了一些美感。Rust 也通过 `{:#?}` 提供了 “美化打印” 的功能：\n",
        "\n"
      ]
    },
    {
      "cell_type": "code",
      "execution_count": null,
      "metadata": {
        "vscode": {
          "languageId": "rust"
        }
      },
      "outputs": [],
      "source": [
        "#[derive(Debug)]\n",
        "struct Person<'a> {\n",
        "    name: &'a str,\n",
        "    age: u8\n",
        "}\n",
        "\n",
        "fn main() {\n",
        "    let name = \"Peter\";\n",
        "    let age = 27;\n",
        "    let peter = Person { name, age };\n",
        "\n",
        "    // 美化打印\n",
        "    println!(\"{:#?}\", peter);\n",
        "}\n",
        "main();\n"
      ]
    },
    {
      "cell_type": "markdown",
      "metadata": {},
      "source": [
        "\n",
        "你可以通过手动实现 `fmt::Display` 来控制显示效果。\n",
        "\n",
        "### 参见：\n",
        "\n",
        "[attributes][attributes], [`derive`][derive], [`std::fmt`][fmt] 和 [`struct`][structs]\n",
        "\n",
        "[attributes]: https://rustwiki.org/zh-CN/reference/attributes.html\n",
        "[derive]: ../../trait/derive.md\n",
        "[fmt]: https://rustwiki.org/zh-CN/std/fmt/\n",
        "[structs]: ../../custom_types/structs.md\n",
        "\n"
      ]
    }
  ],
  "metadata": {
    "kernelspec": {
      "display_name": "Rust",
      "language": "rust",
      "name": "rust"
    },
    "language_info": {
      "codemirror_mode": "rust",
      "file_extension": ".rs",
      "mimetype": "text/rust",
      "name": "Rust",
      "pygment_lexer": "rust",
      "version": ""
    }
  },
  "nbformat": 4,
  "nbformat_minor": 5
}