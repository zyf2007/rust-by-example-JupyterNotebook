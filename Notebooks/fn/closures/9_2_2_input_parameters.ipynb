{
  "cells": [
    {
      "cell_type": "markdown",
      "metadata": {},
      "source": [
        "# 作为输入参数\n",
        "\n",
        "虽然 Rust 无需类型说明就能在大多数时候完成变量捕获，但在编写函数时，这种模糊写法是不允许的。当以闭包作为输入参数时，必须指出闭包的完整类型，它是通过使用以下 `trait` 中的一种来指定的。其受限制程度按以下顺序递减：\n",
        "\n",
        "- `Fn`：表示捕获方式为通过引用（`&T`）的闭包\n",
        "- `FnMut`：表示捕获方式为通过可变引用（`&mut T`）的闭包\n",
        "- `FnOnce`：表示捕获方式为通过值（`T`）的闭包\n",
        "\n",
        "> 译注：顺序之所以是这样，是因为 `&T` 只是获取了不可变的引用，`&mut T` 则可以改变变量，`T` 则是拿到了变量的所有权而非借用。\n",
        "\n",
        "对闭包所要捕获的每个变量，编译器都将以限制最少的方式来捕获。\n",
        "\n",
        "> 译注：这句可能说得不对，事实上是在满足使用需求的前提下尽量以限制最多的方式捕获。\n",
        "\n",
        "例如用一个类型说明为 `FnOnce` 的闭包作为参数。这说明闭包可能采取 `&T`，`&mut T` 或 `T` 中的一种捕获方式，但编译器最终是根据所捕获变量在闭包里的使用情况决定捕获方式。\n",
        "\n",
        "这是因为如果能以移动的方式捕获变量，则闭包也有能力使用其他方式借用变量。注意反过来就不再成立：如果参数的类型说明是 `Fn`，那么不允许该闭包通过 `&mut T` 或 `T` 捕获变量。\n",
        "\n",
        "在下面的例子中，试着分别用一用 `Fn`、`FnMut` 和 `FnOnce`，看看会发生什么：\n",
        "\n"
      ]
    },
    {
      "cell_type": "code",
      "execution_count": null,
      "metadata": {
        "vscode": {
          "languageId": "rust"
        }
      },
      "outputs": [],
      "source": [
        "// 该函数将闭包作为参数并调用它。\n",
        "fn apply<F>(f: F) where\n",
        "    // 闭包没有输入值和返回值。\n",
        "    F: FnOnce() {\n",
        "    // ^ 试一试：将 `FnOnce` 换成 `Fn` 或 `FnMut`。\n",
        "\n",
        "    f();\n",
        "}\n",
        "\n",
        "// 输入闭包，返回一个 `i32` 整型的函数。\n",
        "fn apply_to_3<F>(f: F) -> i32 where\n",
        "    // 闭包处理一个 `i32` 整型并返回一个 `i32` 整型。\n",
        "    F: Fn(i32) -> i32 {\n",
        "\n",
        "    f(3)\n",
        "}\n",
        "\n",
        "fn main() {\n",
        "    use std::mem;\n",
        "\n",
        "    let greeting = \"hello\";\n",
        "    // 不可复制的类型。\n",
        "    // `to_owned` 从借用的数据创建有所有权的数据。\n",
        "    let mut farewell = \"goodbye\".to_owned();\n",
        "\n",
        "    // 捕获 2 个变量：通过引用捕获 `greeting`，通过值捕获 `farewell`。\n",
        "    let diary = || {\n",
        "        // `greeting` 通过引用捕获，故需要闭包是 `Fn`。\n",
        "        println!(\"I said {}.\", greeting);\n",
        "\n",
        "        // 下文改变了 `farewell` ，因而要求闭包通过可变引用来捕获它。\n",
        "        // 现在需要 `FnMut`。\n",
        "        farewell.push_str(\"!!!\");\n",
        "        println!(\"Then I screamed {}.\", farewell);\n",
        "        println!(\"Now I can sleep. zzzzz\");\n",
        "\n",
        "        // 手动调用 drop 又要求闭包通过值获取 `farewell`。\n",
        "        // 现在需要 `FnOnce`。\n",
        "        mem::drop(farewell);\n",
        "    };\n",
        "\n",
        "    // 以闭包作为参数，调用函数 `apply`。\n",
        "    apply(diary);\n",
        "\n",
        "    // 闭包 `double` 满足 `apply_to_3` 的 trait 约束。\n",
        "    let double = |x| 2 * x;\n",
        "\n",
        "    println!(\"3 doubled: {}\", apply_to_3(double));\n",
        "}\n",
        "main();\n"
      ]
    },
    {
      "cell_type": "markdown",
      "metadata": {},
      "source": [
        "\n",
        "### 参见：\n",
        "\n",
        "[`std::mem::drop`][drop], [`Fn`][fn], [`FnMut`][fnmut], 和 [`FnOnce`][fnonce]\n",
        "\n",
        "[drop]: https://rustwiki.org/zh-CN/std/mem/fn.drop.html\n",
        "[fn]: https://rustwiki.org/zh-CN/std/ops/trait.Fn.html\n",
        "[fnmut]: https://rustwiki.org/zh-CN/std/ops/trait.FnMut.html\n",
        "[fnonce]: https://rustwiki.org/zh-CN/std/ops/trait.FnOnce.html\n",
        "\n"
      ]
    }
  ],
  "metadata": {
    "kernelspec": {
      "display_name": "Rust",
      "language": "rust",
      "name": "rust"
    },
    "language_info": {
      "codemirror_mode": "rust",
      "file_extension": ".rs",
      "mimetype": "text/rust",
      "name": "Rust",
      "pygment_lexer": "rust",
      "version": ""
    }
  },
  "nbformat": 4,
  "nbformat_minor": 5
}