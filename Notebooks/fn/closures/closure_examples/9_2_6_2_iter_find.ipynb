{
  "cells": [
    {
      "cell_type": "markdown",
      "metadata": {},
      "source": [
        "# Iterator::find\n",
        "\n",
        "`Iterator::find` 是一个函数，在传给它一个迭代器时，将用 `Option` 类型返回第一个满足谓词的元素。它的签名如下：\n",
        "\n"
      ]
    },
    {
      "cell_type": "code",
      "execution_count": null,
      "metadata": {
        "vscode": {
          "languageId": "rust"
        }
      },
      "outputs": [],
      "source": [
        "pub trait Iterator {\n",
        "    // 被迭代的类型。\n",
        "    type Item;\n",
        "\n",
        "    // `find` 接受 `&mut self` 参数，表明函数的调用者可以被借用和修改，\n",
        "    // 但不会被消耗。\n",
        "    fn find<P>(&mut self, predicate: P) -> Option<Self::Item> where\n",
        "        // `FnMut` 表示被捕获的变量最多只能被修改，而不能被消耗。\n",
        "        // `&Self::Item` 指明了被捕获变量的类型（译注：是对迭代器元素的引用类型）\n",
        "        P: FnMut(&Self::Item) -> bool {}\n",
        "}\n"
      ]
    },
    {
      "cell_type": "markdown",
      "metadata": {},
      "source": [
        "\n"
      ]
    },
    {
      "cell_type": "code",
      "execution_count": null,
      "metadata": {
        "vscode": {
          "languageId": "rust"
        }
      },
      "outputs": [],
      "source": [
        "fn main() {\n",
        "    let vec1 = vec![1, 2, 3];\n",
        "    let vec2 = vec![4, 5, 6];\n",
        "\n",
        "    // 对 vec1 的 `iter()` 举出 `&i32` 类型。\n",
        "    let mut iter = vec1.iter();\n",
        "    // 对 vec2 的 `into_iter()` 举出 `i32` 类型。\n",
        "    let mut into_iter = vec2.into_iter();\n",
        "\n",
        "    // 对迭代器举出的元素的引用是 `&&i32` 类型。解构成 `i32` 类型。\n",
        "    // 译注：注意 `find` 方法会把迭代器元素的引用传给闭包。迭代器元素自身\n",
        "    // 是 `&i32` 类型，所以传给闭包的是 `&&i32` 类型。\n",
        "    println!(\"Find 2 in vec1: {:?}\", iter     .find(|&&x| x == 2));\n",
        "    // 对迭代器举出的元素的引用是 `&i32` 类型。解构成 `i32` 类型。\n",
        "    println!(\"Find 2 in vec2: {:?}\", into_iter.find(| &x| x == 2));\n",
        "\n",
        "    let array1 = [1, 2, 3];\n",
        "    let array2 = [4, 5, 6];\n",
        "\n",
        "    // 对数组的 `iter()` 举出 `&i32`。\n",
        "    println!(\"Find 2 in array1: {:?}\", array1.iter()     .find(|&&x| x == 2));\n",
        "    // 对数组的 `into_iter()` 通常举出 `i32`。\n",
        "    println!(\"Find 2 in array2: {:?}\", array2.into_iter().find(|&x| x == 2));\n",
        "}\n",
        "main();\n"
      ]
    },
    {
      "cell_type": "markdown",
      "metadata": {},
      "source": [
        "\n",
        "### 参见：\n",
        "\n",
        "[`std::iter::Iterator::find`][find]\n",
        "\n",
        "[find]: https://rustwiki.org/zh-CN/std/iter/trait.Iterator.html#method.find\n",
        "\n"
      ]
    }
  ],
  "metadata": {
    "kernelspec": {
      "display_name": "Rust",
      "language": "rust",
      "name": "rust"
    },
    "language_info": {
      "codemirror_mode": "rust",
      "file_extension": ".rs",
      "mimetype": "text/rust",
      "name": "Rust",
      "pygment_lexer": "rust",
      "version": ""
    }
  },
  "nbformat": 4,
  "nbformat_minor": 5
}