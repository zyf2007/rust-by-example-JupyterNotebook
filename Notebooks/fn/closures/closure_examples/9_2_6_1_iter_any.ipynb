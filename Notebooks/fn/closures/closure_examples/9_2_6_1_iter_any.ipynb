{
  "cells": [
    {
      "cell_type": "markdown",
      "metadata": {},
      "source": [
        "# Iterator::any\n",
        "\n",
        "`Iterator::any` 是一个函数，若传给它一个迭代器（iterator），当其中任一元素满足谓词（predicate）时它将返回 `true`，否则返回 `false`（译注：谓词是闭包规定的， `true`/`false` 是闭包作用在元素上的返回值）。它的签名如下：\n",
        "\n"
      ]
    },
    {
      "cell_type": "code",
      "execution_count": null,
      "metadata": {
        "vscode": {
          "languageId": "rust"
        }
      },
      "outputs": [],
      "source": [
        "pub trait Iterator {\n",
        "    // 被迭代的类型。\n",
        "    type Item;\n",
        "\n",
        "    // `any` 接受 `&mut self` 参数（译注：回想一下，这是 `self: &mut Self` 的简写）\n",
        "    // 表明函数的调用者可以被借用和修改，但不会被消耗。\n",
        "    fn any<F>(&mut self, f: F) -> bool where\n",
        "        // `FnMut` 表示被捕获的变量最多只能被修改，而不能被消耗。\n",
        "        // `Self::Item` 表明变量是通过值传递给闭包（译注：是迭代器对应的元素的类型）\n",
        "        F: FnMut(Self::Item) -> bool {}\n",
        "}\n"
      ]
    },
    {
      "cell_type": "markdown",
      "metadata": {},
      "source": [
        "\n"
      ]
    },
    {
      "cell_type": "code",
      "execution_count": null,
      "metadata": {
        "vscode": {
          "languageId": "rust"
        }
      },
      "outputs": [],
      "source": [
        "fn main() {\n",
        "    let vec1 = vec![1, 2, 3];\n",
        "    let vec2 = vec![4, 5, 6];\n",
        "\n",
        "    // 对 vec 的 `iter()` 举出 `&i32`。（通过用 `&x` 匹配）把它解构成 `i32`。\n",
        "    // 译注：注意 `any` 方法会自动地把 `vec.iter()` 举出的迭代器的元素一个个地\n",
        "    // 传给闭包。因此闭包接收到的参数是 `&i32` 类型的。\n",
        "    println!(\"2 in vec1: {}\", vec1.iter()     .any(|&x| x == 2));\n",
        "    // 对 vec 的 `into_iter()` 举出 `i32` 类型。无需解构。\n",
        "    println!(\"2 in vec2: {}\", vec2.into_iter().any(| x| x == 2));\n",
        "\n",
        "    let array1 = [1, 2, 3];\n",
        "    let array2 = [4, 5, 6];\n",
        "\n",
        "    // 对数组的 `iter()` 举出 `&i32`。\n",
        "    println!(\"2 in array1: {}\", array1.iter()     .any(|&x| x == 2));\n",
        "    // 对数组的 `into_iter()` 举出 `i32`。\n",
        "    println!(\"2 in array2: {}\", array2.into_iter().any(|x| x == 2));\n",
        "}\n",
        "main();\n"
      ]
    },
    {
      "cell_type": "markdown",
      "metadata": {},
      "source": [
        "\n",
        "### 参见：\n",
        "\n",
        "[`std::iter::Iterator::any`][any]\n",
        "\n",
        "[any]: https://rustwiki.org/zh-CN/std/iter/trait.Iterator.html#method.any\n",
        "\n"
      ]
    }
  ],
  "metadata": {
    "kernelspec": {
      "display_name": "Rust",
      "language": "rust",
      "name": "rust"
    },
    "language_info": {
      "codemirror_mode": "rust",
      "file_extension": ".rs",
      "mimetype": "text/rust",
      "name": "Rust",
      "pygment_lexer": "rust",
      "version": ""
    }
  },
  "nbformat": 4,
  "nbformat_minor": 5
}