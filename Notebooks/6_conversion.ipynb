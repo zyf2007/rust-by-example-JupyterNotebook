{
  "cells": [
    {
      "cell_type": "markdown",
      "metadata": {},
      "source": [
        "# 类型转换\n",
        "\n",
        "Rust 使用 [trait][traits] 解决类型之间的转换问题。最一般的转换会用到 [`From`] 和 [`Into`] 两个 trait。不过，即便常见的情况也可能会用到特别的 trait，尤其是从 `String` 转换到别的类型，以及把别的类型转换到 `String` 时。\n",
        "\n",
        "[traits]: trait.html\n",
        "[`From`]: https://rustwiki.org/zh-CN/std/convert/trait.From.html\n",
        "[`Into`]: https://rustwiki.org/zh-CN/std/convert/trait.Into.html\n",
        "\n"
      ]
    }
  ],
  "metadata": {
    "kernelspec": {
      "display_name": "Rust",
      "language": "rust",
      "name": "rust"
    },
    "language_info": {
      "codemirror_mode": "rust",
      "file_extension": ".rs",
      "mimetype": "text/rust",
      "name": "Rust",
      "pygment_lexer": "rust",
      "version": ""
    }
  },
  "nbformat": 4,
  "nbformat_minor": 5
}