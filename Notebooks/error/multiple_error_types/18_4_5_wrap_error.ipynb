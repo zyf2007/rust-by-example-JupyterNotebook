{
  "cells": [
    {
      "cell_type": "markdown",
      "metadata": {},
      "source": [
        "# 包裹错误\n",
        "\n",
        "把错误装箱这种做法也可以改成把它包裹到你自己的错误类型中。\n",
        "\n"
      ]
    },
    {
      "cell_type": "code",
      "execution_count": null,
      "metadata": {
        "vscode": {
          "languageId": "rust"
        }
      },
      "outputs": [],
      "source": [
        "use std::error;\n",
        "use std::num::ParseIntError;\n",
        "use std::fmt;\n",
        "\n",
        "type Result<T> = std::result::Result<T, DoubleError>;\n",
        "\n",
        "#[derive(Debug)]\n",
        "enum DoubleError {\n",
        "    EmptyVec,\n",
        "    // 在这个错误类型中，我们采用 `parse` 的错误类型中 `Err` 部分的实现。\n",
        "    // 若想提供更多信息，则该类型中还需要加入更多数据。\n",
        "    Parse(ParseIntError),\n",
        "}\n",
        "\n",
        "impl fmt::Display for DoubleError {\n",
        "    fn fmt(&self, f: &mut fmt::Formatter) -> fmt::Result {\n",
        "        match *self {\n",
        "            DoubleError::EmptyVec =>\n",
        "                write!(f, \"please use a vector with at least one element\"),\n",
        "            // 这是一个封装（wrapper），它采用内部各类型对 `fmt` 的实现。\n",
        "            DoubleError::Parse(ref e) => e.fmt(f),\n",
        "        }\n",
        "    }\n",
        "}\n",
        "\n",
        "impl error::Error for DoubleError {\n",
        "    fn source(&self) -> Option<&(dyn error::Error + 'static)> {\n",
        "        match *self {\n",
        "            DoubleError::EmptyVec => None,\n",
        "            // 原因采取内部对错误类型的实现。它隐式地转换成了 trait 对象 `&error:Error`。\n",
        "            // 这可以工作，因为内部的类型已经实现了 `Error` trait。\n",
        "            DoubleError::Parse(ref e) => Some(e),\n",
        "        }\n",
        "    }\n",
        "}\n",
        "\n",
        "// 实现从 `ParseIntError` 到 `DoubleError` 的转换。\n",
        "// 在使用 `?` 时，或者一个 `ParseIntError` 需要转换成 `DoubleError` 时，它会被自动调用。\n",
        "impl From<ParseIntError> for DoubleError {\n",
        "    fn from(err: ParseIntError) -> DoubleError {\n",
        "        DoubleError::Parse(err)\n",
        "    }\n",
        "}\n",
        "\n",
        "fn double_first(vec: Vec<&str>) -> Result<i32> {\n",
        "    let first = vec.first().ok_or(DoubleError::EmptyVec)?;\n",
        "    let parsed = first.parse::<i32>()?;\n",
        "\n",
        "    Ok(2 * parsed)\n",
        "}\n",
        "\n",
        "fn print(result: Result<i32>) {\n",
        "    match result {\n",
        "        Ok(n)  => println!(\"The first doubled is {}\", n),\n",
        "        Err(e) => println!(\"Error: {}\", e),\n",
        "    }\n",
        "}\n",
        "\n",
        "fn main() {\n",
        "    let numbers = vec![\"42\", \"93\", \"18\"];\n",
        "    let empty = vec![];\n",
        "    let strings = vec![\"tofu\", \"93\", \"18\"];\n",
        "\n",
        "    print(double_first(numbers));\n",
        "    print(double_first(empty));\n",
        "    print(double_first(strings));\n",
        "}\n",
        "main();\n"
      ]
    },
    {
      "cell_type": "markdown",
      "metadata": {},
      "source": [
        "\n",
        "这种做法会在错误处理中增加一些模板化的代码，而且也不是所有的应用都需要这样做。一些库可以帮你处理模板化代码的问题。\n",
        "\n",
        "### See also:\n",
        "\n",
        "[`From::from`][from] and [`枚举类型`][enums]\n",
        "\n",
        "[from]: https://rustwiki.org/zh-CN/std/convert/trait.From.html\n",
        "[enums]: ../../custom_types/enum.md\n",
        "\n"
      ]
    }
  ],
  "metadata": {
    "kernelspec": {
      "display_name": "Rust",
      "language": "rust",
      "name": "rust"
    },
    "language_info": {
      "codemirror_mode": "rust",
      "file_extension": ".rs",
      "mimetype": "text/rust",
      "name": "Rust",
      "pygment_lexer": "rust",
      "version": ""
    }
  },
  "nbformat": 4,
  "nbformat_minor": 5
}