{
  "cells": [
    {
      "cell_type": "markdown",
      "metadata": {},
      "source": [
        "# 把错误 “装箱”\n",
        "\n",
        "如果又想写简单的代码，又想保存原始错误信息，一个方法是把它们[装箱][box]（`Box`）。这样做的坏处就是，被包装的错误类型只能在运行时了解，而不能被[静态地判别][dynamic_dispatch]。\n",
        "\n",
        "对任何实现了 `Error` trait 的类型，标准库的 `Box` 通过 [`From`][from] 为它们提供了到 `Box<Error>` 的转换。\n",
        "\n"
      ]
    },
    {
      "cell_type": "code",
      "execution_count": null,
      "metadata": {
        "vscode": {
          "languageId": "rust"
        }
      },
      "outputs": [],
      "source": [
        "use std::error;\n",
        "use std::fmt;\n",
        "\n",
        "// 为 `Box<error::Error>` 取别名。\n",
        "type Result<T> = std::result::Result<T, Box<dyn error::Error>>;\n",
        "\n",
        "#[derive(Debug, Clone)]\n",
        "struct EmptyVec;\n",
        "\n",
        "impl fmt::Display for EmptyVec {\n",
        "    fn fmt(&self, f: &mut fmt::Formatter) -> fmt::Result {\n",
        "        write!(f, \"invalid first item to double\")\n",
        "    }\n",
        "}\n",
        "\n",
        "impl error::Error for EmptyVec {\n",
        "    fn description(&self) -> &str {\n",
        "        \"invalid first item to double\"\n",
        "    }\n",
        "\n",
        "    fn cause(&self) -> Option<&dyn error::Error> {\n",
        "        // 泛型错误。没有记录其内部原因。\n",
        "        None\n",
        "    }\n",
        "}\n",
        "\n",
        "fn double_first(vec: Vec<&str>) -> Result<i32> {\n",
        "    vec.first()\n",
        "       .ok_or_else(|| EmptyVec.into())  // 装箱\n",
        "       .and_then(|s| {\n",
        "            s.parse::<i32>()\n",
        "                .map_err(|e| e.into())  // 装箱\n",
        "                .map(|i| 2 * i)\n",
        "        })\n",
        "}\n",
        "\n",
        "fn print(result: Result<i32>) {\n",
        "    match result {\n",
        "        Ok(n)  => println!(\"The first doubled is {}\", n),\n",
        "        Err(e) => println!(\"Error: {}\", e),\n",
        "    }\n",
        "}\n",
        "\n",
        "fn main() {\n",
        "    let numbers = vec![\"42\", \"93\", \"18\"];\n",
        "    let empty = vec![];\n",
        "    let strings = vec![\"tofu\", \"93\", \"18\"];\n",
        "\n",
        "    print(double_first(numbers));\n",
        "    print(double_first(empty));\n",
        "    print(double_first(strings));\n",
        "}\n",
        "main();\n"
      ]
    },
    {
      "cell_type": "markdown",
      "metadata": {},
      "source": [
        "\n",
        "### 参见：\n",
        "\n",
        "[动态分发][dynamic_dispatch] and [`Error` trait][error]\n",
        "\n",
        "[box]: https://rustwiki.org/zh-CN/std/boxed/struct.Box.html\n",
        "[dynamic_dispatch]: https://rustwiki.org/zh-CN/book/ch17-02-trait-objects.html#trait-对象执行动态分发\n",
        "[error]: https://rustwiki.org/zh-CN/std/error/trait.Error.html\n",
        "[from]: https://rustwiki.org/zh-CN/std/convert/trait.From.html\n",
        "\n"
      ]
    }
  ],
  "metadata": {
    "kernelspec": {
      "display_name": "Rust",
      "language": "rust",
      "name": "rust"
    },
    "language_info": {
      "codemirror_mode": "rust",
      "file_extension": ".rs",
      "mimetype": "text/rust",
      "name": "Rust",
      "pygment_lexer": "rust",
      "version": ""
    }
  },
  "nbformat": 4,
  "nbformat_minor": 5
}