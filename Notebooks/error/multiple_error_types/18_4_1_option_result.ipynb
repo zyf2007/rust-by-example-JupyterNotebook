{
  "cells": [
    {
      "cell_type": "markdown",
      "metadata": {},
      "source": [
        "# 从 `Option` 中取出 `Result`\n",
        "\n",
        "处理混合错误类型的最基本的手段就是让它们互相包含。\n",
        "\n"
      ]
    },
    {
      "cell_type": "code",
      "execution_count": null,
      "metadata": {
        "vscode": {
          "languageId": "rust"
        }
      },
      "outputs": [],
      "source": [
        "use std::num::ParseIntError;\n",
        "\n",
        "fn double_first(vec: Vec<&str>) -> Option<Result<i32, ParseIntError>> {\n",
        "    vec.first().map(|first| {\n",
        "        first.parse::<i32>().map(|n| 2 * n)\n",
        "    })\n",
        "}\n",
        "\n",
        "fn main() {\n",
        "    let numbers = vec![\"42\", \"93\", \"18\"];\n",
        "    let empty = vec![];\n",
        "    let strings = vec![\"tofu\", \"93\", \"18\"];\n",
        "\n",
        "    println!(\"The first doubled is {:?}\", double_first(numbers));\n",
        "\n",
        "    println!(\"The first doubled is {:?}\", double_first(empty));\n",
        "    // Error 1: the input vector is empty\n",
        "\n",
        "    println!(\"The first doubled is {:?}\", double_first(strings));\n",
        "    // Error 2: the element doesn't parse to a number\n",
        "}\n",
        "main();\n"
      ]
    },
    {
      "cell_type": "markdown",
      "metadata": {},
      "source": [
        "\n",
        "有时候我们不想再处理错误（比如使用 [`?`][enter_question_mark] 的时候），但如果\n",
        "`Option` 是 `None` 则继续处理错误。一些组合算子可以让我们轻松地交换 `Result` 和\n",
        "`Option`。\n",
        "\n"
      ]
    },
    {
      "cell_type": "code",
      "execution_count": null,
      "metadata": {
        "vscode": {
          "languageId": "rust"
        }
      },
      "outputs": [],
      "source": [
        "use std::num::ParseIntError;\n",
        "\n",
        "fn double_first(vec: Vec<&str>) -> Result<Option<i32>, ParseIntError> {\n",
        "    let opt = vec.first().map(|first| {\n",
        "        first.parse::<i32>().map(|n| 2 * n)\n",
        "    });\n",
        "\n",
        "    opt.map_or(Ok(None), |r| r.map(Some))\n",
        "}\n",
        "\n",
        "fn main() {\n",
        "    let numbers = vec![\"42\", \"93\", \"18\"];\n",
        "    let empty = vec![];\n",
        "    let strings = vec![\"tofu\", \"93\", \"18\"];\n",
        "\n",
        "    println!(\"The first doubled is {:?}\", double_first(numbers));\n",
        "    println!(\"The first doubled is {:?}\", double_first(empty));\n",
        "    println!(\"The first doubled is {:?}\", double_first(strings));\n",
        "}\n",
        "main();\n"
      ]
    },
    {
      "cell_type": "markdown",
      "metadata": {},
      "source": [
        "\n",
        "[enter_question_mark]: ../result/enter_question_mark.md\n",
        "\n"
      ]
    }
  ],
  "metadata": {
    "kernelspec": {
      "display_name": "Rust",
      "language": "rust",
      "name": "rust"
    },
    "language_info": {
      "codemirror_mode": "rust",
      "file_extension": ".rs",
      "mimetype": "text/rust",
      "name": "Rust",
      "pygment_lexer": "rust",
      "version": ""
    }
  },
  "nbformat": 4,
  "nbformat_minor": 5
}