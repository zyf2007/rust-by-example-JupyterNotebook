{
  "cells": [
    {
      "cell_type": "markdown",
      "metadata": {},
      "source": [
        "# 定义一个错误类型\n",
        "\n",
        "有时候把所有不同的错误都视为一种错误类型会简化代码。我们将用一个自定义错误类型来演示这一点。\n",
        "\n",
        "Rust 允许我们定义自己的错误类型。一般来说，一个 “好的” 错误类型应当：\n",
        "\n",
        "* 用同一个类型代表了多种错误\n",
        "* 向用户提供了清楚的错误信息\n",
        "* 能够容易地与其他类型比较\n",
        "    - 好的例子：`Err(EmptyVec)`\n",
        "    - 坏的例子：`Err(\"Please use a vector with at least one element\".to_owned())`\n",
        "* 能够容纳错误的具体信息\n",
        "    - 好的例子：`Err(BadChar(c, position))`\n",
        "    - 坏的例子：`Err(\"+ cannot be used here\".to_owned())`\n",
        "* 能够与其他错误很好地整合\n",
        "\n"
      ]
    },
    {
      "cell_type": "code",
      "execution_count": null,
      "metadata": {
        "vscode": {
          "languageId": "rust"
        }
      },
      "outputs": [],
      "source": [
        "use std::error;\n",
        "use std::fmt;\n",
        "\n",
        "type Result<T> = std::result::Result<T, DoubleError>;\n",
        "\n",
        "#[derive(Debug, Clone)]\n",
        "// 定义我们的错误类型，这种类型可以根据错误处理的实际情况定制。\n",
        "// 我们可以完全自定义错误类型，也可以在类型中完全采用底层的错误实现，\n",
        "// 也可以介于二者之间。\n",
        "struct DoubleError;\n",
        "\n",
        "// 错误的生成与它如何显示是完全没关系的。没有必要担心复杂的逻辑会导致混乱的显示。\n",
        "//\n",
        "// 注意我们没有储存关于错误的任何额外信息，也就是说，如果不修改我们的错误类型定义的话，\n",
        "// 就无法指明是哪个字符串解析失败了。\n",
        "impl fmt::Display for DoubleError {\n",
        "    fn fmt(&self, f: &mut fmt::Formatter) -> fmt::Result {\n",
        "        write!(f, \"invalid first item to double\")\n",
        "    }\n",
        "}\n",
        "\n",
        "// 为 `DoubleError` 实现 `Error` trait，这样其他错误可以包裹这个错误类型。\n",
        "impl error::Error for DoubleError {\n",
        "    fn source(&self) -> Option<&(dyn error::Error + 'static)> {\n",
        "        // 泛型错误，没有记录其内部原因。\n",
        "        None\n",
        "    }\n",
        "}\n",
        "\n",
        "fn double_first(vec: Vec<&str>) -> Result<i32> {\n",
        "    vec.first()\n",
        "       // 把错误换成我们的新类型。\n",
        "       .ok_or(DoubleError)\n",
        "       .and_then(|s| {\n",
        "            s.parse::<i32>()\n",
        "                // 这里也换成新类型。\n",
        "                .map_err(|_| DoubleError)\n",
        "                .map(|i| 2 * i)\n",
        "        })\n",
        "}\n",
        "\n",
        "fn print(result: Result<i32>) {\n",
        "    match result {\n",
        "        Ok(n)  => println!(\"The first doubled is {}\", n),\n",
        "        Err(e) => println!(\"Error: {}\", e),\n",
        "    }\n",
        "}\n",
        "\n",
        "fn main() {\n",
        "    let numbers = vec![\"42\", \"93\", \"18\"];\n",
        "    let empty = vec![];\n",
        "    let strings = vec![\"tofu\", \"93\", \"18\"];\n",
        "\n",
        "    print(double_first(numbers));\n",
        "    print(double_first(empty));\n",
        "    print(double_first(strings));\n",
        "}\n",
        "main();\n"
      ]
    },
    {
      "cell_type": "markdown",
      "metadata": {},
      "source": [
        "\n"
      ]
    }
  ],
  "metadata": {
    "kernelspec": {
      "display_name": "Rust",
      "language": "rust",
      "name": "rust"
    },
    "language_info": {
      "codemirror_mode": "rust",
      "file_extension": ".rs",
      "mimetype": "text/rust",
      "name": "Rust",
      "pygment_lexer": "rust",
      "version": ""
    }
  },
  "nbformat": 4,
  "nbformat_minor": 5
}