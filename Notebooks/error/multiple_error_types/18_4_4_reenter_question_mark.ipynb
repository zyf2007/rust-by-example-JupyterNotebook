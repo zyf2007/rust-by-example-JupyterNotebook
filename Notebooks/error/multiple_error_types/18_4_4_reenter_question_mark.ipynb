{
  "cells": [
    {
      "cell_type": "markdown",
      "metadata": {},
      "source": [
        "# `?` 的其他用法\n",
        "\n",
        "注意在上一个例子中，我们调用 `parse` 后总是立即将错误从标准库的错误 `map`（映射）到装箱错误。\n",
        "\n"
      ]
    },
    {
      "cell_type": "code",
      "execution_count": null,
      "metadata": {
        "vscode": {
          "languageId": "rust"
        }
      },
      "outputs": [],
      "source": [
        ".and_then(|s| s.parse::<i32>()\n",
        "    .map_err(|e| e.into())\n"
      ]
    },
    {
      "cell_type": "markdown",
      "metadata": {},
      "source": [
        "\n",
        "因为这个操作很简单常见，如果有省略写法就好了。遗憾的是 `and_then` 不够灵活，所以实现不了这样的写法。不过，我们可以使用 `?` 来代替它。\n",
        "\n",
        "`?` 之前被解释为要么 `unwrap`，要么 `return Err(err)`，这只是在大多数情况下是正确的。`?` 实际上是指  `unwrap` 或 `return Err(From::from(err))`。由于 `From::from` 是不同类型之间的转换工具，也就是说，如果在错误可转换成返回类型地方使用 `?`，它将自动转换成返回类型。\n",
        "\n",
        "我们在这里使用 `?` 重写之前的例子。重写后，只要为我们的错误类型实现 `From::from`，就可以不再使用 `map_err`。\n",
        "\n"
      ]
    },
    {
      "cell_type": "code",
      "execution_count": null,
      "metadata": {
        "vscode": {
          "languageId": "rust"
        }
      },
      "outputs": [],
      "source": [
        "use std::error;\n",
        "use std::fmt;\n",
        "\n",
        "// 为 `Box<error::Error>` 取别名。\n",
        "type Result<T> = std::result::Result<T, Box<dyn error::Error>>;\n",
        "\n",
        "#[derive(Debug)]\n",
        "struct EmptyVec;\n",
        "\n",
        "impl fmt::Display for EmptyVec {\n",
        "    fn fmt(&self, f: &mut fmt::Formatter) -> fmt::Result {\n",
        "        write!(f, \"invalid first item to double\")\n",
        "    }\n",
        "}\n",
        "\n",
        "impl error::Error for EmptyVec {}\n",
        "\n",
        "// 这里的结构和之前一样，但是这次没有把所有的 `Result` 和 `Option` 串起来，\n",
        "// 而是使用 `?` 立即得到内部值。\n",
        "fn double_first(vec: Vec<&str>) -> Result<i32> {\n",
        "    let first = vec.first().ok_or(EmptyVec)?;\n",
        "    let parsed = first.parse::<i32>()?;\n",
        "    Ok(2 * parsed)\n",
        "}\n",
        "\n",
        "fn print(result: Result<i32>) {\n",
        "    match result {\n",
        "        Ok(n)  => println!(\"The first doubled is {}\", n),\n",
        "        Err(e) => println!(\"Error: {}\", e),\n",
        "    }\n",
        "}\n",
        "\n",
        "fn main() {\n",
        "    let numbers = vec![\"42\", \"93\", \"18\"];\n",
        "    let empty = vec![];\n",
        "    let strings = vec![\"tofu\", \"93\", \"18\"];\n",
        "\n",
        "    print(double_first(numbers));\n",
        "    print(double_first(empty));\n",
        "    print(double_first(strings));\n",
        "}\n",
        "main();\n"
      ]
    },
    {
      "cell_type": "markdown",
      "metadata": {},
      "source": [
        "\n",
        "这段代码已经相当清晰了。与原来的 `panic` 相比，除了返回类型是 `Result` 之外，它就像是把所有的 `unwrap` 调用都换成 `?` 一样。因此必须在顶层解构它们。\n",
        "\n",
        "### 参见：\n",
        "\n",
        "[`From::from`][from] 和 [`?`][q_mark]\n",
        "\n",
        "[from]: https://rustwiki.org/zh-CN/std/convert/trait.From.html\n",
        "[q_mark]: https://rustwiki.org/zh-CN/reference/expressions/operator-expr.html#问号操作符\n",
        "\n"
      ]
    }
  ],
  "metadata": {
    "kernelspec": {
      "display_name": "Rust",
      "language": "rust",
      "name": "rust"
    },
    "language_info": {
      "codemirror_mode": "rust",
      "file_extension": ".rs",
      "mimetype": "text/rust",
      "name": "Rust",
      "pygment_lexer": "rust",
      "version": ""
    }
  },
  "nbformat": 4,
  "nbformat_minor": 5
}