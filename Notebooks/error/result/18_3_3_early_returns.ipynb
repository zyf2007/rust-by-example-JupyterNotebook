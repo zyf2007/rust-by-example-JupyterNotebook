{
  "cells": [
    {
      "cell_type": "markdown",
      "metadata": {},
      "source": [
        "# 提前返回\n",
        "\n",
        "在上一个例子中，我们显式地使用组合算子处理了错误。另一种处理错误的方式是使用\n",
        "`match` 语句和**提前返回**（early return）的结合。\n",
        "\n",
        "这也就是说，如果发生错误，我们可以停止函数的执行然后返回错误。对有些人来说，这样的代码更好写，更易读。这次我们使用提前返回改写之前的例子：\n",
        "\n"
      ]
    },
    {
      "cell_type": "code",
      "execution_count": null,
      "metadata": {
        "vscode": {
          "languageId": "rust"
        }
      },
      "outputs": [],
      "source": [
        "use std::num::ParseIntError;\n",
        "\n",
        "fn multiply(first_number_str: &str, second_number_str: &str) -> Result<i32, ParseIntError> {\n",
        "    let first_number = match first_number_str.parse::<i32>() {\n",
        "        Ok(first_number)  => first_number,\n",
        "        Err(e) => return Err(e),\n",
        "    };\n",
        "\n",
        "    let second_number = match second_number_str.parse::<i32>() {\n",
        "        Ok(second_number)  => second_number,\n",
        "        Err(e) => return Err(e),\n",
        "    };\n",
        "\n",
        "    Ok(first_number * second_number)\n",
        "}\n",
        "\n",
        "fn print(result: Result<i32, ParseIntError>) {\n",
        "    match result {\n",
        "        Ok(n)  => println!(\"n is {}\", n),\n",
        "        Err(e) => println!(\"Error: {}\", e),\n",
        "    }\n",
        "}\n",
        "\n",
        "fn main() {\n",
        "    print(multiply(\"10\", \"2\"));\n",
        "    print(multiply(\"t\", \"2\"));\n",
        "}\n",
        "main();\n"
      ]
    },
    {
      "cell_type": "markdown",
      "metadata": {},
      "source": [
        "\n",
        "到此为止，我们已经学会了如何使用组合算子和提前返回显式地处理错误。我们一般是想要避免 panic 的，但显式地处理所有错误确实显得过于繁琐。\n",
        "\n",
        "在下一部分，我们将看到，当只是需要 `unwrap` 并且不产生 `panic` 时，可以使用\n",
        "`?` 来达到同样的效果。\n",
        "\n"
      ]
    }
  ],
  "metadata": {
    "kernelspec": {
      "display_name": "Rust",
      "language": "rust",
      "name": "rust"
    },
    "language_info": {
      "codemirror_mode": "rust",
      "file_extension": ".rs",
      "mimetype": "text/rust",
      "name": "Rust",
      "pygment_lexer": "rust",
      "version": ""
    }
  },
  "nbformat": 4,
  "nbformat_minor": 5
}