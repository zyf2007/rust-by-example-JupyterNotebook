{
  "cells": [
    {
      "cell_type": "markdown",
      "metadata": {},
      "source": [
        "# 使用 `?` 解开 `Option`\n",
        "\n",
        "你可以使用 `match` 语句来解开 `Option`，但使用 `?` 运算符通常会更容易。如果 `x` 是 `Option`，那么若 `x` 是 `Some` ，对`x?`表达式求值将返回底层值，否则无论函数是否正在执行都将终止且返回 `None`。\n",
        "\n"
      ]
    },
    {
      "cell_type": "code",
      "execution_count": null,
      "metadata": {
        "vscode": {
          "languageId": "rust"
        }
      },
      "outputs": [],
      "source": [
        "fn next_birthday(current_age: Option<u8>) -> Option<String> {\n",
        "    // 如果 `current_age` 是 `None`，这将返回 `None`。\n",
        "    // 如果 `current_age` 是 `Some`，内部的 `u8` 将赋值给 `next_age`。\n",
        "    let next_age: u8 = current_age?;\n",
        "    Some(format!(\"Next year I will be {}\", next_age))\n",
        "}\n"
      ]
    },
    {
      "cell_type": "markdown",
      "metadata": {},
      "source": [
        "\n",
        "你可以将多个 `?` 链接在一起，以使代码更具可读性。\n",
        "\n"
      ]
    },
    {
      "cell_type": "code",
      "execution_count": null,
      "metadata": {
        "vscode": {
          "languageId": "rust"
        }
      },
      "outputs": [],
      "source": [
        "struct Person {\n",
        "    job: Option<Job>,\n",
        "}\n",
        "\n",
        "#[derive(Clone, Copy)]\n",
        "struct Job {\n",
        "    phone_number: Option<PhoneNumber>,\n",
        "}\n",
        "\n",
        "#[derive(Clone, Copy)]\n",
        "struct PhoneNumber {\n",
        "    area_code: Option<u8>,\n",
        "    number: u32,\n",
        "}\n",
        "\n",
        "impl Person {\n",
        "\n",
        "    // 获取此人的工作电话号码的区号（如果存在的话）。\n",
        "    fn work_phone_area_code(&self) -> Option<u8> {\n",
        "        // 没有`？`运算符的话，这将需要很多的嵌套的 `match` 语句。\n",
        "        // 这将需要更多代码——尝试自己编写一下，看看哪个更容易。\n",
        "        self.job?.phone_number?.area_code\n",
        "    }\n",
        "}\n",
        "\n",
        "fn main() {\n",
        "    let p = Person {\n",
        "        job: Some(Job {\n",
        "            phone_number: Some(PhoneNumber {\n",
        "                area_code: Some(61),\n",
        "                number: 439222222,\n",
        "            }),\n",
        "        }),\n",
        "    };\n",
        "\n",
        "    assert_eq!(p.work_phone_area_code(), Some(61));\n",
        "}\n",
        "main();\n"
      ]
    },
    {
      "cell_type": "markdown",
      "metadata": {},
      "source": [
        "\n"
      ]
    }
  ],
  "metadata": {
    "kernelspec": {
      "display_name": "Rust",
      "language": "rust",
      "name": "rust"
    },
    "language_info": {
      "codemirror_mode": "rust",
      "file_extension": ".rs",
      "mimetype": "text/rust",
      "name": "Rust",
      "pygment_lexer": "rust",
      "version": ""
    }
  },
  "nbformat": 4,
  "nbformat_minor": 5
}