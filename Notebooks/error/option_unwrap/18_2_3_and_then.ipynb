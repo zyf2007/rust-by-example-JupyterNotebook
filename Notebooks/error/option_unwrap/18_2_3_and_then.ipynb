{
  "cells": [
    {
      "cell_type": "markdown",
      "metadata": {},
      "source": [
        "# 组合算子：`and_then`\n",
        "\n",
        "`map()` 以链式调用的方式来简化 `match` 语句。然而，如果以返回类型是 `Option<T>`\n",
        " 的函数作为 `map()` 的参数，会导致出现嵌套形式 `Option<Option<T>>`。这样多层串联调用就会变得混乱。所以有必要引入 `and_then()`，在某些语言中它叫做 flatmap。\n",
        "\n",
        "`and_then()` 使用被 `Option` 包裹的值来调用其输入函数并返回结果。 如果 `Option`\n",
        " 是 `None`，那么它返回 `None`。\n",
        "\n",
        "在下面例子中，`cookable_v2()` 会产生一个 `Option<Food>`。如果在这里使用 `map()`\n",
        "而不是 `and_then()` 将会得到 `Option<Option<Food>>`，这对 `eat()` 来说是一个无效类型。\n",
        "\n"
      ]
    },
    {
      "cell_type": "code",
      "execution_count": null,
      "metadata": {
        "vscode": {
          "languageId": "rust"
        }
      },
      "outputs": [],
      "source": [
        "#![allow(dead_code)]\n",
        "\n",
        "#[derive(Debug)] enum Food { CordonBleu, Steak, Sushi }\n",
        "#[derive(Debug)] enum Day { Monday, Tuesday, Wednesday }\n",
        "\n",
        "// 我们没有制作寿司所需的原材料（ingredient）（有其他的原材料）。\n",
        "fn have_ingredients(food: Food) -> Option<Food> {\n",
        "    match food {\n",
        "        Food::Sushi => None,\n",
        "        _           => Some(food),\n",
        "    }\n",
        "}\n",
        "\n",
        "// 我们拥有全部食物的食谱，除了法国蓝带猪排（Cordon Bleu）的。\n",
        "fn have_recipe(food: Food) -> Option<Food> {\n",
        "    match food {\n",
        "        Food::CordonBleu => None,\n",
        "        _                => Some(food),\n",
        "    }\n",
        "}\n",
        "\n",
        "\n",
        "// 要做一份好菜，我们需要原材料和食谱。\n",
        "// 我们可以借助一系列 `match` 来表达这个逻辑：\n",
        "fn cookable_v1(food: Food) -> Option<Food> {\n",
        "    match have_ingredients(food) {\n",
        "        None       => None,\n",
        "        Some(food) => match have_recipe(food) {\n",
        "            None       => None,\n",
        "            Some(food) => Some(food),\n",
        "        },\n",
        "    }\n",
        "}\n",
        "\n",
        "// 也可以使用 `and_then()` 把上面的逻辑改写得更紧凑：\n",
        "fn cookable_v2(food: Food) -> Option<Food> {\n",
        "    have_ingredients(food).and_then(have_recipe)\n",
        "}\n",
        "\n",
        "fn eat(food: Food, day: Day) {\n",
        "    match cookable_v2(food) {\n",
        "        Some(food) => println!(\"Yay! On {:?} we get to eat {:?}.\", day, food),\n",
        "        None       => println!(\"Oh no. We don't get to eat on {:?}?\", day),\n",
        "    }\n",
        "}\n",
        "\n",
        "fn main() {\n",
        "    let (cordon_bleu, steak, sushi) = (Food::CordonBleu, Food::Steak, Food::Sushi);\n",
        "\n",
        "    eat(cordon_bleu, Day::Monday);\n",
        "    eat(steak, Day::Tuesday);\n",
        "    eat(sushi, Day::Wednesday);\n",
        "}\n",
        "main();\n"
      ]
    },
    {
      "cell_type": "markdown",
      "metadata": {},
      "source": [
        "\n",
        "### 参见：\n",
        "\n",
        "[闭包][closures]，[`Option::map()`][map], 和 [`Option::and_then()`][and_then]\n",
        "\n",
        "[closures]: ../../fn/closures.md\n",
        "[map]: https://rustwiki.org/zh-CN/std/option/enum.Option.html#method.map\n",
        "[and_then]: https://rustwiki.org/zh-CN/std/option/enum.Option.html#method.and_then\n",
        "\n"
      ]
    }
  ],
  "metadata": {
    "kernelspec": {
      "display_name": "Rust",
      "language": "rust",
      "name": "rust"
    },
    "language_info": {
      "codemirror_mode": "rust",
      "file_extension": ".rs",
      "mimetype": "text/rust",
      "name": "Rust",
      "pygment_lexer": "rust",
      "version": ""
    }
  },
  "nbformat": 4,
  "nbformat_minor": 5
}