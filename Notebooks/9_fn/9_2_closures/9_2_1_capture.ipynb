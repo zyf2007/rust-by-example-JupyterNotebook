{
  "cells": [
    {
      "cell_type": "markdown",
      "metadata": {},
      "source": [
        "# 捕获\n",
        "\n",
        "闭包本质上很灵活，能做功能要求的事情，使闭包在没有类型标注的情况下运行。这使得捕获（capture）能够灵活地适应用例，既可移动（move），又可借用（borrow）。闭包可以通过以下方式捕获变量：\n",
        "\n",
        "- 通过引用：`&T`\n",
        "- 通过可变引用：`&mut T`\n",
        "- 通过值：`T`\n",
        "\n",
        "闭包优先通过引用来捕获变量，并且仅在需要时使用其他方式。\n",
        "\n"
      ]
    },
    {
      "cell_type": "code",
      "execution_count": null,
      "metadata": {
        "vscode": {
          "languageId": "rust"
        }
      },
      "outputs": [],
      "source": [
        "fn main() {\n",
        "    use std::mem;\n",
        "\n",
        "    let color = String::from(\"green\");\n",
        "\n",
        "    // 这个闭包打印 `color`。它会立即借用（通过引用，`&`）`color` 并将该借用和\n",
        "    // 闭包本身存储到 `print` 变量中。`color` 会一直保持被借用状态直到\n",
        "    // `print` 离开作用域。\n",
        "    //\n",
        "    // `println!` 只需传引用就能使用，而这个闭包捕获的也是变量的引用，因此无需\n",
        "    // 进一步处理就可以使用 `println!`。\n",
        "    let print = || println!(\"`color`: {}\", color);\n",
        "\n",
        "    // 使用借用来调用闭包 `color`。\n",
        "    print();\n",
        "\n",
        "    // `color` 可再次被不可变借用，因为闭包只持有一个指向 `color` 的不可变引用。\n",
        "    let _reborrow = &color;\n",
        "    print();\n",
        "\n",
        "    // 在最后使用 `print` 之后，移动或重新借用都是允许的。\n",
        "    let _color_moved = color;\n",
        "\n",
        "    let mut count = 0;\n",
        "    // 这个闭包使 `count` 值增加。要做到这点，它需要得到 `&mut count` 或者\n",
        "    // `count` 本身，但 `&mut count` 的要求没那么严格，所以我们采取这种方式。\n",
        "    // 该闭包立即借用 `count`。\n",
        "    //\n",
        "    // `inc` 前面需要加上 `mut`，因为闭包里存储着一个 `&mut` 变量。调用闭包时，\n",
        "    // 该变量的变化就意味着闭包内部发生了变化。因此闭包需要是可变的。\n",
        "    let mut inc = || {\n",
        "        count += 1;\n",
        "        println!(\"`count`: {}\", count);\n",
        "    };\n",
        "\n",
        "    // 使用可变借用调用闭包\n",
        "    inc();\n",
        "\n",
        "    // 因为之后调用闭包，所以仍然可变借用 `count`\n",
        "    // 试图重新借用将导致错误\n",
        "    // let _reborrow = &count;\n",
        "    // ^ 试一试：将此行注释去掉。\n",
        "    inc();\n",
        "\n",
        "    // 闭包不再借用 `&mut count`，因此可以正确地重新借用\n",
        "    let _count_reborrowed = &mut count;\n",
        "\n",
        "    // 不可复制类型（non-copy type）。\n",
        "    let movable = Box::new(3);\n",
        "\n",
        "    // `mem::drop` 要求 `T` 类型本身，所以闭包将会捕获变量的值。这种情况下，\n",
        "    // 可复制类型将会复制给闭包，从而原始值不受影响。不可复制类型必须移动\n",
        "    // （move）到闭包中，因而 `movable` 变量在这里立即移动到了闭包中。\n",
        "    let consume = || {\n",
        "        println!(\"`movable`: {:?}\", movable);\n",
        "        mem::drop(movable);\n",
        "    };\n",
        "\n",
        "    // `consume` 消耗了该变量，所以该闭包只能调用一次。\n",
        "    consume();\n",
        "    //consume();\n",
        "    // ^ 试一试：将此行注释去掉。\n",
        "}\n",
        "main();\n"
      ]
    },
    {
      "cell_type": "markdown",
      "metadata": {},
      "source": [
        "\n",
        "在竖线 `|` 之前使用 `move` 会强制闭包取得被捕获变量的所有权：\n",
        "\n"
      ]
    },
    {
      "cell_type": "code",
      "execution_count": null,
      "metadata": {
        "vscode": {
          "languageId": "rust"
        }
      },
      "outputs": [],
      "source": [
        "fn main() {\n",
        "    // `Vec` 在语义上是不可复制的。\n",
        "    let haystack = vec![1, 2, 3];\n",
        "\n",
        "    let contains = move |needle| haystack.contains(needle);\n",
        "\n",
        "    println!(\"{}\", contains(&1));\n",
        "    println!(\"{}\", contains(&4));\n",
        "\n",
        "    //println!(\"There're {} elements in vec\", haystack.len());\n",
        "    // ^ 取消上面一行的注释将导致编译时错误，因为借用检查不允许在变量被移动走\n",
        "    // 之后继续使用它。\n",
        "\n",
        "    // 在闭包的签名中删除 `move` 会导致闭包以不可变方式借用 `haystack`，因此之后\n",
        "    // `haystack` 仍然可用，取消上面的注释也不会导致错误。\n",
        "}\n",
        "main();\n"
      ]
    },
    {
      "cell_type": "markdown",
      "metadata": {},
      "source": [
        "\n",
        "### 参见：\n",
        "\n",
        "[`Box`][box] 和 [`std::mem::drop`][drop]\n",
        "\n",
        "[box]: ../../std/box.md\n",
        "[drop]: https://rustwiki.org/zh-CN/std/mem/fn.drop.html\n",
        "\n"
      ]
    }
  ],
  "metadata": {
    "kernelspec": {
      "display_name": "Rust",
      "language": "rust",
      "name": "rust"
    },
    "language_info": {
      "codemirror_mode": "rust",
      "file_extension": ".rs",
      "mimetype": "text/rust",
      "name": "Rust",
      "pygment_lexer": "rust",
      "version": ""
    }
  },
  "nbformat": 4,
  "nbformat_minor": 5
}