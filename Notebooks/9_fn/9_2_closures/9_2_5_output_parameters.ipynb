{
  "cells": [
    {
      "cell_type": "markdown",
      "metadata": {},
      "source": [
        "# 作为输出参数\n",
        "\n",
        "闭包作为输入参数是可能的，所以返回闭包作为输出参数（output parameter）也应该是可能的。然而返回闭包类型会有问题，因为目前 Rust 只支持返回具体（非泛型）的类型。按照定义，匿名的闭包的类型是未知的，所以只有使用`impl Trait`才能返回一个闭包。\n",
        "\n",
        "返回闭包的有效特征是：\n",
        "\n",
        "- `Fn`\n",
        "- `FnMut`\n",
        "- `FnOnce`\n",
        "\n",
        "除此之外，还必须使用 `move` 关键字，它表明所有的捕获都是通过值进行的。这是必须的，因为在函数退出时，任何通过引用的捕获都被丢弃，在闭包中留下无效的引用。\n",
        "\n"
      ]
    },
    {
      "cell_type": "code",
      "execution_count": null,
      "metadata": {
        "vscode": {
          "languageId": "rust"
        }
      },
      "outputs": [],
      "source": [
        "fn create_fn() -> impl Fn() {\n",
        "    let text = \"Fn\".to_owned();\n",
        "\n",
        "    move || println!(\"This is a: {}\", text)\n",
        "}\n",
        "\n",
        "fn create_fnmut() -> impl FnMut() {\n",
        "    let text = \"FnMut\".to_owned();\n",
        "\n",
        "    move || println!(\"This is a: {}\", text)\n",
        "}\n",
        "\n",
        "fn create_fnonce() -> impl FnOnce() {\n",
        "    let text = \"FnOnce\".to_owned();\n",
        "    \n",
        "    move || println!(\"This is a: {}\", text)\n",
        "}\n",
        "\n",
        "fn main() {\n",
        "    let fn_plain = create_fn();\n",
        "    let mut fn_mut = create_fnmut();\n",
        "    let fn_once = create_fnonce();\n",
        "\n",
        "    fn_plain();\n",
        "    fn_mut();\n",
        "    fn_once();\n",
        "}\n",
        "\n",
        "main();\n"
      ]
    },
    {
      "cell_type": "markdown",
      "metadata": {},
      "source": [
        "\n",
        "### 参见：\n",
        "\n",
        "[`Fn`][fn], [`FnMut`][fnmut], [泛型][generics] 和 [impl Trait][impltrait].\n",
        "\n",
        "[fn]: https://rustwiki.org/zh-CN/std/ops/trait.Fn.html\n",
        "[fnmut]: https://rustwiki.org/zh-CN/std/ops/trait.FnMut.html\n",
        "[generics]: ../../generics.md\n",
        "[impltrait]: ../../trait/impl_trait.md\n",
        "\n"
      ]
    }
  ],
  "metadata": {
    "kernelspec": {
      "display_name": "Rust",
      "language": "rust",
      "name": "rust"
    },
    "language_info": {
      "codemirror_mode": "rust",
      "file_extension": ".rs",
      "mimetype": "text/rust",
      "name": "Rust",
      "pygment_lexer": "rust",
      "version": ""
    }
  },
  "nbformat": 4,
  "nbformat_minor": 5
}