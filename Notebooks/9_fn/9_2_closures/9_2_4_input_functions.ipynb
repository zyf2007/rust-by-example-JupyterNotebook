{
  "cells": [
    {
      "cell_type": "markdown",
      "metadata": {},
      "source": [
        "# 输入函数\n",
        "\n",
        "既然闭包可以作为参数，你很可能想知道函数是否也可以呢。确实可以！如果你声明一个接受闭包作为参数的函数，那么任何满足该闭包的 trait 约束的函数都可以作为其参数。\n",
        "\n"
      ]
    },
    {
      "cell_type": "code",
      "execution_count": null,
      "metadata": {
        "vscode": {
          "languageId": "rust"
        }
      },
      "outputs": [],
      "source": [
        "// 定义一个函数，可以接受一个由 `Fn` 限定的泛型 `F` 参数并调用它。\n",
        "fn call_me<F: Fn()>(f: F) {\n",
        "    f()\n",
        "}\n",
        "\n",
        "// 定义一个满足 `Fn` 约束的封装函数（wrapper function）。\n",
        "fn function() {\n",
        "    println!(\"I'm a function!\");\n",
        "}\n",
        "\n",
        "fn main() {\n",
        "    // 定义一个满足 `Fn` 约束的闭包。\n",
        "    let closure = || println!(\"I'm a closure!\");\n",
        "    \n",
        "    call_me(closure);\n",
        "    call_me(function);\n",
        "}\n",
        "main();\n"
      ]
    },
    {
      "cell_type": "markdown",
      "metadata": {},
      "source": [
        "\n",
        "多说一句，`Fn`、`FnMut` 和 `FnOnce` 这些 `trait` 明确了闭包如何从周围的作用域中捕获变量。\n",
        "\n",
        "### 参见：\n",
        "\n",
        "[`Fn`][fn], [`FnMut`][fn_mut], 和 [`FnOnce`][fn_once]\n",
        "\n",
        "[fn]: https://rustwiki.org/zh-CN/std/ops/trait.Fn.html\n",
        "[fn_mut]: https://rustwiki.org/zh-CN/std/ops/trait.FnMut.html\n",
        "[fn_once]: https://rustwiki.org/zh-CN/std/ops/trait.FnOnce.html\n",
        "\n"
      ]
    }
  ],
  "metadata": {
    "kernelspec": {
      "display_name": "Rust",
      "language": "rust",
      "name": "rust"
    },
    "language_info": {
      "codemirror_mode": "rust",
      "file_extension": ".rs",
      "mimetype": "text/rust",
      "name": "Rust",
      "pygment_lexer": "rust",
      "version": ""
    }
  },
  "nbformat": 4,
  "nbformat_minor": 5
}