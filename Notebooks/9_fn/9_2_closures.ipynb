{
  "cells": [
    {
      "cell_type": "markdown",
      "metadata": {},
      "source": [
        "# 闭包\n",
        "\n",
        "Rust 中的闭包（closure），也叫做 lambda 表达式或者 lambda，是一类能够捕获周围作用域中变量的函数。例如，一个可以捕获 x 变量的闭包如下：\n",
        "\n"
      ]
    },
    {
      "cell_type": "code",
      "execution_count": null,
      "metadata": {
        "vscode": {
          "languageId": "Rust"
        }
      },
      "outputs": [],
      "source": [
        "|val| val + x\n"
      ]
    },
    {
      "cell_type": "markdown",
      "metadata": {},
      "source": [
        "\n",
        "它们的语法和能力使它们在临时（on the fly）使用时相当方便。调用一个闭包和调用一个函数完全相同，不过调用闭包时，输入和返回类型两者都**可以**自动推导，而输入变量名**必须**指明。\n",
        "\n",
        "其他的特点包括：\n",
        "\n",
        "- 声明时使用 `||` 替代 `()` 将输入参数括起来。\n",
        "- 函数体定界符（`{}`）对于单个表达式是可选的，其他情况必须加上。\n",
        "- 有能力捕获外部环境的变量。\n",
        "\n"
      ]
    },
    {
      "cell_type": "code",
      "execution_count": null,
      "metadata": {
        "vscode": {
          "languageId": "rust"
        }
      },
      "outputs": [],
      "source": [
        "fn main() {\n",
        "    // 通过闭包和函数分别实现自增。\n",
        "    // 译注：下面这行是使用函数的实现\n",
        "    fn  function            (i: i32) -> i32 { i + 1 }\n",
        "\n",
        "    // 闭包是匿名的，这里我们将它们绑定到引用。\n",
        "    // 类型标注和函数的一样，不过类型标注和使用 `{}` 来围住函数体都是可选的。\n",
        "    // 这些匿名函数（nameless function）被赋值给合适地命名的变量。\n",
        "    let closure_annotated = |i: i32| -> i32 { i + 1 };\n",
        "    let closure_inferred  = |i     |          i + 1  ;\n",
        "\n",
        "    // 译注：将闭包绑定到引用的说法可能不准。\n",
        "    // 据[语言参考](https://doc.rust-lang.org/beta/reference/types.html#closure-types)\n",
        "    // 闭包表达式产生的类型就是 “闭包类型”，不属于引用类型，而且确实无法对上面两个\n",
        "    // `closure_xxx` 变量解引用。\n",
        "\n",
        "    let i = 1;\n",
        "    // 调用函数和闭包。\n",
        "    println!(\"function: {}\", function(i));\n",
        "    println!(\"closure_annotated: {}\", closure_annotated(i));\n",
        "    println!(\"closure_inferred: {}\", closure_inferred(i));\n",
        "\n",
        "    // 没有参数的闭包，返回一个 `i32` 类型。\n",
        "    // 返回类型是自动推导的。\n",
        "    let one = || 1;\n",
        "    println!(\"closure returning one: {}\", one());\n",
        "}\n",
        "main();\n"
      ]
    },
    {
      "cell_type": "markdown",
      "metadata": {},
      "source": [
        "\n"
      ]
    }
  ],
  "metadata": {
    "kernelspec": {
      "display_name": "Rust",
      "language": "rust",
      "name": "rust"
    },
    "language_info": {
      "codemirror_mode": "rust",
      "file_extension": ".rs",
      "mimetype": "text/rust",
      "name": "Rust",
      "pygment_lexer": "rust",
      "version": ""
    }
  },
  "nbformat": 4,
  "nbformat_minor": 5
}