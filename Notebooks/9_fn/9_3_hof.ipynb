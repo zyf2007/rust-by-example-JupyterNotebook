{
  "cells": [
    {
      "cell_type": "markdown",
      "metadata": {},
      "source": [
        "# 高阶函数\n",
        "\n",
        "Rust 提供了高阶函数（Higher Order Function, HOF），指那些输入一个或多个函数，并且/或者产生一个更有用的函数的函数。HOF 和惰性迭代器（lazy iterator）给 Rust 带来了函数式（functional）编程的风格。\n",
        "\n"
      ]
    },
    {
      "cell_type": "code",
      "execution_count": null,
      "metadata": {
        "vscode": {
          "languageId": "rust"
        }
      },
      "outputs": [],
      "source": [
        "fn is_odd(n: u32) -> bool {\n",
        "    n % 2 == 1\n",
        "}\n",
        "\n",
        "fn main() {\n",
        "    println!(\"Find the sum of all the squared odd numbers under 1000\");\n",
        "    let upper = 1000;\n",
        "\n",
        "    // 命令式（imperative）的写法\n",
        "    // 声明累加器变量\n",
        "    let mut acc = 0;\n",
        "    // 迭代：0，1, 2, ... 到无穷大\n",
        "    for n in 0.. {\n",
        "        // 数字的平方\n",
        "        let n_squared = n * n;\n",
        "\n",
        "        if n_squared >= upper {\n",
        "            // 若大于上限则退出循环\n",
        "            break;\n",
        "        } else if is_odd(n_squared) {\n",
        "            // 如果是奇数就计数\n",
        "            acc += n_squared;\n",
        "        }\n",
        "    }\n",
        "    println!(\"imperative style: {}\", acc);\n",
        "\n",
        "    // 函数式的写法\n",
        "    let sum_of_squared_odd_numbers: u32 =\n",
        "        (0..).map(|n| n * n)             // 所有自然数取平方\n",
        "             .take_while(|&n| n < upper) // 取小于上限的\n",
        "             .filter(|&n| is_odd(n))     // 取奇数\n",
        "             .fold(0, |sum, i| sum + i); // 最后加起来\n",
        "    println!(\"functional style: {}\", sum_of_squared_odd_numbers);\n",
        "}\n",
        "main();\n"
      ]
    },
    {
      "cell_type": "markdown",
      "metadata": {},
      "source": [
        "\n",
        "[Option][option] 和 [迭代器][iter] 都实现了不少高阶函数。\n",
        "\n",
        "[option]: https://rustwiki.org/zh-CN/core/option/enum.Option.html\n",
        "[iter]: https://rustwiki.org/zh-CN/core/iter/trait.Iterator.html\n",
        "\n"
      ]
    }
  ],
  "metadata": {
    "kernelspec": {
      "display_name": "Rust",
      "language": "rust",
      "name": "rust"
    },
    "language_info": {
      "codemirror_mode": "rust",
      "file_extension": ".rs",
      "mimetype": "text/rust",
      "name": "Rust",
      "pygment_lexer": "rust",
      "version": ""
    }
  },
  "nbformat": 4,
  "nbformat_minor": 5
}