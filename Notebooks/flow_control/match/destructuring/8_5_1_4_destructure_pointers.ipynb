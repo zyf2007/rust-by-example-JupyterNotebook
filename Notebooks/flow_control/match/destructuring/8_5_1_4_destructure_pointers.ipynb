{
  "cells": [
    {
      "cell_type": "markdown",
      "metadata": {},
      "source": [
        "# 指针和引用\n",
        "\n",
        "对指针来说，解构（destructure）和解引用（dereference）要区分开，因为这两者的概念是不同的，和 `C` 那样的语言用法不一样。\n",
        "\n",
        "- 解引用使用 `*`\n",
        "- 解构使用 `&`、`ref`、和 `ref mut`\n",
        "\n"
      ]
    },
    {
      "cell_type": "code",
      "execution_count": null,
      "metadata": {
        "vscode": {
          "languageId": "rust"
        }
      },
      "outputs": [],
      "source": [
        "fn main() {\n",
        "    // 获得一个 `i32` 类型的引用。`&` 表示取引用。\n",
        "    let reference = &4;\n",
        "\n",
        "    match reference {\n",
        "        // 如果用 `&val` 这个模式去匹配 `reference`，就相当于做这样的比较：\n",
        "        // `&i32`（译注：即 `reference` 的类型）\n",
        "        // `&val`（译注：即用于匹配的模式）\n",
        "        // ^ 我们看到，如果去掉匹配的 `&`，`i32` 应当赋给 `val`。\n",
        "        // 译注：因此可用 `val` 表示被 `reference` 引用的值 4。\n",
        "        &val => println!(\"Got a value via destructuring: {:?}\", val),\n",
        "    }\n",
        "\n",
        "    // 如果不想用 `&`，需要在匹配前解引用。\n",
        "    match *reference {\n",
        "        val => println!(\"Got a value via dereferencing: {:?}\", val),\n",
        "    }\n",
        "\n",
        "    // 如果一开始就不用引用，会怎样？ `reference` 是一个 `&` 类型，因为赋值语句\n",
        "    // 的右边已经是一个引用。但下面这个不是引用，因为右边不是。\n",
        "    let _not_a_reference = 3;\n",
        "\n",
        "    // Rust 对这种情况提供了 `ref`。它更改了赋值行为，从而可以对具体值创建引用。\n",
        "    // 下面这行将得到一个引用。\n",
        "    let ref _is_a_reference = 3;\n",
        "\n",
        "    // 相应地，定义两个非引用的变量，通过 `ref` 和 `ref mut` 仍可取得其引用。\n",
        "    let value = 5;\n",
        "    let mut mut_value = 6;\n",
        "\n",
        "    // 使用 `ref` 关键字来创建引用。\n",
        "    // 译注：下面的 r 是 `&i32` 类型，它像 `i32` 一样可以直接打印，因此用法上\n",
        "    // 似乎看不出什么区别。但读者可以把 `println!` 中的 `r` 改成 `*r`，仍然能\n",
        "    // 正常运行。前面例子中的 `println!` 里就不能是 `*val`，因为不能对整数解\n",
        "    // 引用。\n",
        "    match value {\n",
        "        ref r => println!(\"Got a reference to a value: {:?}\", r),\n",
        "    }\n",
        "\n",
        "    // 类似地使用 `ref mut`。\n",
        "    match mut_value {\n",
        "        ref mut m => {\n",
        "            // 已经获得了 `mut_value` 的引用，先要解引用，才能改变它的值。\n",
        "            *m += 10;\n",
        "            println!(\"We added 10. `mut_value`: {:?}\", m);\n",
        "        },\n",
        "    }\n",
        "}\n",
        "main();\n"
      ]
    },
    {
      "cell_type": "markdown",
      "metadata": {},
      "source": [
        "\n",
        "### 参见：\n",
        "\n",
        "[ref 模式](../../../scope/borrow/ref.md)\n",
        "\n"
      ]
    }
  ],
  "metadata": {
    "kernelspec": {
      "display_name": "Rust",
      "language": "rust",
      "name": "rust"
    },
    "language_info": {
      "codemirror_mode": "rust",
      "file_extension": ".rs",
      "mimetype": "text/rust",
      "name": "Rust",
      "pygment_lexer": "rust",
      "version": ""
    }
  },
  "nbformat": 4,
  "nbformat_minor": 5
}