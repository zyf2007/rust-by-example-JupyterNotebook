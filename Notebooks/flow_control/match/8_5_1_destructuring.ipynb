{
  "cells": [
    {
      "cell_type": "markdown",
      "metadata": {},
      "source": [
        "# 解构\n",
        "\n",
        "`match` 代码块能以多种方式解构物件。\n",
        "\n",
        "- [解构元组][tuple]\n",
        "- [解构枚举][enum]\n",
        "- [解构指针][refs]\n",
        "- [解构结构体][struct]\n",
        "\n",
        "[enum]: destructuring/destructure_enum.md\n",
        "[refs]: destructuring/destructure_pointers.md\n",
        "[struct]: destructuring/destructure_structures.md\n",
        "[tuple]: destructuring/destructure_tuple.md\n",
        "\n"
      ]
    }
  ],
  "metadata": {
    "kernelspec": {
      "display_name": "Rust",
      "language": "rust",
      "name": "rust"
    },
    "language_info": {
      "codemirror_mode": "rust",
      "file_extension": ".rs",
      "mimetype": "text/rust",
      "name": "Rust",
      "pygment_lexer": "rust",
      "version": ""
    }
  },
  "nbformat": 4,
  "nbformat_minor": 5
}