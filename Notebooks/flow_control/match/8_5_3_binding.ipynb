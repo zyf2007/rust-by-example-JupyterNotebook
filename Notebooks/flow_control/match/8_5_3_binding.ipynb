{
  "cells": [
    {
      "cell_type": "markdown",
      "metadata": {},
      "source": [
        "# 绑定\n",
        "\n",
        "在 `match` 中，若间接地访问一个变量，则不经过重新绑定就无法在分支中再使用它。`match` 提供了 `@` 符号来绑定变量到名称：\n",
        "\n"
      ]
    },
    {
      "cell_type": "code",
      "execution_count": null,
      "metadata": {
        "vscode": {
          "languageId": "rust"
        }
      },
      "outputs": [],
      "source": [
        "// `age` 函数，返回一个 `u32` 值。\n",
        "fn age() -> u32 {\n",
        "    15\n",
        "}\n",
        "\n",
        "fn main() {\n",
        "    println!(\"Tell me what type of person you are\");\n",
        "\n",
        "    match age() {\n",
        "        0             => println!(\"I haven't celebrated my first birthday yet\"),\n",
        "        // 可以直接匹配（`match`） 1 ..= 12，但那样的话孩子会是几岁？\n",
        "        // 相反，在 1 ..= 12 分支中绑定匹配值到 `n` 。现在年龄就可以读取了。\n",
        "        n @ 1  ..= 12 => println!(\"I'm a child of age {:?}\", n),\n",
        "        n @ 13 ..= 19 => println!(\"I'm a teen of age {:?}\", n),\n",
        "        // 不符合上面的范围。返回结果。\n",
        "        n             => println!(\"I'm an old person of age {:?}\", n),\n",
        "    }\n",
        "}\n",
        "main();\n"
      ]
    },
    {
      "cell_type": "markdown",
      "metadata": {},
      "source": [
        "\n",
        "你也可以使用绑定来“解构” `enum` 变体，例如 `Option`:\n",
        "\n"
      ]
    },
    {
      "cell_type": "code",
      "execution_count": null,
      "metadata": {
        "vscode": {
          "languageId": "rust"
        }
      },
      "outputs": [],
      "source": [
        "fn some_number() -> Option<u32> {\n",
        "    Some(42)\n",
        "}\n",
        "\n",
        "fn main() {\n",
        "    match some_number() {\n",
        "        // 得到 `Some` 可变类型，如果它的值（绑定到 `n` 上）等于 42，则匹配。\n",
        "        Some(n @ 42) => println!(\"The Answer: {}!\", n),\n",
        "        // 匹配任意其他数字。\n",
        "        Some(n)      => println!(\"Not interesting... {}\", n),\n",
        "        // 匹配任意其他值（`None` 可变类型）。\n",
        "        _            => (),\n",
        "    }\n",
        "}\n",
        "main();\n"
      ]
    },
    {
      "cell_type": "markdown",
      "metadata": {},
      "source": [
        "\n",
        "### 参见：\n",
        "\n",
        "[`函数`][functions]，[`枚举`][enums] 和 [`Option`][option]\n",
        "\n",
        "[functions]: ../../fn.md\n",
        "[enums]: ../../custom_types/enum.md\n",
        "[option]: ../../std/option.md\n",
        "\n"
      ]
    }
  ],
  "metadata": {
    "kernelspec": {
      "display_name": "Rust",
      "language": "rust",
      "name": "rust"
    },
    "language_info": {
      "codemirror_mode": "rust",
      "file_extension": ".rs",
      "mimetype": "text/rust",
      "name": "Rust",
      "pygment_lexer": "rust",
      "version": ""
    }
  },
  "nbformat": 4,
  "nbformat_minor": 5
}