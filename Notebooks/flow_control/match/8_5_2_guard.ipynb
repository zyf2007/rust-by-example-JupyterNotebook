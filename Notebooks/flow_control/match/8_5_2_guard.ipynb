{
  "cells": [
    {
      "cell_type": "markdown",
      "metadata": {},
      "source": [
        "# 卫语句\n",
        "\n",
        "可以加上 `match` **卫语句**（guard） 来过滤分支。\n",
        "\n"
      ]
    },
    {
      "cell_type": "code",
      "execution_count": null,
      "metadata": {
        "vscode": {
          "languageId": "rust"
        }
      },
      "outputs": [],
      "source": [
        "fn main() {\n",
        "    let pair = (2, -2);\n",
        "    // 试一试 ^ 将不同的值赋给 `pair`\n",
        "\n",
        "    println!(\"Tell me about {:?}\", pair);\n",
        "    match pair {\n",
        "        (x, y) if x == y => println!(\"These are twins\"),\n",
        "        // ^ `if` 条件部分是一个卫语句\n",
        "        (x, y) if x + y == 0 => println!(\"Antimatter, kaboom!\"),\n",
        "        (x, _) if x % 2 == 1 => println!(\"The first one is odd\"),\n",
        "        _ => println!(\"No correlation...\"),\n",
        "    }\n",
        "}\n",
        "main();\n"
      ]
    },
    {
      "cell_type": "markdown",
      "metadata": {},
      "source": [
        "\n",
        "### 参见：\n",
        "\n",
        "[元组](../../primitives/tuples.md)\n",
        "\n"
      ]
    }
  ],
  "metadata": {
    "kernelspec": {
      "display_name": "Rust",
      "language": "rust",
      "name": "rust"
    },
    "language_info": {
      "codemirror_mode": "rust",
      "file_extension": ".rs",
      "mimetype": "text/rust",
      "name": "Rust",
      "pygment_lexer": "rust",
      "version": ""
    }
  },
  "nbformat": 4,
  "nbformat_minor": 5
}