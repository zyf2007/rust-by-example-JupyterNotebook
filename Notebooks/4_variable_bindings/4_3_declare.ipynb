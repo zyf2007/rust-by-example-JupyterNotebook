{
  "cells": [
    {
      "cell_type": "markdown",
      "metadata": {},
      "source": [
        "# 变量先声明\n",
        "\n",
        "可以先声明（declare）变量绑定，后面才将它们初始化（initialize）。但是这种做法很少用，因为这样可能导致使用未初始化的变量。\n",
        "\n"
      ]
    },
    {
      "cell_type": "code",
      "execution_count": null,
      "metadata": {
        "vscode": {
          "languageId": "rust"
        }
      },
      "outputs": [],
      "source": [
        "fn main() {\n",
        "    // 声明一个变量绑定\n",
        "    let a_binding;\n",
        "\n",
        "    {\n",
        "        let x = 2;\n",
        "\n",
        "        // 初始化一个绑定\n",
        "        a_binding = x * x;\n",
        "    }\n",
        "\n",
        "    println!(\"a binding: {}\", a_binding);\n",
        "\n",
        "    let another_binding;\n",
        "\n",
        "    // 报错！使用了未初始化的绑定\n",
        "    println!(\"another binding: {}\", another_binding);\n",
        "    // 改正 ^ 注释掉此行\n",
        "\n",
        "    another_binding = 1;\n",
        "\n",
        "    println!(\"another binding: {}\", another_binding);\n",
        "}\n",
        "main();\n"
      ]
    },
    {
      "cell_type": "markdown",
      "metadata": {},
      "source": [
        "\n",
        "编译器禁止使用未经初始化的变量，因为这会产生未定义行为（undefined behavior）。\n",
        "\n"
      ]
    }
  ],
  "metadata": {
    "kernelspec": {
      "display_name": "Rust",
      "language": "rust",
      "name": "rust"
    },
    "language_info": {
      "codemirror_mode": "rust",
      "file_extension": ".rs",
      "mimetype": "text/rust",
      "name": "Rust",
      "pygment_lexer": "rust",
      "version": ""
    }
  },
  "nbformat": 4,
  "nbformat_minor": 5
}