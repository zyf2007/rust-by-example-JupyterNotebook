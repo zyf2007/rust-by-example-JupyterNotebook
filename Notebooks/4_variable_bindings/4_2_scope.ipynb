{
  "cells": [
    {
      "cell_type": "markdown",
      "metadata": {},
      "source": [
        "# 作用域和遮蔽\n",
        "\n",
        "变量绑定有一个作用域（scope），它被限定只在一个**代码块**（block）中生存（live）。\n",
        "代码块是一个被 `{}` 包围的语句集合。另外也允许[变量遮蔽][variable-shadow]（variable\n",
        " shadowing）。\n",
        "\n"
      ]
    },
    {
      "cell_type": "code",
      "execution_count": null,
      "metadata": {
        "vscode": {
          "languageId": "rust"
        }
      },
      "outputs": [],
      "source": [
        "fn main() {\n",
        "    // 此绑定生存于 main 函数中\n",
        "    let long_lived_binding = 1;\n",
        "\n",
        "    // 这是一个代码块，比 main 函数拥有更小的作用域\n",
        "    {\n",
        "        // 此绑定只存在于本代码块\n",
        "        let short_lived_binding = 2;\n",
        "\n",
        "        println!(\"inner short: {}\", short_lived_binding);\n",
        "\n",
        "        // 此绑定*遮蔽*了外面的绑定\n",
        "        let long_lived_binding = 5_f32;\n",
        "\n",
        "        println!(\"inner long: {}\", long_lived_binding);\n",
        "    }\n",
        "    // 代码块结束\n",
        "\n",
        "    // 报错！`short_lived_binding` 在此作用域上不存在\n",
        "    println!(\"outer short: {}\", short_lived_binding);\n",
        "    // 改正 ^ 注释掉这行\n",
        "\n",
        "    println!(\"outer long: {}\", long_lived_binding);\n",
        "\n",
        "    // 此绑定同样*遮蔽*了前面的绑定\n",
        "    let long_lived_binding = 'a';\n",
        "\n",
        "    println!(\"outer long: {}\", long_lived_binding);\n",
        "}\n",
        "main();\n"
      ]
    },
    {
      "cell_type": "markdown",
      "metadata": {},
      "source": [
        "\n",
        "[variable-shadow]: https://en.wikipedia.org/wiki/Variable_shadowing\n",
        "\n"
      ]
    }
  ],
  "metadata": {
    "kernelspec": {
      "display_name": "Rust",
      "language": "rust",
      "name": "rust"
    },
    "language_info": {
      "codemirror_mode": "rust",
      "file_extension": ".rs",
      "mimetype": "text/rust",
      "name": "Rust",
      "pygment_lexer": "rust",
      "version": ""
    }
  },
  "nbformat": 4,
  "nbformat_minor": 5
}