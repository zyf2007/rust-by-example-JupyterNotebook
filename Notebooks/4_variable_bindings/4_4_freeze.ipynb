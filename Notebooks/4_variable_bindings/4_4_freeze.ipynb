{
  "cells": [
    {
      "cell_type": "markdown",
      "metadata": {},
      "source": [
        "# 冻结\n",
        "\n",
        "当数据被相同的名称不变地绑定时，它还会**冻结**（freeze）。在不可变绑定超出作用域之前，无法修改已冻结的数据：\n",
        "\n"
      ]
    },
    {
      "cell_type": "code",
      "execution_count": null,
      "metadata": {
        "vscode": {
          "languageId": "rust"
        }
      },
      "outputs": [],
      "source": [
        "fn main() {\n",
        "    let mut _mutable_integer = 7i32;\n",
        "\n",
        "    {\n",
        "        // 被不可变的 `_mutable_integer` 遮蔽\n",
        "        let _mutable_integer = _mutable_integer;\n",
        "\n",
        "        // 报错！`_mutable_integer` 在本作用域被冻结\n",
        "        _mutable_integer = 50;\n",
        "        // 改正 ^ 注释掉上面这行\n",
        "\n",
        "        // `_mutable_integer` 离开作用域\n",
        "    }\n",
        "\n",
        "    // 正常运行！ `_mutable_integer` 在这个作用域没有冻结\n",
        "    _mutable_integer = 3;\n",
        "}\n",
        "main();\n"
      ]
    },
    {
      "cell_type": "markdown",
      "metadata": {},
      "source": [
        "\n"
      ]
    }
  ],
  "metadata": {
    "kernelspec": {
      "display_name": "Rust",
      "language": "rust",
      "name": "rust"
    },
    "language_info": {
      "codemirror_mode": "rust",
      "file_extension": ".rs",
      "mimetype": "text/rust",
      "name": "Rust",
      "pygment_lexer": "rust",
      "version": ""
    }
  },
  "nbformat": 4,
  "nbformat_minor": 5
}