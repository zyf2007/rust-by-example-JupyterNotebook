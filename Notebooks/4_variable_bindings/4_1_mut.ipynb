{
  "cells": [
    {
      "cell_type": "markdown",
      "metadata": {},
      "source": [
        "# 可变变量\n",
        "\n",
        "变量绑定默认是不可变的（immutable），但加上 `mut` 修饰语后变量就可以改变。\n",
        "\n"
      ]
    },
    {
      "cell_type": "code",
      "execution_count": null,
      "metadata": {
        "vscode": {
          "languageId": "rust"
        }
      },
      "outputs": [],
      "source": [
        "fn main() {\n",
        "    let _immutable_binding = 1;\n",
        "    let mut mutable_binding = 1;\n",
        "\n",
        "    println!(\"Before mutation: {}\", mutable_binding);\n",
        "\n",
        "    // 正确代码\n",
        "    mutable_binding += 1;\n",
        "\n",
        "    println!(\"After mutation: {}\", mutable_binding);\n",
        "\n",
        "    // 错误！\n",
        "    _immutable_binding += 1;\n",
        "    // 改正 ^ 将此行注释掉\n",
        "}\n",
        "main();\n"
      ]
    },
    {
      "cell_type": "markdown",
      "metadata": {},
      "source": [
        "\n",
        "编译器会给出关于变量可变性的详细诊断信息。\n",
        "\n"
      ]
    }
  ],
  "metadata": {
    "kernelspec": {
      "display_name": "Rust",
      "language": "rust",
      "name": "rust"
    },
    "language_info": {
      "codemirror_mode": "rust",
      "file_extension": ".rs",
      "mimetype": "text/rust",
      "name": "Rust",
      "pygment_lexer": "rust",
      "version": ""
    }
  },
  "nbformat": 4,
  "nbformat_minor": 5
}