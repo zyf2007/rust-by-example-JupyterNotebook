{
  "cells": [
    {
      "cell_type": "markdown",
      "metadata": {},
      "source": [
        "# 标准库类型\n",
        "\n",
        "标准库提供了很多自定义类型，在**原生类型**基础上进行了大量扩充。这是部分自定义类型：\n",
        "\n",
        "* 可增长的 `String`（字符串），如: `\"hello world\"`\n",
        "* 可增长的向量（vector）: `[1, 2, 3]`\n",
        "* 选项类型（optional types）: `Option<i32>`\n",
        "* 错误处理类型（error handling types）: `Result<i32, i32>`\n",
        "* 堆分配的指针（heap allocated pointers）: `Box<i32>`\n",
        "\n",
        "### 参见：\n",
        "\n",
        "[原生类型][primitives] 和 [标准库][std]\n",
        "\n",
        "[primitives]: primitives.md\n",
        "[std]: https://rustwiki.org/zh-CN/std/\n",
        "\n"
      ]
    }
  ],
  "metadata": {
    "kernelspec": {
      "display_name": "Rust",
      "language": "rust",
      "name": "rust"
    },
    "language_info": {
      "codemirror_mode": "rust",
      "file_extension": ".rs",
      "mimetype": "text/rust",
      "name": "Rust",
      "pygment_lexer": "rust",
      "version": ""
    }
  },
  "nbformat": 4,
  "nbformat_minor": 5
}