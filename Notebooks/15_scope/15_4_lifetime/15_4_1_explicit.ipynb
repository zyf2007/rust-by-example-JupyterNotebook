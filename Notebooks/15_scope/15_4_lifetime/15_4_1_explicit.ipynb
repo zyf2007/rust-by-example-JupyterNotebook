{
  "cells": [
    {
      "cell_type": "markdown",
      "metadata": {},
      "source": [
        "# 显式标注\n",
        "\n",
        "借用检查器使用显式的生命周期标记来明确引用的有效时间应该持续多久。在生命周期没有省略[^1]的情况下，Rust 需要显式标注来确定引用的生命周期应该是什么样的。可以用撇号显式地标出生命周期，语法如下：\n",
        "\n"
      ]
    },
    {
      "cell_type": "code",
      "execution_count": null,
      "metadata": {
        "vscode": {
          "languageId": "rust"
        }
      },
      "outputs": [],
      "source": [
        "foo<'a>\n",
        "// `foo` 带有一个生命周期参数 `'a`\n"
      ]
    },
    {
      "cell_type": "markdown",
      "metadata": {},
      "source": [
        "\n",
        "和[闭包][anonymity]类似，使用生命周期需要泛型。另外这个生命周期的语法也表明了 `foo` 的生命周期不能超出 `'a` 的周期。若要给类型显式地标注生命周期，其语法会像是 `&'a T` 这样，其中 `'a` 的作用刚刚已经介绍了。\n",
        "\n"
      ]
    },
    {
      "cell_type": "code",
      "execution_count": null,
      "metadata": {
        "vscode": {
          "languageId": "rust"
        }
      },
      "outputs": [],
      "source": [
        "foo<'a, 'b>\n",
        "// `foo` 带有生命周期参数 `'a` 和 `'b`\n"
      ]
    },
    {
      "cell_type": "markdown",
      "metadata": {},
      "source": [
        "\n",
        "在上面这种情形中，`foo` 的生命周期不能超出 `'a` 和 `'b` 中任一个的周期。\n",
        "\n",
        "看下面的例子，了解显式生命周期标注的运用：\n",
        "\n"
      ]
    },
    {
      "cell_type": "code",
      "execution_count": null,
      "metadata": {
        "vscode": {
          "languageId": "rust"
        }
      },
      "outputs": [],
      "source": [
        "// `print_refs` 接受两个 `i32` 的引用，它们有不同的生命周期 `'a` 和 `'b`。\n",
        "// 这两个生命周期都必须至少要和 `print_refs` 函数一样长。\n",
        "fn print_refs<'a, 'b>(x: &'a i32, y: &'b i32) {\n",
        "    println!(\"x is {} and y is {}\", x, y);\n",
        "}\n",
        "\n",
        "// 不带参数的函数，不过有一个生命周期参数 `'a`。\n",
        "fn failed_borrow<'a>() {\n",
        "    let _x = 12;\n",
        "\n",
        "    // 报错：`_x` 的生命周期不够长\n",
        "    //let y: &'a i32 = &_x;\n",
        "    // 在函数内部使用生命周期 `'a` 作为显式类型标注将导致失败，因为 `&_x` 的\n",
        "    // 生命周期比 `y` 的短。短生命周期不能强制转换成长生命周期。\n",
        "}\n",
        "\n",
        "fn main() {\n",
        "    // 创建变量，稍后用于借用。\n",
        "    let (four, nine) = (4, 9);\n",
        "\n",
        "    // 两个变量的借用（`&`）都传进函数。\n",
        "    print_refs(&four, &nine);\n",
        "    // 任何被借用的输入量都必须比借用者生存得更长。\n",
        "    // 也就是说，`four` 和 `nine` 的生命周期都必须比 `print_refs` 的长。\n",
        "\n",
        "    failed_borrow();\n",
        "    // `failed_borrow` 未包含引用，因此不要求 `'a` 长于函数的生命周期，\n",
        "    // 但 `'a` 寿命确实更长。因为该生命周期从未被约束，所以默认为 `'static`。\n",
        "}\n",
        "main();\n"
      ]
    },
    {
      "cell_type": "markdown",
      "metadata": {},
      "source": [
        "\n",
        "[^1]: [省略][elision] 隐式地标注了生命周期，所以情况不同。\n",
        "\n",
        "### 参见：\n",
        "\n",
        "[泛型][generics] 和 [闭包][closures]\n",
        "\n",
        "[anonymity]: ../../fn/closures/anonymity.md\n",
        "[closures]: ../../fn/closures.md\n",
        "[elision]: elision.md\n",
        "[generics]: ../../generics.md\n",
        "\n"
      ]
    }
  ],
  "metadata": {
    "kernelspec": {
      "display_name": "Rust",
      "language": "rust",
      "name": "rust"
    },
    "language_info": {
      "codemirror_mode": "rust",
      "file_extension": ".rs",
      "mimetype": "text/rust",
      "name": "Rust",
      "pygment_lexer": "rust",
      "version": ""
    }
  },
  "nbformat": 4,
  "nbformat_minor": 5
}