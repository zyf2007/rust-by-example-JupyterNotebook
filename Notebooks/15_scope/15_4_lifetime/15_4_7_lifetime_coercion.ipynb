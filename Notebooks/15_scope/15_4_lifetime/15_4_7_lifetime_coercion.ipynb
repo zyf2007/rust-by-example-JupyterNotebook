{
  "cells": [
    {
      "cell_type": "markdown",
      "metadata": {},
      "source": [
        "# 强制转换\n",
        "\n",
        "一个较长的生命周期可以强制转成一个较短的生命周期，使它在一个通常情况下不能工作的作用域内也能正常工作。强制转换可由编译器隐式地推导并执行，也可以通过声明不同的生命周期的形式实现。\n",
        "\n"
      ]
    },
    {
      "cell_type": "code",
      "execution_count": null,
      "metadata": {
        "vscode": {
          "languageId": "rust"
        }
      },
      "outputs": [],
      "source": [
        "// 在这里，Rust 推导了一个尽可能短的生命周期。\n",
        "// 然后这两个引用都被强制转成这个生命周期。\n",
        "fn multiply<'a>(first: &'a i32, second: &'a i32) -> i32 {\n",
        "    first * second\n",
        "}\n",
        "\n",
        "// `<'a: 'b, 'b>` 读作生命周期 `'a` 至少和 `'b` 一样长。\n",
        "// 在这里我们我们接受了一个 `&'a i32` 类型并返回一个 `&'b i32` 类型，这是\n",
        "// 强制转换得到的结果。\n",
        "fn choose_first<'a: 'b, 'b>(first: &'a i32, _: &'b i32) -> &'b i32 {\n",
        "    first\n",
        "}\n",
        "\n",
        "fn main() {\n",
        "    let first = 2; // 较长的生命周期\n",
        "\n",
        "    {\n",
        "        let second = 3; // 较短的生命周期\n",
        "\n",
        "        println!(\"The product is {}\", multiply(&first, &second));\n",
        "        println!(\"{} is the first\", choose_first(&first, &second));\n",
        "    };\n",
        "}\n",
        "main();\n"
      ]
    },
    {
      "cell_type": "markdown",
      "metadata": {},
      "source": [
        "\n"
      ]
    }
  ],
  "metadata": {
    "kernelspec": {
      "display_name": "Rust",
      "language": "rust",
      "name": "rust"
    },
    "language_info": {
      "codemirror_mode": "rust",
      "file_extension": ".rs",
      "mimetype": "text/rust",
      "name": "Rust",
      "pygment_lexer": "rust",
      "version": ""
    }
  },
  "nbformat": 4,
  "nbformat_minor": 5
}