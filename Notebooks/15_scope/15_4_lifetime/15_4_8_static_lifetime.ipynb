{
  "cells": [
    {
      "cell_type": "markdown",
      "metadata": {},
      "source": [
        "# static\n",
        "\n",
        "`'static` 生命周期是可能的生命周期中最长的，它会在整个程序运行的时期中存在。`'static` 生命周期也可被强制转换成一个更短的生命周期。有两种方式使变量拥有 `'static` 生命周期，它们都把数据保存在可执行文件的只读内存区：\n",
        "\n",
        "- 使用 `static` 声明来产生常量（constant）。\n",
        "- 产生一个拥有 `&'static str` 类型的 `string` 字面量。\n",
        "\n",
        "看下面的例子，了解列举到的各个方法：\n",
        "\n"
      ]
    },
    {
      "cell_type": "code",
      "execution_count": null,
      "metadata": {
        "vscode": {
          "languageId": "rust"
        }
      },
      "outputs": [],
      "source": [
        "// 产生一个拥有 `'static` 生命周期的常量。\n",
        "static NUM: i32 = 18;\n",
        "\n",
        "// 返回一个指向 `NUM` 的引用，该引用不取 `NUM` 的 `'static` 生命周期，\n",
        "// 而是被强制转换成和输入参数的一样。\n",
        "fn coerce_static<'a>(_: &'a i32) -> &'a i32 {\n",
        "    &NUM\n",
        "}\n",
        "\n",
        "fn main() {\n",
        "    {\n",
        "        // 产生一个 `string` 字面量并打印它：\n",
        "        let static_string = \"I'm in read-only memory\";\n",
        "        println!(\"static_string: {}\", static_string);\n",
        "\n",
        "        // 当 `static_string` 离开作用域时，该引用不能再使用，不过\n",
        "        // 数据仍然存在于二进制文件里面。\n",
        "    }\n",
        "\n",
        "    {\n",
        "        // 产生一个整型给 `coerce_static` 使用：\n",
        "        let lifetime_num = 9;\n",
        "\n",
        "        // 将对 `NUM` 的引用强制转换成 `lifetime_num` 的生命周期：\n",
        "        let coerced_static = coerce_static(&lifetime_num);\n",
        "\n",
        "        println!(\"coerced_static: {}\", coerced_static);\n",
        "    }\n",
        "\n",
        "    println!(\"NUM: {} stays accessible!\", NUM);\n",
        "}\n",
        "main();\n"
      ]
    },
    {
      "cell_type": "markdown",
      "metadata": {},
      "source": [
        "\n",
        "### 参见：\n",
        "\n",
        "[`'static` 常量][static_const]\n",
        "\n",
        "[static_const]: ../../custom_types/constants.md\n",
        "\n"
      ]
    }
  ],
  "metadata": {
    "kernelspec": {
      "display_name": "Rust",
      "language": "rust",
      "name": "rust"
    },
    "language_info": {
      "codemirror_mode": "rust",
      "file_extension": ".rs",
      "mimetype": "text/rust",
      "name": "Rust",
      "pygment_lexer": "rust",
      "version": ""
    }
  },
  "nbformat": 4,
  "nbformat_minor": 5
}