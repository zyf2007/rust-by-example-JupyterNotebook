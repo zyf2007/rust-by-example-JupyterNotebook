{
  "cells": [
    {
      "cell_type": "markdown",
      "metadata": {},
      "source": [
        "# RAII\n",
        "\n",
        "Rust 的变量不只是在栈中保存数据：它们也**占有**资源，比如 `Box<T>` 占有堆（heap）中的内存。Rust 强制实行 [RAII][raii]（Resource Acquisition Is Initialization，资源获取即初始化），所以任何对象在离开作用域时，它的析构函数（destructor）就被调用，然后它占有的资源就被释放。\n",
        "\n",
        "这种行为避免了**资源泄漏**（resource leak），所以你再也不用手动释放内存或者担心内存泄漏（memory leak）！下面是个快速入门示例：\n",
        "\n"
      ]
    },
    {
      "cell_type": "code",
      "execution_count": null,
      "metadata": {
        "vscode": {
          "languageId": "rust"
        }
      },
      "outputs": [],
      "source": [
        "// raii.rs\n",
        "fn create_box() {\n",
        "    // 在堆上分配一个整型数据\n",
        "    let _box1 = Box::new(3i32);\n",
        "\n",
        "    // `_box1` 在这里被销毁，内存得到释放\n",
        "}\n",
        "\n",
        "fn main() {\n",
        "    // 在堆上分配一个整型数据\n",
        "    let _box2 = Box::new(5i32);\n",
        "\n",
        "    // 嵌套作用域：\n",
        "    {\n",
        "        // 在堆上分配一个整型数据\n",
        "        let _box3 = Box::new(4i32);\n",
        "\n",
        "        // `_box3` 在这里被销毁，内存得到释放\n",
        "    }\n",
        "\n",
        "    // 创建一大堆 box（只是因为好玩）。\n",
        "    // 完全不需要手动释放内存！\n",
        "    for _ in 0u32..1_000 {\n",
        "        create_box();\n",
        "    }\n",
        "\n",
        "    // `_box2` 在这里被销毁，内存得到释放\n",
        "}\n",
        "main();\n"
      ]
    },
    {
      "cell_type": "markdown",
      "metadata": {},
      "source": [
        "\n",
        "当然我们可以使用 [`valgrind`][valgrind] 对内存错误进行仔细检查：\n",
        "\n"
      ]
    },
    {
      "cell_type": "code",
      "execution_count": null,
      "metadata": {
        "vscode": {
          "languageId": "bash"
        }
      },
      "outputs": [],
      "source": [
        "$ rustc raii.rs && valgrind ./raii\n",
        "==26873== Memcheck, a memory error detector\n",
        "==26873== Copyright (C) 2002-2013, and GNU GPL'd, by Julian Seward et al.\n",
        "==26873== Using Valgrind-3.9.0 and LibVEX; rerun with -h for copyright info\n",
        "==26873== Command: ./raii\n",
        "==26873==\n",
        "==26873==\n",
        "==26873== HEAP SUMMARY:\n",
        "==26873==     in use at exit: 0 bytes in 0 blocks\n",
        "==26873==   total heap usage: 1,013 allocs, 1,013 frees, 8,696 bytes allocated\n",
        "==26873==\n",
        "==26873== All heap blocks were freed -- no leaks are possible\n",
        "==26873==\n",
        "==26873== For counts of detected and suppressed errors, rerun with: -v\n",
        "==26873== ERROR SUMMARY: 0 errors from 0 contexts (suppressed: 2 from 2)\n"
      ]
    },
    {
      "cell_type": "markdown",
      "metadata": {},
      "source": [
        "\n",
        "完全没有泄漏！\n",
        "\n",
        "## 析构函数\n",
        "\n",
        "Rust 中的析构函数概念是通过 [`Drop`] trait 提供的。当资源离开作用域，就调用析构函数。你无需为每种类型都实现 [`Drop`] trait，只要为那些需要自己的析构函数逻辑的类型实现就可以了。\n",
        "\n",
        "运行下列例子，看看 [`Drop`] trait 是怎样工作的。当 `main` 函数中的变量离开作用域，自定义的析构函数就会被调用：\n",
        "\n"
      ]
    },
    {
      "cell_type": "code",
      "execution_count": null,
      "metadata": {
        "vscode": {
          "languageId": "rust"
        }
      },
      "outputs": [],
      "source": [
        "struct ToDrop;\n",
        "\n",
        "impl Drop for ToDrop {\n",
        "    fn drop(&mut self) {\n",
        "        println!(\"ToDrop is being dropped\");\n",
        "    }\n",
        "}\n",
        "\n",
        "fn main() {\n",
        "    let x = ToDrop;\n",
        "    println!(\"Made a ToDrop!\");\n",
        "}\n",
        "main();\n"
      ]
    },
    {
      "cell_type": "markdown",
      "metadata": {},
      "source": [
        "\n",
        "### 参见：\n",
        "\n",
        "[Box][box]\n",
        "\n",
        "[raii]: https://en.wikipedia.org/wiki/Resource_Acquisition_Is_Initialization\n",
        "[box]: ../std/box.md\n",
        "[valgrind]: https://valgrind.org/info/\n",
        "[`Drop`]: https://rustwiki.org/zh-CN/std/ops/trait.Drop.html\n",
        "\n"
      ]
    }
  ],
  "metadata": {
    "kernelspec": {
      "display_name": "Rust",
      "language": "rust",
      "name": "rust"
    },
    "language_info": {
      "codemirror_mode": "rust",
      "file_extension": ".rs",
      "mimetype": "text/rust",
      "name": "Rust",
      "pygment_lexer": "rust",
      "version": ""
    }
  },
  "nbformat": 4,
  "nbformat_minor": 5
}