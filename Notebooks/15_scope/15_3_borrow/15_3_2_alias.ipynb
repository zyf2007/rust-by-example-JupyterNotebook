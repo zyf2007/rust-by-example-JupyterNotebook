{
  "cells": [
    {
      "cell_type": "markdown",
      "metadata": {},
      "source": [
        "# 别名使用\n",
        "\n",
        "数据可以多次不可变借用，但是在不可变借用的同时，原始数据不能使用可变借用。或者说，同一时间内只允许**一次**可变借用。仅当最后一次使用可变引用**之后**，原始数据才可以再次借用。\n",
        "\n"
      ]
    },
    {
      "cell_type": "code",
      "execution_count": null,
      "metadata": {
        "vscode": {
          "languageId": "rust"
        }
      },
      "outputs": [],
      "source": [
        "struct Point { x: i32, y: i32, z: i32 }\n",
        "\n",
        "fn main() {\n",
        "    let mut point = Point { x: 0, y: 0, z: 0 };\n",
        "\n",
        "    let borrowed_point = &point;\n",
        "    let another_borrow = &point;\n",
        "\n",
        "    // 数据可以通过引用或原始类型来访问\n",
        "    println!(\"Point has coordinates: ({}, {}, {})\",\n",
        "                borrowed_point.x, another_borrow.y, point.z);\n",
        "    \n",
        "    // 报错！`point` 不能以可变方式借用，因为当前还有不可变借用。\n",
        "    // let mutable_borrow = &mut point;\n",
        "    // TODO ^ 试一试去掉此行注释\n",
        "\n",
        "    // 被借用的值在这里被重新使用\n",
        "    println!(\"Point has coordinates: ({}, {}, {})\",\n",
        "                borrowed_point.x, another_borrow.y, point.z);\n",
        "\n",
        "    // 不可变的引用不再用于其余的代码，因此可以使用可变的引用重新借用。\n",
        "    let mutable_borrow = &mut point;\n",
        "\n",
        "    // 通过可变引用来修改数据\n",
        "    mutable_borrow.x = 5;\n",
        "    mutable_borrow.y = 2;\n",
        "    mutable_borrow.z = 1;\n",
        "\n",
        "    // 报错！不能再以不可变方式来借用 `point`，因为它当前已经被可变借用。\n",
        "    // let y = &point.y;\n",
        "    // TODO ^ 试一试去掉此行注释\n",
        "\n",
        "    // 报错！无法打印，因为 `println!` 用到了一个不可变引用。\n",
        "    // println!(\"Point Z coordinate is {}\", point.z);\n",
        "    // TODO ^ 试一试去掉此行注释\n",
        "\n",
        "    // 正常运行！可变引用能够以不可变类型传入 `println!`\n",
        "    println!(\"Point has coordinates: ({}, {}, {})\",\n",
        "                mutable_borrow.x, mutable_borrow.y, mutable_borrow.z);\n",
        "\n",
        "    // 可变引用不再用于其余的代码，因此可以重新借用\n",
        "    let new_borrowed_point = &point;\n",
        "    println!(\"Point now has coordinates: ({}, {}, {})\",\n",
        "             new_borrowed_point.x, new_borrowed_point.y, new_borrowed_point.z);\n",
        "}\n",
        "main();\n"
      ]
    },
    {
      "cell_type": "markdown",
      "metadata": {},
      "source": [
        "\n"
      ]
    }
  ],
  "metadata": {
    "kernelspec": {
      "display_name": "Rust",
      "language": "rust",
      "name": "rust"
    },
    "language_info": {
      "codemirror_mode": "rust",
      "file_extension": ".rs",
      "mimetype": "text/rust",
      "name": "Rust",
      "pygment_lexer": "rust",
      "version": ""
    }
  },
  "nbformat": 4,
  "nbformat_minor": 5
}