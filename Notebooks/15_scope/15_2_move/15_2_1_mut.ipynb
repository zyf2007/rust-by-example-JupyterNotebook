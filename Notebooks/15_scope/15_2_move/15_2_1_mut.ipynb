{
  "cells": [
    {
      "cell_type": "markdown",
      "metadata": {},
      "source": [
        "# 可变性\n",
        "\n",
        "当所有权转移时，数据的可变性可能发生改变。\n",
        "\n"
      ]
    },
    {
      "cell_type": "code",
      "execution_count": null,
      "metadata": {
        "vscode": {
          "languageId": "rust"
        }
      },
      "outputs": [],
      "source": [
        "fn main() {\n",
        "    let immutable_box = Box::new(5u32);\n",
        "\n",
        "    println!(\"immutable_box contains {}\", immutable_box);\n",
        "\n",
        "    // 可变性错误\n",
        "    //*immutable_box = 4;\n",
        "\n",
        "    // *移动* box，改变所有权（和可变性）\n",
        "    let mut mutable_box = immutable_box;\n",
        "\n",
        "    println!(\"mutable_box contains {}\", mutable_box);\n",
        "\n",
        "    // 修改 box 的内容\n",
        "    *mutable_box = 4;\n",
        "\n",
        "    println!(\"mutable_box now contains {}\", mutable_box);\n",
        "}\n",
        "main();\n"
      ]
    },
    {
      "cell_type": "markdown",
      "metadata": {},
      "source": [
        "\n"
      ]
    }
  ],
  "metadata": {
    "kernelspec": {
      "display_name": "Rust",
      "language": "rust",
      "name": "rust"
    },
    "language_info": {
      "codemirror_mode": "rust",
      "file_extension": ".rs",
      "mimetype": "text/rust",
      "name": "Rust",
      "pygment_lexer": "rust",
      "version": ""
    }
  },
  "nbformat": 4,
  "nbformat_minor": 5
}