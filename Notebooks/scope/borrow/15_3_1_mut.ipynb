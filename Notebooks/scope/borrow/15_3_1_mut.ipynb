{
  "cells": [
    {
      "cell_type": "markdown",
      "metadata": {},
      "source": [
        "# 可变性\n",
        "\n",
        "可变数据可以使用 `&mut T` 进行可变借用。这叫做**可变引用**（mutable reference），它使借用者可以读/写数据。相反，`&T` 通过不可变引用（immutable reference）来借用数据，借用者可以读数据而不能更改数据：\n",
        "\n"
      ]
    },
    {
      "cell_type": "code",
      "execution_count": null,
      "metadata": {
        "vscode": {
          "languageId": "rust"
        }
      },
      "outputs": [],
      "source": [
        "#[allow(dead_code)]\n",
        "#[derive(Clone, Copy)]\n",
        "struct Book {\n",
        "    // `&'static str` 是一个对分配在只读内存区的字符串的引用\n",
        "    author: &'static str,\n",
        "    title: &'static str,\n",
        "    year: u32,\n",
        "}\n",
        "\n",
        "// 此函数接受一个对 Book 类型的引用\n",
        "fn borrow_book(book: &Book) {\n",
        "    println!(\"I immutably borrowed {} - {} edition\", book.title, book.year);\n",
        "}\n",
        "\n",
        "// 此函数接受一个对可变的 Book 类型的引用，它把年份 `year` 改为 2014 年\n",
        "fn new_edition(book: &mut Book) {\n",
        "    book.year = 2014;\n",
        "    println!(\"I mutably borrowed {} - {} edition\", book.title, book.year);\n",
        "}\n",
        "\n",
        "fn main() {\n",
        "    // 创建一个名为 `immutabook` 的不可变的 Book 实例\n",
        "    let immutabook = Book {\n",
        "        // 字符串字面量拥有 `&'static str` 类型\n",
        "        author: \"Douglas Hofstadter\",\n",
        "        title: \"Gödel, Escher, Bach\",\n",
        "        year: 1979,\n",
        "    };\n",
        "\n",
        "    // 创建一个 `immutabook` 的可变拷贝，命名为 `mutabook`\n",
        "    let mut mutabook = immutabook;\n",
        "\n",
        "    // 不可变地借用一个不可变对象\n",
        "    borrow_book(&immutabook);\n",
        "\n",
        "    // 不可变地借用一个可变对象\n",
        "    borrow_book(&mutabook);\n",
        "\n",
        "    // 可变地借用一个可变对象\n",
        "    new_edition(&mut mutabook);\n",
        "\n",
        "    // 报错！不能可变地借用一个不可变对象\n",
        "    new_edition(&mut immutabook);\n",
        "    // 改正 ^ 注释掉此行\n",
        "}\n",
        "main();\n"
      ]
    },
    {
      "cell_type": "markdown",
      "metadata": {},
      "source": [
        "\n",
        "### 参见：\n",
        "\n",
        "[`static`][static]\n",
        "\n",
        "[static]: ../lifetime/static_lifetime.md\n",
        "\n"
      ]
    }
  ],
  "metadata": {
    "kernelspec": {
      "display_name": "Rust",
      "language": "rust",
      "name": "rust"
    },
    "language_info": {
      "codemirror_mode": "rust",
      "file_extension": ".rs",
      "mimetype": "text/rust",
      "name": "Rust",
      "pygment_lexer": "rust",
      "version": ""
    }
  },
  "nbformat": 4,
  "nbformat_minor": 5
}