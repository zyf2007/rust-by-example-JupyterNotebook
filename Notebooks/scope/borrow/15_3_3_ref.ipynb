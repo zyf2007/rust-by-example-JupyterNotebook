{
  "cells": [
    {
      "cell_type": "markdown",
      "metadata": {},
      "source": [
        "# `ref` 模式\n",
        "\n",
        "在通过 `let` 绑定来进行模式匹配或解构时，`ref` 关键字可用来创建结构体/元组的字段的引用。下面的例子展示了几个实例，可看到 `ref` 的作用：\n",
        "\n"
      ]
    },
    {
      "cell_type": "code",
      "execution_count": null,
      "metadata": {
        "vscode": {
          "languageId": "rust"
        }
      },
      "outputs": [],
      "source": [
        "#[derive(Clone, Copy)]\n",
        "struct Point { x: i32, y: i32 }\n",
        "\n",
        "fn main() {\n",
        "    let c = 'Q';\n",
        "\n",
        "    // 赋值语句中左边的 `ref` 关键字等价于右边的 `&` 符号。\n",
        "    let ref ref_c1 = c;\n",
        "    let ref_c2 = &c;\n",
        "\n",
        "    println!(\"ref_c1 equals ref_c2: {}\", *ref_c1 == *ref_c2);\n",
        "\n",
        "    let point = Point { x: 0, y: 0 };\n",
        "\n",
        "    // 在解构一个结构体时 `ref` 同样有效。\n",
        "    let _copy_of_x = {\n",
        "        // `ref_to_x` 是一个指向 `point` 的 `x` 字段的引用。\n",
        "        let Point { x: ref ref_to_x, y: _ } = point;\n",
        "\n",
        "        // 返回一个 `point` 的 `x` 字段的拷贝。\n",
        "        *ref_to_x\n",
        "    };\n",
        "\n",
        "    // `point` 的可变拷贝\n",
        "    let mut mutable_point = point;\n",
        "\n",
        "    {\n",
        "        // `ref` 可以与 `mut` 结合以创建可变引用。\n",
        "        let Point { x: _, y: ref mut mut_ref_to_y } = mutable_point;\n",
        "\n",
        "        // 通过可变引用来改变 `mutable_point` 的字段 `y`。\n",
        "        *mut_ref_to_y = 1;\n",
        "    }\n",
        "\n",
        "    println!(\"point is ({}, {})\", point.x, point.y);\n",
        "    println!(\"mutable_point is ({}, {})\", mutable_point.x, mutable_point.y);\n",
        "\n",
        "    // 包含一个指针的可变元组\n",
        "    let mut mutable_tuple = (Box::new(5u32), 3u32);\n",
        "    \n",
        "    {\n",
        "        // 解构 `mutable_tuple` 来改变 `last` 的值。\n",
        "        let (_, ref mut last) = mutable_tuple;\n",
        "        *last = 2u32;\n",
        "    }\n",
        "    \n",
        "    println!(\"tuple is {:?}\", mutable_tuple);\n",
        "}\n",
        "main();\n"
      ]
    },
    {
      "cell_type": "markdown",
      "metadata": {},
      "source": [
        "\n"
      ]
    }
  ],
  "metadata": {
    "kernelspec": {
      "display_name": "Rust",
      "language": "rust",
      "name": "rust"
    },
    "language_info": {
      "codemirror_mode": "rust",
      "file_extension": ".rs",
      "mimetype": "text/rust",
      "name": "Rust",
      "pygment_lexer": "rust",
      "version": ""
    }
  },
  "nbformat": 4,
  "nbformat_minor": 5
}