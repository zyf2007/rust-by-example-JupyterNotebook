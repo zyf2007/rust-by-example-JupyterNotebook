{
  "cells": [
    {
      "cell_type": "markdown",
      "metadata": {},
      "source": [
        "# 部分移动\n",
        "\n",
        "在单个变量的[解构][destructuring]内，可以同时使用 `by-move` 和 `by-reference` 模式绑定。这样做将导致变量的**部分移动**（partial move），这意味着变量的某些部分将被移动，而其他部分将保留。在这种情况下，后面不能整体使用父级变量，但是仍然可以使用只引用（而不移动）的部分。\n",
        "\n"
      ]
    },
    {
      "cell_type": "code",
      "execution_count": null,
      "metadata": {
        "vscode": {
          "languageId": "rust "
        }
      },
      "outputs": [],
      "source": [
        "fn main() {\n",
        "    #[derive(Debug)]\n",
        "    struct Person {\n",
        "        name: String,\n",
        "        age: u8,\n",
        "    }\n",
        "\n",
        "    let person = Person {\n",
        "        name: String::from(\"Alice\"),\n",
        "        age: 20,\n",
        "    };\n",
        "\n",
        "    // `name` 从 person 中移走，但 `age` 只是引用\n",
        "    let Person { name, ref age } = person;\n",
        "\n",
        "    println!(\"The person's age is {}\", age);\n",
        "\n",
        "    println!(\"The person's name is {}\", name);\n",
        "\n",
        "    // 报错！部分移动值的借用：`person` 部分借用产生\n",
        "    //println!(\"The person struct is {:?}\", person);\n",
        "\n",
        "    // `person` 不能使用，但 `person.age` 因为没有被移动而可以继续使用\n",
        "    println!(\"The person's age from person struct is {}\", person.age);\n",
        "}\n"
      ]
    },
    {
      "cell_type": "markdown",
      "metadata": {},
      "source": [
        "\n",
        "### 参见：\n",
        "\n",
        "[解构][destructuring]\n",
        "\n",
        "[destructuring]: ../../flow_control/match/destructuring.md\n",
        "\n"
      ]
    }
  ],
  "metadata": {
    "kernelspec": {
      "display_name": "Rust",
      "language": "rust",
      "name": "rust"
    },
    "language_info": {
      "codemirror_mode": "rust",
      "file_extension": ".rs",
      "mimetype": "text/rust",
      "name": "Rust",
      "pygment_lexer": "rust",
      "version": ""
    }
  },
  "nbformat": 4,
  "nbformat_minor": 5
}