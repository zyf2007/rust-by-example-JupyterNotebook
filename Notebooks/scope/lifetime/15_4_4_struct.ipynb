{
  "cells": [
    {
      "cell_type": "markdown",
      "metadata": {},
      "source": [
        "# 结构体\n",
        "\n",
        "在结构体中标注生命周期也和函数的类似：\n",
        "\n"
      ]
    },
    {
      "cell_type": "code",
      "execution_count": null,
      "metadata": {
        "vscode": {
          "languageId": "rust"
        }
      },
      "outputs": [],
      "source": [
        "// 一个 `Borrowed` 类型，含有一个指向 `i32` 类型的引用。\n",
        "// 该引用必须比 `Borrowed` 寿命更长。\n",
        "#[derive(Debug)]\n",
        "struct Borrowed<'a>(&'a i32);\n",
        "\n",
        "// 和前面类似，这里的两个引用都必须比这个结构体长寿。\n",
        "#[derive(Debug)]\n",
        "struct NamedBorrowed<'a> {\n",
        "    x: &'a i32,\n",
        "    y: &'a i32,\n",
        "}\n",
        "\n",
        "// 一个枚举类型，其取值不是 `i32` 类型就是一个指向 `i32` 的引用。\n",
        "#[derive(Debug)]\n",
        "enum Either<'a> {\n",
        "    Num(i32),\n",
        "    Ref(&'a i32),\n",
        "}\n",
        "\n",
        "fn main() {\n",
        "    let x = 18;\n",
        "    let y = 15;\n",
        "\n",
        "    let single = Borrowed(&x);\n",
        "    let double = NamedBorrowed { x: &x, y: &y };\n",
        "    let reference = Either::Ref(&x);\n",
        "    let number    = Either::Num(y);\n",
        "\n",
        "    println!(\"x is borrowed in {:?}\", single);\n",
        "    println!(\"x and y are borrowed in {:?}\", double);\n",
        "    println!(\"x is borrowed in {:?}\", reference);\n",
        "    println!(\"y is *not* borrowed in {:?}\", number);\n",
        "}\n",
        "main();\n"
      ]
    },
    {
      "cell_type": "markdown",
      "metadata": {},
      "source": [
        "\n",
        "### 参见：\n",
        "\n",
        "[结构体][structs]\n",
        "\n",
        "[structs]: ../../custom_types/structs.md\n",
        "\n"
      ]
    }
  ],
  "metadata": {
    "kernelspec": {
      "display_name": "Rust",
      "language": "rust",
      "name": "rust"
    },
    "language_info": {
      "codemirror_mode": "rust",
      "file_extension": ".rs",
      "mimetype": "text/rust",
      "name": "Rust",
      "pygment_lexer": "rust",
      "version": ""
    }
  },
  "nbformat": 4,
  "nbformat_minor": 5
}