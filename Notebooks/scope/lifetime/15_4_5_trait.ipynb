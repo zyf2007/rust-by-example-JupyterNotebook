{
  "cells": [
    {
      "cell_type": "markdown",
      "metadata": {},
      "source": [
        "# trait\n",
        "\n",
        "trait 方法中生命期的标注基本上与函数类似。注意，`impl` 也可能有生命周期的标注。\n",
        "\n"
      ]
    },
    {
      "cell_type": "code",
      "execution_count": null,
      "metadata": {
        "vscode": {
          "languageId": "rust"
        }
      },
      "outputs": [],
      "source": [
        "// 带有生命周期标注的结构体。\n",
        "#[derive(Debug)]\n",
        " struct Borrowed<'a> {\n",
        "     x: &'a i32,\n",
        " }\n",
        "\n",
        "// 给 impl 标注生命周期。\n",
        "impl<'a> Default for Borrowed<'a> {\n",
        "    fn default() -> Self {\n",
        "        Self {\n",
        "            x: &10,\n",
        "        }\n",
        "    }\n",
        "}\n",
        "\n",
        "fn main() {\n",
        "    let b: Borrowed = Default::default();\n",
        "    println!(\"b is {:?}\", b);\n",
        "}\n",
        "main();\n"
      ]
    },
    {
      "cell_type": "markdown",
      "metadata": {},
      "source": [
        "\n",
        "### 参见：\n",
        "\n",
        "[`trait`][trait]\n",
        "\n",
        "[trait]: ../../trait.md\n",
        "\n"
      ]
    }
  ],
  "metadata": {
    "kernelspec": {
      "display_name": "Rust",
      "language": "rust",
      "name": "rust"
    },
    "language_info": {
      "codemirror_mode": "rust",
      "file_extension": ".rs",
      "mimetype": "text/rust",
      "name": "Rust",
      "pygment_lexer": "rust",
      "version": ""
    }
  },
  "nbformat": 4,
  "nbformat_minor": 5
}