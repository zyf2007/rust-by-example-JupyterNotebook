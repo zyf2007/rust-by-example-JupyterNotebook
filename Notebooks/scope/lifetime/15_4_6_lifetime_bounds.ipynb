{
  "cells": [
    {
      "cell_type": "markdown",
      "metadata": {},
      "source": [
        "# 约束\n",
        "\n",
        "就如泛型类型能够被约束一样，生命周期（它们本身就是泛型）也可以使用约束。`:` 字符的意义在这里稍微有些不同，不过 `+` 是相同的。注意下面的说明：\n",
        "\n",
        "1. `T: 'a`：在 `T` 中的**所有**引用都必须比生命周期 `'a` 活得更长。\n",
        "2. `T: Trait + 'a`：`T` 类型必须实现 `Trait` trait，并且在 `T` 中的**所有**引用都必须比 `'a` 活得更长。\n",
        "\n",
        "下面例子展示了上述语法的实际应用：\n",
        "\n"
      ]
    },
    {
      "cell_type": "code",
      "execution_count": null,
      "metadata": {
        "vscode": {
          "languageId": "rust"
        }
      },
      "outputs": [],
      "source": [
        "use std::fmt::Debug; // 用于约束的 trait。\n",
        "\n",
        "#[derive(Debug)]\n",
        "struct Ref<'a, T: 'a>(&'a T);\n",
        "// `Ref` 包含一个指向泛型类型 `T` 的引用，其中 `T` 拥有一个未知的生命周期\n",
        "// `'a`。`T` 拥有生命周期限制， `T` 中的任何*引用*都必须比 `'a` 活得更长。另外\n",
        "// `Ref` 的生命周期也不能超出 `'a`。\n",
        "\n",
        "// 一个泛型函数，使用 `Debug` trait 来打印内容。\n",
        "fn print<T>(t: T) where\n",
        "    T: Debug {\n",
        "    println!(\"`print`: t is {:?}\", t);\n",
        "}\n",
        "\n",
        "// 这里接受一个指向 `T` 的引用，其中 `T` 实现了 `Debug` trait，并且在 `T` 中的\n",
        "// 所有*引用*都必须比 `'a'` 存活时间更长。另外，`'a` 也要比函数活得更长。\n",
        "fn print_ref<'a, T>(t: &'a T) where\n",
        "    T: Debug + 'a {\n",
        "    println!(\"`print_ref`: t is {:?}\", t);\n",
        "}\n",
        "\n",
        "fn main() {\n",
        "    let x = 7;\n",
        "    let ref_x = Ref(&x);\n",
        "\n",
        "    print_ref(&ref_x);\n",
        "    print(ref_x);\n",
        "}\n",
        "main();\n"
      ]
    },
    {
      "cell_type": "markdown",
      "metadata": {},
      "source": [
        "\n",
        "### 参见：\n",
        "\n",
        "[泛型][generics], [泛型中的约束][bounds], 以及 [泛型中的多重约束][multibounds]\n",
        "\n",
        "[generics]: ../../generics.md\n",
        "[bounds]: ../../generics/bounds.md\n",
        "[multibounds]: ../../generics/multi_bounds.md\n",
        "\n"
      ]
    }
  ],
  "metadata": {
    "kernelspec": {
      "display_name": "Rust",
      "language": "rust",
      "name": "rust"
    },
    "language_info": {
      "codemirror_mode": "rust",
      "file_extension": ".rs",
      "mimetype": "text/rust",
      "name": "Rust",
      "pygment_lexer": "rust",
      "version": ""
    }
  },
  "nbformat": 4,
  "nbformat_minor": 5
}