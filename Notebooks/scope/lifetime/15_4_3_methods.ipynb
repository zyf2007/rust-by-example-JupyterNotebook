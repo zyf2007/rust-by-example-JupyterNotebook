{
  "cells": [
    {
      "cell_type": "markdown",
      "metadata": {},
      "source": [
        "# 方法\n",
        "\n",
        "方法的标注和函数类似：\n",
        "\n"
      ]
    },
    {
      "cell_type": "code",
      "execution_count": null,
      "metadata": {
        "vscode": {
          "languageId": "rust"
        }
      },
      "outputs": [],
      "source": [
        "struct Owner(i32);\n",
        "\n",
        "impl Owner {\n",
        "    // 标注生命周期，就像独立的函数一样。\n",
        "    fn add_one<'a>(&'a mut self) { self.0 += 1; }\n",
        "    fn print<'a>(&'a self) {\n",
        "        println!(\"`print`: {}\", self.0);\n",
        "    }\n",
        "}\n",
        "\n",
        "fn main() {\n",
        "    let mut owner  = Owner(18);\n",
        "\n",
        "    owner.add_one();\n",
        "    owner.print();\n",
        "}\n",
        "main();\n"
      ]
    },
    {
      "cell_type": "markdown",
      "metadata": {},
      "source": [
        "\n",
        "> 译注：方法一般是不需要标明生命周期的，因为 `self` 的生命周期会赋给所有的输出生命周期参数，详见 [TRPL](https://rustwiki.org/zh-CN/book/ch10-03-lifetime-syntax.html#生命周期省略lifetime-elision)。\n",
        "\n",
        "### 参见：\n",
        "\n",
        "[方法][methods]\n",
        "\n",
        "[methods]: ../../fn/methods.md\n",
        "\n"
      ]
    }
  ],
  "metadata": {
    "kernelspec": {
      "display_name": "Rust",
      "language": "rust",
      "name": "rust"
    },
    "language_info": {
      "codemirror_mode": "rust",
      "file_extension": ".rs",
      "mimetype": "text/rust",
      "name": "Rust",
      "pygment_lexer": "rust",
      "version": ""
    }
  },
  "nbformat": 4,
  "nbformat_minor": 5
}