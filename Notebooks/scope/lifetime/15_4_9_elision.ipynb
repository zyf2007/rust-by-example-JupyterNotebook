{
  "cells": [
    {
      "cell_type": "markdown",
      "metadata": {},
      "source": [
        "# 省略\n",
        "\n",
        "有些生命周期的模式太常用了，所以借用检查器将会隐式地添加它们以减少程序输入量和增强可读性。这种隐式添加生命周期的过程称为省略（elision）。在 Rust 使用省略仅仅是因为这些模式太普遍了。\n",
        "\n",
        "下面代码展示了一些省略的例子。对于省略的详细描述，可以参考官方文档的[生命周期省略][elision]。\n",
        "\n"
      ]
    },
    {
      "cell_type": "code",
      "execution_count": null,
      "metadata": {
        "vscode": {
          "languageId": "rust"
        }
      },
      "outputs": [],
      "source": [
        "// `elided_input` 和 `annotated_input` 事实上拥有相同的签名，\n",
        "// `elided_input` 的生命周期会被编译器自动添加：\n",
        "fn elided_input(x: &i32) {\n",
        "    println!(\"`elided_input`: {}\", x)\n",
        "}\n",
        "\n",
        "fn annotated_input<'a>(x: &'a i32) {\n",
        "    println!(\"`annotated_input`: {}\", x)\n",
        "}\n",
        "\n",
        "// 类似地，`elided_pass` 和 `annotated_pass` 也拥有相同的签名，\n",
        "// 生命周期会被隐式地添加进 `elided_pass`：\n",
        "fn elided_pass(x: &i32) -> &i32 { x }\n",
        "\n",
        "fn annotated_pass<'a>(x: &'a i32) -> &'a i32 { x }\n",
        "\n",
        "fn main() {\n",
        "    let x = 3;\n",
        "\n",
        "    elided_input(&x);\n",
        "    annotated_input(&x);\n",
        "\n",
        "    println!(\"`elided_pass`: {}\", elided_pass(&x));\n",
        "    println!(\"`annotated_pass`: {}\", annotated_pass(&x));\n",
        "}\n",
        "main();\n"
      ]
    },
    {
      "cell_type": "markdown",
      "metadata": {},
      "source": [
        "\n",
        "### 参见：\n",
        "\n",
        "[省略][elision]\n",
        "\n",
        "[elision]: https://rustwiki.org/zh-CN/book/ch10-03-lifetime-syntax.html#生命周期省略lifetime-elision\n",
        "\n"
      ]
    }
  ],
  "metadata": {
    "kernelspec": {
      "display_name": "Rust",
      "language": "rust",
      "name": "rust"
    },
    "language_info": {
      "codemirror_mode": "rust",
      "file_extension": ".rs",
      "mimetype": "text/rust",
      "name": "Rust",
      "pygment_lexer": "rust",
      "version": ""
    }
  },
  "nbformat": 4,
  "nbformat_minor": 5
}