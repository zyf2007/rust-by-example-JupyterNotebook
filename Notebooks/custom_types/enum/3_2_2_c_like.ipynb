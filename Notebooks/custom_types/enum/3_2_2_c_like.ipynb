{
  "cells": [
    {
      "cell_type": "markdown",
      "metadata": {},
      "source": [
        "# C 风格用法\n",
        "\n",
        "`enum` 也可以像 C 语言风格的枚举类型那样使用。\n",
        "\n"
      ]
    },
    {
      "cell_type": "code",
      "execution_count": null,
      "metadata": {
        "vscode": {
          "languageId": "rust"
        }
      },
      "outputs": [],
      "source": [
        "// 该属性用于隐藏对未使用代码的警告。\n",
        "#![allow(dead_code)]\n",
        "\n",
        "// 拥有隐式辨别值（implicit discriminator，从 0 开始）的 enum\n",
        "enum Number {\n",
        "    Zero,\n",
        "    One,\n",
        "    Two,\n",
        "}\n",
        "\n",
        "// 拥有显式辨别值（explicit discriminator）的 enum\n",
        "enum Color {\n",
        "    Red = 0xff0000,\n",
        "    Green = 0x00ff00,\n",
        "    Blue = 0x0000ff,\n",
        "}\n",
        "\n",
        "fn main() {\n",
        "    // `enum` 可以转成整型。\n",
        "    println!(\"zero is {}\", Number::Zero as i32);\n",
        "    println!(\"one is {}\", Number::One as i32);\n",
        "\n",
        "    println!(\"roses are #{:06x}\", Color::Red as i32);\n",
        "    println!(\"violets are #{:06x}\", Color::Blue as i32);\n",
        "}\n",
        "main();\n"
      ]
    },
    {
      "cell_type": "markdown",
      "metadata": {},
      "source": [
        "\n",
        "### 参考：\n",
        "\n",
        "[类型转换][cast]\n",
        "\n",
        "[cast]: ../../types/cast.md\n",
        "\n"
      ]
    }
  ],
  "metadata": {
    "kernelspec": {
      "display_name": "Rust",
      "language": "rust",
      "name": "rust"
    },
    "language_info": {
      "codemirror_mode": "rust",
      "file_extension": ".rs",
      "mimetype": "text/rust",
      "name": "Rust",
      "pygment_lexer": "rust",
      "version": ""
    }
  },
  "nbformat": 4,
  "nbformat_minor": 5
}