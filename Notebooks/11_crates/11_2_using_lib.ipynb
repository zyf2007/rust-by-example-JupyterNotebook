{
  "cells": [
    {
      "cell_type": "markdown",
      "metadata": {},
      "source": [
        "# 使用库\n",
        "\n",
        "要将一个 crate 链接到上节新建的库，可以使用 `rustc` 的 `--extern` 选项。然后将所有的物件导入到与库名相同的模块下。此模块的操作通常与任何其他模块相同。\n",
        "\n"
      ]
    },
    {
      "cell_type": "code",
      "execution_count": null,
      "metadata": {
        "vscode": {
          "languageId": "rust"
        }
      },
      "outputs": [],
      "source": [
        "// extern crate rary; // 在 Rust 2015 版或更早版本需要这个导入语句\n",
        "\n",
        "fn main() {\n",
        "    rary::public_function();\n",
        "\n",
        "    // 报错！ `private_function` 是私有的\n",
        "    //rary::private_function();\n",
        "\n",
        "    rary::indirect_access();\n",
        "}\n",
        "main();\n"
      ]
    },
    {
      "cell_type": "markdown",
      "metadata": {},
      "source": [
        "\n"
      ]
    },
    {
      "cell_type": "code",
      "execution_count": null,
      "metadata": {
        "vscode": {
          "languageId": "bash"
        }
      },
      "outputs": [],
      "source": [
        "# library.rlib 是已编译好的库的路径，这里假设它在同一目录下：\n",
        "$ rustc executable.rs --extern rary=library.rlib --edition=2018 && ./executable \n",
        "called rary's `public_function()`\n",
        "called rary's `indirect_access()`, that\n",
        "> called rary's `private_function()`\n"
      ]
    },
    {
      "cell_type": "markdown",
      "metadata": {},
      "source": [
        "\n"
      ]
    }
  ],
  "metadata": {
    "kernelspec": {
      "display_name": "Rust",
      "language": "rust",
      "name": "rust"
    },
    "language_info": {
      "codemirror_mode": "rust",
      "file_extension": ".rs",
      "mimetype": "text/rust",
      "name": "Rust",
      "pygment_lexer": "rust",
      "version": ""
    }
  },
  "nbformat": 4,
  "nbformat_minor": 5
}