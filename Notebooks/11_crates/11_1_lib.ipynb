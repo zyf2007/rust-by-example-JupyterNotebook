{
  "cells": [
    {
      "cell_type": "markdown",
      "metadata": {},
      "source": [
        "# 库\n",
        "\n",
        "让我们创建一个库，然后看看如何把它链接到另一个 crate。\n",
        "\n"
      ]
    },
    {
      "cell_type": "code",
      "execution_count": null,
      "metadata": {
        "vscode": {
          "languageId": "rust"
        }
      },
      "outputs": [],
      "source": [
        "pub fn public_function() {\n",
        "    println!(\"called rary's `public_function()`\");\n",
        "}\n",
        "\n",
        "fn private_function() {\n",
        "    println!(\"called rary's `private_function()`\");\n",
        "}\n",
        "\n",
        "pub fn indirect_access() {\n",
        "    print!(\"called rary's `indirect_access()`, that\\n> \");\n",
        "\n",
        "    private_function();\n",
        "}\n"
      ]
    },
    {
      "cell_type": "markdown",
      "metadata": {},
      "source": [
        "\n"
      ]
    },
    {
      "cell_type": "code",
      "execution_count": null,
      "metadata": {
        "vscode": {
          "languageId": "bash"
        }
      },
      "outputs": [],
      "source": [
        "$ rustc --crate-type=lib rary.rs\n",
        "$ ls lib*\n",
        "library.rlib\n"
      ]
    },
    {
      "cell_type": "markdown",
      "metadata": {},
      "source": [
        "\n",
        "默认情况下，库会使用 crate 文件的名字，前面加上 “lib” 前缀，但这个默认名称可以使用 [`crate_name` 属性][crate-name] 覆盖。\n",
        "\n",
        "[crate-name]: ../attribute/crate.md\n",
        "\n"
      ]
    }
  ],
  "metadata": {
    "kernelspec": {
      "display_name": "Rust",
      "language": "rust",
      "name": "rust"
    },
    "language_info": {
      "codemirror_mode": "rust",
      "file_extension": ".rs",
      "mimetype": "text/rust",
      "name": "Rust",
      "pygment_lexer": "rust",
      "version": ""
    }
  },
  "nbformat": 4,
  "nbformat_minor": 5
}