{
  "cells": [
    {
      "cell_type": "markdown",
      "metadata": {},
      "source": [
        "# `TryFrom` and `TryInto`\n",
        "\n",
        "类似于 [`From` 和 `Into`][from-into]，[`TryFrom`] 和 [`TryInto`] 是类型转换的通用 trait。不同于 `From`/`Into` 的是，`TryFrom` 和 `TryInto` trait 用于易出错的转换，也正因如此，其返回值是 [`Result`] 型。\n",
        "\n",
        "[from-into]: from_into.html\n",
        "[`TryFrom`]: https://rustwiki.org/zh-CN/std/convert/trait.TryFrom.html\n",
        "[`TryInto`]: https://rustwiki.org/zh-CN/std/convert/trait.TryInto.html\n",
        "[`Result`]: https://rustwiki.org/zh-CN/std/result/enum.Result.html\n",
        "\n"
      ]
    },
    {
      "cell_type": "code",
      "execution_count": null,
      "metadata": {
        "vscode": {
          "languageId": "rust"
        }
      },
      "outputs": [],
      "source": [
        "use std::convert::TryFrom;\n",
        "use std::convert::TryInto;\n",
        "\n",
        "#[derive(Debug, PartialEq)]\n",
        "struct EvenNumber(i32);\n",
        "\n",
        "impl TryFrom<i32> for EvenNumber {\n",
        "    type Error = ();\n",
        "\n",
        "    fn try_from(value: i32) -> Result<Self, Self::Error> {\n",
        "        if value % 2 == 0 {\n",
        "            Ok(EvenNumber(value))\n",
        "        } else {\n",
        "            Err(())\n",
        "        }\n",
        "    }\n",
        "}\n",
        "\n",
        "fn main() {\n",
        "    // TryFrom\n",
        "\n",
        "    assert_eq!(EvenNumber::try_from(8), Ok(EvenNumber(8)));\n",
        "    assert_eq!(EvenNumber::try_from(5), Err(()));\n",
        "\n",
        "    // TryInto\n",
        "\n",
        "    let result: Result<EvenNumber, ()> = 8i32.try_into();\n",
        "    assert_eq!(result, Ok(EvenNumber(8)));\n",
        "    let result: Result<EvenNumber, ()> = 5i32.try_into();\n",
        "    assert_eq!(result, Err(()));\n",
        "}\n",
        "main();\n"
      ]
    },
    {
      "cell_type": "markdown",
      "metadata": {},
      "source": [
        "\n"
      ]
    }
  ],
  "metadata": {
    "kernelspec": {
      "display_name": "Rust",
      "language": "rust",
      "name": "rust"
    },
    "language_info": {
      "codemirror_mode": "rust",
      "file_extension": ".rs",
      "mimetype": "text/rust",
      "name": "Rust",
      "pygment_lexer": "rust",
      "version": ""
    }
  },
  "nbformat": 4,
  "nbformat_minor": 5
}