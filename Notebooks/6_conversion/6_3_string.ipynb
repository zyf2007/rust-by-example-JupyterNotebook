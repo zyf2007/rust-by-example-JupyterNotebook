{
  "cells": [
    {
      "cell_type": "markdown",
      "metadata": {},
      "source": [
        "# `ToString` 和 `FromStr`\n",
        "\n",
        "## `ToString`\n",
        "\n",
        "要把任何类型转换成 `String`，只需要实现那个类型的 [`ToString`] trait。然而不要直接这么做，您应该实现[`fmt::Display`][Display] trait，它会自动提供 [`ToString`]，并且还可以用来打印类型，就像 [`print!`][print] 一节中讨论的那样。\n",
        "\n",
        "\n"
      ]
    },
    {
      "cell_type": "code",
      "execution_count": null,
      "metadata": {
        "vscode": {
          "languageId": "rust"
        }
      },
      "outputs": [],
      "source": [
        "use std::fmt;\n",
        "\n",
        "struct Circle {\n",
        "    radius: i32\n",
        "}\n",
        "\n",
        "impl fmt::Display for Circle {\n",
        "    fn fmt(&self, f: &mut fmt::Formatter) -> fmt::Result {\n",
        "        write!(f, \"Circle of radius {}\", self.radius)\n",
        "    }\n",
        "}\n",
        "\n",
        "fn main() {\n",
        "    let circle = Circle { radius: 6 };\n",
        "    println!(\"{}\", circle.to_string());\n",
        "}\n",
        "main();\n"
      ]
    },
    {
      "cell_type": "markdown",
      "metadata": {},
      "source": [
        "\n",
        "译注：一个实现 `ToString` 的例子\n",
        "\n"
      ]
    },
    {
      "cell_type": "code",
      "execution_count": null,
      "metadata": {
        "vscode": {
          "languageId": "rust"
        }
      },
      "outputs": [],
      "source": [
        "use std::string::ToString;\n",
        "\n",
        "struct Circle {\n",
        "    radius: i32\n",
        "}\n",
        "\n",
        "impl ToString for Circle {\n",
        "    fn to_string(&self) -> String {\n",
        "        format!(\"Circle of radius {:?}\", self.radius)\n",
        "    }\n",
        "}\n",
        "\n",
        "fn main() {\n",
        "    let circle = Circle { radius: 6 };\n",
        "    println!(\"{}\", circle.to_string());\n",
        "}\n",
        "main();\n"
      ]
    },
    {
      "cell_type": "markdown",
      "metadata": {},
      "source": [
        "\n",
        "## 解析字符串\n",
        "\n",
        "我们经常需要把字符串转成数字。完成这项工作的标准手段是用 [`parse`] 函数。我们得提供要转换到的类型，这可以通过使用类型推断，或者用 “涡轮鱼” 语法（turbo fish，`<>`）实现。\n",
        "\n",
        "只要对目标类型实现了 [`FromStr`] trait，就可以用 `parse` 把字符串转换成目标类型。\n",
        "标准库中已经给无数种类型实现了 `FromStr`。如果要转换到用户定义类型，只要手动实现\n",
        " `FromStr` 就行。\n",
        "\n"
      ]
    },
    {
      "cell_type": "code",
      "execution_count": null,
      "metadata": {
        "vscode": {
          "languageId": "rust"
        }
      },
      "outputs": [],
      "source": [
        "fn main() {\n",
        "    let parsed: i32 = \"5\".parse().unwrap();\n",
        "    let turbo_parsed = \"10\".parse::<i32>().unwrap();\n",
        "\n",
        "    let sum = parsed + turbo_parsed;\n",
        "    println!{\"Sum: {:?}\", sum};\n",
        "}\n",
        "main();\n"
      ]
    },
    {
      "cell_type": "markdown",
      "metadata": {},
      "source": [
        "\n",
        "[`ToString`]: https://rustwiki.org/zh-CN/std/string/trait.ToString.html\n",
        "[Display]: https://rustwiki.org/zh-CN/std/fmt/trait.Display.html\n",
        "[print]: ../hello/print.md\n",
        "[`parse`]: https://rustwiki.org/zh-CN/std/primitive.str.html#method.parse\n",
        "[`FromStr`]: https://rustwiki.org/zh-CN/std/str/trait.FromStr.html\n",
        "\n"
      ]
    }
  ],
  "metadata": {
    "kernelspec": {
      "display_name": "Rust",
      "language": "rust",
      "name": "rust"
    },
    "language_info": {
      "codemirror_mode": "rust",
      "file_extension": ".rs",
      "mimetype": "text/rust",
      "name": "Rust",
      "pygment_lexer": "rust",
      "version": ""
    }
  },
  "nbformat": 4,
  "nbformat_minor": 5
}