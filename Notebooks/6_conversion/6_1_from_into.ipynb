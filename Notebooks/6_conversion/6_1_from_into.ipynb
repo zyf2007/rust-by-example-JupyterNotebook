{
  "cells": [
    {
      "cell_type": "markdown",
      "metadata": {},
      "source": [
        "# `From` 和 `Into`\n",
        "\n",
        " [`From`] 和 [`Into`] 两个 trait 是内部相关联的，实际上这是它们实现的一部分。如果我们能够从类型 B 得到类型 A，那么很容易相信我们也能够把类型 A 转换为类型 B。\n",
        "\n",
        "## `From`\n",
        "\n",
        "[`From`] trait 允许一种类型定义 “怎么根据另一种类型生成自己”，因此它提供了一种类型转换的简单机制。在标准库中有无数 `From` 的实现，规定原生类型及其他常见类型的转换功能。\n",
        "\n",
        "比如，可以很容易地把 `str` 转换成 `String`：\n",
        "\n"
      ]
    },
    {
      "cell_type": "code",
      "execution_count": null,
      "metadata": {
        "vscode": {
          "languageId": "rust"
        }
      },
      "outputs": [],
      "source": [
        "let my_str = \"hello\";\n",
        "let my_string = String::from(my_str);\n"
      ]
    },
    {
      "cell_type": "markdown",
      "metadata": {},
      "source": [
        "\n",
        "也可以为我们自己的类型定义转换机制：\n",
        "\n"
      ]
    },
    {
      "cell_type": "code",
      "execution_count": null,
      "metadata": {
        "vscode": {
          "languageId": "rust"
        }
      },
      "outputs": [],
      "source": [
        "use std::convert::From;\n",
        "\n",
        "#[derive(Debug)]\n",
        "struct Number {\n",
        "    value: i32,\n",
        "}\n",
        "\n",
        "impl From<i32> for Number {\n",
        "    fn from(item: i32) -> Self {\n",
        "        Number { value: item }\n",
        "    }\n",
        "}\n",
        "\n",
        "fn main() {\n",
        "    let num = Number::from(30);\n",
        "    println!(\"My number is {:?}\", num);\n",
        "}\n",
        "main();\n"
      ]
    },
    {
      "cell_type": "markdown",
      "metadata": {},
      "source": [
        "\n",
        "## `Into`\n",
        "\n",
        "[`Into`] trait 就是把 `From` trait 倒过来而已。也就是说，如果你为你的类型实现了 `From`，那么同时你也就免费获得了 `Into`。\n",
        "\n",
        "使用 `Into` trait 通常要求指明要转换到的类型，因为编译器大多数时候不能推断它。不过考虑到我们免费获得了 `Into`，这点代价不值一提。\n",
        "\n"
      ]
    },
    {
      "cell_type": "code",
      "execution_count": null,
      "metadata": {
        "vscode": {
          "languageId": "rust"
        }
      },
      "outputs": [],
      "source": [
        "use std::convert::Into;\n",
        "\n",
        "#[derive(Debug)]\n",
        "struct Number {\n",
        "    value: i32,\n",
        "}\n",
        "\n",
        "impl Into<Number> for i32 {\n",
        "    fn into(self) -> Number {\n",
        "        Number { value: self }\n",
        "    }\n",
        "}\n",
        "\n",
        "fn main() {\n",
        "    let int = 5;\n",
        "    // 试试删除类型注释\n",
        "    let num: Number = int.into();\n",
        "    println!(\"My number is {:?}\", num);\n",
        "}\n",
        "main();\n"
      ]
    },
    {
      "cell_type": "markdown",
      "metadata": {},
      "source": [
        "\n",
        "[`From`]: https://rustwiki.org/zh-CN/std/convert/trait.From.html\n",
        "[`Into`]: https://rustwiki.org/zh-CN/std/convert/trait.Into.html\n",
        "\n"
      ]
    }
  ],
  "metadata": {
    "kernelspec": {
      "display_name": "Rust",
      "language": "rust",
      "name": "rust"
    },
    "language_info": {
      "codemirror_mode": "rust",
      "file_extension": ".rs",
      "mimetype": "text/rust",
      "name": "Rust",
      "pygment_lexer": "rust",
      "version": ""
    }
  },
  "nbformat": 4,
  "nbformat_minor": 5
}