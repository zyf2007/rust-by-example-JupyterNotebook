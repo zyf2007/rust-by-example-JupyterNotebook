{
  "cells": [
    {
      "cell_type": "markdown",
      "metadata": {},
      "source": [
        "# DRY (不写重复代码)\n",
        "\n",
        "通过提取函数或测试集的公共部分，宏可以让你写出 DRY 的代码（DRY 是 Don't Repeat Yourself 的缩写，意思为 “不要写重复代码”）。这里给出一个例子，对 `Vec<T>` 实现并测试了关于 `+=`、`*=` 和 `-=` 等运算符。\n",
        "\n"
      ]
    },
    {
      "cell_type": "code",
      "execution_count": null,
      "metadata": {
        "vscode": {
          "languageId": "rust"
        }
      },
      "outputs": [],
      "source": [
        "use std::ops::{Add, Mul, Sub};\n",
        "\n",
        "macro_rules! assert_equal_len {\n",
        "    // `tt`（token tree，标记树）指示符表示运算符和标记。\n",
        "    ($a:ident, $b: ident, $func:ident, $op:tt) => {\n",
        "        assert!($a.len() == $b.len(),\n",
        "                \"{:?}: dimension mismatch: {:?} {:?} {:?}\",\n",
        "                stringify!($func),\n",
        "                ($a.len(),),\n",
        "                stringify!($op),\n",
        "                ($b.len(),));\n",
        "    };\n",
        "}\n",
        "\n",
        "macro_rules! op {\n",
        "    ($func:ident, $bound:ident, $op:tt, $method:ident) => {\n",
        "        fn $func<T: $bound<T, Output=T> + Copy>(xs: &mut Vec<T>, ys: &Vec<T>) {\n",
        "            assert_equal_len!(xs, ys, $func, $op);\n",
        "\n",
        "            for (x, y) in xs.iter_mut().zip(ys.iter()) {\n",
        "                *x = $bound::$method(*x, *y);\n",
        "                // *x = x.$method(*y);\n",
        "            }\n",
        "        }\n",
        "    };\n",
        "}\n",
        "\n",
        "// 实现 `add_assign`、`mul_assign` 和 `sub_assign` 等函数。\n",
        "op!(add_assign, Add, +=, add);\n",
        "op!(mul_assign, Mul, *=, mul);\n",
        "op!(sub_assign, Sub, -=, sub);\n",
        "\n",
        "mod test {\n",
        "    use std::iter;\n",
        "    macro_rules! test {\n",
        "        ($func: ident, $x:expr, $y:expr, $z:expr) => {\n",
        "            #[test]\n",
        "            fn $func() {\n",
        "                for size in 0usize..10 {\n",
        "                    let mut x: Vec<_> = iter::repeat($x).take(size).collect();\n",
        "                    let y: Vec<_> = iter::repeat($y).take(size).collect();\n",
        "                    let z: Vec<_> = iter::repeat($z).take(size).collect();\n",
        "\n",
        "                    super::$func(&mut x, &y);\n",
        "\n",
        "                    assert_eq!(x, z);\n",
        "                }\n",
        "            }\n",
        "        }\n",
        "    }\n",
        "\n",
        "    // 测试 `add_assign`、`mul_assign` 和 `sub_assign`\n",
        "    test!(add_assign, 1u32, 2u32, 3u32);\n",
        "    test!(mul_assign, 2u32, 3u32, 6u32);\n",
        "    test!(sub_assign, 3u32, 2u32, 1u32);\n",
        "}\n",
        "\n"
      ]
    },
    {
      "cell_type": "markdown",
      "metadata": {},
      "source": [
        "\n"
      ]
    },
    {
      "cell_type": "code",
      "execution_count": null,
      "metadata": {
        "vscode": {
          "languageId": "bash"
        }
      },
      "outputs": [],
      "source": [
        "$ rustc --test dry.rs && ./dry\n",
        "running 3 tests\n",
        "test test::mul_assign ... ok\n",
        "test test::add_assign ... ok\n",
        "test test::sub_assign ... ok\n",
        "\n",
        "test result: ok. 3 passed; 0 failed; 0 ignored; 0 measured\n"
      ]
    },
    {
      "cell_type": "markdown",
      "metadata": {},
      "source": [
        "\n"
      ]
    }
  ],
  "metadata": {
    "kernelspec": {
      "display_name": "Rust",
      "language": "rust",
      "name": "rust"
    },
    "language_info": {
      "codemirror_mode": "rust",
      "file_extension": ".rs",
      "mimetype": "text/rust",
      "name": "Rust",
      "pygment_lexer": "rust",
      "version": ""
    }
  },
  "nbformat": 4,
  "nbformat_minor": 5
}