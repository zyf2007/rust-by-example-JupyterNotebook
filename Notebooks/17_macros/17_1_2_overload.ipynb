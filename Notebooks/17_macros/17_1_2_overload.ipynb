{
  "cells": [
    {
      "cell_type": "markdown",
      "metadata": {},
      "source": [
        "# 重载\n",
        "\n",
        "宏可以重载，从而接受不同的参数组合。在这方面，`macro_rules!` 的作用类似于匹配（match）代码块：\n",
        "\n"
      ]
    },
    {
      "cell_type": "code",
      "execution_count": null,
      "metadata": {
        "vscode": {
          "languageId": "rust"
        }
      },
      "outputs": [],
      "source": [
        "// 根据你调用它的方式，`test!` 将以不同的方式来比较 `$left` 和 `$right`。\n",
        "macro_rules! test {\n",
        "    // 参数不需要使用逗号隔开。\n",
        "    // 参数可以任意组合！\n",
        "    ($left:expr; and $right:expr) => {\n",
        "        println!(\"{:?} and {:?} is {:?}\",\n",
        "                 stringify!($left),\n",
        "                 stringify!($right),\n",
        "                 $left && $right)\n",
        "    };\n",
        "    // ^ 每个分支都必须以分号结束。\n",
        "    ($left:expr; or $right:expr) => {\n",
        "        println!(\"{:?} or {:?} is {:?}\",\n",
        "                 stringify!($left),\n",
        "                 stringify!($right),\n",
        "                 $left || $right)\n",
        "    };\n",
        "}\n",
        "\n",
        "fn main() {\n",
        "    test!(1i32 + 1 == 2i32; and 2i32 * 2 == 4i32);\n",
        "    test!(true; or false);\n",
        "}\n",
        "main();\n"
      ]
    },
    {
      "cell_type": "markdown",
      "metadata": {},
      "source": [
        "\n"
      ]
    }
  ],
  "metadata": {
    "kernelspec": {
      "display_name": "Rust",
      "language": "rust",
      "name": "rust"
    },
    "language_info": {
      "codemirror_mode": "rust",
      "file_extension": ".rs",
      "mimetype": "text/rust",
      "name": "Rust",
      "pygment_lexer": "rust",
      "version": ""
    }
  },
  "nbformat": 4,
  "nbformat_minor": 5
}