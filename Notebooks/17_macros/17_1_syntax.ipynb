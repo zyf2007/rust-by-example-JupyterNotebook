{
  "cells": [
    {
      "cell_type": "markdown",
      "metadata": {},
      "source": [
        "# 语法\n",
        "\n",
        "在下面的小节中，我们将展示如何在 Rust 中定义宏。基本的概念有三个：\n",
        "\n",
        "- [模式与指示符][designators]\n",
        "- [重载][overloading]\n",
        "- [重复][repetition]\n",
        "\n",
        "[designators]: designators.md\n",
        "[overloading]: overload.md\n",
        "[repetition]: repeat.md\n"
      ]
    }
  ],
  "metadata": {
    "kernelspec": {
      "display_name": "Rust",
      "language": "rust",
      "name": "rust"
    },
    "language_info": {
      "codemirror_mode": "rust",
      "file_extension": ".rs",
      "mimetype": "text/rust",
      "name": "Rust",
      "pygment_lexer": "rust",
      "version": ""
    }
  },
  "nbformat": 4,
  "nbformat_minor": 5
}