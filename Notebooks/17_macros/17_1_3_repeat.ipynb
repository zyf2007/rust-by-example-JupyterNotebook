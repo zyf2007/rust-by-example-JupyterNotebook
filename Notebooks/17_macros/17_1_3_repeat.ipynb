{
  "cells": [
    {
      "cell_type": "markdown",
      "metadata": {},
      "source": [
        "# 重复\n",
        "\n",
        "宏在参数列表中可以使用 `+` 来表示一个参数可能出现一次或多次，使用 `*` 来表示该参数可能出现零次或多次。\n",
        "\n",
        "在下面例子中，把模式这样： `$(...),+` 包围起来，就可以匹配一个或多个用逗号隔开的表达式。另外注意到，宏定义的最后一个分支可以不用分号作为结束。\n",
        "\n"
      ]
    },
    {
      "cell_type": "code",
      "execution_count": null,
      "metadata": {
        "vscode": {
          "languageId": "rust"
        }
      },
      "outputs": [],
      "source": [
        "// `min!` 将求出任意数量的参数的最小值。\n",
        "macro_rules! find_min {\n",
        "    // 基本情形：\n",
        "    ($x:expr) => ($x);\n",
        "    // `$x` 后面跟着至少一个 `$y,`\n",
        "    ($x:expr, $($y:expr),+) => (\n",
        "        // 对 `$x` 后面的 `$y` 们调用 `find_min!` \n",
        "        std::cmp::min($x, find_min!($($y),+))\n",
        "    )\n",
        "}\n",
        "\n",
        "fn main() {\n",
        "    println!(\"{}\", find_min!(1u32));\n",
        "    println!(\"{}\", find_min!(1u32 + 2 , 2u32));\n",
        "    println!(\"{}\", find_min!(5u32, 2u32 * 3, 4u32));\n",
        "}\n",
        "main();\n"
      ]
    },
    {
      "cell_type": "markdown",
      "metadata": {},
      "source": [
        "\n"
      ]
    }
  ],
  "metadata": {
    "kernelspec": {
      "display_name": "Rust",
      "language": "rust",
      "name": "rust"
    },
    "language_info": {
      "codemirror_mode": "rust",
      "file_extension": ".rs",
      "mimetype": "text/rust",
      "name": "Rust",
      "pygment_lexer": "rust",
      "version": ""
    }
  },
  "nbformat": 4,
  "nbformat_minor": 5
}