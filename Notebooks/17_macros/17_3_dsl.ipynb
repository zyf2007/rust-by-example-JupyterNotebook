{
  "cells": [
    {
      "cell_type": "markdown",
      "metadata": {},
      "source": [
        "# DSL（领域专用语言）\n",
        "\n",
        "DSL 是 Rust 的宏中集成的微型 “语言”。这种语言是完全合法的，因为宏系统会把它转换成普通的 Rust 语法树，它只不过看起来像是另一种语言而已。这就允许你为一些特定功能创造一套简洁直观的语法（当然是有限制的）。\n",
        "\n",
        "比如说我想要定义一套小的计算器 API，可以传给它表达式，它会把结果打印到控制台上。\n",
        "\n"
      ]
    },
    {
      "cell_type": "code",
      "execution_count": null,
      "metadata": {
        "vscode": {
          "languageId": "rust"
        }
      },
      "outputs": [],
      "source": [
        "macro_rules! calculate {\n",
        "    (eval $e:expr) => {\n",
        "        {\n",
        "            let val: usize = $e; // 强制类型为整型\n",
        "            println!(\"{} = {}\", stringify!{$e}, val);\n",
        "        }\n",
        "    };\n",
        "}\n",
        "\n",
        "fn main() {\n",
        "    calculate! {\n",
        "        eval 1 + 2 // 看到了吧，`eval` 可并不是 Rust 的关键字！\n",
        "    }\n",
        "\n",
        "    calculate! {\n",
        "        eval (1 + 2) * (3 / 4)\n",
        "    }\n",
        "}\n",
        "main();\n"
      ]
    },
    {
      "cell_type": "markdown",
      "metadata": {},
      "source": [
        "\n",
        "输出:\n",
        "\n"
      ]
    },
    {
      "cell_type": "code",
      "execution_count": null,
      "metadata": {
        "vscode": {
          "languageId": "txt"
        }
      },
      "outputs": [],
      "source": [
        "1 + 2 = 3\n",
        "(1 + 2) * (3 / 4) = 0\n"
      ]
    },
    {
      "cell_type": "markdown",
      "metadata": {},
      "source": [
        "\n",
        "这个例子非常简单，但是已经有很多利用宏开发的复杂接口了，比如\n",
        "[`lazy_static`](https://crates.io/crates/lazy_static) 和\n",
        "[`clap`](https://crates.io/crates/clap)。\n",
        "\n"
      ]
    }
  ],
  "metadata": {
    "kernelspec": {
      "display_name": "Rust",
      "language": "rust",
      "name": "rust"
    },
    "language_info": {
      "codemirror_mode": "rust",
      "file_extension": ".rs",
      "mimetype": "text/rust",
      "name": "Rust",
      "pygment_lexer": "rust",
      "version": ""
    }
  },
  "nbformat": 4,
  "nbformat_minor": 5
}