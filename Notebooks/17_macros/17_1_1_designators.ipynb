{
  "cells": [
    {
      "cell_type": "markdown",
      "metadata": {},
      "source": [
        "# 指示符\n",
        "\n",
        "宏的参数使用一个美元符号 `$` 作为前缀，并使用一个**指示符**（designator）来注明类型：\n",
        "\n"
      ]
    },
    {
      "cell_type": "code",
      "execution_count": null,
      "metadata": {
        "vscode": {
          "languageId": "rust"
        }
      },
      "outputs": [],
      "source": [
        "macro_rules! create_function {\n",
        "    // 此宏接受一个 `ident` 指示符表示的参数，并创建一个名为 `$func_name` 的函数。\n",
        "    // `ident` 指示符用于变量名或函数名\n",
        "    ($func_name:ident) => {\n",
        "        fn $func_name() {\n",
        "            // `stringify!` 宏把 `ident` 转换成字符串。\n",
        "            println!(\"You called {:?}()\",\n",
        "                     stringify!($func_name))\n",
        "        }\n",
        "    };\n",
        "}\n",
        "\n",
        "// 借助上述宏来创建名为 `foo` 和 `bar` 的函数。\n",
        "create_function!(foo);\n",
        "create_function!(bar);\n",
        "\n",
        "macro_rules! print_result {\n",
        "    // 此宏接受一个 `expr` 类型的表达式，并将它作为字符串，连同其结果一起\n",
        "    // 打印出来。\n",
        "    // `expr` 指示符表示表达式。\n",
        "    ($expression:expr) => {\n",
        "        // `stringify!` 把表达式*原样*转换成一个字符串。\n",
        "        println!(\"{:?} = {:?}\",\n",
        "                 stringify!($expression),\n",
        "                 $expression)\n",
        "    };\n",
        "}\n",
        "\n",
        "fn main() {\n",
        "    foo();\n",
        "    bar();\n",
        "\n",
        "    print_result!(1u32 + 1);\n",
        "\n",
        "    // 回想一下，代码块也是表达式！\n",
        "    print_result!({\n",
        "        let x = 1u32;\n",
        "\n",
        "        x * x + 2 * x - 1\n",
        "    });\n",
        "}\n",
        "main();\n"
      ]
    },
    {
      "cell_type": "markdown",
      "metadata": {},
      "source": [
        "\n",
        "这里列出全部指示符：\n",
        "\n",
        "* `block`\n",
        "* `expr` 用于表达式\n",
        "* `ident` 用于变量名或函数名\n",
        "* `item`\n",
        "* `literal` 用于字面常量\n",
        "* `pat` (**模式** *pattern*)\n",
        "* `path`\n",
        "* `stmt` (**语句** *statement*)\n",
        "* `tt` (**标记树** *token tree*)\n",
        "* `ty` (**类型** *type*)\n",
        "* `vis` (*可见性描述符*)\n",
        "\n",
        "完整列表详见 [Rust Reference]。\n",
        "\n",
        "[Rust Reference]: https://doc.rust-lang.org/reference/macros-by-example.html\n",
        "\n"
      ]
    }
  ],
  "metadata": {
    "kernelspec": {
      "display_name": "Rust",
      "language": "rust",
      "name": "rust"
    },
    "language_info": {
      "codemirror_mode": "rust",
      "file_extension": ".rs",
      "mimetype": "text/rust",
      "name": "Rust",
      "pygment_lexer": "rust",
      "version": ""
    }
  },
  "nbformat": 4,
  "nbformat_minor": 5
}