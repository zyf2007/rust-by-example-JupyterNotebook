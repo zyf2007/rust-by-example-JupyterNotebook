{
  "cells": [
    {
      "cell_type": "markdown",
      "metadata": {},
      "source": [
        "# 可变参数接口\n",
        "\n",
        "可变参数接口可以接受任意数目的参数。比如说 `println` 就可以，其参数的数目是由格式化字符串指定的。\n",
        "\n",
        "我们可以把之前的 `calculate!` 宏改写成可变参数接口：\n",
        "\n"
      ]
    },
    {
      "cell_type": "code",
      "execution_count": null,
      "metadata": {
        "vscode": {
          "languageId": "rust"
        }
      },
      "outputs": [],
      "source": [
        "macro_rules! calculate {\n",
        "    // 单个 `eval` 的模式\n",
        "    (eval $e:expr) => {\n",
        "        {\n",
        "            let val: usize = $e; // Force types to be integers\n",
        "            println!(\"{} = {}\", stringify!{$e}, val);\n",
        "        }\n",
        "    };\n",
        "\n",
        "    // 递归地拆解多重的 `eval`\n",
        "    (eval $e:expr, $(eval $es:expr),+) => {{\n",
        "        calculate! { eval $e }\n",
        "        calculate! { $(eval $es),+ }\n",
        "    }};\n",
        "}\n",
        "\n",
        "fn main() {\n",
        "    calculate! { // 妈妈快看，可变参数的 `calculate!`！\n",
        "        eval 1 + 2,\n",
        "        eval 3 + 4,\n",
        "        eval (2 * 3) + 1\n",
        "    }\n",
        "}\n",
        "main();\n"
      ]
    },
    {
      "cell_type": "markdown",
      "metadata": {},
      "source": [
        "\n",
        "输出：\n",
        "\n"
      ]
    },
    {
      "cell_type": "code",
      "execution_count": null,
      "metadata": {
        "vscode": {
          "languageId": "txt"
        }
      },
      "outputs": [],
      "source": [
        "1 + 2 = 3\n",
        "3 + 4 = 7\n",
        "(2 * 3) + 1 = 7\n"
      ]
    },
    {
      "cell_type": "markdown",
      "metadata": {},
      "source": [
        "\n"
      ]
    }
  ],
  "metadata": {
    "kernelspec": {
      "display_name": "Rust",
      "language": "rust",
      "name": "rust"
    },
    "language_info": {
      "codemirror_mode": "rust",
      "file_extension": ".rs",
      "mimetype": "text/rust",
      "name": "Rust",
      "pygment_lexer": "rust",
      "version": ""
    }
  },
  "nbformat": 4,
  "nbformat_minor": 5
}