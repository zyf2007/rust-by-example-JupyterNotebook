{
  "cells": [
    {
      "cell_type": "markdown",
      "metadata": {},
      "source": [
        "# 更改或自定义关键字类型\n",
        "\n",
        "任何实现了 `Eq` 和 `Hash` trait 的类型都可以充当 `HashMap` 的键。这包括：\n",
        "\n",
        "* `bool` （当然这个用处不大，因为只有两个可能的键）\n",
        "* `int`，`unit`，以及其他整数类型\n",
        "* `String` 和 `&str`（友情提示：如果使用 `String` 作为键来创建 `HashMap`，则可以\n",
        "  将 `&str` 作为散列表的 `.get()` 方法的参数，以获取值）\n",
        "\n",
        "注意到 `f32` 和 `f64` **没有**实现 `Hash`，这很大程度上是由于若使用浮点数作为散列表的键，[浮点精度误差][floating]会很容易导致错误。\n",
        "\n",
        "对于所有的集合类（collection class），如果它们包含的类型都分别实现了 `Eq`\n",
        "和 `Hash`，那么这些集合类也就实现了 `Eq` 和 `Hash`。例如，若 `T` 实现了\n",
        "`Hash`，则 `Vec<T>` 也实现了 `Hash`。\n",
        "\n",
        "对自定义类型可以轻松地实现 `Eq` 和 `Hash`，只需加上一行代码：`#[derive(PartialEq, Eq, Hash)]`。\n",
        "\n",
        "编译器将会完成余下的工作。如果你想控制更多的细节，你可以手动实现 `Eq` 和/或 `Hash`。本指南不包含实现 `Hash` 的细节内容。\n",
        "\n",
        "为了试验 `HashMap` 中的 `struct`，让我们试着做一个非常简易的用户登录系统：\n",
        "\n"
      ]
    },
    {
      "cell_type": "code",
      "execution_count": null,
      "metadata": {
        "vscode": {
          "languageId": "rust"
        }
      },
      "outputs": [],
      "source": [
        "use std::collections::HashMap;\n",
        "\n",
        "// Eq 要求你对此类型推导 PartiaEq。\n",
        "#[derive(PartialEq, Eq, Hash)]\n",
        "struct Account<'a>{\n",
        "    username: &'a str,\n",
        "    password: &'a str,\n",
        "}\n",
        "\n",
        "struct AccountInfo<'a>{\n",
        "    name: &'a str,\n",
        "    email: &'a str,\n",
        "}\n",
        "\n",
        "type Accounts<'a> = HashMap<Account<'a>, AccountInfo<'a>>;\n",
        "\n",
        "fn try_logon<'a>(accounts: &Accounts<'a>,\n",
        "        username: &'a str, password: &'a str){\n",
        "    println!(\"Username: {}\", username);\n",
        "    println!(\"Password: {}\", password);\n",
        "    println!(\"Attempting logon...\");\n",
        "\n",
        "    let logon = Account {\n",
        "        username: username,\n",
        "        password: password,\n",
        "    };\n",
        "\n",
        "    match accounts.get(&logon) {\n",
        "        Some(account_info) => {\n",
        "            println!(\"Successful logon!\");\n",
        "            println!(\"Name: {}\", account_info.name);\n",
        "            println!(\"Email: {}\", account_info.email);\n",
        "        },\n",
        "        _ => println!(\"Login failed!\"),\n",
        "    }\n",
        "}\n",
        "\n",
        "fn main(){\n",
        "    let mut accounts: Accounts = HashMap::new();\n",
        "\n",
        "    let account = Account {\n",
        "        username: \"j.everyman\",\n",
        "        password: \"password123\",\n",
        "    };\n",
        "\n",
        "    let account_info = AccountInfo {\n",
        "        name: \"John Everyman\",\n",
        "        email: \"j.everyman@email.com\",\n",
        "    };\n",
        "\n",
        "    accounts.insert(account, account_info);\n",
        "\n",
        "    try_logon(&accounts, \"j.everyman\", \"psasword123\");\n",
        "\n",
        "    try_logon(&accounts, \"j.everyman\", \"password123\");\n",
        "}\n",
        "main();\n"
      ]
    },
    {
      "cell_type": "markdown",
      "metadata": {},
      "source": [
        "\n",
        "[hash]: https://en.wikipedia.org/wiki/Hash_function\n",
        "[floating]: https://en.wikipedia.org/wiki/Floating_point#Accuracy_problems\n",
        "\n"
      ]
    }
  ],
  "metadata": {
    "kernelspec": {
      "display_name": "Rust",
      "language": "rust",
      "name": "rust"
    },
    "language_info": {
      "codemirror_mode": "rust",
      "file_extension": ".rs",
      "mimetype": "text/rust",
      "name": "Rust",
      "pygment_lexer": "rust",
      "version": ""
    }
  },
  "nbformat": 4,
  "nbformat_minor": 5
}