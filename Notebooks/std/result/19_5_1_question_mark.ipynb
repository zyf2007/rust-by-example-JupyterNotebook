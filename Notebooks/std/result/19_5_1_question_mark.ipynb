{
  "cells": [
    {
      "cell_type": "markdown",
      "metadata": {},
      "source": [
        "# `?` 运算符\n",
        "\n",
        "把 result 用 match 连接起来会显得很难看；幸运的是，`?` 运算符可以把这种逻辑变得干净漂亮。`?` 运算符用在返回值为 `Result` 的表达式后面，它等同于这样一个匹配表达式：其中 `Err(err)` 分支展开成提前返回的 `return Err(err)`，而 `Ok(ok)` 分支展开成 `ok` 表达式。\n",
        "\n"
      ]
    },
    {
      "cell_type": "code",
      "execution_count": null,
      "metadata": {
        "vscode": {
          "languageId": "rust"
        }
      },
      "outputs": [],
      "source": [
        "mod checked {\n",
        "    #[derive(Debug)]\n",
        "    enum MathError {\n",
        "        DivisionByZero,\n",
        "        NegativeLogarithm,\n",
        "        NegativeSquareRoot,\n",
        "    }\n",
        "\n",
        "    type MathResult = Result<f64, MathError>;\n",
        "\n",
        "    fn div(x: f64, y: f64) -> MathResult {\n",
        "        if y == 0.0 {\n",
        "            Err(MathError::DivisionByZero)\n",
        "        } else {\n",
        "            Ok(x / y)\n",
        "        }\n",
        "    }\n",
        "\n",
        "    fn sqrt(x: f64) -> MathResult {\n",
        "        if x < 0.0 {\n",
        "            Err(MathError::NegativeSquareRoot)\n",
        "        } else {\n",
        "            Ok(x.sqrt())\n",
        "        }\n",
        "    }\n",
        "\n",
        "    fn ln(x: f64) -> MathResult {\n",
        "        if x < 0.0 {\n",
        "            Err(MathError::NegativeLogarithm)\n",
        "        } else {\n",
        "            Ok(x.ln())\n",
        "        }\n",
        "    }\n",
        "\n",
        "    // 中间函数\n",
        "    fn op_(x: f64, y: f64) -> MathResult {\n",
        "        // 如果 `div` “失败” 了，那么返回 `DivisionByZero`\n",
        "        let ratio = div(x, y)?;\n",
        "\n",
        "        // 如果 `ln` “失败” 了，那么返回 `NegativeLogarithm`\n",
        "        let ln = ln(ratio)?;\n",
        "\n",
        "        sqrt(ln)\n",
        "    }\n",
        "\n",
        "    pub fn op(x: f64, y: f64) {\n",
        "        match op_(x, y) {\n",
        "            Err(why) => panic!(\"{}\",match why {\n",
        "                MathError::NegativeLogarithm\n",
        "                    => \"logarithm of negative number\",\n",
        "                MathError::DivisionByZero\n",
        "                    => \"division by zero\",\n",
        "                MathError::NegativeSquareRoot\n",
        "                    => \"square root of negative number\",\n",
        "            }),\n",
        "            Ok(value) => println!(\"{}\", value),\n",
        "        }\n",
        "    }\n",
        "}\n",
        "\n",
        "fn main() {\n",
        "    checked::op(1.0, 10.0);\n",
        "}\n",
        "main();\n"
      ]
    },
    {
      "cell_type": "markdown",
      "metadata": {},
      "source": [
        "\n",
        "记得查阅[文档][docs]，里面有很多匹配/组合 `Result` 的方法。\n",
        "\n",
        "[docs]: https://rustwiki.org/zh-CN/std/result/index.html\n",
        "\n"
      ]
    }
  ],
  "metadata": {
    "kernelspec": {
      "display_name": "Rust",
      "language": "rust",
      "name": "rust"
    },
    "language_info": {
      "codemirror_mode": "rust",
      "file_extension": ".rs",
      "mimetype": "text/rust",
      "name": "Rust",
      "pygment_lexer": "rust",
      "version": ""
    }
  },
  "nbformat": 4,
  "nbformat_minor": 5
}