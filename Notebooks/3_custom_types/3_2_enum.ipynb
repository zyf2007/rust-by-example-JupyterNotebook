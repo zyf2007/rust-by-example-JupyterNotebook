{
  "cells": [
    {
      "cell_type": "markdown",
      "metadata": {},
      "source": [
        "# 枚举\n",
        "\n",
        "`enum` 关键字允许创建一个从数个不同取值中选其一的枚举类型（enumeration）。任何一个在 `struct` 中合法的取值在 `enum` 中也合法。\n",
        "\n"
      ]
    },
    {
      "cell_type": "code",
      "execution_count": null,
      "metadata": {
        "vscode": {
          "languageId": "rust"
        }
      },
      "outputs": [],
      "source": [
        "// 该属性用于隐藏对未使用代码的警告。\n",
        "#![allow(dead_code)]\n",
        "\n",
        "// 创建一个 `enum`（枚举）来对 web 事件分类。注意变量名和类型共同指定了 `enum`\n",
        "// 取值的种类：`PageLoad` 不等于 `PageUnload`，`KeyPress(char)` 不等于\n",
        "// `Paste(String)`。各个取值不同，互相独立。\n",
        "enum WebEvent {\n",
        "    // 一个 `enum` 可以是单元结构体（称为 `unit-like` 或 `unit`），\n",
        "    PageLoad,\n",
        "    PageUnload,\n",
        "    // 或者一个元组结构体，\n",
        "    KeyPress(char),\n",
        "    Paste(String),\n",
        "    // 或者一个普通的结构体。\n",
        "    Click { x: i64, y: i64 }\n",
        "}\n",
        "\n",
        "// 此函数将一个 `WebEvent` enum 作为参数，无返回值。\n",
        "fn inspect(event: WebEvent) {\n",
        "    match event {\n",
        "        WebEvent::PageLoad => println!(\"page loaded\"),\n",
        "        WebEvent::PageUnload => println!(\"page unloaded\"),\n",
        "        // 从 `enum` 里解构出 `c`。\n",
        "        WebEvent::KeyPress(c) => println!(\"pressed '{}'.\", c),\n",
        "        WebEvent::Paste(s) => println!(\"pasted \\\"{}\\\".\", s),\n",
        "        // 把 `Click` 解构给 `x` and `y`。\n",
        "        WebEvent::Click { x, y } => {\n",
        "            println!(\"clicked at x={}, y={}.\", x, y);\n",
        "        },\n",
        "    }\n",
        "}\n",
        "\n",
        "fn main() {\n",
        "    let pressed = WebEvent::KeyPress('x');\n",
        "    // `to_owned()` 从一个字符串切片中创建一个具有所有权的 `String`。\n",
        "    let pasted  = WebEvent::Paste(\"my text\".to_owned());\n",
        "    let click   = WebEvent::Click { x: 20, y: 80 };\n",
        "    let load    = WebEvent::PageLoad;\n",
        "    let unload  = WebEvent::PageUnload;\n",
        "\n",
        "    inspect(pressed);\n",
        "    inspect(pasted);\n",
        "    inspect(click);\n",
        "    inspect(load);\n",
        "    inspect(unload);\n",
        "}\n",
        "main();\n"
      ]
    },
    {
      "cell_type": "markdown",
      "metadata": {},
      "source": [
        "\n",
        "## 类型别名\n",
        "\n",
        "若使用类型别名，则可以通过其别名引用每个枚举变量。当枚举的名称太长或者太一般化，且你想要对其重命名，那么这对你会有所帮助。\n",
        "\n"
      ]
    },
    {
      "cell_type": "code",
      "execution_count": null,
      "metadata": {
        "vscode": {
          "languageId": "rust"
        }
      },
      "outputs": [],
      "source": [
        "enum VeryVerboseEnumOfThingsToDoWithNumbers {\n",
        "    Add,\n",
        "    Subtract,\n",
        "}\n",
        "\n",
        "// 创建一个类型别名\n",
        "type Operations = VeryVerboseEnumOfThingsToDoWithNumbers;\n",
        "\n",
        "fn main() {\n",
        "    // 我们可以通过别名引用每个枚举变量，避免使用又长又不方便的枚举名字\n",
        "    let x = Operations::Add;\n",
        "}\n",
        "main();\n"
      ]
    },
    {
      "cell_type": "markdown",
      "metadata": {},
      "source": [
        "\n",
        "最常见的情况就是在 `impl` 块中使用 `Self` 别名。\n",
        "\n"
      ]
    },
    {
      "cell_type": "code",
      "execution_count": null,
      "metadata": {
        "vscode": {
          "languageId": "rust"
        }
      },
      "outputs": [],
      "source": [
        "enum VeryVerboseEnumOfThingsToDoWithNumbers {\n",
        "    Add,\n",
        "    Subtract,\n",
        "}\n",
        "\n",
        "impl VeryVerboseEnumOfThingsToDoWithNumbers {\n",
        "    fn run(&self, x: i32, y: i32) -> i32 {\n",
        "        match self {\n",
        "            Self::Add => x + y,\n",
        "            Self::Subtract => x - y,\n",
        "        }\n",
        "    }\n",
        "}\n"
      ]
    },
    {
      "cell_type": "markdown",
      "metadata": {},
      "source": [
        "\n",
        "该功能已在 Rust 中稳定下来， 可以阅读 [stabilization report][aliasreport] 来了解更多有关枚举和类型别名的知识。\n",
        "\n",
        "### 参见：\n",
        "\n",
        "[`match`][match], [`fn`][fn], 和 [`String`][str], [“类型别名枚举变量” 的 RFC][type_alias_rfc]\n",
        "\n",
        "[attributes]: ../attribute.md\n",
        "[c_struct]: https://en.wikipedia.org/wiki/Struct_(C_programming_language)\n",
        "[match]: ../flow_control/match.md\n",
        "[fn]: ../fn.md\n",
        "[str]: ../std/str.md\n",
        "[aliasreport]: https://github.com/rust-lang/rust/pull/61682/#issuecomment-502472847\n",
        "[type_alias_rfc]: https://rust-lang.github.io/rfcs/2338-type-alias-enum-variants.html\n",
        "\n"
      ]
    }
  ],
  "metadata": {
    "kernelspec": {
      "display_name": "Rust",
      "language": "rust",
      "name": "rust"
    },
    "language_info": {
      "codemirror_mode": "rust",
      "file_extension": ".rs",
      "mimetype": "text/rust",
      "name": "Rust",
      "pygment_lexer": "rust",
      "version": ""
    }
  },
  "nbformat": 4,
  "nbformat_minor": 5
}