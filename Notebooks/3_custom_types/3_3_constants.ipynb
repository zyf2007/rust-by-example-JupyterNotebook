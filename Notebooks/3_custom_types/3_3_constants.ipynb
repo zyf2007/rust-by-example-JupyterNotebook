{
  "cells": [
    {
      "cell_type": "markdown",
      "metadata": {},
      "source": [
        "# 常量\n",
        "\n",
        "Rust 有两种常量，可以在任意作用域声明，包括全局作用域。它们都需要显式的类型声明：\n",
        "\n",
        "* `const`：不可改变的值（通常使用这种）。\n",
        "* `static`：具有 [`'static`][static] 生命周期的，可以是可变的变量（译注：须使用\n",
        "  `static mut` 关键字）。\n",
        "\n",
        "有个特例就是 `\"string\"` 字面量。它可以不经改动就被赋给一个 `static` 变量，因为它的类型标记：`&'static str` 就包含了所要求的生命周期 `'static`。其他的引用类型都必须特地声明，使之拥有 `'static` 生命周期。这两种引用类型的差异似乎也无关紧要，因为无论如何，`static` 变量都得显式地声明。\n",
        "\n"
      ]
    },
    {
      "cell_type": "code",
      "execution_count": null,
      "metadata": {
        "vscode": {
          "languageId": "rust"
        }
      },
      "outputs": [],
      "source": [
        "// 全局变量是在所有其他作用域之外声明的。\n",
        "static LANGUAGE: &'static str = \"Rust\";\n",
        "const  THRESHOLD: i32 = 10;\n",
        "\n",
        "fn is_big(n: i32) -> bool {\n",
        "    // 在一般函数中访问常量\n",
        "    n > THRESHOLD\n",
        "}\n",
        "\n",
        "fn main() {\n",
        "    let n = 16;\n",
        "\n",
        "    // 在 main 函数（主函数）中访问常量\n",
        "    println!(\"This is {}\", LANGUAGE);\n",
        "    println!(\"The threshold is {}\", THRESHOLD);\n",
        "    println!(\"{} is {}\", n, if is_big(n) { \"big\" } else { \"small\" });\n",
        "\n",
        "    // 报错！不能修改一个 `const` 常量。\n",
        "    THRESHOLD = 5;\n",
        "    // 改正 ^ 注释掉此行\n",
        "}\n",
        "main();\n"
      ]
    },
    {
      "cell_type": "markdown",
      "metadata": {},
      "source": [
        "\n",
        "### 参见：\n",
        "\n",
        "[`const`/`static` RFC](\n",
        "https://github.com/rust-lang/rfcs/blob/master/text/0246-const-vs-static.md),\n",
        "[`'static` 生命周期][static]\n",
        "\n",
        "[static]: ../scope/lifetime/static_lifetime.md\n",
        "\n"
      ]
    }
  ],
  "metadata": {
    "kernelspec": {
      "display_name": "Rust",
      "language": "rust",
      "name": "rust"
    },
    "language_info": {
      "codemirror_mode": "rust",
      "file_extension": ".rs",
      "mimetype": "text/rust",
      "name": "Rust",
      "pygment_lexer": "rust",
      "version": ""
    }
  },
  "nbformat": 4,
  "nbformat_minor": 5
}