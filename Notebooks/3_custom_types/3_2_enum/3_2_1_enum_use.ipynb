{
  "cells": [
    {
      "cell_type": "markdown",
      "metadata": {},
      "source": [
        "# 使用 use\n",
        "\n",
        "使用 `use` 声明的话，就可以不写出名称的完整路径了：\n",
        "\n"
      ]
    },
    {
      "cell_type": "code",
      "execution_count": null,
      "metadata": {
        "vscode": {
          "languageId": "rust"
        }
      },
      "outputs": [],
      "source": [
        "// 该属性用于隐藏对未使用代码的警告。\n",
        "#![allow(dead_code)]\n",
        "\n",
        "enum Status {\n",
        "    Rich,\n",
        "    Poor,\n",
        "}\n",
        "\n",
        "enum Work {\n",
        "    Civilian,\n",
        "    Soldier,\n",
        "}\n",
        "\n",
        "fn main() {\n",
        "    // 显式地 `use` 各个名称使他们直接可用，而不需要指定它们来自 `Status`。\n",
        "    use Status::{Poor, Rich};\n",
        "    // 自动地 `use` `Work` 内部的各个名称。\n",
        "    use Work::*;\n",
        "\n",
        "    // `Poor` 等价于 `Status::Poor`。\n",
        "    let status = Poor;\n",
        "    // `Civilian` 等价于 `Work::Civilian`。\n",
        "    let work = Civilian;\n",
        "\n",
        "    match status {\n",
        "        // 注意这里没有用完整路径，因为上面显式地使用了 `use`。\n",
        "        Rich => println!(\"The rich have lots of money!\"),\n",
        "        Poor => println!(\"The poor have no money...\"),\n",
        "    }\n",
        "\n",
        "    match work {\n",
        "        // 再次注意到没有用完整路径。\n",
        "        Civilian => println!(\"Civilians work!\"),\n",
        "        Soldier  => println!(\"Soldiers fight!\"),\n",
        "    }\n",
        "}\n",
        "main();\n"
      ]
    },
    {
      "cell_type": "markdown",
      "metadata": {},
      "source": [
        "\n",
        "### 参见：\n",
        "\n",
        "[`match`][match] 和 [`use`][use]\n",
        "\n",
        "[use]: ../../mod/use.md\n",
        "[match]: ../../flow_control/match.md\n",
        "\n"
      ]
    }
  ],
  "metadata": {
    "kernelspec": {
      "display_name": "Rust",
      "language": "rust",
      "name": "rust"
    },
    "language_info": {
      "codemirror_mode": "rust",
      "file_extension": ".rs",
      "mimetype": "text/rust",
      "name": "Rust",
      "pygment_lexer": "rust",
      "version": ""
    }
  },
  "nbformat": 4,
  "nbformat_minor": 5
}