{
  "cells": [
    {
      "cell_type": "markdown",
      "metadata": {},
      "source": [
        "# 测试实例：链表\n",
        "\n",
        "`enum` 的一个常见用法就是创建链表（linked-list）：\n",
        "\n"
      ]
    },
    {
      "cell_type": "code",
      "execution_count": null,
      "metadata": {
        "vscode": {
          "languageId": "rust"
        }
      },
      "outputs": [],
      "source": [
        "use List::*;\n",
        "\n",
        "enum List {\n",
        "    // Cons：元组结构体，包含链表的一个元素和一个指向下一节点的指针\n",
        "    Cons(u32, Box<List>),\n",
        "    // Nil：末结点，表明链表结束\n",
        "    Nil,\n",
        "}\n",
        "\n",
        "// 可以为 enum 定义方法\n",
        "impl List {\n",
        "    // 创建一个空的 List 实例\n",
        "    fn new() -> List {\n",
        "        // `Nil` 为 `List` 类型（译注：因 `Nil` 的完整名称是 `List::Nil`）\n",
        "        Nil\n",
        "    }\n",
        "\n",
        "    // 处理一个 List，在其头部插入新元素，并返回该 List\n",
        "    fn prepend(self, elem: u32) -> List {\n",
        "        // `Cons` 同样为 List 类型\n",
        "        Cons(elem, Box::new(self))\n",
        "    }\n",
        "\n",
        "    // 返回 List 的长度\n",
        "    fn len(&self) -> u32 {\n",
        "        // 必须对 `self` 进行匹配（match），因为这个方法的行为取决于 `self` 的\n",
        "        // 取值种类。\n",
        "        // `self` 为 `&List` 类型，`*self` 为 `List` 类型，匹配一个具体的 `T`\n",
        "        // 类型要好过匹配引用 `&T`。\n",
        "        match *self {\n",
        "            // 不能得到 tail 的所有权，因为 `self` 是借用的；\n",
        "            // 因此使用一个对 tail 的引用\n",
        "            Cons(_, ref tail) => 1 + tail.len(),\n",
        "            // （递归的）基准情形（base case）：一个长度为 0 的空列表\n",
        "            Nil => 0\n",
        "        }\n",
        "    }\n",
        "\n",
        "    // 返回列表的字符串表示（该字符串是堆分配的）\n",
        "    fn stringify(&self) -> String {\n",
        "        match *self {\n",
        "            Cons(head, ref tail) => {\n",
        "                // `format!` 和 `print!` 类似，但返回的是一个堆分配的字符串，\n",
        "                // 而不是打印结果到控制台上\n",
        "                format!(\"{}, {}\", head, tail.stringify())\n",
        "            },\n",
        "            Nil => {\n",
        "                format!(\"Nil\")\n",
        "            },\n",
        "        }\n",
        "    }\n",
        "}\n",
        "\n",
        "fn main() {\n",
        "    // 创建一个空链表\n",
        "    let mut list = List::new();\n",
        "\n",
        "    // 追加一些元素\n",
        "    list = list.prepend(1);\n",
        "    list = list.prepend(2);\n",
        "    list = list.prepend(3);\n",
        "\n",
        "    // 显示链表的最后状态\n",
        "    println!(\"linked list has length: {}\", list.len());\n",
        "    println!(\"{}\", list.stringify());\n",
        "}\n",
        "main();\n"
      ]
    },
    {
      "cell_type": "markdown",
      "metadata": {},
      "source": [
        "\n",
        "### 参见：\n",
        "\n",
        "[`Box`][box] 和 [方法][methods]\n",
        "\n",
        "[box]: ../../std/box.md\n",
        "[methods]: ../../fn/methods.md\n",
        "\n"
      ]
    }
  ],
  "metadata": {
    "kernelspec": {
      "display_name": "Rust",
      "language": "rust",
      "name": "rust"
    },
    "language_info": {
      "codemirror_mode": "rust",
      "file_extension": ".rs",
      "mimetype": "text/rust",
      "name": "Rust",
      "pygment_lexer": "rust",
      "version": ""
    }
  },
  "nbformat": 4,
  "nbformat_minor": 5
}