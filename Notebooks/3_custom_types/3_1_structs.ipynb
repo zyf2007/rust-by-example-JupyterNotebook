{
  "cells": [
    {
      "cell_type": "markdown",
      "metadata": {},
      "source": [
        "# 结构体\n",
        "\n",
        "结构体（structure，缩写成 struct）有 3 种类型，使用 `struct` 关键字来创建：\n",
        "\n",
        "* 元组结构体（tuple struct），事实上就是具名元组而已。\n",
        "* 经典的 [C 语言风格结构体][c_struct]（C struct）。\n",
        "* 单元结构体（unit struct），不带字段，在泛型中很有用。\n",
        "\n"
      ]
    },
    {
      "cell_type": "code",
      "execution_count": null,
      "metadata": {
        "vscode": {
          "languageId": "rust"
        }
      },
      "outputs": [],
      "source": [
        "#[derive(Debug)]\n",
        "struct Person {\n",
        "    name: String,\n",
        "    age: u8,\n",
        "}\n",
        "\n",
        "// 单元结构体\n",
        "struct Unit;\n",
        "\n",
        "// 元组结构体\n",
        "struct Pair(i32, f32);\n",
        "\n",
        "// 带有两个字段的结构体\n",
        "struct Point {\n",
        "    x: f32,\n",
        "    y: f32,\n",
        "}\n",
        "\n",
        "// 结构体可以作为另一个结构体的字段\n",
        "#[allow(dead_code)]\n",
        "struct Rectangle {\n",
        "    // 可以在空间中给定左上角和右下角在空间中的位置来指定矩形。\n",
        "    top_left: Point,\n",
        "    bottom_right: Point,\n",
        "}\n",
        "\n",
        "fn main() {\n",
        "    // 使用简单的写法初始化字段，并创建结构体\n",
        "    let name = String::from(\"Peter\");\n",
        "    let age = 27;\n",
        "    let peter = Person { name, age };\n",
        "\n",
        "    // 以 Debug 方式打印结构体\n",
        "    println!(\"{:?}\", peter);\n",
        "\n",
        "    // 实例化结构体 `Point`\n",
        "    let point: Point = Point { x: 10.3, y: 0.4 };\n",
        "\n",
        "    // 访问 point 的字段\n",
        "    println!(\"point coordinates: ({}, {})\", point.x, point.y);\n",
        "\n",
        "    // 使用结构体更新语法创建新的 point，\n",
        "    // 这样可以用到之前的 point 的字段\n",
        "    let bottom_right = Point { x: 5.2, ..point };\n",
        "\n",
        "    // `bottom_right.y` 与 `point.y` 一样，因为这个字段就是从 `point` 中来的\n",
        "    println!(\"second point: ({}, {})\", bottom_right.x, bottom_right.y);\n",
        "\n",
        "    // 使用 `let` 绑定来解构 point\n",
        "    let Point { x: left_edge, y: top_edge } = point;\n",
        "\n",
        "    let _rectangle = Rectangle {\n",
        "        // 结构体的实例化也是一个表达式\n",
        "        top_left: Point { x: left_edge, y: top_edge },\n",
        "        bottom_right: bottom_right,\n",
        "    };\n",
        "\n",
        "    // 实例化一个单元结构体\n",
        "    let _unit = Unit;\n",
        "\n",
        "    // 实例化一个元组结构体\n",
        "    let pair = Pair(1, 0.1);\n",
        "\n",
        "    // 访问元组结构体的字段\n",
        "    println!(\"pair contains {:?} and {:?}\", pair.0, pair.1);\n",
        "\n",
        "    // 解构一个元组结构体\n",
        "    let Pair(integer, decimal) = pair;\n",
        "\n",
        "    println!(\"pair contains {:?} and {:?}\", integer, decimal);\n",
        "}\n",
        "main();\n"
      ]
    },
    {
      "cell_type": "markdown",
      "metadata": {},
      "source": [
        "\n",
        "### 动手试一试:\n",
        "\n",
        "1. 增加一个计算 `Rectangle` （长方形）面积的函数 `rect_area`（尝试使用嵌套的解构方式）。\n",
        "2. 增加一个函数 `square`，接受的参数是一个 `Point` 和一个 `f32`，并返回一个 `Rectangle`（长方形），其左上角位于该点上，长和宽都对应于 `f32`。\n",
        "\n",
        "### 参见:\n",
        "\n",
        "[属性][attributes] 和 [解构][destructuring]\n",
        "\n",
        "[attributes]: ../attribute.md\n",
        "[c_struct]: https://en.wikipedia.org/wiki/Struct_(C_programming_language)\n",
        "[destructuring]: ../flow_control/match/destructuring.md\n",
        "\n"
      ]
    }
  ],
  "metadata": {
    "kernelspec": {
      "display_name": "Rust",
      "language": "rust",
      "name": "rust"
    },
    "language_info": {
      "codemirror_mode": "rust",
      "file_extension": ".rs",
      "mimetype": "text/rust",
      "name": "Rust",
      "pygment_lexer": "rust",
      "version": ""
    }
  },
  "nbformat": 4,
  "nbformat_minor": 5
}