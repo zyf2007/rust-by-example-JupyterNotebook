{
  "cells": [
    {
      "cell_type": "markdown",
      "metadata": {},
      "source": [
        "# 函数\n",
        "\n",
        "同样的规则也适用于函数：在使用类型 `T` 前给出 `<T>`，那么 `T` 就变成了泛型。\n",
        "\n",
        "调用泛型函数有时需要显式地指明类型参量。这可能是因为调用了返回类型是泛型的函数，或者编译器没有足够的信息来推断类型参数。\n",
        "\n",
        "调用函数时，使用显式指定的类型参数会像是这样：`fun::<A, B, ...>()`。\n",
        "\n"
      ]
    },
    {
      "cell_type": "code",
      "execution_count": null,
      "metadata": {
        "vscode": {
          "languageId": "rust"
        }
      },
      "outputs": [],
      "source": [
        "struct A;          // 具体类型 `A`。\n",
        "struct S(A);       // 具体类型 `S`。\n",
        "struct SGen<T>(T); // 泛型类型 `SGen`。\n",
        "\n",
        "// 下面全部函数都得到了变量的所有权，并立即使之离开作用域，将变量释放。\n",
        "\n",
        "// 定义一个函数 `reg_fn`，接受一个 `S` 类型的参数 `_s`。\n",
        "// 因为没有 `<T>` 这样的泛型类型参数，所以这不是泛型函数。\n",
        "fn reg_fn(_s: S) {}\n",
        "\n",
        "// 定义一个函数 `gen_spec_t`，接受一个 `SGen<A>` 类型的参数 `_s`。\n",
        "// `SGen<>` 显式地接受了类型参数 `A`，且在 `gen_spec_t` 中，`A` 没有被用作\n",
        "// 泛型类型参数，所以函数不是泛型的。\n",
        "fn gen_spec_t(_s: SGen<A>) {}\n",
        "\n",
        "// 定义一个函数 `gen_spec_i32`，接受一个 `SGen<i32>` 类型的参数 `_s`。\n",
        "// `SGen<>` 显式地接受了类型参量 `i32`，而 `i32` 是一个具体类型。\n",
        "// 由于 `i32` 不是一个泛型类型，所以这个函数也不是泛型的。\n",
        "fn gen_spec_i32(_s: SGen<i32>) {}\n",
        "\n",
        "// 定义一个函数 `generic`，接受一个 `SGen<T>` 类型的参数 `_s`。\n",
        "// 因为 `SGen<T>` 之前有 `<T>`，所以这个函数是关于 `T` 的泛型函数。\n",
        "fn generic<T>(_s: SGen<T>) {}\n",
        "\n",
        "fn main() {\n",
        "    // 使用非泛型函数\n",
        "    reg_fn(S(A));          // 具体类型。\n",
        "    gen_spec_t(SGen(A));   // 隐式地指定类型参数 `A`。\n",
        "    gen_spec_i32(SGen(6)); // 隐式地指定类型参数 `i32`。\n",
        "\n",
        "    // 为 `generic()` 显式地指定类型参数 `char`。\n",
        "    generic::<char>(SGen('a'));\n",
        "\n",
        "    // 为 `generic()` 隐式地指定类型参数 `char`。\n",
        "    generic(SGen('c'));\n",
        "}\n",
        "main();\n"
      ]
    },
    {
      "cell_type": "markdown",
      "metadata": {},
      "source": [
        "\n",
        "### 参见：\n",
        "\n",
        "[函数][fn] 和 [`structs`][structs]\n",
        "\n",
        "[fn]: ../fn.md\n",
        "[structs]: ../custom_types/structs.md\n",
        "\n"
      ]
    }
  ],
  "metadata": {
    "kernelspec": {
      "display_name": "Rust",
      "language": "rust",
      "name": "rust"
    },
    "language_info": {
      "codemirror_mode": "rust",
      "file_extension": ".rs",
      "mimetype": "text/rust",
      "name": "Rust",
      "pygment_lexer": "rust",
      "version": ""
    }
  },
  "nbformat": 4,
  "nbformat_minor": 5
}