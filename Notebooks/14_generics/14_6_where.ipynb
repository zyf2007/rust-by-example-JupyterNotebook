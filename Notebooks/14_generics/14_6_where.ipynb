{
  "cells": [
    {
      "cell_type": "markdown",
      "metadata": {},
      "source": [
        "# where 分句\n",
        "\n",
        "约束也可以使用 `where` 分句来表达，它放在 `{` 的前面，而不需写在类型第一次出现之前。另外 `where` 从句可以用于任意类型的限定，而不局限于类型参数本身。\n",
        "\n",
        "`where` 在下面一些情况下很有用：\n",
        "\n",
        "* 当分别指定泛型的类型和约束会更清晰时：\n",
        "\n"
      ]
    },
    {
      "cell_type": "code",
      "execution_count": null,
      "metadata": {
        "vscode": {
          "languageId": "rust"
        }
      },
      "outputs": [],
      "source": [
        "impl <A: TraitB + TraitC, D: TraitE + TraitF> MyTrait<A, D> for YourType {}\n",
        "\n",
        "// 使用 `where` 从句来表达约束\n",
        "impl <A, D> MyTrait<A, D> for YourType where\n",
        "    A: TraitB + TraitC,\n",
        "    D: TraitE + TraitF {}\n"
      ]
    },
    {
      "cell_type": "markdown",
      "metadata": {},
      "source": [
        "\n",
        "* 当使用 `where` 从句比正常语法更有表现力时。本例中的 `impl` 如果不用\n",
        "   `where` 从句，就无法直接表达。\n",
        "\n"
      ]
    },
    {
      "cell_type": "code",
      "execution_count": null,
      "metadata": {
        "vscode": {
          "languageId": "rust"
        }
      },
      "outputs": [],
      "source": [
        "use std::fmt::Debug;\n",
        "\n",
        "trait PrintInOption {\n",
        "    fn print_in_option(self);\n",
        "}\n",
        "\n",
        "// 这里需要一个 `where` 从句，否则就要表达成 `T: Debug`（这样意思就变了），\n",
        "// 或者改用另一种间接的方法。\n",
        "impl<T> PrintInOption for T where\n",
        "    Option<T>: Debug {\n",
        "    // 我们要将 `Option<T>: Debug` 作为约束，因为那是要打印的内容。\n",
        "    // 否则我们会给出错误的约束。\n",
        "    fn print_in_option(self) {\n",
        "        println!(\"{:?}\", Some(self));\n",
        "    }\n",
        "}\n",
        "\n",
        "fn main() {\n",
        "    let vec = vec![1, 2, 3];\n",
        "\n",
        "    vec.print_in_option();\n",
        "}\n",
        "main();\n"
      ]
    },
    {
      "cell_type": "markdown",
      "metadata": {},
      "source": [
        "\n",
        "### 参见：\n",
        "\n",
        "相关的 [RFC][where]、[`struct`][struct] 和 [`trait`][trait]\n",
        "\n",
        "[struct]: ../custom_types/structs.md\n",
        "[trait]: ../trait.md\n",
        "[where]: https://github.com/rust-lang/rfcs/blob/master/text/0135-where.md\n",
        "\n"
      ]
    }
  ],
  "metadata": {
    "kernelspec": {
      "display_name": "Rust",
      "language": "rust",
      "name": "rust"
    },
    "language_info": {
      "codemirror_mode": "rust",
      "file_extension": ".rs",
      "mimetype": "text/rust",
      "name": "Rust",
      "pygment_lexer": "rust",
      "version": ""
    }
  },
  "nbformat": 4,
  "nbformat_minor": 5
}