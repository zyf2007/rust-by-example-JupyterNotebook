{
  "cells": [
    {
      "cell_type": "markdown",
      "metadata": {},
      "source": [
        "# 虚类型参数\n",
        "\n",
        "虚类型（phantom type）参数是一种在运行时不出现，而在（且仅在）编译时进行静态检查的类型参数。\n",
        "\n",
        "可以用额外的泛型类型参数指定数据类型，该类型可以充当标记，也可以供编译时类型检查使用。这些额外的参数没有存储值，也没有运行时行为。\n",
        "\n",
        "在下面例子中，我们使用 [std::marker::PhantomData] 作为虚类型参数的类型，创建包含不同数据类型的元组。\n",
        "\n"
      ]
    },
    {
      "cell_type": "code",
      "execution_count": null,
      "metadata": {
        "vscode": {
          "languageId": "rust"
        }
      },
      "outputs": [],
      "source": [
        "use std::marker::PhantomData;\n",
        "\n",
        "// 这个虚元组结构体对 `A` 是泛型的，并且带有隐藏参数 `B`。\n",
        "#[derive(PartialEq)] // 允许这种类型进行相等测试（equality test）。\n",
        "struct PhantomTuple<A, B>(A,PhantomData<B>);\n",
        "\n",
        "// 这个虚类型结构体对 `A` 是泛型的，并且带有隐藏参数 `B`。\n",
        "#[derive(PartialEq)] // 允许这种类型进行相等测试。\n",
        "struct PhantomStruct<A, B> { first: A, phantom: PhantomData<B> }\n",
        "\n",
        "// 注意：对于泛型 `A` 会分配存储空间，但 `B` 不会。\n",
        "//       因此，`B` 不能参与运算。\n",
        "\n",
        "fn main() {\n",
        "    // 这里的 `f32` 和 `f64` 是隐藏参数。\n",
        "    // 被指定为 `<char, f32>` 的 `PhantomTuple` 类型。\n",
        "    let _tuple1: PhantomTuple<char, f32> = PhantomTuple('Q', PhantomData);\n",
        "    // 被指定为 `<char, f64>` `PhantomTuple` 类型。\n",
        "    let _tuple2: PhantomTuple<char, f64> = PhantomTuple('Q', PhantomData);\n",
        "\n",
        "    // 被指定为 `<char, f32>` 的类型。\n",
        "    let _struct1: PhantomStruct<char, f32> = PhantomStruct {\n",
        "        first: 'Q',\n",
        "        phantom: PhantomData,\n",
        "    };\n",
        "    // 被指定为 `<char, f64>` 的类型。\n",
        "    let _struct2: PhantomStruct<char, f64> = PhantomStruct {\n",
        "        first: 'Q',\n",
        "        phantom: PhantomData,\n",
        "    };\n",
        "    \n",
        "    // 编译期错误！类型不匹配，所以这些值不能够比较：\n",
        "    //println!(\"_tuple1 == _tuple2 yields: {}\",\n",
        "    //          _tuple1 == _tuple2);\n",
        "    \n",
        "    // 编译期错误！类型不匹配，所以这些值不能够比较：\n",
        "    //println!(\"_struct1 == _struct2 yields: {}\",\n",
        "    //          _struct1 == _struct2);\n",
        "}\n",
        "main();\n"
      ]
    },
    {
      "cell_type": "markdown",
      "metadata": {},
      "source": [
        "\n",
        "### 参见：\n",
        "\n",
        "[Derive], [结构体][struct], 和 [元组结构体][TupleStructs]\n",
        "\n",
        "[Derive]: ../trait/derive.md\n",
        "[struct]: ../custom_types/structs.md\n",
        "[TupleStructs]: ../custom_types/structs.md\n",
        "[std::marker::PhantomData]: https://rustwiki.org/zh-CN/std/marker/struct.PhantomData.html\n",
        "\n"
      ]
    }
  ],
  "metadata": {
    "kernelspec": {
      "display_name": "Rust",
      "language": "rust",
      "name": "rust"
    },
    "language_info": {
      "codemirror_mode": "rust",
      "file_extension": ".rs",
      "mimetype": "text/rust",
      "name": "Rust",
      "pygment_lexer": "rust",
      "version": ""
    }
  },
  "nbformat": 4,
  "nbformat_minor": 5
}