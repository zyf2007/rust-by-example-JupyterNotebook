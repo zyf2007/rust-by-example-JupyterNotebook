{
  "cells": [
    {
      "cell_type": "markdown",
      "metadata": {},
      "source": [
        "# 约束\n",
        "\n",
        "在使用泛型时，类型参数常常必须使用 trait 作为**约束**（bound）来明确规定类型应实现哪些功能。例如下面的例子用到了 `Display` trait 来打印，所以它用\n",
        "`Display` 来约束 `T`，也就是说 `T` **必须**实现 `Display`。\n",
        "\n"
      ]
    },
    {
      "cell_type": "code",
      "execution_count": null,
      "metadata": {
        "vscode": {
          "languageId": "rust"
        }
      },
      "outputs": [],
      "source": [
        "// 定义一个函数 `printer`，接受一个类型为泛型 `T` 的参数，\n",
        "// 其中 `T` 必须实现 `Display` trait。\n",
        "fn printer<T: Display>(t: T) {\n",
        "    println!(\"{}\", t);\n",
        "}\n"
      ]
    },
    {
      "cell_type": "markdown",
      "metadata": {},
      "source": [
        "\n",
        "约束把泛型类型限制为符合约束的类型。请看：\n",
        "\n"
      ]
    },
    {
      "cell_type": "code",
      "execution_count": null,
      "metadata": {
        "vscode": {
          "languageId": "rust"
        }
      },
      "outputs": [],
      "source": [
        "struct S<T: Display>(T);\n",
        "\n",
        "// 报错！`Vec<T>` 未实现 `Display`。此次泛型具体化失败。\n",
        "let s = S(vec![1]);\n"
      ]
    },
    {
      "cell_type": "markdown",
      "metadata": {},
      "source": [
        "\n",
        "约束的另一个作用是泛型的实例可以访问作为约束的 trait 的方法。例如：\n",
        "\n"
      ]
    },
    {
      "cell_type": "code",
      "execution_count": null,
      "metadata": {
        "vscode": {
          "languageId": "rust"
        }
      },
      "outputs": [],
      "source": [
        "// 这个 trait 用来实现打印标记：`{:?}`。\n",
        "use std::fmt::Debug;\n",
        "\n",
        "trait HasArea {\n",
        "    fn area(&self) -> f64;\n",
        "}\n",
        "\n",
        "impl HasArea for Rectangle {\n",
        "    fn area(&self) -> f64 { self.length * self.height }\n",
        "}\n",
        "\n",
        "#[derive(Debug)]\n",
        "struct Rectangle { length: f64, height: f64 }\n",
        "#[allow(dead_code)]\n",
        "struct Triangle  { length: f64, height: f64 }\n",
        "\n",
        "// 泛型 `T` 必须实现 `Debug` 。只要满足这点，无论什么类型\n",
        "// 都可以让下面函数正常工作。\n",
        "fn print_debug<T: Debug>(t: &T) {\n",
        "    println!(\"{:?}\", t);\n",
        "}\n",
        "\n",
        "// `T` 必须实现 `HasArea`。任意符合该约束的泛型的实例\n",
        "// 都可访问 `HasArea` 的 `area` 函数\n",
        "fn area<T: HasArea>(t: &T) -> f64 { t.area() }\n",
        "\n",
        "fn main() {\n",
        "    let rectangle = Rectangle { length: 3.0, height: 4.0 };\n",
        "    let _triangle = Triangle  { length: 3.0, height: 4.0 };\n",
        "\n",
        "    print_debug(&rectangle);\n",
        "    println!(\"Area: {}\", area(&rectangle));\n",
        "\n",
        "    //print_debug(&_triangle);\n",
        "    //println!(\"Area: {}\", area(&_triangle));\n",
        "    // ^ 试一试：取消上述语句的注释。\n",
        "    // | 报错：未实现 `Debug` 或 `HasArea`。\n",
        "}\n",
        "main();\n"
      ]
    },
    {
      "cell_type": "markdown",
      "metadata": {},
      "source": [
        "\n",
        "多说一句，某些情况下也可使用 [`where`][where] 分句来形成约束，这拥有更好的表现力。\n",
        "\n",
        "### 参见：\n",
        "\n",
        "[`std::fmt`][fmt], [`struct`][structs], 和 [`trait`][traits]\n",
        "\n",
        "[fmt]: ../hello/print.md\n",
        "[methods]: ../fn/methods.md\n",
        "[structs]: ../custom_types/structs.md\n",
        "[traits]: ../trait.md\n",
        "[where]: ../generics/where.md\n",
        "\n"
      ]
    }
  ],
  "metadata": {
    "kernelspec": {
      "display_name": "Rust",
      "language": "rust",
      "name": "rust"
    },
    "language_info": {
      "codemirror_mode": "rust",
      "file_extension": ".rs",
      "mimetype": "text/rust",
      "name": "Rust",
      "pygment_lexer": "rust",
      "version": ""
    }
  },
  "nbformat": 4,
  "nbformat_minor": 5
}