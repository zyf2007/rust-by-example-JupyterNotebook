{
  "cells": [
    {
      "cell_type": "markdown",
      "metadata": {},
      "source": [
        "# 测试实例：单位说明\n",
        "\n",
        "通过实现一个带虚类型参数的 `Add` trait 可以实现单位检查。这种 `Add` trait 的代码如下：\n",
        "\n"
      ]
    },
    {
      "cell_type": "code",
      "execution_count": null,
      "metadata": {
        "vscode": {
          "languageId": "rust"
        }
      },
      "outputs": [],
      "source": [
        "// 这个 `trait` 会要求 `Self + RHS = Output`。`<RHS = Self>` 表示 RHS 的默认值\n",
        "// 为 Self 类型，也就是如果没有在实现中另行指定，RHS 就取 Self 类型。\n",
        "pub trait Add<RHS = Self> {\n",
        "    type Output;\n",
        "\n",
        "    fn add(self, rhs: RHS) -> Self::Output;\n",
        "}\n",
        "\n",
        "// `Output` 必须是 `T<U>` 类型，所以是 `T<U> + T<U> = T<U>`。\n",
        "impl<U> Add for T<U> {\n",
        "    type Output = T<U>;\n",
        "    ...\n",
        "}\n"
      ]
    },
    {
      "cell_type": "markdown",
      "metadata": {},
      "source": [
        "\n",
        "完整实现：\n",
        "\n"
      ]
    },
    {
      "cell_type": "code",
      "execution_count": null,
      "metadata": {
        "vscode": {
          "languageId": "rust"
        }
      },
      "outputs": [],
      "source": [
        "use std::ops::Add;\n",
        "use std::marker::PhantomData;\n",
        "\n",
        "/// 创建空枚举类型来表示单位。\n",
        "#[derive(Debug, Clone, Copy)]\n",
        "enum Inch {}\n",
        "#[derive(Debug, Clone, Copy)]\n",
        "enum Mm {}\n",
        "\n",
        "/// `Length` 是一个带有虚类型参数 `Unit` 的类型，\n",
        "/// 而且对于表示长度的类型（即 `f64`）而言，`Length` 不是泛型的。\n",
        "///\n",
        "/// `f64` 已经实现了 `Clone` 和 `Copy` trait.\n",
        "#[derive(Debug, Clone, Copy)]\n",
        "struct Length<Unit>(f64, PhantomData<Unit>);\n",
        "\n",
        "/// `Add` trait 定义了 `+` 运算符的行为。\n",
        "impl<Unit> Add for Length<Unit> {\n",
        "     type Output = Length<Unit>;\n",
        "\n",
        "    // add() 返回一个含有和的新的 `Length` 结构体。\n",
        "    fn add(self, rhs: Length<Unit>) -> Length<Unit> {\n",
        "        // `+` 调用了针对 `f64` 类型的 `Add` 实现。\n",
        "        Length(self.0 + rhs.0, PhantomData)\n",
        "    }\n",
        "}\n",
        "\n",
        "fn main() {\n",
        "    // 指定 `one_foot` 拥有虚类型参数 `Inch`。\n",
        "    let one_foot:  Length<Inch> = Length(12.0, PhantomData);\n",
        "    // `one_meter` 拥有虚类型参数 `Mm`。\n",
        "    let one_meter: Length<Mm>   = Length(1000.0, PhantomData);\n",
        "\n",
        "    // `+` 调用了我们对 `Length<Unit>` 实现的 `add()` 方法。\n",
        "    //\n",
        "    // 由于 `Length` 了实现了 `Copy`，`add()` 不会消耗 `one_foot`\n",
        "    // 和 `one_meter`，而是复制它们作为 `self` 和 `rhs`。\n",
        "    let two_feet = one_foot + one_foot;\n",
        "    let two_meters = one_meter + one_meter;\n",
        "\n",
        "    // 加法正常执行。\n",
        "    println!(\"one foot + one_foot = {:?} in\", two_feet.0);\n",
        "    println!(\"one meter + one_meter = {:?} mm\", two_meters.0);\n",
        "\n",
        "    // 无意义的运算当然会失败：\n",
        "    // 编译期错误：类型不匹配。\n",
        "    //let one_feter = one_foot + one_meter;\n",
        "}\n",
        "\n",
        "main();\n"
      ]
    },
    {
      "cell_type": "markdown",
      "metadata": {},
      "source": [
        "\n",
        "### 参见：\n",
        "\n",
        "[Borrowing (`&`)], [Bounds (`X: Y`)], [enum], [impl & self],\n",
        "[Overloading], [ref], [Traits (`X for Y`)], 和 [TupleStructs].\n",
        "\n",
        "[Borrowing (`&`)]: ../../scope/borrow.md\n",
        "[Bounds (`X: Y`)]: ../../generics/bounds.md\n",
        "[enum]: ../../custom_types/enum.md\n",
        "[impl & self]: ../../fn/methods.md\n",
        "[Overloading]: ../../trait/ops.md\n",
        "[ref]: ../../scope/borrow/ref.md\n",
        "[Traits (`X for Y`)]: ../../trait.md\n",
        "[TupleStructs]: ../../custom_types/structs.md\n",
        "[std::marker::PhantomData]: https://rustwiki.org/zh-CN/std/marker/struct.PhantomData.html\n",
        "\n"
      ]
    }
  ],
  "metadata": {
    "kernelspec": {
      "display_name": "Rust",
      "language": "rust",
      "name": "rust"
    },
    "language_info": {
      "codemirror_mode": "rust",
      "file_extension": ".rs",
      "mimetype": "text/rust",
      "name": "Rust",
      "pygment_lexer": "rust",
      "version": ""
    }
  },
  "nbformat": 4,
  "nbformat_minor": 5
}