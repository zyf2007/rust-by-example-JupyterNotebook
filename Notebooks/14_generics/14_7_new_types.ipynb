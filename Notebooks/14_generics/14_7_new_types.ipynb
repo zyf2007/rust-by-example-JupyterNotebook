{
  "cells": [
    {
      "cell_type": "markdown",
      "metadata": {},
      "source": [
        "# new type 惯用法\n",
        "\n",
        "`newtype` 惯用法（译注：即为不同种类的数据分别定义新的类型）能保证在编译时，提供给程序的都是正确的类型。\n",
        "\n",
        "比如说，实现一个 “年龄认证” 函数，它要求输入**必须**是 `Years` 类型。\n",
        "\n"
      ]
    },
    {
      "cell_type": "code",
      "execution_count": null,
      "metadata": {
        "vscode": {
          "languageId": "rust"
        }
      },
      "outputs": [],
      "source": [
        "struct Years(i64);\n",
        "\n",
        "struct Days(i64);\n",
        "\n",
        "impl Years {\n",
        "    pub fn to_days(&self) -> Days {\n",
        "        Days(self.0 * 365)\n",
        "    }\n",
        "}\n",
        "\n",
        "\n",
        "impl Days {\n",
        "    /// 舍去不满一年的部分\n",
        "    pub fn to_years(&self) -> Years {\n",
        "        Years(self.0 / 365)\n",
        "    }\n",
        "}\n",
        "\n",
        "fn old_enough(age: &Years) -> bool {\n",
        "    age.0 >= 18\n",
        "}\n",
        "\n",
        "fn main() {\n",
        "    let age = Years(5);\n",
        "    let age_days = age.to_days();\n",
        "    println!(\"Old enough {}\", old_enough(&age));\n",
        "    println!(\"Old enough {}\", old_enough(&age_days.to_years()));\n",
        "    // println!(\"Old enough {}\", old_enough(&age_days));\n",
        "}\n",
        "main();\n"
      ]
    },
    {
      "cell_type": "markdown",
      "metadata": {},
      "source": [
        "取消最后一行的注释，就可以发现提供给 `old_enough` 的必须是 `Years` 类型。\n",
        "\n",
        "### See also:\n",
        "\n",
        "[`structs`][struct]\n",
        "\n",
        "[struct]: ../custom_types/structs.md\n",
        "\n"
      ]
    }
  ],
  "metadata": {
    "kernelspec": {
      "display_name": "Rust",
      "language": "rust",
      "name": "rust"
    },
    "language_info": {
      "codemirror_mode": "rust",
      "file_extension": ".rs",
      "mimetype": "text/rust",
      "name": "Rust",
      "pygment_lexer": "rust",
      "version": ""
    }
  },
  "nbformat": 4,
  "nbformat_minor": 5
}