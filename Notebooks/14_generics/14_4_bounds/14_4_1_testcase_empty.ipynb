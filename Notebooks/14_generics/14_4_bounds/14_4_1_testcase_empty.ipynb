{
  "cells": [
    {
      "cell_type": "markdown",
      "metadata": {},
      "source": [
        "# 测试实例：空约束\n",
        "\n",
        "约束的工作机制会产生这样的效果：即使一个 `trait` 不包含任何功能，你仍然可以用它作为约束。标准库中的 `Eq` 和 `Ord` 就是这样的 `trait`。\n",
        "\n"
      ]
    },
    {
      "cell_type": "code",
      "execution_count": null,
      "metadata": {
        "vscode": {
          "languageId": "rust"
        }
      },
      "outputs": [],
      "source": [
        "struct Cardinal;\n",
        "struct BlueJay;\n",
        "struct Turkey;\n",
        "\n",
        "trait Red {}\n",
        "trait Blue {}\n",
        "\n",
        "impl Red for Cardinal {}\n",
        "impl Blue for BlueJay {}\n",
        "\n",
        "// 这些函数只对实现了相应的 trait 的类型有效。\n",
        "// 事实上这些 trait 内部是空的，但这没有关系。\n",
        "fn red<T: Red>(_: &T)   -> &'static str { \"red\" }\n",
        "fn blue<T: Blue>(_: &T) -> &'static str { \"blue\" }\n",
        "\n",
        "fn main() {\n",
        "    let cardinal = Cardinal;\n",
        "    let blue_jay = BlueJay;\n",
        "    let _turkey   = Turkey;\n",
        "\n",
        "    // 由于约束，`red()` 不能作用于 blue_jay （蓝松鸟），反过来也一样。\n",
        "    println!(\"A cardinal is {}\", red(&cardinal));\n",
        "    println!(\"A blue jay is {}\", blue(&blue_jay));\n",
        "    //println!(\"A turkey is {}\", red(&_turkey));\n",
        "    // ^ 试一试：去掉此行注释。\n",
        "}\n",
        "main();\n"
      ]
    },
    {
      "cell_type": "markdown",
      "metadata": {},
      "source": [
        "\n",
        "### 参见：\n",
        "\n",
        "[`std::cmp::Eq`][eq], [`std::cmp::Ord`][ord], 和 [`trait`][traits]\n",
        "\n",
        "[eq]: https://rustwiki.org/zh-CN/std/cmp/trait.Eq.html\n",
        "[ord]: https://rustwiki.org/zh-CN/std/cmp/trait.Ord.html\n",
        "[traits]: ../../trait.md\n",
        "\n"
      ]
    }
  ],
  "metadata": {
    "kernelspec": {
      "display_name": "Rust",
      "language": "rust",
      "name": "rust"
    },
    "language_info": {
      "codemirror_mode": "rust",
      "file_extension": ".rs",
      "mimetype": "text/rust",
      "name": "Rust",
      "pygment_lexer": "rust",
      "version": ""
    }
  },
  "nbformat": 4,
  "nbformat_minor": 5
}