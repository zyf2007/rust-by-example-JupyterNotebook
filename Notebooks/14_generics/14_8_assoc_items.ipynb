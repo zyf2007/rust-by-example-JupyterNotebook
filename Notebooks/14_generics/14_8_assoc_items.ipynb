{
  "cells": [
    {
      "cell_type": "markdown",
      "metadata": {},
      "source": [
        "# 关联项\n",
        "\n",
        "“关联项”（associated item）指与多种类型的[项][items]有关的一组规则。它是 `trait`\n",
        " 泛型的扩展，允许在 `trait` 内部定义新的项。\n",
        "\n",
        "一个这样的项就叫做一个关联类型。当 `trait` 对于实现了它的容器类型是泛型的，关联项就提供了简单的使用方法。\n",
        "\n",
        "> 译注：“关联项”这个说法实际上只在 RFC 里出现了，官方的《The Rust Programming\n",
        "> Language》第一版和第二版都只有“关联类型”的说法。如果觉得这里的说法很别扭的话\n",
        "> 不要理会就是了。TRPL 对关联类型的定义是：“一种将类型占位符与 trait 联系起来的\n",
        "> 做法，这样 trait 中的方法签名中就可以使用这些占位符类型。trait 的实现会指定在\n",
        "> 该实现中那些占位符对应什么具体类型。”等看完这一节再回头看这个定义就很明白了。\n",
        "\n",
        "### 参见：\n",
        "\n",
        "[RFC][RFC]\n",
        "\n",
        "[items]: https://rustwiki.org/zh-CN/reference/items.html\n",
        "[RFC]: https://github.com/rust-lang/rfcs/blob/master/text/0195-associated-items.md\n",
        "\n"
      ]
    }
  ],
  "metadata": {
    "kernelspec": {
      "display_name": "Rust",
      "language": "rust",
      "name": "rust"
    },
    "language_info": {
      "codemirror_mode": "rust",
      "file_extension": ".rs",
      "mimetype": "text/rust",
      "name": "Rust",
      "pygment_lexer": "rust",
      "version": ""
    }
  },
  "nbformat": 4,
  "nbformat_minor": 5
}