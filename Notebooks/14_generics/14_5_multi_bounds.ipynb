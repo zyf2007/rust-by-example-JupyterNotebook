{
  "cells": [
    {
      "cell_type": "markdown",
      "metadata": {},
      "source": [
        "# 多重约束\n",
        "\n",
        "多重约束（multiple bounds）可以用 `+` 连接。和平常一样，类型之间使用 `,` 隔开。\n",
        "\n"
      ]
    },
    {
      "cell_type": "code",
      "execution_count": null,
      "metadata": {
        "vscode": {
          "languageId": "rust"
        }
      },
      "outputs": [],
      "source": [
        "use std::fmt::{Debug, Display};\n",
        "\n",
        "fn compare_prints<T: Debug + Display>(t: &T) {\n",
        "    println!(\"Debug: `{:?}`\", t);\n",
        "    println!(\"Display: `{}`\", t);\n",
        "}\n",
        "\n",
        "fn compare_types<T: Debug, U: Debug>(t: &T, u: &U) {\n",
        "    println!(\"t: `{:?}`\", t);\n",
        "    println!(\"u: `{:?}`\", u);\n",
        "}\n",
        "\n",
        "fn main() {\n",
        "    let string = \"words\";\n",
        "    let array = [1, 2, 3];\n",
        "    let vec = vec![1, 2, 3];\n",
        "\n",
        "    compare_prints(&string);\n",
        "    //compare_prints(&array);\n",
        "    // 试一试 ^ 将此行注释去掉。\n",
        "\n",
        "    compare_types(&array, &vec);\n",
        "}\n",
        "main();\n"
      ]
    },
    {
      "cell_type": "markdown",
      "metadata": {},
      "source": [
        "\n",
        "### 参见：\n",
        "\n",
        "[`std::fmt`][fmt] 和 [`trait`][traits]\n",
        "\n",
        "[fmt]: ../hello/print.md\n",
        "[traits]: ../trait.md\n",
        "\n"
      ]
    }
  ],
  "metadata": {
    "kernelspec": {
      "display_name": "Rust",
      "language": "rust",
      "name": "rust"
    },
    "language_info": {
      "codemirror_mode": "rust",
      "file_extension": ".rs",
      "mimetype": "text/rust",
      "name": "Rust",
      "pygment_lexer": "rust",
      "version": ""
    }
  },
  "nbformat": 4,
  "nbformat_minor": 5
}