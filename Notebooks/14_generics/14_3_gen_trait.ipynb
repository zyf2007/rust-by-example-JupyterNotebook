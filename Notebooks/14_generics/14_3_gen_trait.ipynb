{
  "cells": [
    {
      "cell_type": "markdown",
      "metadata": {},
      "source": [
        "# trait\n",
        "\n",
        "当然 `trait` 也可以是泛型的。我们在这里定义了一个 `trait`，它把 `Drop` `trait`\n",
        " 作为泛型方法实现了，可以 `drop`（丢弃）调用者本身和一个输入参数。\n",
        "\n"
      ]
    },
    {
      "cell_type": "code",
      "execution_count": null,
      "metadata": {
        "vscode": {
          "languageId": "rust"
        }
      },
      "outputs": [],
      "source": [
        "// 不可复制的类型。\n",
        "struct Empty;\n",
        "struct Null;\n",
        "\n",
        "// `T` 的泛型 trait。\n",
        "trait DoubleDrop<T> {\n",
        "    // 定义一个调用者的方法，接受一个额外的参数 `T`，但不对它做任何事。\n",
        "    fn double_drop(self, _: T);\n",
        "}\n",
        "\n",
        "// 对泛型的调用者类型 `U` 和任何泛型类型 `T` 实现 `DoubleDrop<T>` 。\n",
        "impl<T, U> DoubleDrop<T> for U {\n",
        "    // 此方法获得两个传入参数的所有权，并释放它们。\n",
        "    fn double_drop(self, _: T) {}\n",
        "}\n",
        "\n",
        "fn main() {\n",
        "    let empty = Empty;\n",
        "    let null  = Null;\n",
        "\n",
        "    // 释放 `empty` 和 `null`。\n",
        "    empty.double_drop(null);\n",
        "\n",
        "    //empty;\n",
        "    //null;\n",
        "    // ^ 试一试：去掉这两行的注释。\n",
        "}\n",
        "main();\n"
      ]
    },
    {
      "cell_type": "markdown",
      "metadata": {},
      "source": [
        "\n",
        "### 参见：\n",
        "\n",
        "[`Drop`][Drop], [`struct`][structs], 和 [`trait`][traits]\n",
        "\n",
        "[Drop]: https://rustwiki.org/zh-CN/std/ops/trait.Drop.html\n",
        "[structs]: ../custom_types/structs.md\n",
        "[traits]: ../trait.md\n",
        "\n"
      ]
    }
  ],
  "metadata": {
    "kernelspec": {
      "display_name": "Rust",
      "language": "rust",
      "name": "rust"
    },
    "language_info": {
      "codemirror_mode": "rust",
      "file_extension": ".rs",
      "mimetype": "text/rust",
      "name": "Rust",
      "pygment_lexer": "rust",
      "version": ""
    }
  },
  "nbformat": 4,
  "nbformat_minor": 5
}