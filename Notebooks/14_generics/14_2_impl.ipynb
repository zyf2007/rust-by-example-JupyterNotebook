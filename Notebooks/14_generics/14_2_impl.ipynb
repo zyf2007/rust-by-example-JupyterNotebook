{
  "cells": [
    {
      "cell_type": "markdown",
      "metadata": {},
      "source": [
        "# 实现\n",
        "\n",
        "和函数类似，`impl` 块要想实现泛型，也需要很仔细。\n",
        "\n"
      ]
    },
    {
      "cell_type": "code",
      "execution_count": null,
      "metadata": {
        "vscode": {
          "languageId": "rust"
        }
      },
      "outputs": [],
      "source": [
        "struct S; // 具体类型 `S`\n",
        "struct GenericVal<T>(T,); // 泛型类型 `GenericVal`\n",
        "\n",
        "// GenericVal 的 `impl`，此处我们显式地指定了类型参数：\n",
        "impl GenericVal<f32> {} // 指定 `f32` 类型\n",
        "impl GenericVal<S> {} // 指定为上面定义的 `S`\n",
        "\n",
        "// `<T>` 必须在类型之前写出来，以使类型 `T` 代表泛型。\n",
        "impl <T> GenericVal<T> {}\n"
      ]
    },
    {
      "cell_type": "markdown",
      "metadata": {},
      "source": [
        "\n"
      ]
    },
    {
      "cell_type": "code",
      "execution_count": null,
      "metadata": {
        "vscode": {
          "languageId": "rust"
        }
      },
      "outputs": [],
      "source": [
        "struct Val {\n",
        "    val: f64\n",
        "}\n",
        "\n",
        "struct GenVal<T>{\n",
        "    gen_val: T\n",
        "}\n",
        "\n",
        "// Val 的 `impl`\n",
        "impl Val {\n",
        "    fn value(&self) -> &f64 { &self.val }\n",
        "}\n",
        "\n",
        "// GenVal 的 `impl`，指定 `T` 是泛型类型\n",
        "impl <T> GenVal<T> {\n",
        "    fn value(&self) -> &T { &self.gen_val }\n",
        "}\n",
        "\n",
        "fn main() {\n",
        "    let x = Val { val: 3.0 };\n",
        "    let y = GenVal { gen_val: 3i32 };\n",
        "    \n",
        "    println!(\"{}, {}\", x.value(), y.value());\n",
        "}\n",
        "main();\n"
      ]
    },
    {
      "cell_type": "markdown",
      "metadata": {},
      "source": [
        "\n",
        "### 参见：\n",
        "\n",
        "[返回引用的函数][fn], [`impl`][methods], 和 [`struct`][structs]\n",
        "\n",
        "\n",
        "[fn]: ../scope/lifetime/fn.md\n",
        "[methods]: ../fn/methods.md\n",
        "[specialization_plans]: https://blog.rust-lang.org/2015/05/11/traits.html#the-future\n",
        "[structs]: ../custom_types/structs.md\n"
      ]
    }
  ],
  "metadata": {
    "kernelspec": {
      "display_name": "Rust",
      "language": "rust",
      "name": "rust"
    },
    "language_info": {
      "codemirror_mode": "rust",
      "file_extension": ".rs",
      "mimetype": "text/rust",
      "name": "Rust",
      "pygment_lexer": "rust",
      "version": ""
    }
  },
  "nbformat": 4,
  "nbformat_minor": 5
}