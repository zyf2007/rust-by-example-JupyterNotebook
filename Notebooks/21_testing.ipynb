{
  "cells": [
    {
      "cell_type": "markdown",
      "metadata": {},
      "source": [
        "# 测试\n",
        "\n",
        "Rust 是一门非常重视正确性的语言，这门语言本身就提供了对编写软件测试的支持。\n",
        "\n",
        "测试有三种风格：\n",
        "\n",
        "* [单元][unit]测试。\n",
        "* [文档][doc]测试。\n",
        "* [集成][integration]测试。\n",
        "\n",
        "Rust 也支持在测试中指定额外的依赖：\n",
        "\n",
        "* [开发依赖][dev-dependencies]\n",
        "\n",
        "## 参见\n",
        "\n",
        "* [TRPL][doc-testing] 中关于测试的章节\n",
        "* [API 指导原则][doc-nursery]中关于文档测试的部分\n",
        "\n",
        "[unit]: testing/unit_testing.md\n",
        "[doc]: testing/doc_testing.md\n",
        "[integration]: testing/integration_testing.md\n",
        "[dev-dependencies]: testing/dev_dependencies.md\n",
        "[doc-testing]: https://rustwiki.org/zh-CN/book/second-edition/ch11-00-testing.html\n",
        "[doc-nursery]: https://rust-lang-nursery.github.io/api-guidelines/documentation.html\n",
        "\n"
      ]
    }
  ],
  "metadata": {
    "kernelspec": {
      "display_name": "Rust",
      "language": "rust",
      "name": "rust"
    },
    "language_info": {
      "codemirror_mode": "rust",
      "file_extension": ".rs",
      "mimetype": "text/rust",
      "name": "Rust",
      "pygment_lexer": "rust",
      "version": ""
    }
  },
  "nbformat": 4,
  "nbformat_minor": 5
}