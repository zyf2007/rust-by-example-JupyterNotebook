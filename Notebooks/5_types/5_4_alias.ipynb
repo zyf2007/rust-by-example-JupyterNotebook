{
  "cells": [
    {
      "cell_type": "markdown",
      "metadata": {},
      "source": [
        "# 别名\n",
        "\n",
        "可以用 `type` 语句给已有的类型取个新的名字。类型的名字必须遵循驼峰命名法（像是\n",
        " `CamelCase` 这样），否则编译器将给出警告。原生类型是例外，比如：\n",
        " `usize`、`f32`，等等。\n",
        "\n"
      ]
    },
    {
      "cell_type": "code",
      "execution_count": null,
      "metadata": {
        "vscode": {
          "languageId": "rust"
        }
      },
      "outputs": [],
      "source": [
        "// `NanoSecond` 是 `u64` 的新名字。\n",
        "type NanoSecond = u64;\n",
        "type Inch = u64;\n",
        "\n",
        "// 通过这个属性屏蔽警告。\n",
        "#[allow(non_camel_case_types)]\n",
        "type u64_t = u64;\n",
        "// 试一试 ^ 移除上面那个属性\n",
        "\n",
        "fn main() {\n",
        "    // `NanoSecond` = `Inch` = `u64_t` = `u64`.\n",
        "    let nanoseconds: NanoSecond = 5 as u64_t;\n",
        "    let inches: Inch = 2 as u64_t;\n",
        "\n",
        "    // 注意类型别名*并不能*提供额外的类型安全，因为别名*并不是*新的类型。\n",
        "    println!(\"{} nanoseconds + {} inches = {} unit?\",\n",
        "             nanoseconds,\n",
        "             inches,\n",
        "             nanoseconds + inches);\n",
        "}\n",
        "main();\n"
      ]
    },
    {
      "cell_type": "markdown",
      "metadata": {},
      "source": [
        "\n",
        "别名的主要用途是避免写出冗长的模板化代码（boilerplate code）。如 `IoResult<T>`\n",
        " 是 `Result<T, IoError>` 类型的别名。\n",
        "\n",
        "### 参见:\n",
        "\n",
        "[属性](../attribute.md)\n",
        "\n"
      ]
    }
  ],
  "metadata": {
    "kernelspec": {
      "display_name": "Rust",
      "language": "rust",
      "name": "rust"
    },
    "language_info": {
      "codemirror_mode": "rust",
      "file_extension": ".rs",
      "mimetype": "text/rust",
      "name": "Rust",
      "pygment_lexer": "rust",
      "version": ""
    }
  },
  "nbformat": 4,
  "nbformat_minor": 5
}