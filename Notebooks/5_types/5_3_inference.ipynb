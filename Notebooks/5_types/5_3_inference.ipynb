{
  "cells": [
    {
      "cell_type": "markdown",
      "metadata": {},
      "source": [
        "# 类型推断\n",
        "\n",
        "Rust 的类型推断引擎是很聪明的，它不只是在初始化时看看[右值][rvalue]（r-value）的类型而已，它还会考察变量之后会怎样使用，借此推断类型。这是一个类型推导的进阶例子：\n",
        "\n"
      ]
    },
    {
      "cell_type": "code",
      "execution_count": null,
      "metadata": {
        "vscode": {
          "languageId": "rust"
        }
      },
      "outputs": [],
      "source": [
        "fn main() {\n",
        "    // 因为有类型说明，编译器知道 `elem` 的类型是 u8。\n",
        "    let elem = 5u8;\n",
        "\n",
        "    // 创建一个空向量（vector，即不定长的，可以增长的数组）。\n",
        "    let mut vec = Vec::new();\n",
        "    // 现在编译器还不知道 `vec` 的具体类型，只知道它是某种东西构成的向量（`Vec<_>`）\n",
        "    \n",
        "    // 在向量中插入 `elem`。\n",
        "    vec.push(elem);\n",
        "    // 啊哈！现在编译器知道 `vec` 是 u8 的向量了（`Vec<u8>`）。\n",
        "    // 试一试 ^ 注释掉 `vec.push(elem)` 这一行。\n",
        "\n",
        "    println!(\"{:?}\", vec);\n",
        "}\n",
        "main();\n"
      ]
    },
    {
      "cell_type": "markdown",
      "metadata": {},
      "source": [
        "\n",
        "没有必要写类型说明，编译器和程序员皆大欢喜！\n",
        "\n",
        "[rvalue]: https://en.wikipedia.org/wiki/Value_%28computer_science%29#lrvalue\n",
        "\n"
      ]
    }
  ],
  "metadata": {
    "kernelspec": {
      "display_name": "Rust",
      "language": "rust",
      "name": "rust"
    },
    "language_info": {
      "codemirror_mode": "rust",
      "file_extension": ".rs",
      "mimetype": "text/rust",
      "name": "Rust",
      "pygment_lexer": "rust",
      "version": ""
    }
  },
  "nbformat": 4,
  "nbformat_minor": 5
}