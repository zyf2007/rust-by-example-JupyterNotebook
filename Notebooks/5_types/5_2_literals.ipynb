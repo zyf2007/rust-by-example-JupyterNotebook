{
  "cells": [
    {
      "cell_type": "markdown",
      "metadata": {},
      "source": [
        "# 字面量\n",
        "\n",
        "对数值字面量，只要把类型作为后缀加上去，就完成了类型说明。比如指定字面量 `42` 的类型是 `i32`，只需要写 `42i32`。\n",
        "\n",
        "无后缀的数值字面量，其类型取决于怎样使用它们。如果没有限制，编译器会对整数使用 `i32`，对浮点数使用 `f64`。\n",
        "\n"
      ]
    },
    {
      "cell_type": "code",
      "execution_count": null,
      "metadata": {
        "vscode": {
          "languageId": "rust"
        }
      },
      "outputs": [],
      "source": [
        "fn main() {\n",
        "    // 带后缀的字面量，其类型在初始化时已经知道了。\n",
        "    let x = 1u8;\n",
        "    let y = 2u32;\n",
        "    let z = 3f32;\n",
        "\n",
        "    // 无后缀的字面量，其类型取决于如何使用它们。\n",
        "    let i = 1;\n",
        "    let f = 1.0;\n",
        "\n",
        "    // `size_of_val` 返回一个变量所占的字节数\n",
        "    println!(\"size of `x` in bytes: {}\", std::mem::size_of_val(&x));\n",
        "    println!(\"size of `y` in bytes: {}\", std::mem::size_of_val(&y));\n",
        "    println!(\"size of `z` in bytes: {}\", std::mem::size_of_val(&z));\n",
        "    println!(\"size of `i` in bytes: {}\", std::mem::size_of_val(&i));\n",
        "    println!(\"size of `f` in bytes: {}\", std::mem::size_of_val(&f));\n",
        "}\n",
        "main();\n"
      ]
    },
    {
      "cell_type": "markdown",
      "metadata": {},
      "source": [
        "\n",
        "上面的代码使用了一些还没有讨论过的概念。心急的读者可以看看下面的简短解释：\n",
        "\n",
        "* `fun(&foo)` 用**传引用**（pass by reference）的方式把变量传给函数，而非传值（pass by value，写法是 `fun(foo)`）。更多细节请看[借用][borrow]。\n",
        "* `std::mem::size_of_val` 是一个函数，这里使用其**完整路径**（full path）调用。代码可以分成一些叫做**模块**（module）的逻辑单元。在本例中，`size_of_val` 函数是在 `mem` 模块中定义的，而 `mem` 模块又是在 `std` **crate** 中定义的。更多细节请看[模块][mod]和[crate][crate].\n",
        "\n",
        "[borrow]: ../scope/borrow.md\n",
        "[mod]: ../mod.md\n",
        "[crate]: ../crates.md\n",
        "\n"
      ]
    }
  ],
  "metadata": {
    "kernelspec": {
      "display_name": "Rust",
      "language": "rust",
      "name": "rust"
    },
    "language_info": {
      "codemirror_mode": "rust",
      "file_extension": ".rs",
      "mimetype": "text/rust",
      "name": "Rust",
      "pygment_lexer": "rust",
      "version": ""
    }
  },
  "nbformat": 4,
  "nbformat_minor": 5
}