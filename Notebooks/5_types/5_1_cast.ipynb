{
  "cells": [
    {
      "cell_type": "markdown",
      "metadata": {},
      "source": [
        "# 类型转换\n",
        "\n",
        "Rust 不提供原生类型之间的隐式类型转换（coercion），但可以使用 `as` 关键字进行显式类型转换（casting）。\n",
        "\n",
        "整型之间的转换大体遵循 C 语言的惯例，除了 C 会产生未定义行为的情形。在 Rust 中所有整型转换都是定义良好的。\n",
        "\n"
      ]
    },
    {
      "cell_type": "code",
      "execution_count": null,
      "metadata": {
        "vscode": {
          "languageId": "rust"
        }
      },
      "outputs": [],
      "source": [
        "// 不显示类型转换产生的溢出警告。\n",
        "#![allow(overflowing_literals)]\n",
        "\n",
        "fn main() {\n",
        "    let decimal = 65.4321_f32;\n",
        "\n",
        "    // 错误！不提供隐式转换\n",
        "    let integer: u8 = decimal;\n",
        "    // 改正 ^ 注释掉这一行\n",
        "\n",
        "    // 可以显式转换\n",
        "    let integer = decimal as u8;\n",
        "    let character = integer as char;\n",
        "\n",
        "    println!(\"Casting: {} -> {} -> {}\", decimal, integer, character);\n",
        "\n",
        "    // 当把任何类型转换为无符号类型 T 时，会不断加上或减去 (std::T::MAX + 1)\n",
        "    // 直到值位于新类型 T 的范围内。\n",
        "\n",
        "    // 1000 已经在 u16 的范围内\n",
        "    println!(\"1000 as a u16 is: {}\", 1000 as u16);\n",
        "\n",
        "    // 1000 - 256 - 256 - 256 = 232\n",
        "    // 事实上的处理方式是：从最低有效位（LSB，least significant bits）开始保留\n",
        "    // 8 位，然后剩余位置，直到最高有效位（MSB，most significant bit）都被抛弃。\n",
        "    // 译注：MSB 就是二进制的最高位，LSB 就是二进制的最低位，按日常书写习惯就是\n",
        "    // 最左边一位和最右边一位。\n",
        "    println!(\"1000 as a u8 is : {}\", 1000 as u8);\n",
        "    // -1 + 256 = 255\n",
        "    println!(\"  -1 as a u8 is : {}\", (-1i8) as u8);\n",
        "\n",
        "    // 对正数，这就和取模一样。\n",
        "    println!(\"1000 mod 256 is : {}\", 1000 % 256);\n",
        "\n",
        "    // 当转换到有符号类型时，（位操作的）结果就和 “先转换到对应的无符号类型，\n",
        "    // 如果 MSB 是 1，则该值为负” 是一样的。\n",
        "\n",
        "    // 当然如果数值已经在目标类型的范围内，就直接把它放进去。\n",
        "    println!(\" 128 as a i16 is: {}\", 128 as i16);\n",
        "    // 128 转成 u8 还是 128，但转到 i8 相当于给 128 取八位的二进制补码，其值是：\n",
        "    println!(\" 128 as a i8 is : {}\", 128 as i8);\n",
        "\n",
        "    // 重复之前的例子\n",
        "    // 1000 as u8 -> 232\n",
        "    println!(\"1000 as a u8 is : {}\", 1000 as u8);\n",
        "    // 232 的二进制补码是 -24\n",
        "    println!(\" 232 as a i8 is : {}\", 232 as i8);\n",
        "}\n",
        "main();\n"
      ]
    },
    {
      "cell_type": "markdown",
      "metadata": {},
      "source": [
        "\n"
      ]
    }
  ],
  "metadata": {
    "kernelspec": {
      "display_name": "Rust",
      "language": "rust",
      "name": "rust"
    },
    "language_info": {
      "codemirror_mode": "rust",
      "file_extension": ".rs",
      "mimetype": "text/rust",
      "name": "Rust",
      "pygment_lexer": "rust",
      "version": ""
    }
  },
  "nbformat": 4,
  "nbformat_minor": 5
}