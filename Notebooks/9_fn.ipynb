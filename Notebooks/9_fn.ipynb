{
  "cells": [
    {
      "cell_type": "markdown",
      "metadata": {},
      "source": [
        "# 函数\n",
        "\n",
        "函数（function）使用 `fn` 关键字来声明。函数的参数需要标注类型，就和变量一样，如果函数返回一个值，返回类型必须在箭头 `->` 之后指定。\n",
        "\n",
        "函数最后的表达式将作为返回值。也可以在函数内使用 `return` 语句来提前返一个值，甚至可以在循环或 `if` 内部使用。\n",
        "\n",
        "让我们使用函数来重写 FizzBuzz 程序吧！\n",
        "\n"
      ]
    },
    {
      "cell_type": "code",
      "execution_count": null,
      "metadata": {
        "vscode": {
          "languageId": "rust"
        }
      },
      "outputs": [],
      "source": [
        "// 和 C/C++ 不一样，Rust 的函数定义位置是没有限制的\n",
        "fn main() {\n",
        "    // 我们可以在这里使用函数，后面再定义它\n",
        "    fizzbuzz_to(100);\n",
        "}\n",
        "\n",
        "// 一个返回布尔值的函数\n",
        "fn is_divisible_by(lhs: u32, rhs: u32) -> bool {\n",
        "    // 边界情况，提前返回\n",
        "    if rhs == 0 {\n",
        "        return false;\n",
        "    }\n",
        "\n",
        "    // 这是一个表达式，可以不用 `return` 关键字\n",
        "    lhs % rhs == 0\n",
        "}\n",
        "\n",
        "// 一个 “不” 返回值的函数。实际上会返回一个单元类型 `()`。\n",
        "fn fizzbuzz(n: u32) -> () {\n",
        "    if is_divisible_by(n, 15) {\n",
        "        println!(\"fizzbuzz\");\n",
        "    } else if is_divisible_by(n, 3) {\n",
        "        println!(\"fizz\");\n",
        "    } else if is_divisible_by(n, 5) {\n",
        "        println!(\"buzz\");\n",
        "    } else {\n",
        "        println!(\"{}\", n);\n",
        "    }\n",
        "}\n",
        "\n",
        "// 当函数返回 `()` 时，函数签名可以省略返回类型\n",
        "fn fizzbuzz_to(n: u32) {\n",
        "    for n in 1..=n {\n",
        "        fizzbuzz(n);\n",
        "    }\n",
        "}\n",
        "main();\n"
      ]
    },
    {
      "cell_type": "markdown",
      "metadata": {},
      "source": [
        "\n"
      ]
    }
  ],
  "metadata": {
    "kernelspec": {
      "display_name": "Rust",
      "language": "rust",
      "name": "rust"
    },
    "language_info": {
      "codemirror_mode": "rust",
      "file_extension": ".rs",
      "mimetype": "text/rust",
      "name": "Rust",
      "pygment_lexer": "rust",
      "version": ""
    }
  },
  "nbformat": 4,
  "nbformat_minor": 5
}