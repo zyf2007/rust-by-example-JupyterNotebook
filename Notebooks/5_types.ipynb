{
  "cells": [
    {
      "cell_type": "markdown",
      "metadata": {},
      "source": [
        "# 类型系统\n",
        "\n",
        "Rust 提供了多种机制，用于改变或定义原生类型和用户定义类型。接下来会讲到：\n",
        "* 原生类型的[类型转换][Casting]（cast）。\n",
        "* 指定[字面量][literals]的类型。\n",
        "* 使用[类型推断][type inference]（type inference）。\n",
        "* 给类型[取别名][Aliasing]（alias）。\n",
        "\n",
        "[Casting]: types/cast.md\n",
        "[literals]: types/literals.md\n",
        "[type inference]: types/inference.md\n",
        "[Aliasing]: types/alias.md\n",
        "\n"
      ]
    }
  ],
  "metadata": {
    "kernelspec": {
      "display_name": "Rust",
      "language": "rust",
      "name": "rust"
    },
    "language_info": {
      "codemirror_mode": "rust",
      "file_extension": ".rs",
      "mimetype": "text/rust",
      "name": "Rust",
      "pygment_lexer": "rust",
      "version": ""
    }
  },
  "nbformat": 4,
  "nbformat_minor": 5
}