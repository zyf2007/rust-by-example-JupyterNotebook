{
  "cells": [
    {
      "cell_type": "markdown",
      "metadata": {},
      "source": [
        "# 特质 trait\n",
        "\n",
        "`trait` 是对未知类型 `Self` 定义的方法集。该类型也可以访问同一个 trait 中定义的其他方法。\n",
        "\n",
        "对任何数据类型都可以实现 trait。在下面例子中，我们定义了包含一系列方法的 `Animal`。然后针对 `Sheep` 数据类型实现 `Animal` `trait`，因而 `Sheep` 的实例可以使用 `Animal` 中的所有方法。\n",
        "\n"
      ]
    },
    {
      "cell_type": "code",
      "execution_count": null,
      "metadata": {
        "vscode": {
          "languageId": "rust"
        }
      },
      "outputs": [],
      "source": [
        "struct Sheep { naked: bool, name: &'static str }\n",
        "\n",
        "trait Animal {\n",
        "    // 关联函数签名；`Self` 表示实现者类型（implementor type）。\n",
        "    fn new(name: &'static str) -> Self;\n",
        "\n",
        "    // 方法签名；这些方法将返回一个字符串。\n",
        "    fn name(&self) -> &'static str;\n",
        "    fn noise(&self) -> &'static str;\n",
        "\n",
        "    // trait 可以提供默认的方法定义。\n",
        "    fn talk(&self) {\n",
        "        println!(\"{} says {}\", self.name(), self.noise());\n",
        "    }\n",
        "}\n",
        "\n",
        "impl Sheep {\n",
        "    fn is_naked(&self) -> bool {\n",
        "        self.naked\n",
        "    }\n",
        "\n",
        "    fn shear(&mut self) {\n",
        "        if self.is_naked() {\n",
        "            // 实现者可以使用它的 trait 方法。\n",
        "            println!(\"{} is already naked...\", self.name());\n",
        "        } else {\n",
        "            println!(\"{} gets a haircut!\", self.name);\n",
        "\n",
        "            self.naked = true;\n",
        "        }\n",
        "    }\n",
        "}\n",
        "\n",
        "// 对 `Sheep` 实现 `Animal` trait。\n",
        "impl Animal for Sheep {\n",
        "    // `Self` 是实现者类型：`Sheep`。\n",
        "    fn new(name: &'static str) -> Sheep {\n",
        "        Sheep { name: name, naked: false }\n",
        "    }\n",
        "\n",
        "    fn name(&self) -> &'static str {\n",
        "        self.name\n",
        "    }\n",
        "\n",
        "    fn noise(&self) -> &'static str {\n",
        "        if self.is_naked() {\n",
        "            \"baaaaah?\"\n",
        "        } else {\n",
        "            \"baaaaah!\"\n",
        "        }\n",
        "    }\n",
        "    \n",
        "    // 默认 trait 方法可以重载。\n",
        "    fn talk(&self) {\n",
        "        // 例如我们可以增加一些安静的沉思。\n",
        "        println!(\"{} pauses briefly... {}\", self.name, self.noise());\n",
        "    }\n",
        "}\n",
        "\n",
        "fn main() {\n",
        "    // 这种情况需要类型标注。\n",
        "    let mut dolly: Sheep = Animal::new(\"Dolly\");\n",
        "    // 试一试 ^ 移除类型标注。\n",
        "\n",
        "    dolly.talk();\n",
        "    dolly.shear();\n",
        "    dolly.talk();\n",
        "}\n",
        "main();\n"
      ]
    },
    {
      "cell_type": "markdown",
      "metadata": {},
      "source": [
        "\n"
      ]
    }
  ],
  "metadata": {
    "kernelspec": {
      "display_name": "Rust",
      "language": "rust",
      "name": "rust"
    },
    "language_info": {
      "codemirror_mode": "rust",
      "file_extension": ".rs",
      "mimetype": "text/rust",
      "name": "Rust",
      "pygment_lexer": "rust",
      "version": ""
    }
  },
  "nbformat": 4,
  "nbformat_minor": 5
}