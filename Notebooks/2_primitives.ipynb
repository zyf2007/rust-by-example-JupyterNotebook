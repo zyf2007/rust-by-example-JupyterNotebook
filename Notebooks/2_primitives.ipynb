{
  "cells": [
    {
      "cell_type": "markdown",
      "metadata": {},
      "source": [
        "# 原生类型\n",
        "\n",
        "Rust 提供了多种原生类型（`primitives`），包括：\n",
        "\n",
        "## 标量类型（scalar type）\n",
        "\n",
        "- 有符号整数（signed integers）：`i8`、`i16`、`i32`、`i64`、`i128` 和 `isize`（指针宽度）\n",
        "- 无符号整数（unsigned integers）： `u8`、`u16`、`u32`、`u64`、`u128` 和 `usize`（指针宽度）\n",
        "- 浮点数（floating point）： `f32`、`f64`\n",
        "- `char`（字符）：单个 Unicode 字符，如 `'a'`，`'α'` 和 `'∞'`（每个都是 4 字节）\n",
        "- `bool`（布尔型）：只能是 `true` 或 `false`\n",
        "- 单元类型（unit type）：`()`。其唯一可能的值就是 `()` 这个空元组\n",
        "\n",
        "尽管单元类型的值是个元组，它却并不被认为是复合类型，因为并不包含多个值。\n",
        "\n",
        "## 复合类型（compound type）\n",
        "\n",
        "- 数组（array）：如 `[1, 2, 3]`\n",
        "- 元组（tuple）：如 `(1, true)`\n",
        "\n",
        "变量都能够显式地给出**类型说明**（type annotation）。数字还可以通过**后缀**（suffix）或**默认方式**来声明类型。整型默认为 `i32` 类型，浮点型默认为 `f64`类型。注意 Rust 还可以根据上下文来推断（infer）类型（译注：比如一个未声明类型整数和 `i64` 的整数相加，则该整数会自动推断为 `i64` 类型。仅当根据环境无法推断时，才按默认方式取整型数值为 `i32`，浮点数值为 `f64`）。\n",
        "\n"
      ]
    },
    {
      "cell_type": "code",
      "execution_count": null,
      "metadata": {
        "vscode": {
          "languageId": "rust"
        }
      },
      "outputs": [],
      "source": [
        "fn main() {\n",
        "    // 变量可以给出类型说明。\n",
        "    let logical: bool = true;\n",
        "\n",
        "    let a_float: f64 = 1.0;  // 常规说明\n",
        "    let an_integer   = 5i32; // 后缀说明\n",
        "\n",
        "    // 否则会按默认方式决定类型。\n",
        "    let default_float   = 3.0; // `f64`\n",
        "    let default_integer = 7;   // `i32`\n",
        "\n",
        "    // 类型也可根据上下文自动推断。\n",
        "    let mut inferred_type = 12; // 根据下一行的赋值推断为 i64 类型\n",
        "    inferred_type = 4294967296i64;\n",
        "\n",
        "    // 可变的（mutable）变量，其值可以改变。\n",
        "    let mut mutable = 12; // Mutable `i32`\n",
        "    mutable = 21;\n",
        "\n",
        "    // 报错！变量的类型并不能改变。\n",
        "    mutable = true;\n",
        "\n",
        "    // 但可以用遮蔽（shadow）来覆盖前面的变量。\n",
        "    let mutable = true;\n",
        "}\n",
        "main();\n"
      ]
    },
    {
      "cell_type": "markdown",
      "metadata": {},
      "source": [
        "\n",
        "### 参见：\n",
        "\n",
        "[`std` 库][std]、[`mut`][mut]、[类型推断][inference] 和 [变量遮蔽][shadowing]\n",
        "\n",
        "[std]: https://rustwiki.org/zh-CN/std/\n",
        "[mut]: variable_bindings/mut.md\n",
        "[inference]: types/inference.md\n",
        "[shadowing]: variable_bindings/scope.md\n",
        "\n"
      ]
    }
  ],
  "metadata": {
    "kernelspec": {
      "display_name": "Rust",
      "language": "rust",
      "name": "rust"
    },
    "language_info": {
      "codemirror_mode": "rust",
      "file_extension": ".rs",
      "mimetype": "text/rust",
      "name": "Rust",
      "pygment_lexer": "rust",
      "version": ""
    }
  },
  "nbformat": 4,
  "nbformat_minor": 5
}