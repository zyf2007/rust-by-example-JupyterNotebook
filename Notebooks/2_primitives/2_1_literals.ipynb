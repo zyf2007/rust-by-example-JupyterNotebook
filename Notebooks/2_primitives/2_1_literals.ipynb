{
  "cells": [
    {
      "cell_type": "markdown",
      "metadata": {},
      "source": [
        "# 字面量和运算符\n",
        "\n",
        "整数 `1`、浮点数 `1.2`、字符 `'a'`、字符串 `\"abc\"`、布尔值 `true` 和单元类型 `()` 可以用数字、文字或符号之类的 “字面量”（literal）来表示。\n",
        "\n",
        "另外，通过加前缀 `0x`、`0o`、`0b`，数字可以用十六进制、八进制或二进制记法表示。\n",
        "\n",
        "为了改善可读性，可以在数值字面量中插入下划线，比如：`1_000` 等同于 `1000`，`0.000_001` 等同于 `0.000001`。\n",
        "\n",
        "我们需要把字面量的类型告诉编译器。如前面学过的，我们使用 `u32` 后缀来表明字面量是一个 32 位无符号整数，`i32` 后缀表明字面量是一个 32 位有符号整数。\n",
        "\n",
        "[Rust][rust op-prec] 提供了一系列的运算符（operator），它们的优先级和[类 C 语言][op-prec]类似。（译注：类 C 语言包括 C/C++、Java、PHP 等语言）\n",
        "\n"
      ]
    },
    {
      "cell_type": "code",
      "execution_count": null,
      "metadata": {
        "vscode": {
          "languageId": "rust"
        }
      },
      "outputs": [],
      "source": [
        "fn main() {\n",
        "    // 整数相加\n",
        "    println!(\"1 + 2 = {}\", 1u32 + 2);\n",
        "\n",
        "    // 整数相减\n",
        "    println!(\"1 - 2 = {}\", 1i32 - 2);\n",
        "    // 试一试 ^ 尝试将 `1i32` 改为 `1u32`，体会为什么类型声明这么重要\n",
        "\n",
        "    // 短路求值的布尔逻辑\n",
        "    println!(\"true AND false is {}\", true && false);\n",
        "    println!(\"true OR false is {}\", true || false);\n",
        "    println!(\"NOT true is {}\", !true);\n",
        "\n",
        "    // 位运算\n",
        "    println!(\"0011 AND 0101 is {:04b}\", 0b0011u32 & 0b0101);\n",
        "    println!(\"0011 OR 0101 is {:04b}\", 0b0011u32 | 0b0101);\n",
        "    println!(\"0011 XOR 0101 is {:04b}\", 0b0011u32 ^ 0b0101);\n",
        "    println!(\"1 << 5 is {}\", 1u32 << 5);\n",
        "    println!(\"0x80 >> 2 is 0x{:x}\", 0x80u32 >> 2);\n",
        "\n",
        "    // 使用下划线改善数字的可读性！\n",
        "    println!(\"One million is written as {}\", 1_000_000u32);\n",
        "}\n",
        "main();\n"
      ]
    },
    {
      "cell_type": "markdown",
      "metadata": {},
      "source": [
        "\n",
        "[rust op-prec]: https://rustwiki.org/zh-CN/reference/expressions.html#表达式的优先级\n",
        "[op-prec]: https://en.wikipedia.org/wiki/Operator_precedence#Programming_languages\n",
        "\n"
      ]
    }
  ],
  "metadata": {
    "kernelspec": {
      "display_name": "Rust",
      "language": "rust",
      "name": "rust"
    },
    "language_info": {
      "codemirror_mode": "rust",
      "file_extension": ".rs",
      "mimetype": "text/rust",
      "name": "Rust",
      "pygment_lexer": "rust",
      "version": ""
    }
  },
  "nbformat": 4,
  "nbformat_minor": 5
}