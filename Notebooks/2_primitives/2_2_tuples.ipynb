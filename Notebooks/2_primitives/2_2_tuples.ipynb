{
  "cells": [
    {
      "cell_type": "markdown",
      "metadata": {},
      "source": [
        "# 元组\n",
        "\n",
        "元组是一个可以包含各种类型值的组合。元组使用括号 `()` 来构造（construct），而每个元组自身又是一个类型标记为 `(T1, T2, ...)` 的值，其中 `T1`、`T2` 是每个元素的类型。函数可以使用元组来返回多个值，因为元组可以拥有任意多个值。\n",
        "\n"
      ]
    },
    {
      "cell_type": "code",
      "execution_count": null,
      "metadata": {
        "vscode": {
          "languageId": "rust"
        }
      },
      "outputs": [],
      "source": [
        "// 元组可以充当函数的参数和返回值\n",
        "fn reverse(pair: (i32, bool)) -> (bool, i32) {\n",
        "    // 可以使用 `let` 把一个元组的成员绑定到一些变量\n",
        "    let (integer, boolean) = pair;\n",
        "\n",
        "    (boolean, integer)\n",
        "}\n",
        "\n",
        "// 在 “动手试一试” 的练习中要用到下面这个结构体。\n",
        "#[derive(Debug)]\n",
        "struct Matrix(f32, f32, f32, f32);\n",
        "\n",
        "fn main() {\n",
        "    // 包含各种不同类型的元组\n",
        "    let long_tuple = (1u8, 2u16, 3u32, 4u64,\n",
        "                      -1i8, -2i16, -3i32, -4i64,\n",
        "                      0.1f32, 0.2f64,\n",
        "                      'a', true);\n",
        "\n",
        "    // 通过元组的下标来访问具体的值\n",
        "    println!(\"long tuple first value: {}\", long_tuple.0);\n",
        "    println!(\"long tuple second value: {}\", long_tuple.1);\n",
        "\n",
        "    // 元组也可以充当元组的元素\n",
        "    let tuple_of_tuples = ((1u8, 2u16, 2u32), (4u64, -1i8), -2i16);\n",
        "\n",
        "    // 元组可以打印\n",
        "    println!(\"tuple of tuples: {:?}\", tuple_of_tuples);\n",
        "\n",
        "    // 但很长的元组无法打印\n",
        "    // let too_long_tuple = (1, 2, 3, 4, 5, 6, 7, 8, 9, 10, 11, 12, 13);\n",
        "    // println!(\"too long tuple: {:?}\", too_long_tuple);\n",
        "    // 试一试 ^ 取消上面两行的注释，阅读编译器给出的错误信息。\n",
        "\n",
        "    let pair = (1, true);\n",
        "    println!(\"pair is {:?}\", pair);\n",
        "\n",
        "    println!(\"the reversed pair is {:?}\", reverse(pair));\n",
        "\n",
        "    // 创建单元素元组需要一个额外的逗号，这是为了和被括号包含的字面量作区分。\n",
        "    println!(\"one element tuple: {:?}\", (5u32,));\n",
        "    println!(\"just an integer: {:?}\", (5u32));\n",
        "\n",
        "    // 元组可以被解构（deconstruct），从而将值绑定给变量\n",
        "    let tuple = (1, \"hello\", 4.5, true);\n",
        "\n",
        "    let (a, b, c, d) = tuple;\n",
        "    println!(\"{:?}, {:?}, {:?}, {:?}\", a, b, c, d);\n",
        "\n",
        "    let matrix = Matrix(1.1, 1.2, 2.1, 2.2);\n",
        "    println!(\"{:?}\", matrix)\n",
        "\n",
        "}\n",
        "main();\n"
      ]
    },
    {
      "cell_type": "markdown",
      "metadata": {},
      "source": [
        "\n",
        "### 动手试一试\n",
        "\n",
        "1.  **复习**：在上面的例子中给 Matrix `结构体` 加上 `fmt::Display` trait，这样当你从 Debug 格式化 `{:?}` 切换到 Display 格式化 `{}` 时，会得到如下的输出：\n",
        "\n",
        "    ```text\n",
        "    ( 1.1 1.2 )\n",
        "    ( 2.1 2.2 )\n",
        "    ```\n",
        "\n",
        "    可以回顾之前学过的[显示（display）][print_display]的例子。\n",
        "\n",
        "2.  以 `reverse` 函数作为样板，写一个 `transpose` 函数，它可以接受一个 Matrix 作为参数，并返回一个右上 - 左下对角线上的两元素交换后的 Matrix。举个例子：\n",
        "\n",
        "    ```rust,ignore\n",
        "    println!(\"Matrix:\\n{}\", matrix);\n",
        "    println!(\"Transpose:\\n{}\", transpose(matrix));\n",
        "    ```\n",
        "\n",
        "    输出结果：\n",
        "\n",
        "    ```text\n",
        "    Matrix:\n",
        "    ( 1.1 1.2 )\n",
        "    ( 2.1 2.2 )\n",
        "    Transpose:\n",
        "    ( 1.1 2.1 )\n",
        "    ( 1.2 2.2 )\n",
        "    ```\n",
        "\n",
        "[print_display]: ../hello/print/print_display.md\n",
        "\n"
      ]
    }
  ],
  "metadata": {
    "kernelspec": {
      "display_name": "Rust",
      "language": "rust",
      "name": "rust"
    },
    "language_info": {
      "codemirror_mode": "rust",
      "file_extension": ".rs",
      "mimetype": "text/rust",
      "name": "Rust",
      "pygment_lexer": "rust",
      "version": ""
    }
  },
  "nbformat": 4,
  "nbformat_minor": 5
}