{
  "cells": [
    {
      "cell_type": "markdown",
      "metadata": {},
      "source": [
        "# `panic!`\n",
        "\n",
        "`panic!` 宏可用于产生一个 panic （恐慌），并开始回退（unwind）它的栈。在回退栈的同时，运行时将会释放该线程所**拥有**的所有资源，这是通过调用线程中所有对象的析构函数完成的。\n",
        "\n",
        "因为我们正在处理的程序只有一个线程，`panic!` 将会引发程序报告 panic 消息并退出。\n",
        "\n"
      ]
    },
    {
      "cell_type": "code",
      "execution_count": null,
      "metadata": {
        "vscode": {
          "languageId": "rust"
        }
      },
      "outputs": [],
      "source": [
        "// 整型除法（/）的重新实现\n",
        "fn division(dividend: i32, divisor: i32) -> i32 {\n",
        "    if divisor == 0 {\n",
        "        // 除以 0 会引发 panic\n",
        "        panic!(\"division by zero\");\n",
        "    } else {\n",
        "        dividend / divisor\n",
        "    }\n",
        "}\n",
        "\n",
        "// `main` 任务\n",
        "fn main() {\n",
        "    // 堆分配的整数\n",
        "    let _x = Box::new(0i32);\n",
        "\n",
        "    // 此操作将会引发一个任务失败\n",
        "    division(3, 0);\n",
        "\n",
        "    println!(\"This point won't be reached!\");\n",
        "\n",
        "    // `_x` 应当会在此处被销毁\n",
        "}\n",
        "main();\n"
      ]
    },
    {
      "cell_type": "markdown",
      "metadata": {},
      "source": [
        "\n",
        "可以看到，`panic!` 不会泄露内存：\n",
        "\n"
      ]
    },
    {
      "cell_type": "code",
      "execution_count": null,
      "metadata": {
        "vscode": {
          "languageId": "bash"
        }
      },
      "outputs": [],
      "source": [
        "$ rustc panic.rs && valgrind ./panic\n",
        "==4401== Memcheck, a memory error detector\n",
        "==4401== Copyright (C) 2002-2013, and GNU GPL'd, by Julian Seward et al.\n",
        "==4401== Using Valgrind-3.10.0.SVN and LibVEX; rerun with -h for copyright info\n",
        "==4401== Command: ./panic\n",
        "==4401== \n",
        "thread '<main>' panicked at 'division by zero', panic.rs:5\n",
        "==4401== \n",
        "==4401== HEAP SUMMARY:\n",
        "==4401==     in use at exit: 0 bytes in 0 blocks\n",
        "==4401==   total heap usage: 18 allocs, 18 frees, 1,648 bytes allocated\n",
        "==4401== \n",
        "==4401== All heap blocks were freed -- no leaks are possible\n",
        "==4401== \n",
        "==4401== For counts of detected and suppressed errors, rerun with: -v\n",
        "==4401== ERROR SUMMARY: 0 errors from 0 contexts (suppressed: 0 from 0)\n"
      ]
    },
    {
      "cell_type": "markdown",
      "metadata": {},
      "source": [
        "\n"
      ]
    }
  ],
  "metadata": {
    "kernelspec": {
      "display_name": "Rust",
      "language": "rust",
      "name": "rust"
    },
    "language_info": {
      "codemirror_mode": "rust",
      "file_extension": ".rs",
      "mimetype": "text/rust",
      "name": "Rust",
      "pygment_lexer": "rust",
      "version": ""
    }
  },
  "nbformat": 4,
  "nbformat_minor": 5
}