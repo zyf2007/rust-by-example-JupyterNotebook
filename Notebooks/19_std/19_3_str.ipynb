{
  "cells": [
    {
      "cell_type": "markdown",
      "metadata": {},
      "source": [
        "# 字符串\n",
        "\n",
        "Rust 中有两种字符串类型：`String` 和 `&str`。\n",
        "\n",
        "`String` 被存储为由字节组成的 vector（`Vec<u8>`），但保证了它一定是一个有效的\n",
        "UTF-8 序列。`String` 是堆分配的，可增长的，且不是零结尾的（null terminated）。\n",
        "\n",
        "`&str` 是一个总是指向有效 UTF-8 序列的切片（`&[u8]`），并可用来查看 `String` 的内容，就如同 `&[T]` 是 `Vec<T>` 的全部或部分引用。\n",
        "\n"
      ]
    },
    {
      "cell_type": "code",
      "execution_count": null,
      "metadata": {
        "vscode": {
          "languageId": "rust"
        }
      },
      "outputs": [],
      "source": [
        "fn main() {\n",
        "    // （所有的类型标注都不是必需的）\n",
        "    // 一个对只读内存中分配的字符串的引用\n",
        "    let pangram: &'static str = \"the quick brown fox jumps over the lazy dog\";\n",
        "    println!(\"Pangram: {}\", pangram);\n",
        "\n",
        "    // 逆序迭代单词，这里并没有分配新的字符串\n",
        "    println!(\"Words in reverse\");\n",
        "    for word in pangram.split_whitespace().rev() {\n",
        "        println!(\"> {}\", word);\n",
        "    }\n",
        "\n",
        "    // 复制字符到一个 vector，排序并移除重复值\n",
        "    let mut chars: Vec<char> = pangram.chars().collect();\n",
        "    chars.sort();\n",
        "    chars.dedup();\n",
        "\n",
        "    // 创建一个空的且可增长的 `String`\n",
        "    let mut string = String::new();\n",
        "    for c in chars {\n",
        "        // 在字符串的尾部插入一个字符\n",
        "        string.push(c);\n",
        "        // 在字符串尾部插入一个字符串\n",
        "        string.push_str(\", \");\n",
        "    }\n",
        "\n",
        "    // 这个缩短的字符串是原字符串的一个切片，所以没有执行新的分配操作\n",
        "    let chars_to_trim: &[char] = &[' ', ','];\n",
        "    let trimmed_str: &str = string.trim_matches(chars_to_trim);\n",
        "    println!(\"Used characters: {}\", trimmed_str);\n",
        "\n",
        "    // 堆分配一个字符串\n",
        "    let alice = String::from(\"I like dogs\");\n",
        "    // 分配新内存并存储修改过的字符串\n",
        "    let bob: String = alice.replace(\"dog\", \"cat\");\n",
        "\n",
        "    println!(\"Alice says: {}\", alice);\n",
        "    println!(\"Bob says: {}\", bob);\n",
        "}\n",
        "main();\n"
      ]
    },
    {
      "cell_type": "markdown",
      "metadata": {},
      "source": [
        "\n",
        "更多 `str`/`String` 方法可以在 [std::str][str] 和 [std::string][string] 模块中找到。\n",
        "\n",
        "## 字面量与转义字符\n",
        "\n",
        "书写含有特殊字符的字符串字面量有很多种方法。它们都会产生类似的 `&str`，所以最好选择最方便的写法。类似地，字节串（byte string）字面量也有多种写法，它们都会产生\n",
        "`&[u8; N]` 类型。\n",
        "\n",
        "通常特殊字符是使用反斜杠字符 `\\` 来转义的，这样你就可以在字符串中写入各种各样的字符，甚至是不可打印的字符以及你不知道如何输入的字符。如果你需要反斜杠字符，再用另一个反斜杠来转义它就可以，像这样：`\\\\`。\n",
        "\n",
        "字面量中出现的字符串或字符定界符必须转义：`\"\\\"\"`、`'\\''`。\n",
        "\n"
      ]
    },
    {
      "cell_type": "code",
      "execution_count": null,
      "metadata": {
        "vscode": {
          "languageId": "rust"
        }
      },
      "outputs": [],
      "source": [
        "fn main() {\n",
        "    // 通过转义，可以用十六进制值来表示字节。\n",
        "    let byte_escape = \"I'm writing \\x52\\x75\\x73\\x74!\";\n",
        "    println!(\"What are you doing\\x3F (\\\\x3F means ?) {}\", byte_escape);\n",
        "\n",
        "    // 也可以使用 Unicode 码位表示。\n",
        "    let unicode_codepoint = \"\\u{211D}\";\n",
        "    let character_name = \"\\\"DOUBLE-STRUCK CAPITAL R\\\"\";\n",
        "\n",
        "    println!(\"Unicode character {} (U+211D) is called {}\",\n",
        "                unicode_codepoint, character_name );\n",
        "\n",
        "\n",
        "    let long_string = \"String literals\n",
        "                        can span multiple lines.\n",
        "                        The linebreak and indentation here ->\\\n",
        "                        <- can be escaped too!\";\n",
        "    println!(\"{}\", long_string);\n",
        "}\n",
        "main();\n"
      ]
    },
    {
      "cell_type": "markdown",
      "metadata": {},
      "source": [
        "\n",
        "有时会有太多需要转义的字符，或者是直接原样写出会更便利。这时可以使用原始字符串（raw string）。\n",
        "\n"
      ]
    },
    {
      "cell_type": "code",
      "execution_count": null,
      "metadata": {
        "vscode": {
          "languageId": "rust"
        }
      },
      "outputs": [],
      "source": [
        "fn main() {\n",
        "    let raw_str = r\"Escapes don't work here: \\x3F \\u{211D}\";\n",
        "    println!(\"{}\", raw_str);\n",
        "\n",
        "    // 如果你要在原始字符串中写引号，请在两边加一对 #\n",
        "    let quotes = r#\"And then I said: \"There is no escape!\"\"#;\n",
        "    println!(\"{}\", quotes);\n",
        "\n",
        "    // 如果字符串中需要写 \"#，那就在定界符中使用更多的 #。\n",
        "    // 可使用的 # 的数目没有限制。\n",
        "    let longer_delimiter = r###\"A string with \"# in it. And even \"##!\"###;\n",
        "    println!(\"{}\", longer_delimiter);\n",
        "}\n",
        "main();\n"
      ]
    },
    {
      "cell_type": "markdown",
      "metadata": {},
      "source": [
        "\n",
        "想要非 UTF-8 字符串（记住，`&str` 和 `String` 都必须是合法的 UTF-8 序列），或者需要一个字节数组，其中大部分是文本？请使用字节串（byte string）！\n",
        "\n"
      ]
    },
    {
      "cell_type": "code",
      "execution_count": null,
      "metadata": {
        "vscode": {
          "languageId": "rust"
        }
      },
      "outputs": [],
      "source": [
        "use std::str;\n",
        "\n",
        "fn main() {\n",
        "    // 注意这并不是一个 &str\n",
        "    let bytestring: &[u8; 20] = b\"this is a bytestring\";\n",
        "\n",
        "    // 字节串没有实现 Display，所以它们的打印功能有些受限\n",
        "    println!(\"A bytestring: {:?}\", bytestring);\n",
        "\n",
        "    // 字节串可以使用单字节的转义字符...\n",
        "    let escaped = b\"\\x52\\x75\\x73\\x74 as bytes\";\n",
        "    // ...但不能使用 Unicode 转义字符\n",
        "    // let escaped = b\"\\u{211D} is not allowed\";\n",
        "    println!(\"Some escaped bytes: {:?}\", escaped);\n",
        "\n",
        "\n",
        "    // 原始字节串和原始字符串的写法一样\n",
        "    let raw_bytestring = br\"\\u{211D} is not escaped here\";\n",
        "    println!(\"{:?}\", raw_bytestring);\n",
        "\n",
        "    // 把字节串转换为 &str 可能失败\n",
        "    if let Ok(my_str) = str::from_utf8(raw_bytestring) {\n",
        "        println!(\"And the same as text: '{}'\", my_str);\n",
        "    }\n",
        "\n",
        "    let quotes = br#\"You can also use \"fancier\" formatting, \\\n",
        "                    like with normal raw strings\"#;\n",
        "\n",
        "    // 字节串可以不使用 UTF-8 编码\n",
        "    let shift_jis = b\"\\x82\\xe6\\x82\\xa8\\x82\\xb1\\x82\"; // SHIFT-JIS 编码的 \"ようこそ\"\n",
        "\n",
        "    // 但这样的话它们就无法转换成 &str 了\n",
        "    match str::from_utf8(shift_jis) {\n",
        "        Ok(my_str) => println!(\"Conversion successful: '{}'\", my_str),\n",
        "        Err(e) => println!(\"Conversion failed: {:?}\", e),\n",
        "    };\n",
        "}\n",
        "\n",
        "main();\n"
      ]
    },
    {
      "cell_type": "markdown",
      "metadata": {},
      "source": [
        "\n",
        "若需要在编码间转换，请使用 [encoding][encoding-crate] crate。\n",
        "\n",
        "Rust 参考中的 [Tokens][tokens] 一章详细地列出了书写字符串字面量和转义字符的方法。\n",
        "\n",
        "[str]: https://rustwiki.org/zh-CN/std/str/\n",
        "[string]: https://rustwiki.org/zh-CN/std/string/\n",
        "[tokens]: https://rustwiki.org/zh-CN/reference/tokens.html\n",
        "[encoding-crate]: https://crates.io/crates/encoding\n",
        "\n"
      ]
    }
  ],
  "metadata": {
    "kernelspec": {
      "display_name": "Rust",
      "language": "rust",
      "name": "rust"
    },
    "language_info": {
      "codemirror_mode": "rust",
      "file_extension": ".rs",
      "mimetype": "text/rust",
      "name": "Rust",
      "pygment_lexer": "rust",
      "version": ""
    }
  },
  "nbformat": 4,
  "nbformat_minor": 5
}