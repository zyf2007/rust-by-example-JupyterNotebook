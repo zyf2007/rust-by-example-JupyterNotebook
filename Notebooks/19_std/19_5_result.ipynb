{
  "cells": [
    {
      "cell_type": "markdown",
      "metadata": {},
      "source": [
        "# 结果 `Result`\n",
        "\n",
        "我们已经看到 `Option` 枚举类型可以用作可能失败的函数的返回值，其中返回 `None` 可以表明失败。但是有时要强调**为什么**一个操作会失败。为做到这点，我们提供了 `Result` 枚举类型。\n",
        "\n",
        "`Result<T, E>` 类型拥有两个取值：\n",
        "\n",
        "* `Ok(value)` 表示操作成功，并包装操作返回的 `value`（`value` 拥有 `T` 类型）。\n",
        "* `Err(why)`，表示操作失败，并包装 `why`，它（但愿）能够解释失败的原因（`why` 拥有 `E` 类型）。\n",
        "\n"
      ]
    },
    {
      "cell_type": "code",
      "execution_count": null,
      "metadata": {
        "vscode": {
          "languageId": "rust"
        }
      },
      "outputs": [],
      "source": [
        "mod checked {\n",
        "    // 我们想要捕获的数学 “错误”\n",
        "    #[derive(Debug)]\n",
        "    pub enum MathError {\n",
        "        DivisionByZero,\n",
        "        NegativeLogarithm,\n",
        "        NegativeSquareRoot,\n",
        "    }\n",
        "\n",
        "    pub type MathResult = Result<f64, MathError>;\n",
        "\n",
        "    pub fn div(x: f64, y: f64) -> MathResult {\n",
        "        if y == 0.0 {\n",
        "            // 此操作将会失败，那么（与其让程序崩溃）不如把失败的原因包装在\n",
        "            // `Err` 中并返回\n",
        "            Err(MathError::DivisionByZero)\n",
        "        } else {\n",
        "            // 此操作是有效的，返回包装在 `Ok` 中的结果\n",
        "            Ok(x / y)\n",
        "        }\n",
        "    }\n",
        "\n",
        "    pub fn sqrt(x: f64) -> MathResult {\n",
        "        if x < 0.0 {\n",
        "            Err(MathError::NegativeSquareRoot)\n",
        "        } else {\n",
        "            Ok(x.sqrt())\n",
        "        }\n",
        "    }\n",
        "\n",
        "    pub fn ln(x: f64) -> MathResult {\n",
        "        if x < 0.0 {\n",
        "            Err(MathError::NegativeLogarithm)\n",
        "        } else {\n",
        "            Ok(x.ln())\n",
        "        }\n",
        "    }\n",
        "}\n",
        "\n",
        "// `op(x, y)` === `sqrt(ln(x / y))`\n",
        "fn op(x: f64, y: f64) -> f64 {\n",
        "    // 这是一个三层的 match 金字塔！\n",
        "    match checked::div(x, y) {\n",
        "        Err(why) => panic!(\"{:?}\", why),\n",
        "        Ok(ratio) => match checked::ln(ratio) {\n",
        "            Err(why) => panic!(\"{:?}\", why),\n",
        "            Ok(ln) => match checked::sqrt(ln) {\n",
        "                Err(why) => panic!(\"{:?}\", why),\n",
        "                Ok(sqrt) => sqrt,\n",
        "            },\n",
        "        },\n",
        "    }\n",
        "}\n",
        "\n",
        "fn main() {\n",
        "    // 这会失败吗？\n",
        "    println!(\"{}\", op(1.0, 10.0));\n",
        "}\n",
        "main();\n"
      ]
    },
    {
      "cell_type": "markdown",
      "metadata": {},
      "source": [
        "\n"
      ]
    }
  ],
  "metadata": {
    "kernelspec": {
      "display_name": "Rust",
      "language": "rust",
      "name": "rust"
    },
    "language_info": {
      "codemirror_mode": "rust",
      "file_extension": ".rs",
      "mimetype": "text/rust",
      "name": "Rust",
      "pygment_lexer": "rust",
      "version": ""
    }
  },
  "nbformat": 4,
  "nbformat_minor": 5
}