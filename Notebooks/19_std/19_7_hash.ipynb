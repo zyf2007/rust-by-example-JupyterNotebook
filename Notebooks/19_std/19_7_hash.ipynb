{
  "cells": [
    {
      "cell_type": "markdown",
      "metadata": {},
      "source": [
        "# 散列表 HashMap\n",
        "\n",
        "vector 通过整型下标来存储值，而 `HashMap`（散列表）通过键（key）来存储值。`HashMap` 的键可以是布尔型、整型、字符串，或任意实现了 `Eq` 和 `Hash` trait 的其他类型。在下一节将进一步介绍。\n",
        "\n",
        "和 vector 类似，`HashMap` 也是可增长的，但 HashMap 在占据了多余空间时还可以缩小自己。可以使用 `HashMap::with_capacity(unit)` 创建具有一定初始容量的 HashMap，也可以使用 `HashMap::new()` 来获得一个带有默认初始容量的 HashMap（这是推荐方式）。\n",
        "\n"
      ]
    },
    {
      "cell_type": "code",
      "execution_count": null,
      "metadata": {
        "vscode": {
          "languageId": "rust"
        }
      },
      "outputs": [],
      "source": [
        "use std::collections::HashMap;\n",
        "\n",
        "fn call(number: &str) -> &str {\n",
        "    match number {\n",
        "        \"798-1364\" => \"We're sorry, the call cannot be completed as dialed. \n",
        "            Please hang up and try again.\",\n",
        "        \"645-7689\" => \"Hello, this is Mr. Awesome's Pizza. My name is Fred.\n",
        "            What can I get for you today?\",\n",
        "        _ => \"Hi! Who is this again?\"\n",
        "    }\n",
        "}\n",
        "\n",
        "fn main() { \n",
        "    let mut contacts = HashMap::new();\n",
        "\n",
        "    contacts.insert(\"Daniel\", \"798-1364\");\n",
        "    contacts.insert(\"Ashley\", \"645-7689\");\n",
        "    contacts.insert(\"Katie\", \"435-8291\");\n",
        "    contacts.insert(\"Robert\", \"956-1745\");\n",
        "\n",
        "    // 接受一个引用并返回 Option<&V>\n",
        "    match contacts.get(&\"Daniel\") {\n",
        "        Some(&number) => println!(\"Calling Daniel: {}\", call(number)),\n",
        "        _ => println!(\"Don't have Daniel's number.\"),\n",
        "    }\n",
        "\n",
        "    // 如果被插入的值为新内容，那么 `HashMap::insert()` 返回 `None`，\n",
        "    // 否则返回 `Some(value)`\n",
        "    contacts.insert(\"Daniel\", \"164-6743\");\n",
        "\n",
        "    match contacts.get(&\"Ashley\") {\n",
        "        Some(&number) => println!(\"Calling Ashley: {}\", call(number)),\n",
        "        _ => println!(\"Don't have Ashley's number.\"),\n",
        "    }\n",
        "\n",
        "    contacts.remove(&(\"Ashley\")); \n",
        "\n",
        "    // `HashMap::iter()` 返回一个迭代器，该迭代器以任意顺序举出\n",
        "    // (&'a key, &'a value) 对。\n",
        "    for (contact, &number) in contacts.iter() {\n",
        "        println!(\"Calling {}: {}\", contact, call(number)); \n",
        "    }\n",
        "}\n",
        "main();\n"
      ]
    },
    {
      "cell_type": "markdown",
      "metadata": {},
      "source": [
        "\n",
        "想要了解更多关于散列（hash）与散列表（hash map）（有时也称作 hash table）的工作原理，可以查看 Wikipedia 的[散列表][wiki-hash]词条。\n",
        "\n",
        "[wiki-hash]: https://en.wikipedia.org/wiki/Hash_table\n",
        "\n"
      ]
    }
  ],
  "metadata": {
    "kernelspec": {
      "display_name": "Rust",
      "language": "rust",
      "name": "rust"
    },
    "language_info": {
      "codemirror_mode": "rust",
      "file_extension": ".rs",
      "mimetype": "text/rust",
      "name": "Rust",
      "pygment_lexer": "rust",
      "version": ""
    }
  },
  "nbformat": 4,
  "nbformat_minor": 5
}