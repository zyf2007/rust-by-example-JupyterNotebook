{
  "cells": [
    {
      "cell_type": "markdown",
      "metadata": {},
      "source": [
        "# 共享引用计数 Arc\n",
        "\n",
        "当线程之间所有权需要共享时，可以使用`Arc`（共享引用计数，Atomic Reference Counted 缩写）可以使用。这个结构通过 `Clone` 实现可以为内存堆中的值的位置创建一个引用指针，同时增加引用计数器。由于它在线程之间共享所有权，因此当指向某个值的最后一个引用指针退出作用域时，该变量将被删除。\n",
        "\n"
      ]
    },
    {
      "cell_type": "code",
      "execution_count": null,
      "metadata": {
        "vscode": {
          "languageId": "rust"
        }
      },
      "outputs": [],
      "source": [
        "use std::sync::Arc;\n",
        "use std::thread;\n",
        "\n",
        "fn main() {\n",
        "    // 这个变量声明用来指定其值的地方。\n",
        "    let apple = Arc::new(\"the same apple\");\n",
        "\n",
        "    for _ in 0..10 {\n",
        "        // 这里没有数值说明，因为它是一个指向内存堆中引用的指针。\n",
        "        let apple = Arc::clone(&apple);\n",
        "\n",
        "        thread::spawn(move || {\n",
        "            // 由于使用了Arc，线程可以使用分配在 `Arc` 变量指针位置的值来生成。\n",
        "            println!(\"{:?}\", apple);\n",
        "        });\n",
        "    }\n",
        "}\n",
        "\n",
        "main();\n"
      ]
    },
    {
      "cell_type": "markdown",
      "metadata": {},
      "source": [
        "\n"
      ]
    }
  ],
  "metadata": {
    "kernelspec": {
      "display_name": "Rust",
      "language": "rust",
      "name": "rust"
    },
    "language_info": {
      "codemirror_mode": "rust",
      "file_extension": ".rs",
      "mimetype": "text/rust",
      "name": "Rust",
      "pygment_lexer": "rust",
      "version": ""
    }
  },
  "nbformat": 4,
  "nbformat_minor": 5
}