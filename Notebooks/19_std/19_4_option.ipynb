{
  "cells": [
    {
      "cell_type": "markdown",
      "metadata": {},
      "source": [
        "# 选项 `Option`\n",
        "\n",
        "有时候想要捕捉到程序某部分的失败信息，而不是调用 `panic!`；这可使用 `Option`\n",
        "枚举类型来实现。\n",
        "\n",
        "`Option<T>` 有两个变量：\n",
        "\n",
        "* `None`，表明失败或缺少值\n",
        "* `Some(value)`，元组结构体，封装了一个 `T` 类型的值 `value`\n",
        "\n"
      ]
    },
    {
      "cell_type": "code",
      "execution_count": null,
      "metadata": {
        "vscode": {
          "languageId": "rust"
        }
      },
      "outputs": [],
      "source": [
        "// 不会 `panic!` 的整数除法。\n",
        "fn checked_division(dividend: i32, divisor: i32) -> Option<i32> {\n",
        "    if divisor == 0 {\n",
        "        // 失败表示成 `None` 取值\n",
        "        None\n",
        "    } else {\n",
        "        // 结果 Result 被包装到 `Some` 取值中\n",
        "        Some(dividend / divisor)\n",
        "    }\n",
        "}\n",
        "\n",
        "// 此函数处理可能失败的除法\n",
        "fn try_division(dividend: i32, divisor: i32) {\n",
        "    // `Option` 值可以进行模式匹配，就和其他枚举类型一样\n",
        "    match checked_division(dividend, divisor) {\n",
        "        None => println!(\"{} / {} failed!\", dividend, divisor),\n",
        "        Some(quotient) => {\n",
        "            println!(\"{} / {} = {}\", dividend, divisor, quotient)\n",
        "        },\n",
        "    }\n",
        "}\n",
        "\n",
        "fn main() {\n",
        "    try_division(4, 2);\n",
        "    try_division(1, 0);\n",
        "\n",
        "    // 绑定 `None` 到一个变量需要类型标注\n",
        "    let none: Option<i32> = None;\n",
        "    let _equivalent_none = None::<i32>;\n",
        "\n",
        "    let optional_float = Some(0f32);\n",
        "\n",
        "    // 解包 `Some` 将取出被包装的值。\n",
        "    println!(\"{:?} unwraps to {:?}\", optional_float, optional_float.unwrap());\n",
        "\n",
        "    // 解包 `None` 将会引发 `panic!`。\n",
        "    println!(\"{:?} unwraps to {:?}\", none, none.unwrap());\n",
        "}\n",
        "main();\n"
      ]
    },
    {
      "cell_type": "markdown",
      "metadata": {},
      "source": [
        "\n"
      ]
    }
  ],
  "metadata": {
    "kernelspec": {
      "display_name": "Rust",
      "language": "rust",
      "name": "rust"
    },
    "language_info": {
      "codemirror_mode": "rust",
      "file_extension": ".rs",
      "mimetype": "text/rust",
      "name": "Rust",
      "pygment_lexer": "rust",
      "version": ""
    }
  },
  "nbformat": 4,
  "nbformat_minor": 5
}