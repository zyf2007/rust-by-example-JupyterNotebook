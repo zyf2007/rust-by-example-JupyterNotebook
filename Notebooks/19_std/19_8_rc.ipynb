{
  "cells": [
    {
      "cell_type": "markdown",
      "metadata": {},
      "source": [
        "# 引用计数 `Rc`\n",
        "\n",
        "当需要多个所有权时，可以使用 `Rc`（引用计数，Reference Counting 缩写）。`Rc` 跟踪引用的数量，这相当于包裹在 `Rc` 值的所有者的数量.\n",
        "\n",
        "每当克隆一个 `Rc` 时，`Rc` 的引用计数就会增加 1，而每当克隆得到的 `Rc` 退出作用域时，引用计数就会减少 1。当 `Rc` 的引用计数变为 0 时，这意味着已经没有所有者，`Rc` 和值两者都将被删除。\n",
        "\n",
        "克隆 `Rc` 从不执行深拷贝。克隆只创建另一个指向包裹值的指针，并增加计数。\n",
        "\n"
      ]
    },
    {
      "cell_type": "code",
      "execution_count": null,
      "metadata": {
        "vscode": {
          "languageId": "rust"
        }
      },
      "outputs": [],
      "source": [
        "use std::rc::Rc;\n",
        "\n",
        "fn main() {\n",
        "    let rc_examples = \"Rc examples\".to_string();\n",
        "    {\n",
        "        println!(\"--- rc_a is created ---\");\n",
        "        \n",
        "        let rc_a: Rc<String> = Rc::new(rc_examples);\n",
        "        println!(\"Reference Count of rc_a: {}\", Rc::strong_count(&rc_a));\n",
        "        \n",
        "        {\n",
        "            println!(\"--- rc_a is cloned to rc_b ---\");\n",
        "            \n",
        "            let rc_b: Rc<String> = Rc::clone(&rc_a);\n",
        "            println!(\"Reference Count of rc_b: {}\", Rc::strong_count(&rc_b));\n",
        "            println!(\"Reference Count of rc_a: {}\", Rc::strong_count(&rc_a));\n",
        "            \n",
        "            // 如果两者内部的值相等的话，则两个 `Rc` 相等。\n",
        "            println!(\"rc_a and rc_b are equal: {}\", rc_a.eq(&rc_b));\n",
        "                        \n",
        "            // 我们可以直接使用值的方法\n",
        "            println!(\"Length of the value inside rc_a: {}\", rc_a.len());\n",
        "            println!(\"Value of rc_b: {}\", rc_b);\n",
        "            \n",
        "            println!(\"--- rc_b is dropped out of scope ---\");\n",
        "        }\n",
        "        \n",
        "        println!(\"Reference Count of rc_a: {}\", Rc::strong_count(&rc_a));\n",
        "        \n",
        "        println!(\"--- rc_a is dropped out of scope ---\");\n",
        "    }\n",
        "    \n",
        "    // 报错！`rc_examples` 已经移入 `rc_a`。\n",
        "    // 而且当 `rc_a` 被删时，`rc_examples` 也被一起删除。\n",
        "    // println!(\"rc_examples: {}\", rc_examples);\n",
        "    // 试一试 ^ 注释掉此行代码\n",
        "}\n",
        "main();\n"
      ]
    },
    {
      "cell_type": "markdown",
      "metadata": {},
      "source": [
        "\n",
        "### 参见：\n",
        "\n",
        "[std::rc][1] 和 [std::sync::arc][2]。\n",
        "\n",
        "[1]: https://rustwiki.org/zh-CN/std/rc/index.html\n",
        "[2]: https://rustwiki.org/zh-CN/std/sync/struct.Arc.html\n",
        "\n"
      ]
    }
  ],
  "metadata": {
    "kernelspec": {
      "display_name": "Rust",
      "language": "rust",
      "name": "rust"
    },
    "language_info": {
      "codemirror_mode": "rust",
      "file_extension": ".rs",
      "mimetype": "text/rust",
      "name": "Rust",
      "pygment_lexer": "rust",
      "version": ""
    }
  },
  "nbformat": 4,
  "nbformat_minor": 5
}