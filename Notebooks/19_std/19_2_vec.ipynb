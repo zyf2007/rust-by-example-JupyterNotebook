{
  "cells": [
    {
      "cell_type": "markdown",
      "metadata": {},
      "source": [
        "# 动态数组 vector\n",
        "\n",
        "vector 是大小可变的数组。和 slice（切片）类似，它们的大小在编译时是未知的，但它们可以随时扩大或缩小。一个 vector 使用 3 个词来表示：一个指向数据的指针，vector 的长度，还有它的容量。此容量指明了要为这个 vector 保留多少内存。vector 的长度只要小于该容量，就可以随意增长；当需要超过这个阈值时，会给 vector 重新分配一段更大的容量。\n",
        "\n"
      ]
    },
    {
      "cell_type": "code",
      "execution_count": null,
      "metadata": {
        "vscode": {
          "languageId": "rust"
        }
      },
      "outputs": [],
      "source": [
        "fn main() {\n",
        "    // 迭代器可以被收集到 vector 中\n",
        "    let collected_iterator: Vec<i32> = (0..10).collect();\n",
        "    println!(\"Collected (0..10) into: {:?}\", collected_iterator);\n",
        "\n",
        "    // `vec!` 宏可用来初始化一个 vector\n",
        "    let mut xs = vec![1i32, 2, 3];\n",
        "    println!(\"Initial vector: {:?}\", xs);\n",
        "\n",
        "    // 在 vector 的尾部插入一个新的元素\n",
        "    println!(\"Push 4 into the vector\");\n",
        "    xs.push(4);\n",
        "    println!(\"Vector: {:?}\", xs);\n",
        "\n",
        "    // 报错！不可变 vector 不可增长\n",
        "    collected_iterator.push(0);\n",
        "    // 改正 ^ 将此行注释掉\n",
        "\n",
        "    // `len` 方法获得一个 vector 的当前大小\n",
        "    println!(\"Vector size: {}\", xs.len());\n",
        "\n",
        "    // 下标使用中括号表示（从 0 开始）\n",
        "    println!(\"Second element: {}\", xs[1]);\n",
        "\n",
        "    // `pop` 移除 vector 的最后一个元素并将它返回\n",
        "    println!(\"Pop last element: {:?}\", xs.pop());\n",
        "\n",
        "    // 超出下标范围将抛出一个 panic\n",
        "    println!(\"Fourth element: {}\", xs[3]);\n",
        "    // 改正 ^ 注释掉此行\n",
        "\n",
        "    // 迭代一个 `Vector` 很容易\n",
        "    println!(\"Contents of xs:\");\n",
        "    for x in xs.iter() {\n",
        "        println!(\"> {}\", x);\n",
        "    }\n",
        "\n",
        "    // 可以在迭代 `Vector` 的同时，使用独立变量（`i`）来记录迭代次数\n",
        "    for (i, x) in xs.iter().enumerate() {\n",
        "        println!(\"In position {} we have value {}\", i, x);\n",
        "    }\n",
        "\n",
        "    // 多亏了 `iter_mut`，可变的 `Vector` 在迭代的同时，其中每个值都能被修改\n",
        "    for x in xs.iter_mut() {\n",
        "        *x *= 3;\n",
        "    }\n",
        "    println!(\"Updated vector: {:?}\", xs);\n",
        "}\n",
        "main();\n"
      ]
    },
    {
      "cell_type": "markdown",
      "metadata": {},
      "source": [
        "\n",
        "更多 `Vec` 方法可以在 [std::vec][vec] 模块中找到。\n",
        "\n",
        "[vec]: https://rustwiki.org/zh-CN/std/vec/\n",
        "\n"
      ]
    }
  ],
  "metadata": {
    "kernelspec": {
      "display_name": "Rust",
      "language": "rust",
      "name": "rust"
    },
    "language_info": {
      "codemirror_mode": "rust",
      "file_extension": ".rs",
      "mimetype": "text/rust",
      "name": "Rust",
      "pygment_lexer": "rust",
      "version": ""
    }
  },
  "nbformat": 4,
  "nbformat_minor": 5
}