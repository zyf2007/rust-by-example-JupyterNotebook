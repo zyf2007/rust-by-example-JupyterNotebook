{
  "cells": [
    {
      "cell_type": "markdown",
      "metadata": {},
      "source": [
        "# 散列集 HashSet\n",
        "\n",
        "请把 `HashSet` 当成这样一个 `HashMap`：我们只关心其中的键而非值（`HashSet<T>`\n",
        "实际上只是对 `HashMap<T, ()>` 的封装）。\n",
        "\n",
        "你可能会问：“这有什么意义呢？我完全可以将键存储到一个 `Vec` 中呀。”\n",
        " \n",
        "`HashSet` 的独特之处在于，它保证了不会出现重复的元素。这是任何 set 集合类型（set\n",
        "collection）遵循的规定。`HashSet` 只是它的一个实现。（参见：[`BTreeSet`][treeset]）\n",
        "\n",
        "如果插入的值已经存在于 `HashSet` 中（也就是，新值等于已存在的值，并且拥有相同的散列值），那么新值将会替换旧的值。\n",
        "\n",
        "如果你不想要一样东西出现多于一次，或者你要判断一样东西是不是已经存在，这种做法就很有用了。\n",
        "\n",
        "不过集合（set）可以做更多的事。\n",
        "\n",
        "集合（set）拥有 4 种基本操作（下面的调用全部都返回一个迭代器）：\n",
        "\n",
        "* `union`（并集）：获得两个集合中的所有元素（不含重复值）。\n",
        "\n",
        "* `difference`（差集）：获取属于第一个集合而不属于第二集合的所有元素。\n",
        "\n",
        "* `intersection`（交集）：获取同时属于两个集合的所有元素。\n",
        "\n",
        "* `symmetric_difference`（对称差）：获取所有只属于其中一个集合，而不同时属于\n",
        "  两个集合的所有元素。\n",
        "\n",
        "在下面的例子中尝试使用这些操作。\n",
        "\n"
      ]
    },
    {
      "cell_type": "code",
      "execution_count": null,
      "metadata": {
        "vscode": {
          "languageId": "rust"
        }
      },
      "outputs": [],
      "source": [
        "use std::collections::HashSet;\n",
        "\n",
        "fn main() {\n",
        "    let mut a: HashSet<i32> = vec!(1i32, 2, 3).into_iter().collect();\n",
        "    let mut b: HashSet<i32> = vec!(2i32, 3, 4).into_iter().collect();\n",
        "\n",
        "    assert!(a.insert(4));\n",
        "    assert!(a.contains(&4));\n",
        "\n",
        "    // 如果值已经存在，那么 `HashSet::insert()` 返回 false。\n",
        "    assert!(b.insert(4), \"Value 4 is already in set B!\");\n",
        "    // 改正 ^ 将此行注释掉。\n",
        "\n",
        "    b.insert(5);\n",
        "\n",
        "    // 若一个集合（collection）的元素类型实现了 `Debug`，那么该集合也就实现了 `Debug`。\n",
        "    // 这通常将元素打印成这样的格式 `[elem1, elem2, ...]\n",
        "    println!(\"A: {:?}\", a);\n",
        "    println!(\"B: {:?}\", b);\n",
        "\n",
        "    // 乱序打印 [1, 2, 3, 4, 5]。\n",
        "    println!(\"Union: {:?}\", a.union(&b).collect::<Vec<&i32>>());\n",
        "\n",
        "    // 这将会打印出 [1]\n",
        "    println!(\"Difference: {:?}\", a.difference(&b).collect::<Vec<&i32>>());\n",
        "\n",
        "    // 乱序打印 [2, 3, 4]。\n",
        "    println!(\"Intersection: {:?}\", a.intersection(&b).collect::<Vec<&i32>>());\n",
        "\n",
        "    // 打印 [1, 5]\n",
        "    println!(\"Symmetric Difference: {:?}\",\n",
        "             a.symmetric_difference(&b).collect::<Vec<&i32>>());\n",
        "}\n",
        "main();\n"
      ]
    },
    {
      "cell_type": "markdown",
      "metadata": {},
      "source": [
        "\n",
        "（例子改编自[文档][hash-set]。）\n",
        "\n",
        "[treeset]: https://rustwiki.org/zh-CN/std/collections/struct.BTreeSet.html\n",
        "[hash-set]: https://rustwiki.org/zh-CN/std/collections/struct.HashSet.html#method.difference\n",
        "\n"
      ]
    }
  ],
  "metadata": {
    "kernelspec": {
      "display_name": "Rust",
      "language": "rust",
      "name": "rust"
    },
    "language_info": {
      "codemirror_mode": "rust",
      "file_extension": ".rs",
      "mimetype": "text/rust",
      "name": "Rust",
      "pygment_lexer": "rust",
      "version": ""
    }
  },
  "nbformat": 4,
  "nbformat_minor": 5
}