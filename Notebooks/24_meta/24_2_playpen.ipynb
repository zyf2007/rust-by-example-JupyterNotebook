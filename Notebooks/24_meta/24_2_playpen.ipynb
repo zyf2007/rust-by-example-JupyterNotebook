{
  "cells": [
    {
      "cell_type": "markdown",
      "metadata": {},
      "source": [
        "# Playpen\n",
        "\n",
        "[Rust Playpen](https://github.com/rust-lang/rust-playpen) 是一个在线运行 Rust 代码的网络接口。现在该项目通常称为 [Rust Playground](https://play.rust-lang.org/)。\n",
        "\n",
        "## 在 `mdbook` 使用\n",
        "\n",
        "在 [`mdbook`][mdbook] 中，你可以让示例代码运行和编辑。\n",
        "\n"
      ]
    },
    {
      "cell_type": "code",
      "execution_count": null,
      "metadata": {
        "vscode": {
          "languageId": "rust"
        }
      },
      "outputs": [],
      "source": [
        "fn main() {\n",
        "    println!(\"Hello World!\");\n",
        "}\n",
        "main();\n"
      ]
    },
    {
      "cell_type": "markdown",
      "metadata": {},
      "source": [
        "\n",
        "这使读者既可以运行你的代码示例，也可以对其进行修改和调整。此处的关键是将单词添加 `editable` 到代码块中，并用逗号分隔。\n",
        "\n"
      ]
    },
    {
      "cell_type": "code",
      "execution_count": null,
      "metadata": {
        "vscode": {
          "languageId": "`markdown"
        }
      },
      "outputs": [],
      "source": []
    },
    {
      "cell_type": "markdown",
      "metadata": {},
      "source": [
        "//...将你的代码写在这里\n"
      ]
    },
    {
      "cell_type": "code",
      "execution_count": null,
      "metadata": {
        "vscode": {
          "languageId": "rust"
        }
      },
      "outputs": [],
      "source": []
    },
    {
      "cell_type": "markdown",
      "metadata": {},
      "source": [
        "\n",
        "此外，如果想要 `mdbook` 在构建和测试时跳过该代码，则可以添加 `ignore`。\n",
        "\n"
      ]
    },
    {
      "cell_type": "code",
      "execution_count": null,
      "metadata": {
        "vscode": {
          "languageId": "`markdown"
        }
      },
      "outputs": [],
      "source": []
    },
    {
      "cell_type": "markdown",
      "metadata": {},
      "source": [
        "//...将你的代码写在这里\n"
      ]
    },
    {
      "cell_type": "code",
      "execution_count": null,
      "metadata": {
        "vscode": {
          "languageId": "rust"
        }
      },
      "outputs": [],
      "source": []
    },
    {
      "cell_type": "markdown",
      "metadata": {},
      "source": [
        "\n",
        "## 在文档中使用\n",
        "\n",
        "可能你已经在某些 [Rust 官方文档][official-rust-docs]中注意到了一个名为 “Run” 的按钮，该按钮在 Rust Playground 的新选项卡中打开了代码示例。如果使用名为的 [`html_playground_url`][html-playground-url] 的 #[doc] 属性，则启用此功能。\n",
        "\n",
        "### 参见：\n",
        "\n",
        "- [The Rust Playground][rust-playground]\n",
        "- [下一代 playpen][next-gen-playpen]\n",
        "- [官方文档][rustdoc-book]\n",
        "\n",
        "[rust-playground]: https://play.rust-lang.org/\n",
        "[next-gen-playpen]: https://github.com/integer32llc/rust-playground/\n",
        "[mdbook]: https://github.com/rust-lang/mdBook\n",
        "[official-rust-docs]: https://rustwiki.org/zh-CN/core/\n",
        "[rustdoc-book]: https://doc.rust-lang.org/rustdoc/what-is-rustdoc.html\n",
        "[html-playground-url]: https://doc.rust-lang.org/rustdoc/the-doc-attribute.html#html_playground_url\n",
        "\n"
      ]
    }
  ],
  "metadata": {
    "kernelspec": {
      "display_name": "Rust",
      "language": "rust",
      "name": "rust"
    },
    "language_info": {
      "codemirror_mode": "rust",
      "file_extension": ".rs",
      "mimetype": "text/rust",
      "name": "Rust",
      "pygment_lexer": "rust",
      "version": ""
    }
  },
  "nbformat": 4,
  "nbformat_minor": 5
}