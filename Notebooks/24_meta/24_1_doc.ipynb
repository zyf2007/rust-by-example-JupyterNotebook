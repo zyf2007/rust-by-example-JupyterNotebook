{
  "cells": [
    {
      "cell_type": "markdown",
      "metadata": {},
      "source": [
        "# 文档\n",
        "\n",
        "用 `cargo doc` 构建文档到 `target/doc`。\n",
        "\n",
        "用 `cargo test` 运行所有测试（包括文档测试），用 `cargo test --doc` 仅运行文档测试。\n",
        "\n",
        "这些命令会恰当地按需调用 `rustdoc`（以及 `rustc`）。\n",
        "\n",
        "## 文档注释\n",
        "\n",
        "文档注释对于需要文档的大型项目来说非常重要。当运行 `rustdoc`，文档注释就会编译成文档。它们使用 `///` 标记，并支持 [Markdown]。\n",
        "\n"
      ]
    },
    {
      "cell_type": "code",
      "execution_count": null,
      "metadata": {
        "vscode": {
          "languageId": "rust"
        }
      },
      "outputs": [],
      "source": [
        "#![crate_name = \"doc\"]\n",
        "\n",
        "/// 这里给出一个“人”的表示\n",
        "pub struct Person {\n",
        "    /// 一个人必须有名字（不管 Juliet 多讨厌她自己的名字）。\n",
        "    name: String,\n",
        "}\n",
        "\n",
        "impl Person {\n",
        "    /// 返回具有指定名字的一个人\n",
        "    ///\n",
        "    /// # 参数\n",
        "    ///\n",
        "    /// * `name` - 字符串切片，代表人的名字\n",
        "    ///\n",
        "    /// # 示例\n",
        "    ///\n",
        "    /// ```\n",
        "    /// // 在文档注释中，你可以书写代码块\n",
        "    /// // 如果向 `rustdoc` 传递 --test 参数，它还会帮你测试注释文档中的代码！\n",
        "    /// use doc::Person;\n",
        "    /// let person = Person::new(\"name\");\n",
        "    /// ```\n",
        "    pub fn new(name: &str) -> Person {\n",
        "        Person {\n",
        "            name: name.to_string(),\n",
        "        }\n",
        "    }\n",
        "\n",
        "    /// 给一个友好的问候！\n",
        "    /// 对被叫到的 `Person` 说 \"Hello, [name]\" 。\n",
        "    pub fn hello(& self) {\n",
        "        println!(\"Hello, {}!\", self.name);\n",
        "    }\n",
        "}\n",
        "\n",
        "fn main() {\n",
        "    let john = Person::new(\"John\");\n",
        "\n",
        "    john.hello();\n",
        "}\n",
        "main();\n"
      ]
    },
    {
      "cell_type": "markdown",
      "metadata": {},
      "source": [
        "\n",
        "要运行测试，首先将代码构建为库，然后告诉 `rustdoc` 在哪里找到库，这样它就可以使每个文档中的程序链接到库：\n",
        "\n"
      ]
    },
    {
      "cell_type": "code",
      "execution_count": null,
      "metadata": {
        "vscode": {
          "languageId": "shell"
        }
      },
      "outputs": [],
      "source": [
        "$ rustc doc.rs --crate-type lib\n",
        "$ rustdoc --test --extern doc=\"libdoc.rlib\" doc.rs\n"
      ]
    },
    {
      "cell_type": "markdown",
      "metadata": {},
      "source": [
        "\n",
        "## 文档属性\n",
        "\n",
        "下面是一些使用 `rustdoc` 时最常使用的 `#[doc]` 属性的例子。\n",
        "\n",
        "### `inline`\n",
        "\n",
        "用于内联文档，而不是链接到单独的页面。\n",
        "\n"
      ]
    },
    {
      "cell_type": "code",
      "execution_count": null,
      "metadata": {
        "vscode": {
          "languageId": "rust"
        }
      },
      "outputs": [],
      "source": [
        "#[doc(inline)]\n",
        "pub use bar::Bar;\n",
        "\n",
        "/// bar 的文档\n",
        "mod bar {\n",
        "    /// Bar 的文档\n",
        "    pub struct Bar;\n",
        "}\n"
      ]
    },
    {
      "cell_type": "markdown",
      "metadata": {},
      "source": [
        "\n",
        "### `no_inline`\n",
        "\n",
        "用于防止链接到单独的页面或其他位置。\n",
        "\n"
      ]
    },
    {
      "cell_type": "code",
      "execution_count": null,
      "metadata": {
        "vscode": {
          "languageId": "rust"
        }
      },
      "outputs": [],
      "source": [
        "// 来自 libcore/prelude 的例子\n",
        "#[doc(no_inline)]\n",
        "pub use crate::mem::drop;\n"
      ]
    },
    {
      "cell_type": "markdown",
      "metadata": {},
      "source": [
        "\n",
        "### `hidden`\n",
        "\n",
        "使用此属性来告诉 `rustdoc` 不要包含此项到文档中：\n",
        "\n"
      ]
    },
    {
      "cell_type": "code",
      "execution_count": null,
      "metadata": {
        "vscode": {
          "languageId": "rust"
        }
      },
      "outputs": [],
      "source": [
        "// 来自 futures-rs 库的例子\n",
        "#[doc(hidden)]\n",
        "pub use self::async_await::*;\n"
      ]
    },
    {
      "cell_type": "markdown",
      "metadata": {},
      "source": [
        "\n",
        "对文档来说，`rustdoc` 被社区广泛采用。[标准库文档](https://doc.rust-lang.org/std/)也是用它生成的。\n",
        "\n",
        "### 参见:\n",
        "\n",
        "- [The Rust Book: Making Useful Documentation Comments][book]\n",
        "- [The rustdoc Book][rustdoc-book]\n",
        "- [The Reference: Doc comments][ref-comments]\n",
        "- [RFC 1574: API Documentation Conventions][api-conv]\n",
        "- [RFC 1946: Relative links to other items from doc comments (intra-rustdoc links)][intra-links]\n",
        "- [Is there any documentation style guide for comments? (reddit)][reddit]\n",
        "\n",
        "[markdown]: https://en.wikipedia.org/wiki/Markdown\n",
        "[book]: https://doc.rust-lang.org/book/ch14-02-publishing-to-crates-io.html#making-useful-documentation-comments\n",
        "[ref-comments]: https://doc.rust-lang.org/stable/reference/comments.html#doc-comments\n",
        "[rustdoc-book]: https://doc.rust-lang.org/rustdoc/index.html\n",
        "[api-conv]: https://rust-lang.github.io/rfcs/1574-more-api-documentation-conventions.html#appendix-a-full-conventions-text\n",
        "[intra-links]: https://rust-lang.github.io/rfcs/1946-intra-rustdoc-links.html\n",
        "[reddit]: https://www.reddit.com/r/rust/comments/ahb50s/is_there_any_documentation_style_guide_for/\n",
        "\n"
      ]
    }
  ],
  "metadata": {
    "kernelspec": {
      "display_name": "Rust",
      "language": "rust",
      "name": "rust"
    },
    "language_info": {
      "codemirror_mode": "rust",
      "file_extension": ".rs",
      "mimetype": "text/rust",
      "name": "Rust",
      "pygment_lexer": "rust",
      "version": ""
    }
  },
  "nbformat": 4,
  "nbformat_minor": 5
}