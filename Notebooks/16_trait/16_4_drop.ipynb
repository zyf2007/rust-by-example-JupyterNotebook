{
  "cells": [
    {
      "cell_type": "markdown",
      "metadata": {},
      "source": [
        "# Drop\n",
        "\n",
        "[`Drop`][Drop] trait 只有一个方法：`drop`，当对象离开作用域时会自动调用该方法。`Drop` trait 的主要作用是释放实现者的实例拥有的资源。\n",
        "\n",
        "`Box`，`Vec`，`String`，`File`，以及 `Process` 是一些实现了 `Drop` trait 来释放资源的类型。`Drop` trait 也可以为任何自定义数据类型手动实现。\n",
        "\n",
        "下面示例给 `drop` 函数增加了打印到控制台的功能，用于宣布它在什么时候被调用。\n",
        "\n"
      ]
    },
    {
      "cell_type": "code",
      "execution_count": null,
      "metadata": {
        "vscode": {
          "languageId": "rust"
        }
      },
      "outputs": [],
      "source": [
        "struct Droppable {\n",
        "    name: &'static str,\n",
        "}\n",
        "\n",
        "// 这个简单的 `drop` 实现添加了打印到控制台的功能。\n",
        "impl Drop for Droppable {\n",
        "    fn drop(&mut self) {\n",
        "        println!(\"> Dropping {}\", self.name);\n",
        "    }\n",
        "}\n",
        "\n",
        "fn main() {\n",
        "    let _a = Droppable { name: \"a\" };\n",
        "\n",
        "    // 代码块 A\n",
        "    {\n",
        "        let _b = Droppable { name: \"b\" };\n",
        "\n",
        "        // 代码块 B\n",
        "        {\n",
        "            let _c = Droppable { name: \"c\" };\n",
        "            let _d = Droppable { name: \"d\" };\n",
        "\n",
        "            println!(\"Exiting block B\");\n",
        "        }\n",
        "        println!(\"Just exited block B\");\n",
        "\n",
        "        println!(\"Exiting block A\");\n",
        "    }\n",
        "    println!(\"Just exited block A\");\n",
        "\n",
        "    // 变量可以手动使用 `drop` 函数来销毁。\n",
        "    drop(_a);\n",
        "    // 试一试 ^ 将此行注释掉。\n",
        "\n",
        "    println!(\"end of the main function\");\n",
        "\n",
        "    // `_a` *不会*在这里再次销毁，因为它已经被（手动）销毁。\n",
        "}\n",
        "main();\n"
      ]
    },
    {
      "cell_type": "markdown",
      "metadata": {},
      "source": [
        "\n",
        "[Drop]: https://rustwiki.org/zh-CN/std/ops/trait.Drop.html\n",
        "\n"
      ]
    }
  ],
  "metadata": {
    "kernelspec": {
      "display_name": "Rust",
      "language": "rust",
      "name": "rust"
    },
    "language_info": {
      "codemirror_mode": "rust",
      "file_extension": ".rs",
      "mimetype": "text/rust",
      "name": "Rust",
      "pygment_lexer": "rust",
      "version": ""
    }
  },
  "nbformat": 4,
  "nbformat_minor": 5
}