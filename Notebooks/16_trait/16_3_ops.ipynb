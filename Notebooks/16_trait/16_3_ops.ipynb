{
  "cells": [
    {
      "cell_type": "markdown",
      "metadata": {},
      "source": [
        "# 运算符重载\n",
        "\n",
        "在 Rust 中，很多运算符可以通过 trait 来重载。也就是说，这些运算符可以根据它们的输入参数来完成不同的任务。这之所以可行，是因为运算符就是方法调用的语法糖。例如，`a + b` 中的 `+` 运算符会调用 `add` 方法（也就是 `a.add(b)`）。这个 `add` 方法是 `Add` trait 的一部分。因此，`+` 运算符可以被任何 `Add` trait 的实现者使用。\n",
        "\n",
        "会重载运算符的 `trait`（比如 `Add` 这种）可以在[这里][ops]查看。\n",
        "\n"
      ]
    },
    {
      "cell_type": "code",
      "execution_count": null,
      "metadata": {
        "vscode": {
          "languageId": "rust"
        }
      },
      "outputs": [],
      "source": [
        "use std::ops;\n",
        "\n",
        "struct Foo;\n",
        "struct Bar;\n",
        "\n",
        "#[derive(Debug)]\n",
        "struct FooBar;\n",
        "\n",
        "#[derive(Debug)]\n",
        "struct BarFoo;\n",
        "\n",
        "// `std::ops::Add` trait 用来指明 `+` 的功能，这里我们实现 `Add<Bar>`，它是用于\n",
        "// 把对象和 `Bar` 类型的右操作数（RHS）加起来的 `trait`。\n",
        "// 下面的代码块实现了 `Foo + Bar = FooBar` 这样的运算。\n",
        "impl ops::Add<Bar> for Foo {\n",
        "    type Output = FooBar;\n",
        "\n",
        "    fn add(self, _rhs: Bar) -> FooBar {\n",
        "        println!(\"> Foo.add(Bar) was called\");\n",
        "\n",
        "        FooBar\n",
        "    }\n",
        "}\n",
        "\n",
        "// 通过颠倒类型，我们实现了不服从交换律的加法。\n",
        "// 这里我们实现 `Add<Foo>`，它是用于把对象和 `Foo` 类型的右操作数加起来的 trait。\n",
        "// 下面的代码块实现了 `Bar + Foo = BarFoo` 这样的运算。\n",
        "impl ops::Add<Foo> for Bar {\n",
        "    type Output = BarFoo;\n",
        "\n",
        "    fn add(self, _rhs: Foo) -> BarFoo {\n",
        "        println!(\"> Bar.add(Foo) was called\");\n",
        "\n",
        "        BarFoo\n",
        "    }\n",
        "}\n",
        "\n",
        "fn main() {\n",
        "    println!(\"Foo + Bar = {:?}\", Foo + Bar);\n",
        "    println!(\"Bar + Foo = {:?}\", Bar + Foo);\n",
        "}\n",
        "main();\n"
      ]
    },
    {
      "cell_type": "markdown",
      "metadata": {},
      "source": [
        "\n",
        "### 参见：\n",
        "\n",
        "[Add][add], [语法索引][syntax]\n",
        "\n",
        "[add]: https://rustwiki.org/zh-CN/core/ops/trait.Add.html\n",
        "[ops]: https://rustwiki.org/zh-CN/core/ops/\n",
        "[syntax]: https://rustwiki.org/zh-CN/book/appendix-02-operators.html\n",
        "\n"
      ]
    }
  ],
  "metadata": {
    "kernelspec": {
      "display_name": "Rust",
      "language": "rust",
      "name": "rust"
    },
    "language_info": {
      "codemirror_mode": "rust",
      "file_extension": ".rs",
      "mimetype": "text/rust",
      "name": "Rust",
      "pygment_lexer": "rust",
      "version": ""
    }
  },
  "nbformat": 4,
  "nbformat_minor": 5
}