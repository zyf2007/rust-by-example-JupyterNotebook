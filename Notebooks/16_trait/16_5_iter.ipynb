{
  "cells": [
    {
      "cell_type": "markdown",
      "metadata": {},
      "source": [
        "# Iterator\n",
        "\n",
        "`Iterator` trait 用来对集合（collection）类型（比如数组）实现迭代器。\n",
        "\n",
        "这个 trait 只需定义一个返回 `next`（下一个）元素的方法，这可手动在 `impl` 代码块中定义，或者自动定义（比如在数组或区间中）。\n",
        "\n",
        "为方便起见，`for` 结构会使用 [`.into_iter()`][intoiter] 方法将一些集合类型转换为迭代器。\n",
        "\n",
        "下面例子展示了如何使用 `Iterator` trait 的方法，更多可用的方法可以看[这里][iter]。\n",
        "\n"
      ]
    },
    {
      "cell_type": "code",
      "execution_count": null,
      "metadata": {
        "vscode": {
          "languageId": "rust"
        }
      },
      "outputs": [],
      "source": [
        "struct Fibonacci {\n",
        "    curr: u32,\n",
        "    next: u32,\n",
        "}\n",
        "\n",
        "// 为 `Fibonacci`（斐波那契）实现 `Iterator`。\n",
        "// `Iterator` trait 只需定义一个能返回 `next`（下一个）元素的方法。\n",
        "impl Iterator for Fibonacci {\n",
        "    type Item = u32;\n",
        "    \n",
        "    // 我们在这里使用 `.curr` 和 `.next` 来定义数列（sequence）。\n",
        "    // 返回类型为 `Option<T>`：\n",
        "    //     * 当 `Iterator` 结束时，返回 `None`。\n",
        "    //     * 其他情况，返回被 `Some` 包裹（wrap）的下一个值。\n",
        "    fn next(&mut self) -> Option<u32> {\n",
        "        let new_next = self.curr + self.next;\n",
        "\n",
        "        self.curr = self.next;\n",
        "        self.next = new_next;\n",
        "\n",
        "        // 既然斐波那契数列不存在终点，那么 `Iterator` 将不可能\n",
        "        // 返回 `None`，而总是返回 `Some`。\n",
        "        Some(self.curr)\n",
        "    }\n",
        "}\n",
        "\n",
        "// 返回一个斐波那契数列生成器\n",
        "fn fibonacci() -> Fibonacci {\n",
        "    Fibonacci { curr: 1, next: 1 }\n",
        "}\n",
        "\n",
        "fn main() {\n",
        "    // `0..3` 是一个 `Iterator`，会产生：0、1 和 2。\n",
        "    let mut sequence = 0..3;\n",
        "\n",
        "    println!(\"Four consecutive `next` calls on 0..3\");\n",
        "    println!(\"> {:?}\", sequence.next());\n",
        "    println!(\"> {:?}\", sequence.next());\n",
        "    println!(\"> {:?}\", sequence.next());\n",
        "    println!(\"> {:?}\", sequence.next());\n",
        "\n",
        "    // `for` 遍历 `Iterator` 直到返回 `None`，\n",
        "    // 并且每个 `Some` 值都被解包（unwrap），然后绑定给一个变量（这里是 `i`）。       \n",
        "    println!(\"Iterate through 0..3 using `for`\");\n",
        "    for i in 0..3 {\n",
        "        println!(\"> {}\", i);\n",
        "    }\n",
        "\n",
        "    // `take(n)` 方法提取 `Iterator` 的前 `n` 项。\n",
        "    println!(\"The first four terms of the Fibonacci sequence are: \");\n",
        "    for i in fibonacci().take(4) {\n",
        "        println!(\"> {}\", i);\n",
        "    }\n",
        "\n",
        "    // `skip(n)` 方法移除前 `n` 项，从而缩短了 `Iterator` 。\n",
        "    println!(\"The next four terms of the Fibonacci sequence are: \");\n",
        "    for i in fibonacci().skip(4).take(4) {\n",
        "        println!(\"> {}\", i);\n",
        "    }\n",
        "\n",
        "    let array = [1u32, 3, 3, 7];\n",
        "\n",
        "    // `iter` 方法对数组/slice 产生一个 `Iterator`。\n",
        "    println!(\"Iterate the following array {:?}\", &array);\n",
        "    for i in array.iter() {\n",
        "        println!(\"> {}\", i);\n",
        "    }\n",
        "}\n",
        "main();\n"
      ]
    },
    {
      "cell_type": "markdown",
      "metadata": {},
      "source": [
        "\n",
        "[intoiter]: https://rustwiki.org/zh-CN/std/iter/trait.IntoIterator.html\n",
        "[iter]: https://rustwiki.org/zh-CN/core/iter/trait.Iterator.html\n",
        "\n"
      ]
    }
  ],
  "metadata": {
    "kernelspec": {
      "display_name": "Rust",
      "language": "rust",
      "name": "rust"
    },
    "language_info": {
      "codemirror_mode": "rust",
      "file_extension": ".rs",
      "mimetype": "text/rust",
      "name": "Rust",
      "pygment_lexer": "rust",
      "version": ""
    }
  },
  "nbformat": 4,
  "nbformat_minor": 5
}