{
  "cells": [
    {
      "cell_type": "markdown",
      "metadata": {},
      "source": [
        "# 派生\n",
        "\n",
        "通过 `#[derive]` [属性][attribute]，编译器能够提供某些 trait 的基本实现。如果需要更复杂的行为，这些 trait 也可以手动实现。\n",
        "\n",
        "下面是可以自动派生的 trait：\n",
        "\n",
        "* 比较 trait:\n",
        "  [`Eq`][eq], [`PartialEq`][partial-eq], [`Ord`][ord], [`PartialOrd`][partial-ord]\n",
        "* [`Clone`][clone], 用来从 `&T` 创建副本 `T`。\n",
        "* [`Copy`][copy]，使类型具有 “复制语义”（copy semantics）而非 “移动语义”（move semantics）。\n",
        "* [`Hash`][hash]，从 `&T` 计算哈希值（hash）。\n",
        "* [`Default`][default], 创建数据类型的一个空实例。\n",
        "* [`Debug`][debug]，使用 `{:?}` formatter 来格式化一个值。\n",
        "\n"
      ]
    },
    {
      "cell_type": "code",
      "execution_count": null,
      "metadata": {
        "vscode": {
          "languageId": "rust"
        }
      },
      "outputs": [],
      "source": [
        "// `Centimeters`，可以比较的元组结构体\n",
        "#[derive(PartialEq, PartialOrd)]\n",
        "struct Centimeters(f64);\n",
        "\n",
        "// `Inches`，可以打印的元组结构体\n",
        "#[derive(Debug)]\n",
        "struct Inches(i32);\n",
        "\n",
        "impl Inches {\n",
        "    fn to_centimeters(&self) -> Centimeters {\n",
        "        let &Inches(inches) = self;\n",
        "\n",
        "        Centimeters(inches as f64 * 2.54)\n",
        "    }\n",
        "}\n",
        "\n",
        "// `Seconds`，不带附加属性的元组结构体\n",
        "struct Seconds(i32);\n",
        "\n",
        "fn main() {\n",
        "    let _one_second = Seconds(1);\n",
        "\n",
        "    // 报错：`Seconds` 不能打印；它没有实现 `Debug` trait\n",
        "    //println!(\"One second looks like: {:?}\", _one_second);\n",
        "    // 试一试 ^ 取消此行注释\n",
        "\n",
        "    // 报错：`Seconds`不能比较；它没有实现 `PartialEq` trait\n",
        "    //let _this_is_true = (_one_second == _one_second);\n",
        "    // 试一试 ^ 取消此行注释\n",
        "\n",
        "    let foot = Inches(12);\n",
        "\n",
        "    println!(\"One foot equals {:?}\", foot);\n",
        "\n",
        "    let meter = Centimeters(100.0);\n",
        "\n",
        "    let cmp =\n",
        "        if foot.to_centimeters() < meter {\n",
        "            \"smaller\"\n",
        "        } else {\n",
        "            \"bigger\"\n",
        "        };\n",
        "\n",
        "    println!(\"One foot is {} than one meter.\", cmp);\n",
        "}\n",
        "main();\n"
      ]
    },
    {
      "cell_type": "markdown",
      "metadata": {},
      "source": [
        "\n",
        "### 参见\n",
        "\n",
        "[`derive`][derive]\n",
        "\n",
        "[attribute]: ../attribute.md\n",
        "[eq]: https://rustwiki.org/zh-CN/std/cmp/trait.Eq.html\n",
        "[partial-eq]: https://rustwiki.org/zh-CN/std/cmp/trait.PartialEq.html\n",
        "[ord]: https://rustwiki.org/zh-CN/std/cmp/trait.Ord.html\n",
        "[partial-ord]: https://rustwiki.org/zh-CN/std/cmp/trait.PartialOrd.html\n",
        "[clone]: https://rustwiki.org/zh-CN/std/clone/trait.Clone.html\n",
        "[copy]: https://rustwiki.org/zh-CN/core/marker/trait.Copy.html\n",
        "[hash]: https://rustwiki.org/zh-CN/std/hash/trait.Hash.html\n",
        "[default]: https://rustwiki.org/zh-CN/std/default/trait.Default.html\n",
        "[debug]: https://rustwiki.org/zh-CN/std/fmt/trait.Debug.html\n",
        "[derive]: https://rustwiki.org/zh-CN/reference/attributes.html#派生\n",
        "\n"
      ]
    }
  ],
  "metadata": {
    "kernelspec": {
      "display_name": "Rust",
      "language": "rust",
      "name": "rust"
    },
    "language_info": {
      "codemirror_mode": "rust",
      "file_extension": ".rs",
      "mimetype": "text/rust",
      "name": "Rust",
      "pygment_lexer": "rust",
      "version": ""
    }
  },
  "nbformat": 4,
  "nbformat_minor": 5
}