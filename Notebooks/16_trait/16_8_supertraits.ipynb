{
  "cells": [
    {
      "cell_type": "markdown",
      "metadata": {},
      "source": [
        "# 父 trait\n",
        "\n",
        "Rust 没有“继承”，但是您可以将一个 trait 定义为另一个 trait 的超集（即父 trait）。例如：\n",
        "\n"
      ]
    },
    {
      "cell_type": "code",
      "execution_count": null,
      "metadata": {
        "vscode": {
          "languageId": "rust"
        }
      },
      "outputs": [],
      "source": [
        "trait Person {\n",
        "    fn name(&self) -> String;\n",
        "}\n",
        "\n",
        "// Person 是 Student 的父 trait。\n",
        "// 实现 Student 需要你也 impl 了 Person。\n",
        "trait Student: Person {\n",
        "    fn university(&self) -> String;\n",
        "}\n",
        "\n",
        "trait Programmer {\n",
        "    fn fav_language(&self) -> String;\n",
        "}\n",
        "\n",
        "// CompSciStudent (computer science student，计算机科学的学生) 是 Programmer 和 Student 两者的子类。\n",
        "// 实现 CompSciStudent 需要你同时 impl 了两个父 trait。\n",
        "trait CompSciStudent: Programmer + Student {\n",
        "    fn git_username(&self) -> String;\n",
        "}\n",
        "\n",
        "fn comp_sci_student_greeting(student: &dyn CompSciStudent) -> String {\n",
        "    format!(\n",
        "        \"My name is {} and I attend {}. My favorite language is {}. My Git username is {}\",\n",
        "        student.name(),\n",
        "        student.university(),\n",
        "        student.fav_language(),\n",
        "        student.git_username()\n",
        "    )\n",
        "}\n",
        "\n",
        "fn main() {}\n",
        "main();\n"
      ]
    },
    {
      "cell_type": "markdown",
      "metadata": {},
      "source": [
        "\n",
        "### 参见：\n",
        "\n",
        "[《Rust 程序设计语言》的“父级 trait”章节][trpl_supertraits]\n",
        "\n",
        "[trpl_supertraits]: https://rustwiki.org/zh-CN/book/ch19-03-advanced-traits.html#父-trait-用于在另一个-trait-中使用某-trait-的功能\n",
        "\n"
      ]
    }
  ],
  "metadata": {
    "kernelspec": {
      "display_name": "Rust",
      "language": "rust",
      "name": "rust"
    },
    "language_info": {
      "codemirror_mode": "rust",
      "file_extension": ".rs",
      "mimetype": "text/rust",
      "name": "Rust",
      "pygment_lexer": "rust",
      "version": ""
    }
  },
  "nbformat": 4,
  "nbformat_minor": 5
}