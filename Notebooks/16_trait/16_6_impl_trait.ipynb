{
  "cells": [
    {
      "cell_type": "markdown",
      "metadata": {},
      "source": [
        "# `impl Trait`\n",
        "\n",
        "如果函数返回实现了 `MyTrait` 的类型，可以将其返回类型编写为 `-> impl MyTrait`。这可以大大简化你的类型签名！\n",
        "\n"
      ]
    },
    {
      "cell_type": "code",
      "execution_count": null,
      "metadata": {
        "vscode": {
          "languageId": "rust"
        }
      },
      "outputs": [],
      "source": [
        "use std::iter;\n",
        "use std::vec::IntoIter;\n",
        "\n",
        "// 该函数组合了两个 `Vec <i32>` 并在其上返回一个迭代器。\n",
        "// 看看它的返回类型多么复杂！\n",
        "fn combine_vecs_explicit_return_type(\n",
        "    v: Vec<i32>,\n",
        "    u: Vec<i32>,\n",
        ") -> iter::Cycle<iter::Chain<IntoIter<i32>, IntoIter<i32>>> {\n",
        "    v.into_iter().chain(u.into_iter()).cycle()\n",
        "}\n",
        "\n",
        "// 这是完全相同的函数，但其返回类型使用 `impl Trait`。\n",
        "// 看看它多么简单！\n",
        "fn combine_vecs(\n",
        "    v: Vec<i32>,\n",
        "    u: Vec<i32>,\n",
        ") -> impl Iterator<Item=i32> {\n",
        "    v.into_iter().chain(u.into_iter()).cycle()\n",
        "}\n",
        "\n",
        "fn main() {\n",
        "    let v1 = vec![1, 2, 3];\n",
        "    let v2 = vec![4, 5];\n",
        "    let mut v3 = combine_vecs(v1, v2);\n",
        "    assert_eq!(Some(1), v3.next());\n",
        "    assert_eq!(Some(2), v3.next());\n",
        "    assert_eq!(Some(3), v3.next());\n",
        "    assert_eq!(Some(4), v3.next());\n",
        "    assert_eq!(Some(5), v3.next());\n",
        "    println!(\"all done\");\n",
        "}\n",
        "main();\n"
      ]
    },
    {
      "cell_type": "markdown",
      "metadata": {},
      "source": [
        "\n",
        "更重要的是，某些 Rust 类型无法写出。例如，每个闭包都有自己未命名的具体类型。在使用 `impl Trait` 语法之前，必须在堆上进行分配才能返回闭包。但是现在你可以像下面这样静态地完成所有操作：\n",
        "\n"
      ]
    },
    {
      "cell_type": "code",
      "execution_count": null,
      "metadata": {
        "vscode": {
          "languageId": "rust"
        }
      },
      "outputs": [],
      "source": [
        "// 返回一个将输入和 `y` 相加的函数\n",
        "fn make_adder_function(y: i32) -> impl Fn(i32) -> i32 {\n",
        "    let closure = move |x: i32| { x + y };\n",
        "    closure\n",
        "}\n",
        "\n",
        "fn main() {\n",
        "    let plus_one = make_adder_function(1);\n",
        "    assert_eq!(plus_one(2), 3);\n",
        "}\n",
        "main();\n"
      ]
    },
    {
      "cell_type": "markdown",
      "metadata": {},
      "source": [
        "\n",
        "您还可以使用 `impl Trait` 返回使用 `map` 或 `filter` 闭包的迭代器！这使得使用 `map` 和 `filter` 更容易。因为闭包类型没有名称，所以如果函数返回带闭包的迭代器，则无法写出显式的返回类型。但是有了 `impl Trait`，你就可以轻松地做到这一点：\n",
        "\n"
      ]
    }
  ],
  "metadata": {
    "kernelspec": {
      "display_name": "Rust",
      "language": "rust",
      "name": "rust"
    },
    "language_info": {
      "codemirror_mode": "rust",
      "file_extension": ".rs",
      "mimetype": "text/rust",
      "name": "Rust",
      "pygment_lexer": "rust",
      "version": ""
    }
  },
  "nbformat": 4,
  "nbformat_minor": 5
}