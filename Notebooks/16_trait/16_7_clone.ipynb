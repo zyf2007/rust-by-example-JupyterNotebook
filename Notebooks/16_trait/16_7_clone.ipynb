{
  "cells": [
    {
      "cell_type": "markdown",
      "metadata": {},
      "source": [
        "# Clone\n",
        "\n",
        "当处理资源时，默认的行为是在赋值或函数调用的同时将它们转移。但是我们有时候也需要把资源复制一份。\n",
        "\n",
        "[`Clone`][clone] trait 正好帮助我们完成这任务。通常，我们可以使用由 `Clone`\n",
        "trait 定义的 `.clone()` 方法。\n",
        "\n"
      ]
    },
    {
      "cell_type": "code",
      "execution_count": null,
      "metadata": {
        "vscode": {
          "languageId": "rust"
        }
      },
      "outputs": [],
      "source": [
        "// 不含资源的单元结构体\n",
        "#[derive(Debug, Clone, Copy)]\n",
        "struct Nil;\n",
        "\n",
        "// 一个包含资源的结构体，它实现了 `Clone` trait\n",
        "#[derive(Clone, Debug)]\n",
        "struct Pair(Box<i32>, Box<i32>);\n",
        "\n",
        "fn main() {\n",
        "    // 实例化 `Nil`\n",
        "    let nil = Nil;\n",
        "    // 复制 `Nil`，没有资源用于移动（move）\n",
        "    let copied_nil = nil;\n",
        "\n",
        "    // 两个 `Nil` 都可以独立使用\n",
        "    println!(\"original: {:?}\", nil);\n",
        "    println!(\"copy: {:?}\", copied_nil);\n",
        "\n",
        "    // 实例化 `Pair`\n",
        "    let pair = Pair(Box::new(1), Box::new(2));\n",
        "    println!(\"original: {:?}\", pair);\n",
        "\n",
        "    // 将 `pair` 绑定到 `moved_pair`，移动（move）了资源\n",
        "    let moved_pair = pair;\n",
        "    println!(\"copy: {:?}\", moved_pair);\n",
        "\n",
        "    // 报错！`pair` 已失去了它的资源。\n",
        "    //println!(\"original: {:?}\", pair);\n",
        "    // 试一试 ^ 取消此行注释。\n",
        "\n",
        "    // 将 `moved_pair`（包括其资源）克隆到 `cloned_pair`。\n",
        "    let cloned_pair = moved_pair.clone();\n",
        "    // 使用 std::mem::drop 来销毁原始的 pair。\n",
        "    drop(moved_pair);\n",
        "\n",
        "    // 报错！`moved_pair` 已被销毁。\n",
        "    //println!(\"copy: {:?}\", moved_pair);\n",
        "    // 试一试 ^ 将此行注释掉。\n",
        "\n",
        "    // 由 .clone() 得来的结果仍然可用！\n",
        "    println!(\"clone: {:?}\", cloned_pair);\n",
        "}\n",
        "main();\n"
      ]
    },
    {
      "cell_type": "markdown",
      "metadata": {},
      "source": [
        "\n",
        "[clone]: https://rustwiki.org/zh-CN/std/clone/trait.Clone.html\n",
        "\n"
      ]
    }
  ],
  "metadata": {
    "kernelspec": {
      "display_name": "Rust",
      "language": "rust",
      "name": "rust"
    },
    "language_info": {
      "codemirror_mode": "rust",
      "file_extension": ".rs",
      "mimetype": "text/rust",
      "name": "Rust",
      "pygment_lexer": "rust",
      "version": ""
    }
  },
  "nbformat": 4,
  "nbformat_minor": 5
}