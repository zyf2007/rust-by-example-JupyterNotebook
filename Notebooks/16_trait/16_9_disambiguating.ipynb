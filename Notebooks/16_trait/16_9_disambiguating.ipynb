{
  "cells": [
    {
      "cell_type": "markdown",
      "metadata": {},
      "source": [
        "# 消除重叠 trait\n",
        "\n",
        "一个类型可以实现许多不同的 trait。如果两个 trait 都需要相同的名称怎么办？例如，许多 trait 可能拥有名为 `get()` 的方法。他们甚至可能有不同的返回类型！\n",
        "\n",
        "有个好消息：由于每个 trait 实现都有自己的 `impl` 块，因此很清楚您要实现哪个 trait 的 `get` 方法。\n",
        "\n",
        "何时需要**调用**这些方法呢？为了消除它们之间的歧义，我们必须使用完全限定语法（Fully Qualified Syntax）。\n",
        "\n"
      ]
    },
    {
      "cell_type": "code",
      "execution_count": null,
      "metadata": {
        "vscode": {
          "languageId": "rust"
        }
      },
      "outputs": [],
      "source": [
        "trait UsernameWidget {\n",
        "    // 从这个 widget 中获取选定的用户名\n",
        "    fn get(&self) -> String;\n",
        "}\n",
        "\n",
        "trait AgeWidget {\n",
        "    // 从这个 widget 中获取选定的年龄\n",
        "    fn get(&self) -> u8;\n",
        "}\n",
        "\n",
        "// 同时具有 UsernameWidget 和 AgeWidget 的表单\n",
        "struct Form {\n",
        "    username: String,\n",
        "    age: u8,\n",
        "}\n",
        "\n",
        "impl UsernameWidget for Form {\n",
        "    fn get(&self) -> String {\n",
        "        self.username.clone()\n",
        "    }\n",
        "}\n",
        "\n",
        "impl AgeWidget for Form {\n",
        "    fn get(&self) -> u8 {\n",
        "        self.age\n",
        "    }\n",
        "}\n",
        "\n",
        "fn main() {\n",
        "    let form = Form{\n",
        "        username: \"rustacean\".to_owned(),\n",
        "        age: 28,\n",
        "    };\n",
        "\n",
        "    // 如果取消注释此行，则会收到一条错误消息，提示 “multiple `get` found”（找到了多个`get`）。\n",
        "    // 因为毕竟有多个名为 `get` 的方法。\n",
        "    // println!(\"{}\", form.get());\n",
        "\n",
        "    let username = <Form as UsernameWidget>::get(&form);\n",
        "    assert_eq!(\"rustacean\".to_owned(), username);\n",
        "    let age = <Form as AgeWidget>::get(&form);\n",
        "    assert_eq!(28, age);\n",
        "}\n",
        "main();\n"
      ]
    },
    {
      "cell_type": "markdown",
      "metadata": {},
      "source": [
        "\n",
        "### 参见：\n",
        "\n",
        "[《Rust 程序设计语言》中关于“完全限定语法”的章节][trpl_fqsyntax]\n",
        "\n",
        "[trpl_fqsyntax]: https://rustwiki.org/zh-CN/book/ch19-03-advanced-traits.html#完全限定语法与消歧义调用相同名称的方法\n",
        "\n"
      ]
    }
  ],
  "metadata": {
    "kernelspec": {
      "display_name": "Rust",
      "language": "rust",
      "name": "rust"
    },
    "language_info": {
      "codemirror_mode": "rust",
      "file_extension": ".rs",
      "mimetype": "text/rust",
      "name": "Rust",
      "pygment_lexer": "rust",
      "version": ""
    }
  },
  "nbformat": 4,
  "nbformat_minor": 5
}