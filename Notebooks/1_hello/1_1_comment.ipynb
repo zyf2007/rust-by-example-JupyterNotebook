{
  "cells": [
    {
      "cell_type": "markdown",
      "metadata": {},
      "source": [
        "# 注释\n",
        "\n",
        "注释对任何程序都不可缺少，同样 Rust 支持几种不同的注释方式。\n",
        "\n",
        "- **普通注释**，其内容将被编译器忽略掉：\n",
        "  - `// 单行注释，注释内容直到行尾。`\n",
        "  - `/* 块注释，注释内容一直到结束分隔符。 */`\n",
        "- **文档注释**，其内容将被解析成 HTML 帮助[文档][docs]：\n",
        "  - `/// 为接下来的项生成帮助文档。`\n",
        "  - `//! 为注释所属于的项（译注：如 crate、模块或函数）生成帮助文档。`\n",
        "\n"
      ]
    },
    {
      "cell_type": "code",
      "execution_count": null,
      "metadata": {
        "vscode": {
          "languageId": "rust"
        }
      },
      "outputs": [],
      "source": [
        "fn main() {\n",
        "    // 这是行注释的例子\n",
        "    // 注意有两个斜线在本行的开头\n",
        "    // 在这里面的所有内容都不会被编译器读取\n",
        "\n",
        "    // println!(\"Hello, world!\");\n",
        "\n",
        "    // 请运行一下，你看到结果了吗？现在请将上述语句的两条斜线删掉，并重新运行。\n",
        "\n",
        "    /*\n",
        "     * 这是另外一种注释——块注释。一般而言，行注释是推荐的注释格式，\n",
        "     * 不过块注释在临时注释大块代码特别有用。/* 块注释可以 /* 嵌套, */ */\n",
        "     * 所以只需很少按键就可注释掉这些 main() 函数中的行。/*/*/* 自己试试！*/*/*/\n",
        "     */\n",
        "\n",
        "    /*\n",
        "    注意，上面的例子中纵向都有 `*`，这只是一种风格，实际上这并不是必须的。\n",
        "    */\n",
        "\n",
        "    // 观察块注释是如何简单地对表达式进行修改的，行注释则不能这样。\n",
        "    // 删除注释分隔符将会改变结果。\n",
        "    let x = 5 + /* 90 + */ 5;\n",
        "    println!(\"Is `x` 10 or 100? x = {}\", x);\n",
        "}\n",
        "main();\n"
      ]
    },
    {
      "cell_type": "markdown",
      "metadata": {},
      "source": [
        "\n",
        "### 参见:\n",
        "\n",
        "[文档注释][docs]\n",
        "\n",
        "[docs]: ../meta/doc.md\n",
        "\n"
      ]
    }
  ],
  "metadata": {
    "kernelspec": {
      "display_name": "Rust",
      "language": "rust",
      "name": "rust"
    },
    "language_info": {
      "codemirror_mode": "rust",
      "file_extension": ".rs",
      "mimetype": "text/rust",
      "name": "Rust",
      "pygment_lexer": "rust",
      "version": ""
    }
  },
  "nbformat": 4,
  "nbformat_minor": 5
}