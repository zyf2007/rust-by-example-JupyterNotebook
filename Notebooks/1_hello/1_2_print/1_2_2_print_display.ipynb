{
  "cells": [
    {
      "cell_type": "markdown",
      "metadata": {},
      "source": [
        "# 显示（Display）\n",
        "\n",
        "`fmt::Debug` 通常看起来不太简洁，因此自定义输出的外观经常是更可取的。这需要通过手动实现 [`fmt::Display`][fmt] 来做到。`fmt::Display` 采用 `{}` 标记。实现方式看起来像这样：\n",
        "\n"
      ]
    },
    {
      "cell_type": "code",
      "execution_count": null,
      "metadata": {
        "vscode": {
          "languageId": "rust"
        }
      },
      "outputs": [],
      "source": [
        "// （使用 `use`）导入 `fmt` 模块使 `fmt::Display` 可用\n",
        "use std::fmt;\n",
        "\n",
        "// 定义一个结构体，咱们会为它实现 `fmt::Display`。以下是个简单的元组结构体\n",
        "// `Structure`，包含一个 `i32` 元素。\n",
        "struct Structure(i32);\n",
        "\n",
        "// 为了使用 `{}` 标记，必须手动为类型实现 `fmt::Display` trait。\n",
        "impl fmt::Display for Structure {\n",
        "    // 这个 trait 要求 `fmt` 使用与下面的函数完全一致的函数签名\n",
        "    fn fmt(&self, f: &mut fmt::Formatter) -> fmt::Result {\n",
        "        // 仅将 self 的第一个元素写入到给定的输出流 `f`。返回 `fmt:Result`，此\n",
        "        // 结果表明操作成功或失败。注意 `write!` 的用法和 `println!` 很相似。\n",
        "        write!(f, \"{}\", self.0)\n",
        "    }\n",
        "}\n"
      ]
    },
    {
      "cell_type": "markdown",
      "metadata": {},
      "source": [
        "\n",
        "`fmt::Display` 的效果可能比 `fmt::Debug` 简洁，但对于 `std` 库来说，这就有一个问题。模棱两可的类型该如何显示呢？举个例子，假设标准库对所有的 `Vec<T>` 都实现了同一种输出样式，那么它应该是哪种样式？下面两种中的一种吗？\n",
        "\n",
        "* `Vec<path>`：`/:/etc:/home/username:/bin`（使用 `:` 分割）\n",
        "* `Vec<number>`：`1,2,3`（使用 `,` 分割）\n",
        "\n",
        "我们没有这样做，因为没有一种合适的样式适用于所有类型，标准库也并不擅自规定一种样式。对于 `Vec<T>` 或其他任意泛型容器（generic container），`fmt::Display` 都没有实现。因此在这些泛型的情况下要用 `fmt::Debug`。\n",
        "\n",
        "这并不是一个问题，因为对于任何**非**泛型的**容器**类型， `fmt::Display` 都能够实现。\n",
        "\n"
      ]
    },
    {
      "cell_type": "code",
      "execution_count": null,
      "metadata": {
        "vscode": {
          "languageId": "rust"
        }
      },
      "outputs": [],
      "source": [
        "use std::fmt; // 导入 `fmt`\n",
        "\n",
        "// 带有两个数字的结构体。推导出 `Debug`，以便与 `Display` 的输出进行比较。\n",
        "#[derive(Debug)]\n",
        "struct MinMax(i64, i64);\n",
        "\n",
        "// 实现 `MinMax` 的 `Display`。\n",
        "impl fmt::Display for MinMax {\n",
        "    fn fmt(&self, f: &mut fmt::Formatter) -> fmt::Result {\n",
        "        // 使用 `self.number` 来表示各个数据。\n",
        "        write!(f, \"({}, {})\", self.0, self.1)\n",
        "    }\n",
        "}\n",
        "\n",
        "// 为了比较，定义一个含有具名字段的结构体。\n",
        "#[derive(Debug)]\n",
        "struct Point2D {\n",
        "    x: f64,\n",
        "    y: f64,\n",
        "}\n",
        "\n",
        "// 类似地对 `Point2D` 实现 `Display`\n",
        "impl fmt::Display for Point2D {\n",
        "    fn fmt(&self, f: &mut fmt::Formatter) -> fmt::Result {\n",
        "        // 自定义格式，使得仅显示 `x` 和 `y` 的值。\n",
        "        write!(f, \"x: {}, y: {}\", self.x, self.y)\n",
        "    }\n",
        "}\n",
        "\n",
        "fn main() {\n",
        "    let minmax = MinMax(0, 14);\n",
        "\n",
        "    println!(\"Compare structures:\");\n",
        "    println!(\"Display: {}\", minmax);\n",
        "    println!(\"Debug: {:?}\", minmax);\n",
        "\n",
        "    let big_range =   MinMax(-300, 300);\n",
        "    let small_range = MinMax(-3, 3);\n",
        "\n",
        "    println!(\"The big range is {big} and the small is {small}\",\n",
        "             small = small_range,\n",
        "             big = big_range);\n",
        "\n",
        "    let point = Point2D { x: 3.3, y: 7.2 };\n",
        "\n",
        "    println!(\"Compare points:\");\n",
        "    println!(\"Display: {}\", point);\n",
        "    println!(\"Debug: {:?}\", point);\n",
        "\n",
        "    // 报错。`Debug` 和 `Display` 都被实现了，但 `{:b}` 需要 `fmt::Binary`\n",
        "    // 得到实现。这语句不能运行。\n",
        "    // println!(\"What does Point2D look like in binary: {:b}?\", point);\n",
        "}\n",
        "main();\n"
      ]
    },
    {
      "cell_type": "markdown",
      "metadata": {},
      "source": [
        "\n",
        "`fmt::Display` 被实现了，而 `fmt::Binary` 没有，因此 `fmt::Binary` 不能使用。\n",
        "`std::fmt` 有很多这样的 [`trait`][traits]，它们都要求有各自的实现。这些内容将在后面的 [`std::fmt`][fmt] 章节中详细介绍。\n",
        "\n",
        "### 动手试一试\n",
        "\n",
        "检验上面例子的输出，然后在示例程序中，仿照 `Point2D` 结构体增加一个名为 `Complex` 的结构体。\n",
        "使用一样的方式打印，输出结果要求是这个样子：\n",
        "\n"
      ]
    },
    {
      "cell_type": "code",
      "execution_count": null,
      "metadata": {
        "vscode": {
          "languageId": "txt"
        }
      },
      "outputs": [],
      "source": [
        "Display: 3.3 + 7.2i\n",
        "Debug: Complex { real: 3.3, imag: 7.2 }\n"
      ]
    },
    {
      "cell_type": "markdown",
      "metadata": {},
      "source": [
        "\n",
        "### 参见：\n",
        "\n",
        "[`derive`][derive], [`std::fmt`][fmt], [macros], [`struct`][structs],\n",
        "[`trait`][traits], 和 [use][use]\n",
        "\n",
        "[derive]: ../../trait/derive.md\n",
        "[fmt]: https://rustwiki.org/zh-CN/std/fmt/\n",
        "[macros]: ../../macros.md\n",
        "[structs]: ../../custom_types/structs.md\n",
        "[traits]: ../../trait.md\n",
        "[use]: ../../mod/use.md\n",
        "\n"
      ]
    }
  ],
  "metadata": {
    "kernelspec": {
      "display_name": "Rust",
      "language": "rust",
      "name": "rust"
    },
    "language_info": {
      "codemirror_mode": "rust",
      "file_extension": ".rs",
      "mimetype": "text/rust",
      "name": "Rust",
      "pygment_lexer": "rust",
      "version": ""
    }
  },
  "nbformat": 4,
  "nbformat_minor": 5
}