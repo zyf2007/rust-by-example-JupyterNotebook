{
  "cells": [
    {
      "cell_type": "markdown",
      "metadata": {},
      "source": [
        "# 遍历 `Result`\n",
        "\n",
        "`Iter::map` 操作可能失败，比如：\n",
        "\n"
      ]
    },
    {
      "cell_type": "code",
      "execution_count": null,
      "metadata": {
        "vscode": {
          "languageId": "rust"
        }
      },
      "outputs": [],
      "source": [
        "fn main() {\n",
        "    let strings = vec![\"tofu\", \"93\", \"18\"];\n",
        "    let numbers: Vec<_> = strings\n",
        "        .into_iter()\n",
        "        .map(|s| s.parse::<i32>())\n",
        "        .collect();\n",
        "    println!(\"Results: {:?}\", numbers);\n",
        "}\n",
        "main();\n"
      ]
    },
    {
      "cell_type": "markdown",
      "metadata": {},
      "source": [
        "\n",
        "我们来看一些处理这种问题的策略：\n",
        "\n",
        "## 使用 `filter_map()` 忽略失败的项\n",
        "\n",
        "`filter_map` 会调用一个函数，过滤掉为 `None` 的所有结果。\n",
        "\n"
      ]
    },
    {
      "cell_type": "code",
      "execution_count": null,
      "metadata": {
        "vscode": {
          "languageId": "rust"
        }
      },
      "outputs": [],
      "source": [
        "fn main() {\n",
        "    let strings = vec![\"tofu\", \"93\", \"18\"];\n",
        "    let numbers: Vec<_> = strings\n",
        "        .into_iter()\n",
        "        .filter_map(|s| s.parse::<i32>().ok())\n",
        "        .collect();\n",
        "    println!(\"Results: {:?}\", numbers);\n",
        "}\n",
        "main();\n"
      ]
    },
    {
      "cell_type": "markdown",
      "metadata": {},
      "source": [
        "\n",
        "## 使用 `collect()` 使整个操作失败\n",
        "\n",
        "`Result` 实现了 `FromIter`，因此结果的向量（`Vec<Result<T, E>>`）可以被转换成结果包裹着向量（`Result<Vec<T>, E>`）。一旦找到一个 `Result::Err` ，遍历就被终止。\n",
        "\n"
      ]
    },
    {
      "cell_type": "code",
      "execution_count": null,
      "metadata": {
        "vscode": {
          "languageId": "rust"
        }
      },
      "outputs": [],
      "source": [
        "fn main() {\n",
        "    let strings = vec![\"tofu\", \"93\", \"18\"];\n",
        "    let numbers: Result<Vec<_>, _> = strings\n",
        "        .into_iter()\n",
        "        .map(|s| s.parse::<i32>())\n",
        "        .collect();\n",
        "    println!(\"Results: {:?}\", numbers);\n",
        "}\n",
        "main();\n"
      ]
    },
    {
      "cell_type": "markdown",
      "metadata": {},
      "source": [
        "\n",
        "同样的技巧可以对 `Option` 使用。\n",
        "\n",
        "## 使用 `Partition()` 收集所有合法的值与错误\n",
        "\n"
      ]
    },
    {
      "cell_type": "code",
      "execution_count": null,
      "metadata": {
        "vscode": {
          "languageId": "rust"
        }
      },
      "outputs": [],
      "source": [
        "fn main() {\n",
        "    let strings = vec![\"tofu\", \"93\", \"18\"];\n",
        "    let (numbers, errors): (Vec<_>, Vec<_>) = strings\n",
        "        .into_iter()\n",
        "        .map(|s| s.parse::<i32>())\n",
        "        .partition(Result::is_ok);\n",
        "    println!(\"Numbers: {:?}\", numbers);\n",
        "    println!(\"Errors: {:?}\", errors);\n",
        "}\n",
        "main();\n"
      ]
    },
    {
      "cell_type": "markdown",
      "metadata": {},
      "source": [
        "\n",
        "当你看着这些结果时，你会发现所有东西还在 `Result` 中保存着。要取出它们，需要一些模板化的代码。\n",
        "\n"
      ]
    },
    {
      "cell_type": "code",
      "execution_count": null,
      "metadata": {
        "vscode": {
          "languageId": "rust"
        }
      },
      "outputs": [],
      "source": [
        "fn main() {\n",
        "    let strings = vec![\"tofu\", \"93\", \"18\"];\n",
        "    let (numbers, errors): (Vec<_>, Vec<_>) = strings\n",
        "        .into_iter()\n",
        "        .map(|s| s.parse::<i32>())\n",
        "        .partition(Result::is_ok);\n",
        "    let numbers: Vec<_> = numbers.into_iter().map(Result::unwrap).collect();\n",
        "    let errors: Vec<_> = errors.into_iter().map(Result::unwrap_err).collect();\n",
        "    println!(\"Numbers: {:?}\", numbers);\n",
        "    println!(\"Errors: {:?}\", errors);\n",
        "}\n",
        "main();\n"
      ]
    },
    {
      "cell_type": "markdown",
      "metadata": {},
      "source": [
        "\n"
      ]
    }
  ],
  "metadata": {
    "kernelspec": {
      "display_name": "Rust",
      "language": "rust",
      "name": "rust"
    },
    "language_info": {
      "codemirror_mode": "rust",
      "file_extension": ".rs",
      "mimetype": "text/rust",
      "name": "Rust",
      "pygment_lexer": "rust",
      "version": ""
    }
  },
  "nbformat": 4,
  "nbformat_minor": 5
}