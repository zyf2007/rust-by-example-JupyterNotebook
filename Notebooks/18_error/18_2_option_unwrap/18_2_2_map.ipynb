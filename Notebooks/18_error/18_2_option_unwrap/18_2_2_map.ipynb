{
  "cells": [
    {
      "cell_type": "markdown",
      "metadata": {},
      "source": [
        "# 组合算子：`map`\n",
        "\n",
        "`match` 是处理 `Option` 的一个可用的方法，但你会发现大量使用它会很繁琐，特别是当操作只对一种输入是有效的时。这时，可以使用[组合算子][combinators]（combinator），以模块化的风格来管理控制流。\n",
        "\n",
        "`Option` 有一个内置方法 `map()`，这个组合算子可用于 `Some -> Some` 和\n",
        "`None -> None` 这样的简单映射。多个不同的 `map()` 调用可以串起来，这样更加灵活。\n",
        "\n",
        "在下面例子中，`process()` 轻松取代了前面的所有函数，且更加紧凑。\n",
        "\n"
      ]
    },
    {
      "cell_type": "code",
      "execution_count": null,
      "metadata": {
        "vscode": {
          "languageId": "rust"
        }
      },
      "outputs": [],
      "source": [
        "#![allow(dead_code)]\n",
        "\n",
        "#[derive(Debug)] enum Food { Apple, Carrot, Potato }\n",
        "\n",
        "#[derive(Debug)] struct Peeled(Food);\n",
        "#[derive(Debug)] struct Chopped(Food);\n",
        "#[derive(Debug)] struct Cooked(Food);\n",
        "\n",
        "// 削皮。如果没有食物，就返回 `None`。否则返回削好皮的食物。\n",
        "fn peel(food: Option<Food>) -> Option<Peeled> {\n",
        "    match food {\n",
        "        Some(food) => Some(Peeled(food)),\n",
        "        None       => None,\n",
        "    }\n",
        "}\n",
        "\n",
        "// 切食物。如果没有食物，就返回 `None`。否则返回切好的食物。\n",
        "fn chop(peeled: Option<Peeled>) -> Option<Chopped> {\n",
        "    match peeled {\n",
        "        Some(Peeled(food)) => Some(Chopped(food)),\n",
        "        None               => None,\n",
        "    }\n",
        "}\n",
        "\n",
        "// 烹饪食物。这里，我们使用 `map()` 来替代 `match` 以处理各种情况。\n",
        "fn cook(chopped: Option<Chopped>) -> Option<Cooked> {\n",
        "    chopped.map(|Chopped(food)| Cooked(food))\n",
        "}\n",
        "\n",
        "// 这个函数会完成削皮切块烹饪一条龙。我们把 `map()` 串起来，以简化代码。\n",
        "fn process(food: Option<Food>) -> Option<Cooked> {\n",
        "    food.map(|f| Peeled(f))\n",
        "        .map(|Peeled(f)| Chopped(f))\n",
        "        .map(|Chopped(f)| Cooked(f))\n",
        "}\n",
        "\n",
        "// 在尝试吃食物之前确认食物是否存在是非常重要的！\n",
        "fn eat(food: Option<Cooked>) {\n",
        "    match food {\n",
        "        Some(food) => println!(\"Mmm. I love {:?}\", food),\n",
        "        None       => println!(\"Oh no! It wasn't edible.\"),\n",
        "    }\n",
        "}\n",
        "\n",
        "fn main() {\n",
        "    let apple = Some(Food::Apple);\n",
        "    let carrot = Some(Food::Carrot);\n",
        "    let potato = None;\n",
        "\n",
        "    let cooked_apple = cook(chop(peel(apple)));\n",
        "    let cooked_carrot = cook(chop(peel(carrot)));\n",
        "\n",
        "    // 现在让我们试试看起来更简单的 `process()`。\n",
        "    let cooked_potato = process(potato);\n",
        "\n",
        "    eat(cooked_apple);\n",
        "    eat(cooked_carrot);\n",
        "    eat(cooked_potato);\n",
        "}\n",
        "main();\n"
      ]
    },
    {
      "cell_type": "markdown",
      "metadata": {},
      "source": [
        "\n",
        "### 参见：\n",
        "\n",
        "[闭包][closures], [`Option`][option], 和 [`Option::map()`][map]\n",
        "\n",
        "[combinators]: https://rustwiki.org/zh-CN/reference/glossary.html#组合算子\n",
        "[closures]: ../../fn/closures.md\n",
        "[option]: https://rustwiki.org/zh-CN/std/option/enum.Option.html\n",
        "[map]: https://rustwiki.org/zh-CN/std/option/enum.Option.html#method.map\n",
        "\n"
      ]
    }
  ],
  "metadata": {
    "kernelspec": {
      "display_name": "Rust",
      "language": "rust",
      "name": "rust"
    },
    "language_info": {
      "codemirror_mode": "rust",
      "file_extension": ".rs",
      "mimetype": "text/rust",
      "name": "Rust",
      "pygment_lexer": "rust",
      "version": ""
    }
  },
  "nbformat": 4,
  "nbformat_minor": 5
}