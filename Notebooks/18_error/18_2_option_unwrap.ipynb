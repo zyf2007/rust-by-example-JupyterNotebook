{
  "cells": [
    {
      "cell_type": "markdown",
      "metadata": {},
      "source": [
        "# `Option` 和 `unwrap`\n",
        "\n",
        "上个例子展示了如何主动地引入程序失败（program failure）。当公主收到蛇这件不合适的礼物时，我们就让程序 `panic`。但是，如果公主期待收到礼物，却没收到呢？这同样是一件糟糕的事情，所以我们要想办法来解决这个问题！\n",
        "\n",
        "我们**可以**检查空字符串（`\"\"`），就像处理蛇那样。但既然我们在用 Rust，不如让编译器辨别没有礼物的情况。\n",
        "\n",
        "在标准库（`std`）中有个叫做 `Option<T>`（option 中文意思是 “选项”）的枚举类型，用于有 “不存在” 的可能性的情况。它表现为以下两个 “option”（选项）中的一个：\n",
        "\n",
        "* `Some(T)`：找到一个属于 `T` 类型的元素\n",
        "* `None`：找不到相应元素\n",
        "\n",
        "这些选项可以通过 `match` 显式地处理，或使用 `unwrap` 隐式地处理。隐式处理要么返回 `Some` 内部的元素，要么就 `panic`。\n",
        "\n",
        "请注意，手动使用 [expect][expect] 方法自定义 `panic` 信息是可能的，但相比显式处理，`unwrap` 的输出仍显得不太有意义。在下面例子中，显式处理将举出更受控制的结果，同时如果需要的话，仍然可以使程序 `panic`。\n",
        "\n"
      ]
    },
    {
      "cell_type": "code",
      "execution_count": null,
      "metadata": {
        "vscode": {
          "languageId": "rust"
        }
      },
      "outputs": [],
      "source": [
        "// 平民（commoner）们见多识广，收到什么礼物都能应对。\n",
        "// 所有礼物都显式地使用 `match` 来处理。\n",
        "fn give_commoner(gift: Option<&str>) {\n",
        "    // 指出每种情况下的做法。\n",
        "    match gift {\n",
        "        Some(\"snake\") => println!(\"Yuck! I'm throwing that snake in a fire.\"),\n",
        "        Some(inner)   => println!(\"{}? How nice.\", inner),\n",
        "        None          => println!(\"No gift? Oh well.\"),\n",
        "    }\n",
        "}\n",
        "\n",
        "// 养在深闺人未识的公主见到蛇就会 `panic`（恐慌）。\n",
        "// 这里所有的礼物都使用 `unwrap` 隐式地处理。\n",
        "fn give_princess(gift: Option<&str>) {\n",
        "    // `unwrap` 在接收到 `None` 时将返回 `panic`。\n",
        "    let inside = gift.unwrap();\n",
        "    if inside == \"snake\" { panic!(\"AAAaaaaa!!!!\"); }\n",
        "\n",
        "    println!(\"I love {}s!!!!!\", inside);\n",
        "}\n",
        "\n",
        "fn main() {\n",
        "    let food  = Some(\"chicken\");\n",
        "    let snake = Some(\"snake\");\n",
        "    let void  = None;\n",
        "\n",
        "    give_commoner(food);\n",
        "    give_commoner(snake);\n",
        "    give_commoner(void);\n",
        "\n",
        "    let bird = Some(\"robin\");\n",
        "    let nothing = None;\n",
        "\n",
        "    give_princess(bird);\n",
        "    give_princess(nothing);\n",
        "}\n",
        "main();\n"
      ]
    },
    {
      "cell_type": "markdown",
      "metadata": {},
      "source": [
        "\n",
        "[expect]: https://rustwiki.org/zh-CN/std/option/enum.Option.html#method.expect\n",
        "\n"
      ]
    }
  ],
  "metadata": {
    "kernelspec": {
      "display_name": "Rust",
      "language": "rust",
      "name": "rust"
    },
    "language_info": {
      "codemirror_mode": "rust",
      "file_extension": ".rs",
      "mimetype": "text/rust",
      "name": "Rust",
      "pygment_lexer": "rust",
      "version": ""
    }
  },
  "nbformat": 4,
  "nbformat_minor": 5
}