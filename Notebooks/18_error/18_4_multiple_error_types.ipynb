{
  "cells": [
    {
      "cell_type": "markdown",
      "metadata": {},
      "source": [
        "# 处理多种错误类型\n",
        "\n",
        "前面出现的例子都是很方便的情况；都是 `Result` 和其他 `Result` 交互，还有 `Option`\n",
        "和其他 `Option` 交互。\n",
        "\n",
        "有时 `Option` 需要和 `Result` 进行交互，或是 `Result<T, Error1>` 需要和\n",
        "`Result<T, Error2>` 进行交互。在这类情况下，我们想要以一种方式来管理不同的错误类型，使得它们可组合且易于交互。\n",
        "\n",
        "在下面代码中，`unwrap` 的两个实例生成了不同的错误类型。`Vec::first` 返回一个\n",
        "`Option`，而 `parse::<i32>` 返回一个 `Result<i32, ParseIntError>`：\n",
        "\n"
      ]
    },
    {
      "cell_type": "code",
      "execution_count": null,
      "metadata": {
        "vscode": {
          "languageId": "rust"
        }
      },
      "outputs": [],
      "source": [
        "fn double_first(vec: Vec<&str>) -> i32 {\n",
        "    let first = vec.first().unwrap(); // 生成错误 1\n",
        "    2 * first.parse::<i32>().unwrap() // 生成错误 2\n",
        "}\n",
        "\n",
        "fn main() {\n",
        "    let numbers = vec![\"42\", \"93\", \"18\"];\n",
        "    let empty = vec![];\n",
        "    let strings = vec![\"tofu\", \"93\", \"18\"];\n",
        "    \n",
        "    println!(\"The first doubled is {}\", double_first(numbers));\n",
        "    \n",
        "    println!(\"The first doubled is {}\", double_first(empty));\n",
        "    // 错误1：输入 vector 为空\n",
        "    \n",
        "    println!(\"The first doubled is {}\", double_first(strings));\n",
        "    // 错误2：此元素不能解析成数字\n",
        "}\n",
        "main();\n"
      ]
    },
    {
      "cell_type": "markdown",
      "metadata": {},
      "source": [
        "\n",
        "在下面几节中，我们会看到处理这类问题的几种策略。\n",
        "\n"
      ]
    }
  ],
  "metadata": {
    "kernelspec": {
      "display_name": "Rust",
      "language": "rust",
      "name": "rust"
    },
    "language_info": {
      "codemirror_mode": "rust",
      "file_extension": ".rs",
      "mimetype": "text/rust",
      "name": "Rust",
      "pygment_lexer": "rust",
      "version": ""
    }
  },
  "nbformat": 4,
  "nbformat_minor": 5
}