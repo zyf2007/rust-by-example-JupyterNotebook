{
  "cells": [
    {
      "cell_type": "markdown",
      "metadata": {},
      "source": [
        "# `Result` 的 `map`\n",
        "\n",
        "上一节的 `multiply` 函数的 panic 设计不是健壮的（robust）。一般地，我们希望把错误返回给调用者，这样它可以决定回应错误的正确方式。\n",
        "\n",
        "首先，我们需要了解需要处理的错误类型是什么。为了确定 `Err` 的类型，我们可以用 [`parse()`][parse] 来试验。Rust 已经为 [`i32`][i32] 类型使用\n",
        "[`FromStr`][from_str] trait 实现了 `parse()`。结果表明，这里的 `Err` 类型被指定为\n",
        "[`ParseIntError`][parse_int_error]。\n",
        "\n",
        "> 译注：原文没有具体讲如何确定 `Err` 的类型。由于目前用于获取类型的函数仍然是不\n",
        "> 稳定的，我们可以用间接的方法。使用下面的代码：\n",
        ">\n",
        "> ```rust,editable,ignore\n",
        "> fn main () {\n",
        ">     let i: () = \"t\".parse::<i32>();\n",
        "> }\n",
        "> ```\n",
        ">\n",
        "> 由于不可能把 `Result` 类型赋给单元类型变量 `i`，编译器会提示我们：\n",
        ">\n",
        "> ```text\n",
        "> note: expected type `()`\n",
        ">          found type `std::result::Result<i32, std::num::ParseIntError>`\n",
        "> ```\n",
        ">\n",
        "> 这样就知道了 `parse<i32>` 函数的返回类型详情。\n",
        "\n",
        "在下面的例子中，使用简单的 `match` 语句导致了更加繁琐的代码。\n",
        "\n"
      ]
    },
    {
      "cell_type": "code",
      "execution_count": null,
      "metadata": {
        "vscode": {
          "languageId": "rust"
        }
      },
      "outputs": [],
      "source": [
        "use std::num::ParseIntError;\n",
        "\n",
        "// 修改了上一节中的返回类型，现在使用模式匹配而不是 `unwrap()`。\n",
        "fn multiply(first_number_str: &str, second_number_str: &str) -> Result<i32, ParseIntError> {\n",
        "    match first_number_str.parse::<i32>() {\n",
        "        Ok(first_number)  => {\n",
        "            match second_number_str.parse::<i32>() {\n",
        "                Ok(second_number)  => {\n",
        "                    Ok(first_number * second_number)\n",
        "                },\n",
        "                Err(e) => Err(e),\n",
        "            }\n",
        "        },\n",
        "        Err(e) => Err(e),\n",
        "    }\n",
        "}\n",
        "\n",
        "fn print(result: Result<i32, ParseIntError>) {\n",
        "    match result {\n",
        "        Ok(n)  => println!(\"n is {}\", n),\n",
        "        Err(e) => println!(\"Error: {}\", e),\n",
        "    }\n",
        "}\n",
        "\n",
        "fn main() {\n",
        "    // 这种情形下仍然会给出正确的答案。\n",
        "    let twenty = multiply(\"10\", \"2\");\n",
        "    print(twenty);\n",
        "\n",
        "    // 这种情况下就会提供一条更有用的错误信息。\n",
        "    let tt = multiply(\"t\", \"2\");\n",
        "    print(tt);\n",
        "}\n",
        "main();\n"
      ]
    },
    {
      "cell_type": "markdown",
      "metadata": {},
      "source": [
        "\n",
        "幸运的是，`Option` 的 `map`、`and_then`、以及很多其他组合算子也为 `Result` 实现了。官方文档的 [`Result`][result] 一节包含完整的方法列表。\n",
        "\n"
      ]
    },
    {
      "cell_type": "code",
      "execution_count": null,
      "metadata": {
        "vscode": {
          "languageId": "rust"
        }
      },
      "outputs": [],
      "source": [
        "use std::num::ParseIntError;\n",
        "\n",
        "// 就像 `Option` 那样，我们可以使用 `map()` 之类的组合算子。\n",
        "// 除去写法外，这个函数与上面那个完全一致，它的作用是：\n",
        "// 如果值是合法的，计算其乘积，否则返回错误。\n",
        "fn multiply(first_number_str: &str, second_number_str: &str) -> Result<i32, ParseIntError> {\n",
        "    first_number_str.parse::<i32>().and_then(|first_number| {\n",
        "        second_number_str.parse::<i32>().map(|second_number| first_number * second_number)\n",
        "    })\n",
        "}\n",
        "\n",
        "fn print(result: Result<i32, ParseIntError>) {\n",
        "    match result {\n",
        "        Ok(n)  => println!(\"n is {}\", n),\n",
        "        Err(e) => println!(\"Error: {}\", e),\n",
        "    }\n",
        "}\n",
        "\n",
        "fn main() {\n",
        "    // 这种情况下仍然会给出正确的答案。\n",
        "    let twenty = multiply(\"10\", \"2\");\n",
        "    print(twenty);\n",
        "\n",
        "    // 这种情况下就会提供一条更有用的错误信息。\n",
        "    let tt = multiply(\"t\", \"2\");\n",
        "    print(tt);\n",
        "}\n",
        "main();\n"
      ]
    },
    {
      "cell_type": "markdown",
      "metadata": {},
      "source": [
        "\n",
        "[parse]: https://rustwiki.org/zh-CN/std/primitive.str.html#method.parse\n",
        "[from_str]: https://rustwiki.org/zh-CN/std/str/trait.FromStr.html\n",
        "[i32]: https://rustwiki.org/zh-CN/std/primitive.i32.html\n",
        "[parse_int_error]: https://rustwiki.org/zh-CN/std/num/struct.ParseIntError.html\n",
        "[result]: https://rustwiki.org/zh-CN/std/result/enum.Result.html\n",
        "\n"
      ]
    }
  ],
  "metadata": {
    "kernelspec": {
      "display_name": "Rust",
      "language": "rust",
      "name": "rust"
    },
    "language_info": {
      "codemirror_mode": "rust",
      "file_extension": ".rs",
      "mimetype": "text/rust",
      "name": "Rust",
      "pygment_lexer": "rust",
      "version": ""
    }
  },
  "nbformat": 4,
  "nbformat_minor": 5
}