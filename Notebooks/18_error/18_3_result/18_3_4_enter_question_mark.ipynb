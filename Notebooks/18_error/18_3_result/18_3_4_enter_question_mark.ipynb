{
  "cells": [
    {
      "cell_type": "markdown",
      "metadata": {},
      "source": [
        "# 引入 `?`\n",
        "\n",
        "有时我们只是想 `unwrap` 且避免产生 `panic`。到现在为止，对 `unwrap` 的错误处理都在强迫我们一层层地嵌套，然而我们只是想把里面的变量拿出来。`?` 正是为这种情况准备的。\n",
        "\n",
        "当找到一个 `Err` 时，可以采取两种行动：\n",
        "\n",
        "1. `panic!`，不过我们已经决定要尽可能避免 panic 了。\n",
        "2. 返回它，因为 `Err` 就意味着它已经不能被处理了。\n",
        "\n",
        "`?` **几乎**[^†] 就等于一个会返回 `Err` 而不是 `panic` 的 `unwrap`。我们来看看怎样简化之前使用组合算子的例子：\n",
        "\n"
      ]
    },
    {
      "cell_type": "code",
      "execution_count": null,
      "metadata": {
        "vscode": {
          "languageId": "rust"
        }
      },
      "outputs": [],
      "source": [
        "use std::num::ParseIntError;\n",
        "\n",
        "fn multiply(first_number_str: &str, second_number_str: &str) -> Result<i32, ParseIntError> {\n",
        "    let first_number = first_number_str.parse::<i32>()?;\n",
        "    let second_number = second_number_str.parse::<i32>()?;\n",
        "\n",
        "    Ok(first_number * second_number)\n",
        "}\n",
        "\n",
        "fn print(result: Result<i32, ParseIntError>) {\n",
        "    match result {\n",
        "        Ok(n)  => println!(\"n is {}\", n),\n",
        "        Err(e) => println!(\"Error: {}\", e),\n",
        "    }\n",
        "}\n",
        "\n",
        "fn main() {\n",
        "    print(multiply(\"10\", \"2\"));\n",
        "    print(multiply(\"t\", \"2\"));\n",
        "}\n",
        "main();\n"
      ]
    },
    {
      "cell_type": "markdown",
      "metadata": {},
      "source": [
        "\n",
        "## `try!` 宏\n",
        "\n",
        "在 `?` 出现以前，相同的功能是使用 `try!` 宏完成的。现在我们推荐使用 `?` 运算符，但是在老代码中仍然会看到 `try!`。如果使用 `try!` 的话，上一个例子中的 `multiply` 函数看起来会像是这样：\n",
        "\n"
      ]
    },
    {
      "cell_type": "code",
      "execution_count": null,
      "metadata": {
        "vscode": {
          "languageId": "rust"
        }
      },
      "outputs": [],
      "source": [
        "use std::num::ParseIntError;\n",
        "\n",
        "fn multiply(first_number_str: &str, second_number_str: &str) -> Result<i32, ParseIntError> {\n",
        "    let first_number = try!(first_number_str.parse::<i32>());\n",
        "    let second_number = try!(second_number_str.parse::<i32>());\n",
        "\n",
        "    Ok(first_number * second_number)\n",
        "}\n",
        "\n",
        "fn print(result: Result<i32, ParseIntError>) {\n",
        "    match result {\n",
        "        Ok(n)  => println!(\"n is {}\", n),\n",
        "        Err(e) => println!(\"Error: {}\", e),\n",
        "    }\n",
        "}\n",
        "\n",
        "fn main() {\n",
        "    print(multiply(\"10\", \"2\"));\n",
        "    print(multiply(\"t\", \"2\"));\n",
        "}\n",
        "main();\n"
      ]
    },
    {
      "cell_type": "markdown",
      "metadata": {},
      "source": [
        "\n",
        "\n",
        "[^†]: 更多细节请看[`?` 的更多用法][re_enter_?]。\n",
        "\n",
        "[re_enter_?]: ../multiple_error_types/reenter_question_mark.md\n",
        "\n"
      ]
    }
  ],
  "metadata": {
    "kernelspec": {
      "display_name": "Rust",
      "language": "rust",
      "name": "rust"
    },
    "language_info": {
      "codemirror_mode": "rust",
      "file_extension": ".rs",
      "mimetype": "text/rust",
      "name": "Rust",
      "pygment_lexer": "rust",
      "version": ""
    }
  },
  "nbformat": 4,
  "nbformat_minor": 5
}