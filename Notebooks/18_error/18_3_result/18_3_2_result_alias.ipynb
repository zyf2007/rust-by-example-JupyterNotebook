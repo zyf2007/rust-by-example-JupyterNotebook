{
  "cells": [
    {
      "cell_type": "markdown",
      "metadata": {},
      "source": [
        "# 给 `Result` 取别名\n",
        "\n",
        "当我们要重用某个 `Result` 类型时，该怎么办呢？回忆一下，Rust 允许我们创建[别名][typealias]。若某个 `Result` 有可能被重用，我们可以方便地给它取一个别名。\n",
        "\n",
        "在模块的层面上创建别名特别有帮助。同一模块中的错误常常会有相同的 `Err` 类型，所以单个别名就能简便地定义**所有**相关的 `Result`。这太有用了，以至于标准库也提供了一个别名： [`io::Result`][io_result]！\n",
        "\n",
        "下面给出一个简短的示例来展示语法：\n",
        "\n"
      ]
    },
    {
      "cell_type": "code",
      "execution_count": null,
      "metadata": {
        "vscode": {
          "languageId": "rust"
        }
      },
      "outputs": [],
      "source": [
        "use std::num::ParseIntError;\n",
        "\n",
        "// 为带有错误类型 `ParseIntError` 的 `Result` 定义一个泛型别名。\n",
        "type AliasedResult<T> = Result<T, ParseIntError>;\n",
        "\n",
        "// 使用上面定义过的别名来表示上一节中的 `Result<i32,ParseIntError>` 类型。\n",
        "fn multiply(first_number_str: &str, second_number_str: &str) -> AliasedResult<i32> {\n",
        "    first_number_str.parse::<i32>().and_then(|first_number| {\n",
        "        second_number_str.parse::<i32>().map(|second_number| first_number * second_number)\n",
        "    })\n",
        "}\n",
        "\n",
        "// 在这里使用别名又让我们节省了一些代码量。\n",
        "fn print(result: AliasedResult<i32>) {\n",
        "    match result {\n",
        "        Ok(n)  => println!(\"n is {}\", n),\n",
        "        Err(e) => println!(\"Error: {}\", e),\n",
        "    }\n",
        "}\n",
        "\n",
        "fn main() {\n",
        "    print(multiply(\"10\", \"2\"));\n",
        "    print(multiply(\"t\", \"2\"));\n",
        "}\n",
        "main();\n"
      ]
    },
    {
      "cell_type": "markdown",
      "metadata": {},
      "source": [
        "\n",
        "### 参见：\n",
        "\n",
        "[`io::Result`][io_result]\n",
        "\n",
        "[typealias]: ../../types/alias.md\n",
        "[io_result]: https://rustwiki.org/zh-CN/std/io/type.Result.html\n",
        "\n"
      ]
    }
  ],
  "metadata": {
    "kernelspec": {
      "display_name": "Rust",
      "language": "rust",
      "name": "rust"
    },
    "language_info": {
      "codemirror_mode": "rust",
      "file_extension": ".rs",
      "mimetype": "text/rust",
      "name": "Rust",
      "pygment_lexer": "rust",
      "version": ""
    }
  },
  "nbformat": 4,
  "nbformat_minor": 5
}