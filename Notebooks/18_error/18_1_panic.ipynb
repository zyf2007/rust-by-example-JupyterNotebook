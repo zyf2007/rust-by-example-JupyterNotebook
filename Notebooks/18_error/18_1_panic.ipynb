{
  "cells": [
    {
      "cell_type": "markdown",
      "metadata": {},
      "source": [
        "# `panic`\n",
        "\n",
        "我们将要看到的最简单的错误处理机制就是 `panic`。它会打印一个错误消息，开始回退（unwind）任务，且通常会退出程序。这里我们显式地在错误条件下调用 `panic`：\n",
        "\n"
      ]
    },
    {
      "cell_type": "code",
      "execution_count": null,
      "metadata": {
        "vscode": {
          "languageId": "rust"
        }
      },
      "outputs": [],
      "source": [
        "fn give_princess(gift: &str) {\n",
        "    // 公主讨厌蛇，所以如果公主表示厌恶的话我们要停止！\n",
        "    if gift == \"snake\" { panic!(\"AAAaaaaa!!!!\"); }\n",
        "\n",
        "    println!(\"I love {}s!!!!!\", gift);\n",
        "}\n",
        "\n",
        "fn main() {\n",
        "    give_princess(\"teddy bear\");\n",
        "    give_princess(\"snake\");\n",
        "}\n",
        "main();\n"
      ]
    },
    {
      "cell_type": "markdown",
      "metadata": {},
      "source": [
        "\n"
      ]
    }
  ],
  "metadata": {
    "kernelspec": {
      "display_name": "Rust",
      "language": "rust",
      "name": "rust"
    },
    "language_info": {
      "codemirror_mode": "rust",
      "file_extension": ".rs",
      "mimetype": "text/rust",
      "name": "Rust",
      "pygment_lexer": "rust",
      "version": ""
    }
  },
  "nbformat": 4,
  "nbformat_minor": 5
}