{
  "cells": [
    {
      "cell_type": "markdown",
      "metadata": {},
      "source": [
        "# 结果 `Result`\n",
        "\n",
        "[`Result`][result] 是 [`Option`][option] 类型的更丰富的版本，描述的是可能的**错误**而不是可能的**不存在**。\n",
        "\n",
        "也就是说，`Result<T，E>` 可以有两个结果的其中一个：\n",
        "\n",
        "* `Ok<T>`：找到 `T` 元素\n",
        "* `Err<E>`：找到 `E` 元素，`E` 即表示错误的类型。\n",
        "\n",
        "按照约定，预期结果是 “Ok”，而意外结果是 “Err”。\n",
        "\n",
        "`Result` 有很多类似 `Option` 的方法。例如 `unwrap()`，它要么举出元素\n",
        "`T`，要么就 `panic`。 对于事件的处理，`Result` 和 `Option` 有很多相同的组合算子。\n",
        "\n",
        "在使用 Rust 时，你可能会遇到返回 `Result` 类型的方法，例如 [`parse()`][parse]\n",
        "方法。它并不是总能把字符串解析成指定的类型，所以 `parse()` 返回一个\n",
        "`Result` 表示可能的失败。\n",
        "\n",
        "我们来看看当 `parse()` 字符串成功和失败时会发生什么：\n",
        "\n"
      ]
    },
    {
      "cell_type": "code",
      "execution_count": null,
      "metadata": {
        "vscode": {
          "languageId": "rust"
        }
      },
      "outputs": [],
      "source": [
        "fn multiply(first_number_str: &str, second_number_str: &str) -> i32 {\n",
        "    // 我们试着用 `unwrap()` 把数字放出来。它会咬我们一口吗？\n",
        "    let first_number = first_number_str.parse::<i32>().unwrap();\n",
        "    let second_number = second_number_str.parse::<i32>().unwrap();\n",
        "    first_number * second_number\n",
        "}\n",
        "\n",
        "fn main() {\n",
        "    let twenty = multiply(\"10\", \"2\");\n",
        "    println!(\"double is {}\", twenty);\n",
        "\n",
        "    let tt = multiply(\"t\", \"2\");\n",
        "    println!(\"double is {}\", tt);\n",
        "}\n",
        "main();\n"
      ]
    },
    {
      "cell_type": "markdown",
      "metadata": {},
      "source": [
        "\n",
        "在失败的情况下，`parse()` 产生一个错误，留给 `unwrap()` 来解包并产生 `panic`。另外，`panic` 会退出我们的程序，并提供一个让人很不爽的错误消息。\n",
        "\n",
        "为了改善错误消息的质量，我们应该更具体地了解返回类型并考虑显式地处理错误。\n",
        "\n",
        "[option]: https://rustwiki.org/zh-CN/std/option/enum.Option.html\n",
        "[result]: https://rustwiki.org/zh-CN/std/result/enum.Result.html\n",
        "[parse]: https://rustwiki.org/zh-CN/std/primitive.str.html#method.parse\n",
        "[`Debug`]: https://rustwiki.org/zh-CN/std/fmt/trait.Debug.html\n",
        "[the following section]: result/early_returns.md\n",
        "\n"
      ]
    }
  ],
  "metadata": {
    "kernelspec": {
      "display_name": "Rust",
      "language": "rust",
      "name": "rust"
    },
    "language_info": {
      "codemirror_mode": "rust",
      "file_extension": ".rs",
      "mimetype": "text/rust",
      "name": "Rust",
      "pygment_lexer": "rust",
      "version": ""
    }
  },
  "nbformat": 4,
  "nbformat_minor": 5
}